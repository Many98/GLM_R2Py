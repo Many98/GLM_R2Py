{
 "cells": [
  {
   "cell_type": "markdown",
   "metadata": {
    "colab_type": "text",
    "id": "view-in-github"
   },
   "source": [
    "<a href=\"https://colab.research.google.com/github/Many98/GLM_R2Py/blob/main/Python/01ZLMA_ex07_Binary_Data_1.ipynb\" target=\"_parent\"><img src=\"https://colab.research.google.com/assets/colab-badge.svg\" alt=\"Open In Colab\"/></a>"
   ]
  },
  {
   "cell_type": "markdown",
   "metadata": {
    "id": "oD47O_0VwUBm"
   },
   "source": [
    "Exercise 07 of the course 01ZLMA. \n",
    "\n",
    "# GLM for Discrete response - Binary Data Analysis\n",
    "\n",
    "Alternative and Binomial responses"
   ]
  },
  {
   "cell_type": "markdown",
   "metadata": {
    "id": "l2EHCMAWUHT6",
    "lines_to_next_cell": 0
   },
   "source": [
    "**Bernoulli (Alternative) Model**\n",
    "\n",
    "$$Y_{i,j} \\sim Be(\\pi_i) \\ i = 1,\\ldots,K \\ \\text{and} \\ j = 1,\\ldots, n_i.$$\n",
    "$K$ is number of groups, $n_i$ is number of observations in group $i$ and $\\sum_{i=1}^{K} = N$\n",
    "$$ E[Y_{i,j}] = \\pi_i \\ \\text{and} \\ g(\\pi_i) = \\eta_i =x_i^T \\beta $$\n",
    "\n",
    "\n",
    "**Binomial Model**\n",
    "$$Y_i = \\sum_{j=1}^{n_i} Y_{i,j} \\sim Bi(n_i, \\pi_i)$$"
   ]
  },
  {
   "cell_type": "markdown",
   "metadata": {
    "id": "urFC1XzcWd1t"
   },
   "source": [
    "**Without continuos covariate (only factor variables)**\n",
    "\n",
    "$K$ is constant and $n_i \\rightarrow \\infty $\n",
    "\n",
    "**With at least one continuos covariate**\n",
    "\n",
    "$n_i \\approx 1$ ( $n_i$ is small enough) and $K \\rightarrow \\infty$\n",
    "\n"
   ]
  },
  {
   "cell_type": "markdown",
   "metadata": {
    "id": "lSgD34dQW1cE"
   },
   "source": [
    "## Link functions for binary data\n",
    "\n",
    "**Logistic function:**\n",
    "\n",
    "The logistic function is the canonical link function for binary responses, and it is CDF of the standard logistic distribution.\n",
    "\n",
    "$$\\pi_i = \\frac{1}{1+e^{-x_i^T \\beta}} $$ \n",
    "\n",
    "\n",
    "**Probit function:**\n",
    "\n",
    "The CDF of the normal distribution. \n",
    "$$\\pi_i = \\Phi({x_i^T \\beta}) $$ \n",
    "\n",
    "\n",
    "**Cauchit function:**\n",
    "\n",
    "The CDF of the Cauchy distribution\n",
    "\n",
    "$$\\pi_i = \\frac{1}{\\pi}\\text{arctan}(x_i^T \\beta) + \\frac{1}{2} $$ \n",
    "\n",
    "\n",
    "**Complementary log-log (cloglog) function:**\n",
    "\n",
    "The inverse of the conditional log-log function (CDF of the Gumbel distribution)\n",
    "\n",
    "$$\\pi_i = 1 − e^{-e^{x_i^T \\beta}}$$\n",
    "\n",
    "The counter part of the cloglog function is log-log link function."
   ]
  },
  {
   "cell_type": "code",
   "execution_count": 115,
   "metadata": {
    "id": "Jv5SOQ0TUHT7",
    "vscode": {
     "languageId": "r"
    }
   },
   "outputs": [],
   "source": [
    "import numpy as np\n",
    "import scipy\n",
    "from scipy import stats\n",
    "\n",
    "import statsmodels.api as sm\n",
    "import statsmodels.formula.api as smf\n",
    "\n",
    "from sklearn import datasets\n",
    "from sklearn.model_selection import train_test_split\n",
    "\n",
    "import matplotlib.pyplot as plt\n",
    "import seaborn as sns\n",
    "from statsmodels.graphics.api import abline_plot\n",
    "\n",
    "import pandas as pd\n",
    "\n",
    "from dfply import *  # handy module to mimic R dplyr library"
   ]
  },
  {
   "cell_type": "code",
   "execution_count": 42,
   "metadata": {},
   "outputs": [
    {
     "data": {
      "image/png": "[encoded data removed]",
      "text/plain": [
       "<Figure size 432x288 with 1 Axes>"
      ]
     },
     "metadata": {
      "needs_background": "light"
     },
     "output_type": "display_data"
    }
   ],
   "source": [
    "x = np.tile(np.linspace(-5, 5, 101), 4).reshape(4, -1)\n",
    "y = []\n",
    "names =[]\n",
    "\n",
    "for i, j in enumerate(zip((\"logit\", \"probit\", \"cauchit\", \"cloglog\"), \n",
    "                (sm.genmod.families.links.Logit(), sm.genmod.families.links.probit(), \n",
    "                 sm.genmod.families.links.cauchy(), sm.genmod.families.links.CLogLog()))):\n",
    "    \n",
    "    y.append(j[1].inverse(x[i]))\n",
    "    names.append([j[0]]*len(x[i]))\n",
    "    \n",
    "y = np.array(y).flatten()\n",
    "n = np.array(names).flatten()\n",
    "\n",
    "fig, ax = plt.subplots()\n",
    "\n",
    "\n",
    "\n",
    "sns.lineplot(x='x', y='y', data=pd.DataFrame(data={'x': x.flatten(), 'y': y, 'n': n}), ax=ax, hue='n')\n",
    "    \n",
    "\n",
    "ax.legend()\n",
    "plt.show()\n"
   ]
  },
  {
   "cell_type": "markdown",
   "metadata": {
    "id": "dnlQ4vEGYGOH"
   },
   "source": [
    "## Logistic regression with Titanic dataset\n",
    "\n",
    "https://www.kaggle.com/c/titanic/data\n",
    "\n",
    "| Variable |                 Definition                 |                       Key                      |\n",
    "|:--------:|:------------------------------------------:|:----------------------------------------------:|\n",
    "| survival | Survival                                   | 0 = No, 1 = Yes                                |\n",
    "| pclass   | Ticket class                               | 1 = 1st, 2 = 2nd, 3 = 3rd                      |\n",
    "| sex      | Sex                                        |                                                |\n",
    "| Age      | Age in years                               |                                                |\n",
    "| sibsp    | # of siblings / spouses aboard the Titanic |                                                |\n",
    "| parch    | # of parents / children aboard the Titanic |                                                |\n",
    "| ticket   | Ticket number                              |                                                |\n",
    "| fare     | Passenger fare                             |                                                |\n",
    "| cabin    | Cabin number                               |                                                |\n",
    "| embarked | Port of Embarkation                        | C = Cherbourg, Q = Queenstown, S = Southampton |"
   ]
  },
  {
   "cell_type": "code",
   "execution_count": 70,
   "metadata": {},
   "outputs": [],
   "source": [
    "X, y = datasets.fetch_openml(\"titanic\", version=1, as_frame=True, return_X_y=True)\n",
    "X_train, X_test, y_train, y_test = train_test_split(X, y, stratify=y, test_size=0.2)\n",
    "\n",
    "titanic_train = pd.concat([X_train, y_train], axis=1)\n",
    "titanic_test = pd.concat([X_test, y_test], axis=1)"
   ]
  },
  {
   "cell_type": "code",
   "execution_count": 76,
   "metadata": {},
   "outputs": [
    {
     "data": {
      "text/html": [
       "<div>\n",
       "<style scoped>\n",
       "    .dataframe tbody tr th:only-of-type {\n",
       "        vertical-align: middle;\n",
       "    }\n",
       "\n",
       "    .dataframe tbody tr th {\n",
       "        vertical-align: top;\n",
       "    }\n",
       "\n",
       "    .dataframe thead th {\n",
       "        text-align: right;\n",
       "    }\n",
       "</style>\n",
       "<table border=\"1\" class=\"dataframe\">\n",
       "  <thead>\n",
       "    <tr style=\"text-align: right;\">\n",
       "      <th></th>\n",
       "      <th>pclass</th>\n",
       "      <th>name</th>\n",
       "      <th>sex</th>\n",
       "      <th>age</th>\n",
       "      <th>sibsp</th>\n",
       "      <th>parch</th>\n",
       "      <th>ticket</th>\n",
       "      <th>fare</th>\n",
       "      <th>cabin</th>\n",
       "      <th>embarked</th>\n",
       "      <th>boat</th>\n",
       "      <th>body</th>\n",
       "      <th>home.dest</th>\n",
       "      <th>survived</th>\n",
       "    </tr>\n",
       "  </thead>\n",
       "  <tbody>\n",
       "    <tr>\n",
       "      <th>858</th>\n",
       "      <td>3.0</td>\n",
       "      <td>Hee, Mr. Ling</td>\n",
       "      <td>male</td>\n",
       "      <td>NaN</td>\n",
       "      <td>0.0</td>\n",
       "      <td>0.0</td>\n",
       "      <td>1601</td>\n",
       "      <td>56.4958</td>\n",
       "      <td>None</td>\n",
       "      <td>S</td>\n",
       "      <td>C</td>\n",
       "      <td>NaN</td>\n",
       "      <td>None</td>\n",
       "      <td>1</td>\n",
       "    </tr>\n",
       "    <tr>\n",
       "      <th>910</th>\n",
       "      <td>3.0</td>\n",
       "      <td>Kallio, Mr. Nikolai Erland</td>\n",
       "      <td>male</td>\n",
       "      <td>17.0</td>\n",
       "      <td>0.0</td>\n",
       "      <td>0.0</td>\n",
       "      <td>STON/O 2. 3101274</td>\n",
       "      <td>7.1250</td>\n",
       "      <td>None</td>\n",
       "      <td>S</td>\n",
       "      <td>None</td>\n",
       "      <td>NaN</td>\n",
       "      <td>None</td>\n",
       "      <td>0</td>\n",
       "    </tr>\n",
       "    <tr>\n",
       "      <th>721</th>\n",
       "      <td>3.0</td>\n",
       "      <td>Coleff, Mr. Peju</td>\n",
       "      <td>male</td>\n",
       "      <td>36.0</td>\n",
       "      <td>0.0</td>\n",
       "      <td>0.0</td>\n",
       "      <td>349210</td>\n",
       "      <td>7.4958</td>\n",
       "      <td>None</td>\n",
       "      <td>S</td>\n",
       "      <td>None</td>\n",
       "      <td>NaN</td>\n",
       "      <td>Bulgaria Chicago, IL</td>\n",
       "      <td>0</td>\n",
       "    </tr>\n",
       "    <tr>\n",
       "      <th>228</th>\n",
       "      <td>1.0</td>\n",
       "      <td>Penasco y Castellana, Mr. Victor de Satode</td>\n",
       "      <td>male</td>\n",
       "      <td>18.0</td>\n",
       "      <td>1.0</td>\n",
       "      <td>0.0</td>\n",
       "      <td>PC 17758</td>\n",
       "      <td>108.9000</td>\n",
       "      <td>C65</td>\n",
       "      <td>C</td>\n",
       "      <td>None</td>\n",
       "      <td>NaN</td>\n",
       "      <td>Madrid, Spain</td>\n",
       "      <td>0</td>\n",
       "    </tr>\n",
       "    <tr>\n",
       "      <th>11</th>\n",
       "      <td>1.0</td>\n",
       "      <td>Astor, Mrs. John Jacob (Madeleine Talmadge Force)</td>\n",
       "      <td>female</td>\n",
       "      <td>18.0</td>\n",
       "      <td>1.0</td>\n",
       "      <td>0.0</td>\n",
       "      <td>PC 17757</td>\n",
       "      <td>227.5250</td>\n",
       "      <td>C62 C64</td>\n",
       "      <td>C</td>\n",
       "      <td>4</td>\n",
       "      <td>NaN</td>\n",
       "      <td>New York, NY</td>\n",
       "      <td>1</td>\n",
       "    </tr>\n",
       "    <tr>\n",
       "      <th>...</th>\n",
       "      <td>...</td>\n",
       "      <td>...</td>\n",
       "      <td>...</td>\n",
       "      <td>...</td>\n",
       "      <td>...</td>\n",
       "      <td>...</td>\n",
       "      <td>...</td>\n",
       "      <td>...</td>\n",
       "      <td>...</td>\n",
       "      <td>...</td>\n",
       "      <td>...</td>\n",
       "      <td>...</td>\n",
       "      <td>...</td>\n",
       "      <td>...</td>\n",
       "    </tr>\n",
       "    <tr>\n",
       "      <th>1214</th>\n",
       "      <td>3.0</td>\n",
       "      <td>Smiljanic, Mr. Mile</td>\n",
       "      <td>male</td>\n",
       "      <td>NaN</td>\n",
       "      <td>0.0</td>\n",
       "      <td>0.0</td>\n",
       "      <td>315037</td>\n",
       "      <td>8.6625</td>\n",
       "      <td>None</td>\n",
       "      <td>S</td>\n",
       "      <td>None</td>\n",
       "      <td>NaN</td>\n",
       "      <td>None</td>\n",
       "      <td>0</td>\n",
       "    </tr>\n",
       "    <tr>\n",
       "      <th>1206</th>\n",
       "      <td>3.0</td>\n",
       "      <td>Skoog, Master. Harald</td>\n",
       "      <td>male</td>\n",
       "      <td>4.0</td>\n",
       "      <td>3.0</td>\n",
       "      <td>2.0</td>\n",
       "      <td>347088</td>\n",
       "      <td>27.9000</td>\n",
       "      <td>None</td>\n",
       "      <td>S</td>\n",
       "      <td>None</td>\n",
       "      <td>NaN</td>\n",
       "      <td>None</td>\n",
       "      <td>0</td>\n",
       "    </tr>\n",
       "    <tr>\n",
       "      <th>452</th>\n",
       "      <td>2.0</td>\n",
       "      <td>Hold, Mrs. Stephen (Annie Margaret Hill)</td>\n",
       "      <td>female</td>\n",
       "      <td>29.0</td>\n",
       "      <td>1.0</td>\n",
       "      <td>0.0</td>\n",
       "      <td>26707</td>\n",
       "      <td>26.0000</td>\n",
       "      <td>None</td>\n",
       "      <td>S</td>\n",
       "      <td>10</td>\n",
       "      <td>NaN</td>\n",
       "      <td>England / Sacramento, CA</td>\n",
       "      <td>1</td>\n",
       "    </tr>\n",
       "    <tr>\n",
       "      <th>562</th>\n",
       "      <td>2.0</td>\n",
       "      <td>Slayter, Miss. Hilda Mary</td>\n",
       "      <td>female</td>\n",
       "      <td>30.0</td>\n",
       "      <td>0.0</td>\n",
       "      <td>0.0</td>\n",
       "      <td>234818</td>\n",
       "      <td>12.3500</td>\n",
       "      <td>None</td>\n",
       "      <td>Q</td>\n",
       "      <td>13</td>\n",
       "      <td>NaN</td>\n",
       "      <td>Halifax, NS</td>\n",
       "      <td>1</td>\n",
       "    </tr>\n",
       "    <tr>\n",
       "      <th>571</th>\n",
       "      <td>2.0</td>\n",
       "      <td>Troupiansky, Mr. Moses Aaron</td>\n",
       "      <td>male</td>\n",
       "      <td>23.0</td>\n",
       "      <td>0.0</td>\n",
       "      <td>0.0</td>\n",
       "      <td>233639</td>\n",
       "      <td>13.0000</td>\n",
       "      <td>None</td>\n",
       "      <td>S</td>\n",
       "      <td>None</td>\n",
       "      <td>NaN</td>\n",
       "      <td>None</td>\n",
       "      <td>0</td>\n",
       "    </tr>\n",
       "  </tbody>\n",
       "</table>\n",
       "<p>1047 rows × 14 columns</p>\n",
       "</div>"
      ],
      "text/plain": [
       "      pclass                                               name     sex   age  \\\n",
       "858      3.0                                      Hee, Mr. Ling    male   NaN   \n",
       "910      3.0                         Kallio, Mr. Nikolai Erland    male  17.0   \n",
       "721      3.0                                   Coleff, Mr. Peju    male  36.0   \n",
       "228      1.0         Penasco y Castellana, Mr. Victor de Satode    male  18.0   \n",
       "11       1.0  Astor, Mrs. John Jacob (Madeleine Talmadge Force)  female  18.0   \n",
       "...      ...                                                ...     ...   ...   \n",
       "1214     3.0                                Smiljanic, Mr. Mile    male   NaN   \n",
       "1206     3.0                              Skoog, Master. Harald    male   4.0   \n",
       "452      2.0           Hold, Mrs. Stephen (Annie Margaret Hill)  female  29.0   \n",
       "562      2.0                          Slayter, Miss. Hilda Mary  female  30.0   \n",
       "571      2.0                       Troupiansky, Mr. Moses Aaron    male  23.0   \n",
       "\n",
       "      sibsp  parch             ticket      fare    cabin embarked  boat  body  \\\n",
       "858     0.0    0.0               1601   56.4958     None        S     C   NaN   \n",
       "910     0.0    0.0  STON/O 2. 3101274    7.1250     None        S  None   NaN   \n",
       "721     0.0    0.0             349210    7.4958     None        S  None   NaN   \n",
       "228     1.0    0.0           PC 17758  108.9000      C65        C  None   NaN   \n",
       "11      1.0    0.0           PC 17757  227.5250  C62 C64        C     4   NaN   \n",
       "...     ...    ...                ...       ...      ...      ...   ...   ...   \n",
       "1214    0.0    0.0             315037    8.6625     None        S  None   NaN   \n",
       "1206    3.0    2.0             347088   27.9000     None        S  None   NaN   \n",
       "452     1.0    0.0              26707   26.0000     None        S    10   NaN   \n",
       "562     0.0    0.0             234818   12.3500     None        Q    13   NaN   \n",
       "571     0.0    0.0             233639   13.0000     None        S  None   NaN   \n",
       "\n",
       "                     home.dest survived  \n",
       "858                       None        1  \n",
       "910                       None        0  \n",
       "721       Bulgaria Chicago, IL        0  \n",
       "228              Madrid, Spain        0  \n",
       "11                New York, NY        1  \n",
       "...                        ...      ...  \n",
       "1214                      None        0  \n",
       "1206                      None        0  \n",
       "452   England / Sacramento, CA        1  \n",
       "562                Halifax, NS        1  \n",
       "571                       None        0  \n",
       "\n",
       "[1047 rows x 14 columns]"
      ]
     },
     "execution_count": 76,
     "metadata": {},
     "output_type": "execute_result"
    }
   ],
   "source": [
    "titanic_train"
   ]
  },
  {
   "cell_type": "code",
   "execution_count": 79,
   "metadata": {},
   "outputs": [
    {
     "data": {
      "text/html": [
       "<div>\n",
       "<style scoped>\n",
       "    .dataframe tbody tr th:only-of-type {\n",
       "        vertical-align: middle;\n",
       "    }\n",
       "\n",
       "    .dataframe tbody tr th {\n",
       "        vertical-align: top;\n",
       "    }\n",
       "\n",
       "    .dataframe thead th {\n",
       "        text-align: right;\n",
       "    }\n",
       "</style>\n",
       "<table border=\"1\" class=\"dataframe\">\n",
       "  <thead>\n",
       "    <tr style=\"text-align: right;\">\n",
       "      <th></th>\n",
       "      <th>pclass</th>\n",
       "      <th>name</th>\n",
       "      <th>sex</th>\n",
       "      <th>age</th>\n",
       "      <th>sibsp</th>\n",
       "      <th>parch</th>\n",
       "      <th>ticket</th>\n",
       "      <th>fare</th>\n",
       "      <th>cabin</th>\n",
       "      <th>embarked</th>\n",
       "      <th>boat</th>\n",
       "      <th>body</th>\n",
       "      <th>home.dest</th>\n",
       "      <th>survived</th>\n",
       "    </tr>\n",
       "  </thead>\n",
       "  <tbody>\n",
       "    <tr>\n",
       "      <th>count</th>\n",
       "      <td>1047.000000</td>\n",
       "      <td>1047</td>\n",
       "      <td>1047</td>\n",
       "      <td>841.000000</td>\n",
       "      <td>1047.000000</td>\n",
       "      <td>1047.000000</td>\n",
       "      <td>1047</td>\n",
       "      <td>1046.000000</td>\n",
       "      <td>243</td>\n",
       "      <td>1045</td>\n",
       "      <td>392</td>\n",
       "      <td>101.000000</td>\n",
       "      <td>603</td>\n",
       "      <td>1047</td>\n",
       "    </tr>\n",
       "    <tr>\n",
       "      <th>unique</th>\n",
       "      <td>NaN</td>\n",
       "      <td>1046</td>\n",
       "      <td>2</td>\n",
       "      <td>NaN</td>\n",
       "      <td>NaN</td>\n",
       "      <td>NaN</td>\n",
       "      <td>768</td>\n",
       "      <td>NaN</td>\n",
       "      <td>164</td>\n",
       "      <td>3</td>\n",
       "      <td>27</td>\n",
       "      <td>NaN</td>\n",
       "      <td>320</td>\n",
       "      <td>2</td>\n",
       "    </tr>\n",
       "    <tr>\n",
       "      <th>top</th>\n",
       "      <td>NaN</td>\n",
       "      <td>Kelly, Mr. James</td>\n",
       "      <td>male</td>\n",
       "      <td>NaN</td>\n",
       "      <td>NaN</td>\n",
       "      <td>NaN</td>\n",
       "      <td>CA. 2343</td>\n",
       "      <td>NaN</td>\n",
       "      <td>C23 C25 C27</td>\n",
       "      <td>S</td>\n",
       "      <td>15</td>\n",
       "      <td>NaN</td>\n",
       "      <td>New York, NY</td>\n",
       "      <td>0</td>\n",
       "    </tr>\n",
       "    <tr>\n",
       "      <th>freq</th>\n",
       "      <td>NaN</td>\n",
       "      <td>2</td>\n",
       "      <td>678</td>\n",
       "      <td>NaN</td>\n",
       "      <td>NaN</td>\n",
       "      <td>NaN</td>\n",
       "      <td>8</td>\n",
       "      <td>NaN</td>\n",
       "      <td>6</td>\n",
       "      <td>749</td>\n",
       "      <td>31</td>\n",
       "      <td>NaN</td>\n",
       "      <td>46</td>\n",
       "      <td>647</td>\n",
       "    </tr>\n",
       "    <tr>\n",
       "      <th>mean</th>\n",
       "      <td>2.278892</td>\n",
       "      <td>NaN</td>\n",
       "      <td>NaN</td>\n",
       "      <td>29.801328</td>\n",
       "      <td>0.489016</td>\n",
       "      <td>0.390640</td>\n",
       "      <td>NaN</td>\n",
       "      <td>33.945224</td>\n",
       "      <td>NaN</td>\n",
       "      <td>NaN</td>\n",
       "      <td>NaN</td>\n",
       "      <td>163.514851</td>\n",
       "      <td>NaN</td>\n",
       "      <td>NaN</td>\n",
       "    </tr>\n",
       "    <tr>\n",
       "      <th>std</th>\n",
       "      <td>0.841425</td>\n",
       "      <td>NaN</td>\n",
       "      <td>NaN</td>\n",
       "      <td>14.352750</td>\n",
       "      <td>1.034595</td>\n",
       "      <td>0.845203</td>\n",
       "      <td>NaN</td>\n",
       "      <td>51.945820</td>\n",
       "      <td>NaN</td>\n",
       "      <td>NaN</td>\n",
       "      <td>NaN</td>\n",
       "      <td>97.070141</td>\n",
       "      <td>NaN</td>\n",
       "      <td>NaN</td>\n",
       "    </tr>\n",
       "    <tr>\n",
       "      <th>min</th>\n",
       "      <td>1.000000</td>\n",
       "      <td>NaN</td>\n",
       "      <td>NaN</td>\n",
       "      <td>0.166700</td>\n",
       "      <td>0.000000</td>\n",
       "      <td>0.000000</td>\n",
       "      <td>NaN</td>\n",
       "      <td>0.000000</td>\n",
       "      <td>NaN</td>\n",
       "      <td>NaN</td>\n",
       "      <td>NaN</td>\n",
       "      <td>1.000000</td>\n",
       "      <td>NaN</td>\n",
       "      <td>NaN</td>\n",
       "    </tr>\n",
       "    <tr>\n",
       "      <th>25%</th>\n",
       "      <td>1.000000</td>\n",
       "      <td>NaN</td>\n",
       "      <td>NaN</td>\n",
       "      <td>21.000000</td>\n",
       "      <td>0.000000</td>\n",
       "      <td>0.000000</td>\n",
       "      <td>NaN</td>\n",
       "      <td>7.895800</td>\n",
       "      <td>NaN</td>\n",
       "      <td>NaN</td>\n",
       "      <td>NaN</td>\n",
       "      <td>81.000000</td>\n",
       "      <td>NaN</td>\n",
       "      <td>NaN</td>\n",
       "    </tr>\n",
       "    <tr>\n",
       "      <th>50%</th>\n",
       "      <td>3.000000</td>\n",
       "      <td>NaN</td>\n",
       "      <td>NaN</td>\n",
       "      <td>28.000000</td>\n",
       "      <td>0.000000</td>\n",
       "      <td>0.000000</td>\n",
       "      <td>NaN</td>\n",
       "      <td>14.500000</td>\n",
       "      <td>NaN</td>\n",
       "      <td>NaN</td>\n",
       "      <td>NaN</td>\n",
       "      <td>166.000000</td>\n",
       "      <td>NaN</td>\n",
       "      <td>NaN</td>\n",
       "    </tr>\n",
       "    <tr>\n",
       "      <th>75%</th>\n",
       "      <td>3.000000</td>\n",
       "      <td>NaN</td>\n",
       "      <td>NaN</td>\n",
       "      <td>38.000000</td>\n",
       "      <td>1.000000</td>\n",
       "      <td>0.000000</td>\n",
       "      <td>NaN</td>\n",
       "      <td>31.500000</td>\n",
       "      <td>NaN</td>\n",
       "      <td>NaN</td>\n",
       "      <td>NaN</td>\n",
       "      <td>258.000000</td>\n",
       "      <td>NaN</td>\n",
       "      <td>NaN</td>\n",
       "    </tr>\n",
       "    <tr>\n",
       "      <th>max</th>\n",
       "      <td>3.000000</td>\n",
       "      <td>NaN</td>\n",
       "      <td>NaN</td>\n",
       "      <td>80.000000</td>\n",
       "      <td>8.000000</td>\n",
       "      <td>9.000000</td>\n",
       "      <td>NaN</td>\n",
       "      <td>512.329200</td>\n",
       "      <td>NaN</td>\n",
       "      <td>NaN</td>\n",
       "      <td>NaN</td>\n",
       "      <td>322.000000</td>\n",
       "      <td>NaN</td>\n",
       "      <td>NaN</td>\n",
       "    </tr>\n",
       "  </tbody>\n",
       "</table>\n",
       "</div>"
      ],
      "text/plain": [
       "             pclass              name   sex         age        sibsp  \\\n",
       "count   1047.000000              1047  1047  841.000000  1047.000000   \n",
       "unique          NaN              1046     2         NaN          NaN   \n",
       "top             NaN  Kelly, Mr. James  male         NaN          NaN   \n",
       "freq            NaN                 2   678         NaN          NaN   \n",
       "mean       2.278892               NaN   NaN   29.801328     0.489016   \n",
       "std        0.841425               NaN   NaN   14.352750     1.034595   \n",
       "min        1.000000               NaN   NaN    0.166700     0.000000   \n",
       "25%        1.000000               NaN   NaN   21.000000     0.000000   \n",
       "50%        3.000000               NaN   NaN   28.000000     0.000000   \n",
       "75%        3.000000               NaN   NaN   38.000000     1.000000   \n",
       "max        3.000000               NaN   NaN   80.000000     8.000000   \n",
       "\n",
       "              parch    ticket         fare        cabin embarked boat  \\\n",
       "count   1047.000000      1047  1046.000000          243     1045  392   \n",
       "unique          NaN       768          NaN          164        3   27   \n",
       "top             NaN  CA. 2343          NaN  C23 C25 C27        S   15   \n",
       "freq            NaN         8          NaN            6      749   31   \n",
       "mean       0.390640       NaN    33.945224          NaN      NaN  NaN   \n",
       "std        0.845203       NaN    51.945820          NaN      NaN  NaN   \n",
       "min        0.000000       NaN     0.000000          NaN      NaN  NaN   \n",
       "25%        0.000000       NaN     7.895800          NaN      NaN  NaN   \n",
       "50%        0.000000       NaN    14.500000          NaN      NaN  NaN   \n",
       "75%        0.000000       NaN    31.500000          NaN      NaN  NaN   \n",
       "max        9.000000       NaN   512.329200          NaN      NaN  NaN   \n",
       "\n",
       "              body     home.dest survived  \n",
       "count   101.000000           603     1047  \n",
       "unique         NaN           320        2  \n",
       "top            NaN  New York, NY        0  \n",
       "freq           NaN            46      647  \n",
       "mean    163.514851           NaN      NaN  \n",
       "std      97.070141           NaN      NaN  \n",
       "min       1.000000           NaN      NaN  \n",
       "25%      81.000000           NaN      NaN  \n",
       "50%     166.000000           NaN      NaN  \n",
       "75%     258.000000           NaN      NaN  \n",
       "max     322.000000           NaN      NaN  "
      ]
     },
     "execution_count": 79,
     "metadata": {},
     "output_type": "execute_result"
    }
   ],
   "source": [
    "titanic_train.describe(include = 'all')"
   ]
  },
  {
   "cell_type": "code",
   "execution_count": 80,
   "metadata": {},
   "outputs": [
    {
     "data": {
      "text/html": [
       "<div>\n",
       "<style scoped>\n",
       "    .dataframe tbody tr th:only-of-type {\n",
       "        vertical-align: middle;\n",
       "    }\n",
       "\n",
       "    .dataframe tbody tr th {\n",
       "        vertical-align: top;\n",
       "    }\n",
       "\n",
       "    .dataframe thead th {\n",
       "        text-align: right;\n",
       "    }\n",
       "</style>\n",
       "<table border=\"1\" class=\"dataframe\">\n",
       "  <thead>\n",
       "    <tr style=\"text-align: right;\">\n",
       "      <th></th>\n",
       "      <th>pclass</th>\n",
       "      <th>name</th>\n",
       "      <th>sex</th>\n",
       "      <th>age</th>\n",
       "      <th>sibsp</th>\n",
       "      <th>parch</th>\n",
       "      <th>ticket</th>\n",
       "      <th>fare</th>\n",
       "      <th>cabin</th>\n",
       "      <th>embarked</th>\n",
       "      <th>boat</th>\n",
       "      <th>body</th>\n",
       "      <th>home.dest</th>\n",
       "      <th>survived</th>\n",
       "    </tr>\n",
       "  </thead>\n",
       "  <tbody>\n",
       "    <tr>\n",
       "      <th>count</th>\n",
       "      <td>262.000000</td>\n",
       "      <td>262</td>\n",
       "      <td>262</td>\n",
       "      <td>205.000000</td>\n",
       "      <td>262.000000</td>\n",
       "      <td>262.000000</td>\n",
       "      <td>262</td>\n",
       "      <td>262.000000</td>\n",
       "      <td>52</td>\n",
       "      <td>262</td>\n",
       "      <td>94</td>\n",
       "      <td>20.000000</td>\n",
       "      <td>142</td>\n",
       "      <td>262</td>\n",
       "    </tr>\n",
       "    <tr>\n",
       "      <th>unique</th>\n",
       "      <td>NaN</td>\n",
       "      <td>262</td>\n",
       "      <td>2</td>\n",
       "      <td>NaN</td>\n",
       "      <td>NaN</td>\n",
       "      <td>NaN</td>\n",
       "      <td>243</td>\n",
       "      <td>NaN</td>\n",
       "      <td>50</td>\n",
       "      <td>3</td>\n",
       "      <td>20</td>\n",
       "      <td>NaN</td>\n",
       "      <td>108</td>\n",
       "      <td>2</td>\n",
       "    </tr>\n",
       "    <tr>\n",
       "      <th>top</th>\n",
       "      <td>NaN</td>\n",
       "      <td>O'Brien, Mrs. Thomas (Johanna 'Hannah' Godfrey)</td>\n",
       "      <td>male</td>\n",
       "      <td>NaN</td>\n",
       "      <td>NaN</td>\n",
       "      <td>NaN</td>\n",
       "      <td>382652</td>\n",
       "      <td>NaN</td>\n",
       "      <td>D</td>\n",
       "      <td>S</td>\n",
       "      <td>3</td>\n",
       "      <td>NaN</td>\n",
       "      <td>New York, NY</td>\n",
       "      <td>0</td>\n",
       "    </tr>\n",
       "    <tr>\n",
       "      <th>freq</th>\n",
       "      <td>NaN</td>\n",
       "      <td>1</td>\n",
       "      <td>165</td>\n",
       "      <td>NaN</td>\n",
       "      <td>NaN</td>\n",
       "      <td>NaN</td>\n",
       "      <td>5</td>\n",
       "      <td>NaN</td>\n",
       "      <td>2</td>\n",
       "      <td>165</td>\n",
       "      <td>10</td>\n",
       "      <td>NaN</td>\n",
       "      <td>18</td>\n",
       "      <td>162</td>\n",
       "    </tr>\n",
       "    <tr>\n",
       "      <th>mean</th>\n",
       "      <td>2.358779</td>\n",
       "      <td>NaN</td>\n",
       "      <td>NaN</td>\n",
       "      <td>30.208537</td>\n",
       "      <td>0.538168</td>\n",
       "      <td>0.362595</td>\n",
       "      <td>NaN</td>\n",
       "      <td>30.701462</td>\n",
       "      <td>NaN</td>\n",
       "      <td>NaN</td>\n",
       "      <td>NaN</td>\n",
       "      <td>147.150000</td>\n",
       "      <td>NaN</td>\n",
       "      <td>NaN</td>\n",
       "    </tr>\n",
       "    <tr>\n",
       "      <th>std</th>\n",
       "      <td>0.821817</td>\n",
       "      <td>NaN</td>\n",
       "      <td>NaN</td>\n",
       "      <td>14.691125</td>\n",
       "      <td>1.070536</td>\n",
       "      <td>0.943933</td>\n",
       "      <td>NaN</td>\n",
       "      <td>51.020282</td>\n",
       "      <td>NaN</td>\n",
       "      <td>NaN</td>\n",
       "      <td>NaN</td>\n",
       "      <td>102.245975</td>\n",
       "      <td>NaN</td>\n",
       "      <td>NaN</td>\n",
       "    </tr>\n",
       "    <tr>\n",
       "      <th>min</th>\n",
       "      <td>1.000000</td>\n",
       "      <td>NaN</td>\n",
       "      <td>NaN</td>\n",
       "      <td>0.750000</td>\n",
       "      <td>0.000000</td>\n",
       "      <td>0.000000</td>\n",
       "      <td>NaN</td>\n",
       "      <td>0.000000</td>\n",
       "      <td>NaN</td>\n",
       "      <td>NaN</td>\n",
       "      <td>NaN</td>\n",
       "      <td>22.000000</td>\n",
       "      <td>NaN</td>\n",
       "      <td>NaN</td>\n",
       "    </tr>\n",
       "    <tr>\n",
       "      <th>25%</th>\n",
       "      <td>2.000000</td>\n",
       "      <td>NaN</td>\n",
       "      <td>NaN</td>\n",
       "      <td>20.000000</td>\n",
       "      <td>0.000000</td>\n",
       "      <td>0.000000</td>\n",
       "      <td>NaN</td>\n",
       "      <td>7.895800</td>\n",
       "      <td>NaN</td>\n",
       "      <td>NaN</td>\n",
       "      <td>NaN</td>\n",
       "      <td>63.750000</td>\n",
       "      <td>NaN</td>\n",
       "      <td>NaN</td>\n",
       "    </tr>\n",
       "    <tr>\n",
       "      <th>50%</th>\n",
       "      <td>3.000000</td>\n",
       "      <td>NaN</td>\n",
       "      <td>NaN</td>\n",
       "      <td>28.000000</td>\n",
       "      <td>0.000000</td>\n",
       "      <td>0.000000</td>\n",
       "      <td>NaN</td>\n",
       "      <td>13.458350</td>\n",
       "      <td>NaN</td>\n",
       "      <td>NaN</td>\n",
       "      <td>NaN</td>\n",
       "      <td>127.000000</td>\n",
       "      <td>NaN</td>\n",
       "      <td>NaN</td>\n",
       "    </tr>\n",
       "    <tr>\n",
       "      <th>75%</th>\n",
       "      <td>3.000000</td>\n",
       "      <td>NaN</td>\n",
       "      <td>NaN</td>\n",
       "      <td>40.000000</td>\n",
       "      <td>1.000000</td>\n",
       "      <td>0.000000</td>\n",
       "      <td>NaN</td>\n",
       "      <td>27.862500</td>\n",
       "      <td>NaN</td>\n",
       "      <td>NaN</td>\n",
       "      <td>NaN</td>\n",
       "      <td>204.250000</td>\n",
       "      <td>NaN</td>\n",
       "      <td>NaN</td>\n",
       "    </tr>\n",
       "    <tr>\n",
       "      <th>max</th>\n",
       "      <td>3.000000</td>\n",
       "      <td>NaN</td>\n",
       "      <td>NaN</td>\n",
       "      <td>74.000000</td>\n",
       "      <td>8.000000</td>\n",
       "      <td>9.000000</td>\n",
       "      <td>NaN</td>\n",
       "      <td>512.329200</td>\n",
       "      <td>NaN</td>\n",
       "      <td>NaN</td>\n",
       "      <td>NaN</td>\n",
       "      <td>328.000000</td>\n",
       "      <td>NaN</td>\n",
       "      <td>NaN</td>\n",
       "    </tr>\n",
       "  </tbody>\n",
       "</table>\n",
       "</div>"
      ],
      "text/plain": [
       "            pclass                                             name   sex  \\\n",
       "count   262.000000                                              262   262   \n",
       "unique         NaN                                              262     2   \n",
       "top            NaN  O'Brien, Mrs. Thomas (Johanna 'Hannah' Godfrey)  male   \n",
       "freq           NaN                                                1   165   \n",
       "mean      2.358779                                              NaN   NaN   \n",
       "std       0.821817                                              NaN   NaN   \n",
       "min       1.000000                                              NaN   NaN   \n",
       "25%       2.000000                                              NaN   NaN   \n",
       "50%       3.000000                                              NaN   NaN   \n",
       "75%       3.000000                                              NaN   NaN   \n",
       "max       3.000000                                              NaN   NaN   \n",
       "\n",
       "               age       sibsp       parch  ticket        fare cabin embarked  \\\n",
       "count   205.000000  262.000000  262.000000     262  262.000000    52      262   \n",
       "unique         NaN         NaN         NaN     243         NaN    50        3   \n",
       "top            NaN         NaN         NaN  382652         NaN     D        S   \n",
       "freq           NaN         NaN         NaN       5         NaN     2      165   \n",
       "mean     30.208537    0.538168    0.362595     NaN   30.701462   NaN      NaN   \n",
       "std      14.691125    1.070536    0.943933     NaN   51.020282   NaN      NaN   \n",
       "min       0.750000    0.000000    0.000000     NaN    0.000000   NaN      NaN   \n",
       "25%      20.000000    0.000000    0.000000     NaN    7.895800   NaN      NaN   \n",
       "50%      28.000000    0.000000    0.000000     NaN   13.458350   NaN      NaN   \n",
       "75%      40.000000    1.000000    0.000000     NaN   27.862500   NaN      NaN   \n",
       "max      74.000000    8.000000    9.000000     NaN  512.329200   NaN      NaN   \n",
       "\n",
       "       boat        body     home.dest survived  \n",
       "count    94   20.000000           142      262  \n",
       "unique   20         NaN           108        2  \n",
       "top       3         NaN  New York, NY        0  \n",
       "freq     10         NaN            18      162  \n",
       "mean    NaN  147.150000           NaN      NaN  \n",
       "std     NaN  102.245975           NaN      NaN  \n",
       "min     NaN   22.000000           NaN      NaN  \n",
       "25%     NaN   63.750000           NaN      NaN  \n",
       "50%     NaN  127.000000           NaN      NaN  \n",
       "75%     NaN  204.250000           NaN      NaN  \n",
       "max     NaN  328.000000           NaN      NaN  "
      ]
     },
     "execution_count": 80,
     "metadata": {},
     "output_type": "execute_result"
    }
   ],
   "source": [
    "titanic_test.describe(include = 'all')"
   ]
  },
  {
   "cell_type": "code",
   "execution_count": 85,
   "metadata": {
    "id": "AfwAohjgfMvg",
    "vscode": {
     "languageId": "r"
    }
   },
   "outputs": [
    {
     "name": "stdout",
     "output_type": "stream",
     "text": [
      "pclass         0\n",
      "name           0\n",
      "sex            0\n",
      "age          206\n",
      "sibsp          0\n",
      "parch          0\n",
      "ticket         0\n",
      "fare           1\n",
      "cabin        804\n",
      "embarked       2\n",
      "boat         655\n",
      "body         946\n",
      "home.dest    444\n",
      "survived       0\n",
      "dtype: int64\n"
     ]
    },
    {
     "data": {
      "text/plain": [
       "pclass         0\n",
       "name           0\n",
       "sex            0\n",
       "age           57\n",
       "sibsp          0\n",
       "parch          0\n",
       "ticket         0\n",
       "fare           0\n",
       "cabin        210\n",
       "embarked       0\n",
       "boat         168\n",
       "body         242\n",
       "home.dest    120\n",
       "survived       0\n",
       "dtype: int64"
      ]
     },
     "execution_count": 85,
     "metadata": {},
     "output_type": "execute_result"
    }
   ],
   "source": [
    "# Number of NA's\n",
    "print(titanic_train.isna().sum())\n",
    "titanic_test.isna().sum()"
   ]
  },
  {
   "cell_type": "markdown",
   "metadata": {
    "id": "TV0KbD9KZ_bz"
   },
   "source": [
    "We will modify train dataset for our academic purpose :-)"
   ]
  },
  {
   "cell_type": "markdown",
   "metadata": {
    "id": "su9BUYSwb_HX"
   },
   "source": [
    "### Model where all covariates are discrete\n",
    "\n",
    "for categorical data in pandas see https://pandas.pydata.org/docs/user_guide/categorical.html"
   ]
  },
  {
   "cell_type": "code",
   "execution_count": 117,
   "metadata": {
    "id": "ZtEboSVjZ-wD",
    "vscode": {
     "languageId": "r"
    }
   },
   "outputs": [
    {
     "ename": "SyntaxError",
     "evalue": "invalid syntax (<ipython-input-117-581ca20bb54a>, line 9)",
     "output_type": "error",
     "traceback": [
      "\u001b[0;36m  File \u001b[0;32m\"<ipython-input-117-581ca20bb54a>\"\u001b[0;36m, line \u001b[0;32m9\u001b[0m\n\u001b[0;31m    data_dis = data_dis >>\u001b[0m\n\u001b[0m                          ^\u001b[0m\n\u001b[0;31mSyntaxError\u001b[0m\u001b[0;31m:\u001b[0m invalid syntax\n"
     ]
    }
   ],
   "source": [
    "data_dis = titanic_train[['survived','pclass','sex','embarked']]\n",
    "\n",
    "# or use dfply module\n",
    "#data_dis = titanic_train >> select(titanic_train.survived, titanic_train.pclass, titanic_train.sex,\n",
    "#                                   titanic_train.embarked)\n",
    "print(data_dis.dtypes)\n",
    "\n",
    "# dfply does not have mutate_if func  just mutate :(\n",
    "data_dis2 = data_dis.apply(lambda x: x.astype('category') if str(data_dis['pclass'].dtype) == 'str' else x)\n",
    "print(data_dis2.dtypes)\n",
    "\n",
    "data_dis.rename(columns = {'old_col1':'new_col1', 'old_col2':'new_col2'}, inplace = True)\n",
    "\n",
    "data_dis = data_dis >>\n",
    "  filter(Embarked %in% c(\"C\",\"Q\",\"S\")) >>\n",
    "  transmute(survived = data_dis.survived.astype('category'),\n",
    "            #survived = Survived,\n",
    "            class = as.factor(Pclass),\n",
    "            sex = as.factor(Sex),\n",
    "            embarked = as.factor(Embarked))\n",
    "\n",
    "data_dis.describe(include='all')"
   ]
  },
  {
   "cell_type": "code",
   "execution_count": 119,
   "metadata": {},
   "outputs": [
    {
     "data": {
      "text/html": [
       "<div>\n",
       "<style scoped>\n",
       "    .dataframe tbody tr th:only-of-type {\n",
       "        vertical-align: middle;\n",
       "    }\n",
       "\n",
       "    .dataframe tbody tr th {\n",
       "        vertical-align: top;\n",
       "    }\n",
       "\n",
       "    .dataframe thead th {\n",
       "        text-align: right;\n",
       "    }\n",
       "</style>\n",
       "<table border=\"1\" class=\"dataframe\">\n",
       "  <thead>\n",
       "    <tr style=\"text-align: right;\">\n",
       "      <th></th>\n",
       "      <th>survived</th>\n",
       "      <th>pclass</th>\n",
       "      <th>sex</th>\n",
       "      <th>embarked</th>\n",
       "    </tr>\n",
       "  </thead>\n",
       "  <tbody>\n",
       "    <tr>\n",
       "      <th>858</th>\n",
       "      <td>1</td>\n",
       "      <td>3.0</td>\n",
       "      <td>male</td>\n",
       "      <td>S</td>\n",
       "    </tr>\n",
       "    <tr>\n",
       "      <th>910</th>\n",
       "      <td>0</td>\n",
       "      <td>3.0</td>\n",
       "      <td>male</td>\n",
       "      <td>S</td>\n",
       "    </tr>\n",
       "    <tr>\n",
       "      <th>721</th>\n",
       "      <td>0</td>\n",
       "      <td>3.0</td>\n",
       "      <td>male</td>\n",
       "      <td>S</td>\n",
       "    </tr>\n",
       "    <tr>\n",
       "      <th>228</th>\n",
       "      <td>0</td>\n",
       "      <td>1.0</td>\n",
       "      <td>male</td>\n",
       "      <td>C</td>\n",
       "    </tr>\n",
       "    <tr>\n",
       "      <th>11</th>\n",
       "      <td>1</td>\n",
       "      <td>1.0</td>\n",
       "      <td>female</td>\n",
       "      <td>C</td>\n",
       "    </tr>\n",
       "    <tr>\n",
       "      <th>...</th>\n",
       "      <td>...</td>\n",
       "      <td>...</td>\n",
       "      <td>...</td>\n",
       "      <td>...</td>\n",
       "    </tr>\n",
       "    <tr>\n",
       "      <th>1214</th>\n",
       "      <td>0</td>\n",
       "      <td>3.0</td>\n",
       "      <td>male</td>\n",
       "      <td>S</td>\n",
       "    </tr>\n",
       "    <tr>\n",
       "      <th>1206</th>\n",
       "      <td>0</td>\n",
       "      <td>3.0</td>\n",
       "      <td>male</td>\n",
       "      <td>S</td>\n",
       "    </tr>\n",
       "    <tr>\n",
       "      <th>452</th>\n",
       "      <td>1</td>\n",
       "      <td>2.0</td>\n",
       "      <td>female</td>\n",
       "      <td>S</td>\n",
       "    </tr>\n",
       "    <tr>\n",
       "      <th>562</th>\n",
       "      <td>1</td>\n",
       "      <td>2.0</td>\n",
       "      <td>female</td>\n",
       "      <td>Q</td>\n",
       "    </tr>\n",
       "    <tr>\n",
       "      <th>571</th>\n",
       "      <td>0</td>\n",
       "      <td>2.0</td>\n",
       "      <td>male</td>\n",
       "      <td>S</td>\n",
       "    </tr>\n",
       "  </tbody>\n",
       "</table>\n",
       "<p>1047 rows × 4 columns</p>\n",
       "</div>"
      ],
      "text/plain": [
       "     survived  pclass     sex embarked\n",
       "858         1     3.0    male        S\n",
       "910         0     3.0    male        S\n",
       "721         0     3.0    male        S\n",
       "228         0     1.0    male        C\n",
       "11          1     1.0  female        C\n",
       "...       ...     ...     ...      ...\n",
       "1214        0     3.0    male        S\n",
       "1206        0     3.0    male        S\n",
       "452         1     2.0  female        S\n",
       "562         1     2.0  female        Q\n",
       "571         0     2.0    male        S\n",
       "\n",
       "[1047 rows x 4 columns]"
      ]
     },
     "execution_count": 119,
     "metadata": {},
     "output_type": "execute_result"
    }
   ],
   "source": [
    "# or use dfply module\n",
    "data_dis = titanic_train >> select(titanic_train.survived, titanic_train.pclass, titanic_train.sex,\n",
    "                                   titanic_train.embarked)\n",
    "data_dis"
   ]
  },
  {
   "cell_type": "code",
   "execution_count": 113,
   "metadata": {},
   "outputs": [
    {
     "data": {
      "text/plain": [
       "858     S\n",
       "910     S\n",
       "721     S\n",
       "228     C\n",
       "11      C\n",
       "       ..\n",
       "1214    S\n",
       "1206    S\n",
       "452     S\n",
       "562     Q\n",
       "571     S\n",
       "Name: embarked, Length: 1047, dtype: category\n",
       "Categories (3, object): ['C', 'Q', 'S']"
      ]
     },
     "execution_count": 113,
     "metadata": {},
     "output_type": "execute_result"
    }
   ],
   "source": [
    "data_dis['embarked']\n",
    "df.loc[df['column_name'].isin(some_values)]"
   ]
  },
  {
   "cell_type": "code",
   "execution_count": 93,
   "metadata": {},
   "outputs": [],
   "source": [
    "data_dis = titanic_train[['survived','pclass','sex','embarked']]"
   ]
  },
  {
   "cell_type": "code",
   "execution_count": 110,
   "metadata": {},
   "outputs": [
    {
     "data": {
      "text/plain": [
       "'float64'"
      ]
     },
     "execution_count": 110,
     "metadata": {},
     "output_type": "execute_result"
    }
   ],
   "source": [
    "str(data_dis['pclass'].dtype)"
   ]
  },
  {
   "cell_type": "code",
   "execution_count": 112,
   "metadata": {},
   "outputs": [
    {
     "data": {
      "text/plain": [
       "survived    category\n",
       "pclass       float64\n",
       "sex         category\n",
       "embarked    category\n",
       "dtype: object"
      ]
     },
     "execution_count": 112,
     "metadata": {},
     "output_type": "execute_result"
    }
   ],
   "source": [
    "data_dis2 = data_dis.apply(lambda x: x.astype('category') if str(data_dis['pclass'].dtype) == 'str' else x)\n",
    "data_dis2.dtypes"
   ]
  },
  {
   "cell_type": "code",
   "execution_count": 108,
   "metadata": {},
   "outputs": [
    {
     "name": "stderr",
     "output_type": "stream",
     "text": [
      "/media/emanuel/data/miniconda3/lib/python3.9/site-packages/IPython/lib/pretty.py:700: FutureWarning: Index.ravel returning ndarray is deprecated; in a future version this will return a view on self.\n",
      "  output = repr(obj)\n"
     ]
    },
    {
     "data": {
      "text/plain": [
       "858     3.0\n",
       "910     3.0\n",
       "721     3.0\n",
       "228     1.0\n",
       "11      1.0\n",
       "       ... \n",
       "1214    3.0\n",
       "1206    3.0\n",
       "452     2.0\n",
       "562     2.0\n",
       "571     2.0\n",
       "Name: pclass, Length: 1047, dtype: category\n",
       "Categories (3, float64): [1.0, 2.0, 3.0]"
      ]
     },
     "execution_count": 108,
     "metadata": {},
     "output_type": "execute_result"
    }
   ],
   "source": [
    "data_dis2['pclass']"
   ]
  },
  {
   "cell_type": "code",
   "execution_count": null,
   "metadata": {
    "id": "UT2_FST2eRRX",
    "vscode": {
     "languageId": "r"
    }
   },
   "outputs": [],
   "source": [
    "install.packages(\"GGally\")\n",
    "library(GGally)\n",
    "ggpairs(data_dis)"
   ]
  },
  {
   "cell_type": "code",
   "execution_count": null,
   "metadata": {
    "id": "0hEzOim2hR6o",
    "vscode": {
     "languageId": "r"
    }
   },
   "outputs": [],
   "source": [
    "table_data_dis = table(data_dis)\n",
    "table_data_dis"
   ]
  },
  {
   "cell_type": "code",
   "execution_count": null,
   "metadata": {
    "id": "I1cOK3w-hZM1",
    "vscode": {
     "languageId": "r"
    }
   },
   "outputs": [],
   "source": [
    "#prop.table(table_data_dis)\n",
    "#prop.table(table_data_dis,margin=2)*100\n",
    "table(data_dis$survived,data_dis$class)\n",
    "prop.table(table(data_dis$survived,data_dis$class),margin=1)*100\n",
    "prop.table(table(data_dis$survived,data_dis$class),margin=2)*100\n"
   ]
  },
  {
   "cell_type": "code",
   "execution_count": null,
   "metadata": {
    "id": "R7zdtm0mE0zc",
    "vscode": {
     "languageId": "r"
    }
   },
   "outputs": [],
   "source": [
    "# Count observations\n",
    "table(data_dis$survived,data_dis$sex)\n",
    "# Conditional proportions given columns\n",
    "prop.table(table(data_dis$survived,data_dis$sex),margin=2)*100\n",
    "# Conditional proportions given rows\n",
    "prop.table(table(data_dis$survived,data_dis$sex),margin=1)*100"
   ]
  },
  {
   "cell_type": "code",
   "execution_count": null,
   "metadata": {
    "id": "VTu4V54WE24r",
    "vscode": {
     "languageId": "r"
    }
   },
   "outputs": [],
   "source": [
    "\n",
    "table(data_dis$survived,data_dis$embarked)\n",
    "prop.table(table(data_dis$survived,data_dis$embarked),margin=2)*100\n",
    "? prop.table\n"
   ]
  },
  {
   "cell_type": "code",
   "execution_count": null,
   "metadata": {
    "id": "UzABdm6ZjI2C",
    "vscode": {
     "languageId": "r"
    }
   },
   "outputs": [],
   "source": [
    "# Odss ratio (empirický poměr šancí)\n",
    "OR        = function(tab){tab[1,1]/tab[1,2]/(tab[2,1]/tab[2,2])}\n",
    "table_sex = table(data_dis$survived,data_dis$sex)\n",
    "table_sex\n",
    "OR(table_sex)\n",
    "# Men have "
   ]
  },
  {
   "cell_type": "code",
   "execution_count": null,
   "metadata": {
    "id": "TQ1U0oesjI_2",
    "vscode": {
     "languageId": "r"
    }
   },
   "outputs": [],
   "source": [
    "#install.packages(\"mosaic\")\n",
    "#library(mosaic)\n",
    "#oddsRatio(table_sex, verbose = TRUE)"
   ]
  },
  {
   "cell_type": "code",
   "execution_count": null,
   "metadata": {
    "id": "5cFgfp-n2_s_",
    "vscode": {
     "languageId": "r"
    }
   },
   "outputs": [],
   "source": [
    "install.packages(\"epitools\")\n",
    "library(epitools)\n",
    "oddsratio.wald(table_sex, conf.level = 0.95)"
   ]
  },
  {
   "cell_type": "code",
   "execution_count": null,
   "metadata": {
    "id": "ndIG03AM3Z-T",
    "vscode": {
     "languageId": "r"
    }
   },
   "outputs": [],
   "source": [
    "chisq.test(table_sex)"
   ]
  },
  {
   "cell_type": "code",
   "execution_count": null,
   "metadata": {
    "id": "-KgtZYVo3aD-",
    "vscode": {
     "languageId": "r"
    }
   },
   "outputs": [],
   "source": []
  },
  {
   "cell_type": "markdown",
   "metadata": {
    "id": "flohDO_SBgVe"
   },
   "source": [
    "### Null model\n",
    "\n",
    "* Compute the null model (assume that the probability of survival was the same for all passangers)\n",
    "\n",
    "* How do we interpret estimated parameter?"
   ]
  },
  {
   "cell_type": "code",
   "execution_count": null,
   "metadata": {
    "id": "bta1ErSXBkn6",
    "vscode": {
     "languageId": "r"
    }
   },
   "outputs": [],
   "source": [
    "mod0=glm(survived~1,family=binomial(link = \"logit\"),data_dis) #\n",
    "summary(mod0)"
   ]
  },
  {
   "cell_type": "code",
   "execution_count": null,
   "metadata": {
    "id": "7D8nzeEG3aHO",
    "vscode": {
     "languageId": "r"
    }
   },
   "outputs": [],
   "source": [
    "# The chances of survival according to training data.\n",
    "exp(coef(mod0))\n",
    "\n",
    "# The probability of survival.\n",
    "exp(coef(mod0))/(1+exp(coef(mod0)))\n"
   ]
  },
  {
   "cell_type": "code",
   "execution_count": null,
   "metadata": {
    "id": "cMdgRk3JBigz",
    "vscode": {
     "languageId": "r"
    }
   },
   "outputs": [],
   "source": []
  },
  {
   "cell_type": "markdown",
   "metadata": {
    "id": "UPWeZk4NEviZ"
   },
   "source": [
    "### Model with variable: sex\n",
    "\n",
    "* Compute the model with one covariate sex. \n",
    "\n",
    "* How can we interpret estiamted coefficients? \n",
    "\n",
    "* Did survival depend on gender (`sex`) ?\n",
    "\n",
    "* Perform an appropriate tests.\n",
    "\n",
    "* Did women have a better chance of survival? \n"
   ]
  },
  {
   "cell_type": "code",
   "execution_count": null,
   "metadata": {
    "id": "MiggAEKCBijv",
    "vscode": {
     "languageId": "r"
    }
   },
   "outputs": [],
   "source": [
    "mod_sex=glm(survived~sex,family=binomial(link = \"logit\"),data_dis) #\n",
    "summary(mod_sex)"
   ]
  },
  {
   "cell_type": "markdown",
   "metadata": {
    "id": "8KKuANNV193i"
   },
   "source": [
    "Use deviance to test submodels `anova(model_1,model_2,test=\"Chisq\")`."
   ]
  },
  {
   "cell_type": "code",
   "execution_count": null,
   "metadata": {
    "id": "uHBHuBiGE1HC",
    "vscode": {
     "languageId": "r"
    }
   },
   "outputs": [],
   "source": [
    "# The chances of survival according to training data.\n",
    "exp(coef(mod_sex))\n",
    "#sexmale:    0.081668331668578\n",
    "anova(mod_sex,mod0,test=\"Chisq\")\n"
   ]
  },
  {
   "cell_type": "code",
   "execution_count": null,
   "metadata": {
    "id": "rkW40xpk6Ysr",
    "vscode": {
     "languageId": "r"
    }
   },
   "outputs": [],
   "source": [
    "#Function to estimate OR with lower and upper limit of 95% CI for OR\n",
    "OR_coef = function(variable,model,CI){\n",
    "  param = coef(model)\n",
    "  where = grep(variable,names(param))[1]\n",
    "  beta  = param[where]\n",
    "  se = summary(model)$coef[where,2]\n",
    "  or = exp(beta)\n",
    "  ci = exp(beta+c(-1,1)*qnorm(CI/2+0.5)*se)\n",
    "  out = data.frame(or,ci[1],ci[2])\n",
    "  names(out) = c(\"OR\",\"LCL\",\"UCL\")\n",
    "  out\n",
    "}\n",
    "OR_coef(\"sex\",mod_sex,0.95)"
   ]
  },
  {
   "cell_type": "markdown",
   "metadata": {
    "id": "QCuc-DIJ9UGZ"
   },
   "source": [
    "Compare with results obtained from contingency table."
   ]
  },
  {
   "cell_type": "code",
   "execution_count": null,
   "metadata": {
    "id": "Aw3--fpl9fSs",
    "vscode": {
     "languageId": "r"
    }
   },
   "outputs": [],
   "source": []
  },
  {
   "cell_type": "markdown",
   "metadata": {
    "id": "-kIqGZEQFp-D"
   },
   "source": [
    "### Your turn:\n",
    "\n",
    "Estimate model with one covariate `class` and compute: \n",
    "\n",
    "1. Did survival depend on (`class`) ?\n",
    "\n",
    "2. Perform an appropriate tests.\n",
    "\n",
    "3. Compute odds ratios between classes.\n",
    "\n",
    "4. Did passangers in second class have a better chance of survival than in third? \n"
   ]
  },
  {
   "cell_type": "code",
   "execution_count": null,
   "metadata": {
    "id": "j9YO4TYCF_4J",
    "vscode": {
     "languageId": "r"
    }
   },
   "outputs": [],
   "source": [
    "#1. "
   ]
  },
  {
   "cell_type": "code",
   "execution_count": null,
   "metadata": {
    "id": "djCunqa_GAJ8",
    "vscode": {
     "languageId": "r"
    }
   },
   "outputs": [],
   "source": [
    "#2. "
   ]
  },
  {
   "cell_type": "code",
   "execution_count": null,
   "metadata": {
    "id": "MBN8U9pfGAOp",
    "vscode": {
     "languageId": "r"
    }
   },
   "outputs": [],
   "source": [
    "#3."
   ]
  },
  {
   "cell_type": "code",
   "execution_count": null,
   "metadata": {
    "id": "maNOb3VWOJzv",
    "vscode": {
     "languageId": "r"
    }
   },
   "outputs": [],
   "source": [
    "#4."
   ]
  },
  {
   "cell_type": "markdown",
   "metadata": {
    "id": "42sCjLq-FkV5"
   },
   "source": [
    "### Model with all discrete covariates without interactions"
   ]
  },
  {
   "cell_type": "code",
   "execution_count": null,
   "metadata": {
    "id": "pWKH73g5jJDj",
    "vscode": {
     "languageId": "r"
    }
   },
   "outputs": [],
   "source": [
    "# Simple Logistic Regression model with all discrete covariates without interactions\n",
    "mod1=glm(survived~.,family=binomial(link = \"logit\"),data_dis) #\n",
    "summary(mod1)"
   ]
  },
  {
   "cell_type": "markdown",
   "metadata": {
    "id": "qkXZwWVG3rED"
   },
   "source": [
    "Deviance tests to add/drop independent variables.\n",
    "\n",
    "`drop1(model,test=\"Chisq\")`\n",
    "\n",
    "`add1(model,terms.to.add,test=\"Chisq\")`"
   ]
  },
  {
   "cell_type": "code",
   "execution_count": null,
   "metadata": {
    "id": "Mu3VGgYDjJGt",
    "vscode": {
     "languageId": "r"
    }
   },
   "outputs": [],
   "source": [
    "drop1(mod1,test=\"Chisq\")\n"
   ]
  },
  {
   "cell_type": "code",
   "execution_count": null,
   "metadata": {
    "id": "-wTFLd1T4GAY",
    "vscode": {
     "languageId": "r"
    }
   },
   "outputs": [],
   "source": [
    "add1(mod0,survived~sex+class+embarked, test=\"Chisq\")\n"
   ]
  },
  {
   "cell_type": "code",
   "execution_count": null,
   "metadata": {
    "id": "bVIXmCWb5AZO",
    "vscode": {
     "languageId": "r"
    }
   },
   "outputs": [],
   "source": []
  },
  {
   "cell_type": "code",
   "execution_count": null,
   "metadata": {
    "id": "F2xccox0vK_e",
    "vscode": {
     "languageId": "r"
    }
   },
   "outputs": [],
   "source": [
    "data_dis2 = mutate(data_dis, embarked = fct_recode(embarked, \"Q\" = \"C\"))\n",
    "str(data_dis2)\n",
    "\n",
    "mod1=glm(survived~.,family=binomial(link = \"logit\"),data_dis2) #\n",
    "summary(mod1)"
   ]
  },
  {
   "cell_type": "code",
   "execution_count": null,
   "metadata": {
    "id": "dkfQCaGSvLCi",
    "vscode": {
     "languageId": "r"
    }
   },
   "outputs": [],
   "source": [
    "#mod1=glm(survived~relevel(factor(sex),ref=\"male\")+class+embarked,family=binomial(link = \"logit\"),data_dis2) \n",
    "#summary(mod1)\n",
    "\n"
   ]
  },
  {
   "cell_type": "code",
   "execution_count": null,
   "metadata": {
    "id": "ZhrNnbuS8rjk",
    "vscode": {
     "languageId": "r"
    }
   },
   "outputs": [],
   "source": [
    "OR_coef(\"sex\",mod1,0.95)"
   ]
  },
  {
   "cell_type": "markdown",
   "metadata": {
    "id": "5jkf4N0EHHb0"
   },
   "source": [
    "Interpret previous result:\n",
    "\n",
    "* By how many percentage is the chance of survival lower for  men? \n",
    "\n",
    "* Interpret confidence intrval and its significance.\n"
   ]
  },
  {
   "cell_type": "markdown",
   "metadata": {
    "id": "VirGNE8J9kWA"
   },
   "source": [
    "Lets try model with second order interactions.\n"
   ]
  },
  {
   "cell_type": "code",
   "execution_count": null,
   "metadata": {
    "id": "uT7yNEgH8ruU",
    "vscode": {
     "languageId": "r"
    }
   },
   "outputs": [],
   "source": [
    "add1(mod1,~.^2,test=\"Chisq\")"
   ]
  },
  {
   "cell_type": "code",
   "execution_count": null,
   "metadata": {
    "id": "CmX8KMnk9G6y",
    "vscode": {
     "languageId": "r"
    }
   },
   "outputs": [],
   "source": [
    "mod2_all = glm(survived~(.)^2,family=binomial(link = \"logit\"),data_dis) #\n",
    "summary(mod2_all)\n"
   ]
  },
  {
   "cell_type": "code",
   "execution_count": null,
   "metadata": {
    "id": "1bKbLLgZ-xN-",
    "vscode": {
     "languageId": "r"
    }
   },
   "outputs": [],
   "source": [
    "step(mod2_all)"
   ]
  },
  {
   "cell_type": "code",
   "execution_count": null,
   "metadata": {
    "id": "_rdGvZUe9G-x",
    "vscode": {
     "languageId": "r"
    }
   },
   "outputs": [],
   "source": [
    "mod2 = glm(survived~ class + sex + embarked + class:sex + sex:embarked,family=binomial(link = \"logit\"),data_dis) #\n",
    "summary(mod2)"
   ]
  },
  {
   "cell_type": "code",
   "execution_count": null,
   "metadata": {
    "id": "7gSz2aqQFVBG",
    "vscode": {
     "languageId": "r"
    }
   },
   "outputs": [],
   "source": [
    "anova(mod2_all,mod2,test=\"Chisq\")"
   ]
  },
  {
   "cell_type": "markdown",
   "metadata": {
    "id": "iVLJsFVyGN-N"
   },
   "source": [
    "Interpretation by OR in models with interactions is more complitacated, see Lecture notes."
   ]
  },
  {
   "cell_type": "markdown",
   "metadata": {
    "id": "dgUfzZq4Gks5"
   },
   "source": [
    "Lets try model with merged factor levels.\n",
    "\n",
    "\n"
   ]
  },
  {
   "cell_type": "code",
   "execution_count": null,
   "metadata": {
    "id": "vppHkWQD9HJV",
    "vscode": {
     "languageId": "r"
    }
   },
   "outputs": [],
   "source": [
    "data_dis3 = mutate(data_dis2, class = fct_recode(class, \"2\" = \"1\"))\n",
    "str(data_dis3)"
   ]
  },
  {
   "cell_type": "code",
   "execution_count": null,
   "metadata": {
    "id": "7PJi1BUh_ww7",
    "vscode": {
     "languageId": "r"
    }
   },
   "outputs": [],
   "source": [
    "mod2 = glm(survived~ class + sex + embarked + class:sex + sex:embarked,family=binomial(link = \"logit\"),data_dis3) #\n",
    "summary(mod2)"
   ]
  },
  {
   "cell_type": "code",
   "execution_count": null,
   "metadata": {
    "id": "iEbWdTcY_wz9",
    "vscode": {
     "languageId": "r"
    }
   },
   "outputs": [],
   "source": [
    "mod3 = glm(survived~ (.)^2,family=binomial(link = \"logit\"),data_dis3) #\n",
    "anova(mod2,mod3,test=\"Chisq\")\n"
   ]
  },
  {
   "cell_type": "code",
   "execution_count": null,
   "metadata": {
    "id": "Ci6TaxOW_w2y",
    "vscode": {
     "languageId": "r"
    }
   },
   "outputs": [],
   "source": []
  },
  {
   "cell_type": "markdown",
   "metadata": {
    "id": "PJSz8gifGy1p"
   },
   "source": [
    "## Model with continuous independent variable.\n"
   ]
  },
  {
   "cell_type": "markdown",
   "metadata": {
    "id": "gga0Fav7Q2W8"
   },
   "source": [
    "Discuss difference from models without continuous variable (again)!!!"
   ]
  },
  {
   "cell_type": "code",
   "execution_count": null,
   "metadata": {
    "id": "yI6EhBMzJSmz",
    "vscode": {
     "languageId": "r"
    }
   },
   "outputs": [],
   "source": [
    "str(titanic_train)"
   ]
  },
  {
   "cell_type": "code",
   "execution_count": null,
   "metadata": {
    "id": "2LoARzISGzJ0",
    "vscode": {
     "languageId": "r"
    }
   },
   "outputs": [],
   "source": [
    "data_con = titanic_train %>%\n",
    "  dplyr::select(Survived,Pclass,Sex,Embarked,Age,Fare)\n",
    "\n",
    "data_con %>% mutate_if(is.character,as.factor) %>% summary()\n",
    "\n",
    "data_con = data_con %>%\n",
    "  filter(Embarked %in% c(\"C\",\"Q\",\"S\")) %>%\n",
    "  transmute(survived = as.factor(Survived),\n",
    "            #survived = Survived,\n",
    "            class = as.factor(Pclass),\n",
    "            sex = as.factor(Sex),\n",
    "            embarked = as.factor(Embarked),\n",
    "            age = Age,\n",
    "            fare = Fare) %>%\n",
    "  drop_na()          \n",
    "\n",
    "summary(data_con)           \n",
    "str(data_con)"
   ]
  },
  {
   "cell_type": "code",
   "execution_count": null,
   "metadata": {
    "id": "9YIZsc2vQT_k",
    "vscode": {
     "languageId": "r"
    }
   },
   "outputs": [],
   "source": [
    "ggpairs(data_con  %>% dplyr::select(survived,age,fare,class))"
   ]
  },
  {
   "cell_type": "code",
   "execution_count": null,
   "metadata": {
    "id": "_SZbeK-FQUJk",
    "vscode": {
     "languageId": "r"
    }
   },
   "outputs": [],
   "source": [
    "ggplot(data_con, aes(x=sex, y=age, fill = survived)) + \n",
    "  geom_boxplot()+\n",
    "  labs(title=\"Gender boxplot\",x=\"Gender\", y = \"Age\")+\n",
    "  #geom_jitter(shape=16, position=position_jitter(0.2)) +\n",
    "  stat_summary(fun=mean, geom=\"point\", shape=23, size=3) +\n",
    "  theme_classic()"
   ]
  },
  {
   "cell_type": "code",
   "execution_count": null,
   "metadata": {
    "id": "NrL-2GL1zDtb",
    "vscode": {
     "languageId": "r"
    }
   },
   "outputs": [],
   "source": [
    "ggplot(data_con, aes(x=class, y=fare, fill = survived)) + \n",
    "  geom_boxplot()+\n",
    "  labs(title=\"Class x Fare\",x=\"Class\", y = \"Fare\")+\n",
    "  #geom_jitter(shape=16, position=position_jitter(0.2)) +\n",
    "  stat_summary(fun=mean, geom=\"point\", shape=23, size=3) +\n",
    "  theme_classic()"
   ]
  },
  {
   "cell_type": "markdown",
   "metadata": {
    "id": "gN0UJs4PSjcY"
   },
   "source": [
    "Continuous variable as factor"
   ]
  },
  {
   "cell_type": "code",
   "execution_count": null,
   "metadata": {
    "id": "NN70zHIpQUMz",
    "vscode": {
     "languageId": "r"
    }
   },
   "outputs": [],
   "source": [
    "data_con_fac = data_con %>%\n",
    "  mutate(age = cut(age,\n",
    "                    breaks=c(-Inf, 15, 50, Inf), \n",
    "                    labels=c(\"child\",\"adult\",\"senior\")))\n",
    "ggpairs(data_con_fac)"
   ]
  },
  {
   "cell_type": "code",
   "execution_count": null,
   "metadata": {
    "id": "QouMFb1LXVvl",
    "vscode": {
     "languageId": "r"
    }
   },
   "outputs": [],
   "source": [
    "mod_0 = glm(survived ~ 1, family = binomial,data = data_con_fac )"
   ]
  },
  {
   "cell_type": "code",
   "execution_count": null,
   "metadata": {
    "id": "hyHUUA3iIzqy",
    "vscode": {
     "languageId": "r"
    }
   },
   "outputs": [],
   "source": [
    "mod_age_fac = glm(survived ~ age, family = binomial,data = data_con_fac )\n",
    "summary(mod_age_fac)\n",
    "exp(coef(mod_age_fac))"
   ]
  },
  {
   "cell_type": "markdown",
   "metadata": {
    "id": "mD47uutFW7fq"
   },
   "source": [
    "Is the chance decreasing with increasing age?"
   ]
  },
  {
   "cell_type": "code",
   "execution_count": null,
   "metadata": {
    "id": "glFlpkE7WY5E",
    "vscode": {
     "languageId": "r"
    }
   },
   "outputs": [],
   "source": [
    "anova(mod_age_fac,mod_0,test=\"Chisq\")"
   ]
  },
  {
   "cell_type": "code",
   "execution_count": null,
   "metadata": {
    "id": "K1-4oyxDIztp",
    "vscode": {
     "languageId": "r"
    }
   },
   "outputs": [],
   "source": [
    "mod_age = glm(survived ~ I(age/10), family = binomial,data = data_con )\n",
    "summary(mod_age)\n",
    "exp(coef(mod_age))"
   ]
  },
  {
   "cell_type": "markdown",
   "metadata": {
    "id": "fL0gYJp4YNbG"
   },
   "source": [
    "Question:\n",
    "\n",
    "* With increasing age by 10 years, chance to survive decreased by 11%. \n",
    "\n",
    "* What do you think about causality in this result?"
   ]
  },
  {
   "cell_type": "code",
   "execution_count": null,
   "metadata": {
    "id": "I-xGC5yNIzwd",
    "vscode": {
     "languageId": "r"
    }
   },
   "outputs": [],
   "source": [
    "anova(mod_age,mod_0,test=\"Chisq\")"
   ]
  },
  {
   "cell_type": "markdown",
   "metadata": {
    "id": "yGWlCERLZoxl"
   },
   "source": [
    "Question:\n",
    "\n",
    "* Can we compare by deviance test models `mod_age` and `mod_age_fac`?\n",
    "* Which model do you prefere and why?\n",
    "* For which approach (factorized or continuous) saturated model is useful and why?\n"
   ]
  },
  {
   "cell_type": "code",
   "execution_count": null,
   "metadata": {
    "id": "eM2WYaTyIzzD",
    "vscode": {
     "languageId": "r"
    }
   },
   "outputs": [],
   "source": [
    "#mod_sat_fac = glm(survived ~ sex*age*embarked*class, family = binomial,data = (data_con %>% mutate(age= as.factor(age), fare = as.factor(fare)) ))\n",
    "#summary(mod_sat_fac)"
   ]
  },
  {
   "cell_type": "code",
   "execution_count": null,
   "metadata": {
    "id": "sNhOXHGsIz1w",
    "vscode": {
     "languageId": "r"
    }
   },
   "outputs": [],
   "source": []
  },
  {
   "cell_type": "code",
   "execution_count": null,
   "metadata": {
    "id": "BjhoEQb7Iz4i",
    "vscode": {
     "languageId": "r"
    }
   },
   "outputs": [],
   "source": []
  },
  {
   "cell_type": "markdown",
   "metadata": {
    "id": "aHoKBY8sbD2i"
   },
   "source": [
    "Your turn:\n",
    "\n",
    "Consider a model with continuos variables `age`, `fare`, and any factor variable. \n",
    "\n",
    "* Create factor `child`, which takes values 1 (child) and 0 (adult).\n",
    "* Create factor from varaible `fare`, where each level break is by 10 pounds.\n",
    "* Estimate a model, where the chance of survival depends on factorized `fare` and `sex` and `child`.\n",
    "* What percentage is the chance of survival lower for adult compare to child? \n",
    "* Depends the probability of survival on fare? Test it.\n",
    "* Assume that the chance of survival increases with exponential increasig fare. How the chance of survival increased if the person spent an extra 10 pound for a ticket? \n",
    "* Build a model where the probabilty of survival depends on both `age` and `fare`. Are both covariates significant?\n",
    "* "
   ]
  },
  {
   "cell_type": "code",
   "execution_count": null,
   "metadata": {
    "id": "piHSJCMXmD_b",
    "vscode": {
     "languageId": "r"
    }
   },
   "outputs": [],
   "source": []
  },
  {
   "cell_type": "code",
   "execution_count": null,
   "metadata": {
    "id": "aJdoeBs6mECT",
    "vscode": {
     "languageId": "r"
    }
   },
   "outputs": [],
   "source": []
  },
  {
   "cell_type": "code",
   "execution_count": null,
   "metadata": {
    "id": "OUJpeS9hmEFJ",
    "vscode": {
     "languageId": "r"
    }
   },
   "outputs": [],
   "source": []
  },
  {
   "cell_type": "markdown",
   "metadata": {
    "id": "Ajs79iDemE_F"
   },
   "source": [
    "Next Exercises (8 and 9):\n",
    "\n",
    "* Logistic regression and binary classification (ROC, accuracy, ...)\n",
    "* Residual analysis\n",
    "* Prediction and confidence intervals\n",
    "* Logistic regression and ML approach\n",
    "\n"
   ]
  },
  {
   "cell_type": "code",
   "execution_count": null,
   "metadata": {
    "id": "4cZJroCQmEIu",
    "vscode": {
     "languageId": "r"
    }
   },
   "outputs": [],
   "source": []
  }
 ],
 "metadata": {
  "colab": {
   "collapsed_sections": [],
   "include_colab_link": true,
   "name": "01ZLMA_ex07_Binary_Data_1.ipynb",
   "private_outputs": true,
   "provenance": []
  },
  "kernelspec": {
   "display_name": "Python 3",
   "language": "python",
   "name": "python3"
  },
  "language_info": {
   "codemirror_mode": {
    "name": "ipython",
    "version": 3
   },
   "file_extension": ".py",
   "mimetype": "text/x-python",
   "name": "python",
   "nbconvert_exporter": "python",
   "pygments_lexer": "ipython3",
   "version": "3.9.1"
  }
 },
 "nbformat": 4,
 "nbformat_minor": 1
}
