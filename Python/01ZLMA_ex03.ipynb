{
 "cells": [
  {
   "cell_type": "markdown",
   "metadata": {
    "colab_type": "text",
    "id": "view-in-github"
   },
   "source": [
    "<a href=\"https://colab.research.google.com/github/Many98/GLM_R2Py/blob/main/Python/01ZLMA_ex03.ipynb\" target=\"_parent\"><img src=\"https://colab.research.google.com/assets/colab-badge.svg\" alt=\"Open In Colab\"/></a>"
   ]
  },
  {
   "cell_type": "markdown",
   "metadata": {
    "id": "x-i6MbNFm4Zt"
   },
   "source": [
    "# 01ZLMA - Exercise 03\n",
    "Exercise 03 of the course 01ZLMA. \n",
    "\n",
    "## Contents\n",
    "\n",
    "* Statistical Inference\n",
    " ---\n",
    "* Testing\n",
    " ---\n",
    "\n",
    "\n"
   ]
  },
  {
   "cell_type": "markdown",
   "metadata": {
    "id": "593Mg4ZbbeEE"
   },
   "source": [
    "#  Necessary theory recap from Lecture 04\n",
    "\n",
    "Under the conditions of regularity holds\n",
    "\n",
    "1.  $ \\ U(\\beta) \\sim N_{p}(0,I(\\beta)) \\Rightarrow  I^{-\\frac{1}{2}}(\\beta)\\, U(\\beta) {\\stackrel{D}{\\longrightarrow}} N_{p}(0, 1)$\n",
    "2. $ U(\\beta)I^{-1}(\\beta)U(\\beta)\\sim \\chi^{2}(p) \\Rightarrow U(\\beta)^T I^{-1}(\\beta)U(\\beta)  {\\stackrel{D}{\\longrightarrow}} \\chi^{2}(p)$\n",
    "3. Consistency of $\\hat{\\beta}$ and Wald statistics: \\\\\n",
    " $\\hat{\\beta}\\sim N_{p}(\\beta,I^{-1}(\\beta)) \\Rightarrow\n",
    "(\\hat{\\beta}-\\beta)^T I(\\beta)(\\hat{\\beta}-\\beta) {\\stackrel{D}{\\longrightarrow}} \\chi^{2}(p)$\n",
    "\n"
   ]
  },
  {
   "cell_type": "markdown",
   "metadata": {
    "id": "w2c7jDIXSGGL"
   },
   "source": [
    "Saturated and null model\n",
    "\n",
    "* Null model: $\\mu_i = \\mu, \\forall i \\in \\{1, \\ldots , n\\}$ \\\\\n",
    "The Null Model assumes one parameter for all of the data points, which means you only estimate 1 parameter. \n",
    "* Saturated model: $Y_i = \\hat{\\mu_i}, \\forall i \\in \\{1, \\ldots , n\\}$ \\\\\n",
    "The Saturated Model is a model that assumes each data point has its own parameters, which means you have n parameters to estimate.\n",
    "* Proposed Model:  model, where you try to explain your data points with $p$ parameters + an intercept term, so you have p+1 parameters, where $1 \\leq p \\leq n$.\n",
    "\n",
    "Questions:\n",
    "* What is the difference between null and saturated model?\n",
    "* Which model has greater log-likelihoood value?\n",
    "* Which model has the highest log-likelihood value?\n",
    "* What can you say about asymptotic distributions of $\\hat{\\beta}$ and $U(\\hat{\\beta})$ for saturated model?"
   ]
  },
  {
   "cell_type": "markdown",
   "metadata": {
    "id": "um9ho8cQHobx"
   },
   "source": [
    "## Let's code "
   ]
  },
  {
   "cell_type": "code",
   "execution_count": 38,
   "metadata": {},
   "outputs": [],
   "source": [
    "import numpy as np\n",
    "import scipy\n",
    "from scipy import stats\n",
    "\n",
    "import statsmodels.api as sm\n",
    "import statsmodels.formula.api as smf\n",
    "import sklearn\n",
    "\n",
    "import matplotlib.pyplot as plt\n",
    "import seaborn as sns\n",
    "from statsmodels.graphics.api import abline_plot\n",
    "\n",
    "import pandas as pd\n",
    "\n",
    "from helpers import DiagnosticPlots, Anova\n",
    "\n",
    "sns.set_theme()"
   ]
  },
  {
   "cell_type": "markdown",
   "metadata": {
    "id": "L-kZTsg7FZoM"
   },
   "source": [
    "Use Example 2 from the last Exercise 02"
   ]
  },
  {
   "cell_type": "code",
   "execution_count": 2,
   "metadata": {},
   "outputs": [],
   "source": [
    "n  = 20 # n observations\n",
    "m  = 2 # m parameters to estimate\n",
    "X1 = np.ones((n*m,))  # Intercept\n",
    "X2 = np.array([i for i in range(1, n+1)] * m) # Regressors\n",
    "X = np.vstack([X1, np.log(X2)]).T # design matrix\n",
    "beta = np.array([0.9, 1.3]) # Regression coefficients\n",
    "lamdas = np.exp(X @ beta) # Means\n",
    "Y = np.random.poisson(lamdas, n*m) # Response variable with Poisson distribution"
   ]
  },
  {
   "cell_type": "code",
   "execution_count": 39,
   "metadata": {
    "id": "jU_eFKcbWMUy"
   },
   "outputs": [
    {
     "name": "stdout",
     "output_type": "stream",
     "text": [
      "                 Generalized Linear Model Regression Results                  \n",
      "==============================================================================\n",
      "Dep. Variable:                      y   No. Observations:                   40\n",
      "Model:                            GLM   Df Residuals:                       38\n",
      "Model Family:                 Poisson   Df Model:                            1\n",
      "Link Function:                    Log   Scale:                          1.0000\n",
      "Method:                          IRLS   Log-Likelihood:                -127.31\n",
      "Date:                Wed, 07 Sep 2022   Deviance:                       36.912\n",
      "Time:                        18:18:03   Pearson chi2:                     36.3\n",
      "No. Iterations:                     5   Pseudo R-squ. (CS):              1.000\n",
      "Covariance Type:            nonrobust                                         \n",
      "==============================================================================\n",
      "                 coef    std err          z      P>|z|      [0.025      0.975]\n",
      "------------------------------------------------------------------------------\n",
      "const          0.7537      0.132      5.701      0.000       0.495       1.013\n",
      "x1             1.3559      0.050     26.972      0.000       1.257       1.454\n",
      "==============================================================================\n",
      "estimated params are:[0.7537222  1.35585615]\n",
      "fitted values are:[  2.12489459   5.4386456    9.42421479  13.92015687  18.83823309\n",
      "  24.12117976  29.72821008  35.62849677  41.79775548  48.21626171\n",
      "  54.86761243  61.73790878  68.81519267  76.08904458  83.55028803\n",
      "  91.190767    99.00317486 106.98092051 115.11802194 123.40902047\n",
      "   2.12489459   5.4386456    9.42421479  13.92015687  18.83823309\n",
      "  24.12117976  29.72821008  35.62849677  41.79775548  48.21626171\n",
      "  54.86761243  61.73790878  68.81519267  76.08904458  83.55028803\n",
      "  91.190767    99.00317486 106.98092051 115.11802194 123.40902047]\n"
     ]
    },
    {
     "data": {
      "image/png": "[encoded data removed]",
      "text/plain": [
       "<Figure size 640x480 with 1 Axes>"
      ]
     },
     "metadata": {},
     "output_type": "display_data"
    }
   ],
   "source": [
    "# to create models we can use standard api or formula (r-like) api in statsmodels\n",
    "# formula api requires dataset (pandas) and formula\n",
    "d = pd.DataFrame(data={'Y': Y, 'X1': X1, 'X2':X2})\n",
    "#model = smf.glm(formula='Y~np.log(X2)', data=d, family=sm.families.Poisson()).fit()\n",
    "\n",
    "# standard api requires specifying endog (response) and exog (explanatory) design matrices\n",
    "model = sm.GLM(endog=Y, exog=X, family=sm.families.Poisson()).fit()\n",
    "print(model.summary())\n",
    "\n",
    "beta_e = model.params; print(f'estimated params are:{beta_e}')\n",
    "y_hat = model.predict(); print(f'fitted values are:{y_hat}')\n",
    "\n",
    "fig, ax = plt.subplots()\n",
    "ax.scatter(X2, Y, color='red', marker='o')\n",
    "ax.plot(np.unique(y_hat), color='blue')\n",
    "ax.set_title('Poisson model')\n",
    "ax.set_xlabel('Year Quoter')\n",
    "ax.set_ylabel('Number of cases')\n",
    "plt.show()"
   ]
  },
  {
   "cell_type": "markdown",
   "metadata": {
    "id": "3N8x-oi3HAKK"
   },
   "source": [
    "Repetition using custom function:"
   ]
  },
  {
   "cell_type": "code",
   "execution_count": 4,
   "metadata": {},
   "outputs": [],
   "source": [
    "# function to calcualate weights W\n",
    "def calc_W_inv(X, beta):\n",
    "    return np.diag(np.exp(X @ beta))"
   ]
  },
  {
   "cell_type": "code",
   "execution_count": 5,
   "metadata": {
    "id": "xcA9wuh1WMtL"
   },
   "outputs": [],
   "source": [
    "# function to calcualate weights Z\n",
    "def calc_Z(X,Y,beta):\n",
    "    return X@beta + (Y - np.exp(X@beta)) / np.exp(X@beta)"
   ]
  },
  {
   "cell_type": "code",
   "execution_count": 6,
   "metadata": {
    "id": "igkUvl36XAGV"
   },
   "outputs": [],
   "source": [
    "# IWLS for example 2\n",
    "\n",
    "def IWLS(X,Y,beta_init,maxiter,epsilon):\n",
    "    res = {'FM': None, 'SV': None, 'betas': None}\n",
    "    # Fisher-scoring algorithm\n",
    "    i = 1     # first iteration\n",
    "\n",
    "    beta_i = beta_init\n",
    "    \n",
    "    while i <= maxiter:\n",
    "        W = calc_W_inv(X,beta_i)\n",
    "        Z = calc_Z(X,Y,beta_i)\n",
    "        beta_pred = beta_i\n",
    "        beta_i = np.linalg.solve(X.T@W@X, X.T@W@Z)\n",
    "        diff = np.max(np.abs(beta_i - beta_pred))\n",
    "        if diff < epsilon:\n",
    "            break\n",
    "        W = calc_W_inv(X, beta_i)\n",
    "        Z = calc_Z(X, Y, beta_i)\n",
    "\n",
    "        res['SV'] = X.T@W@Z\n",
    "        res['FM'] = X.T@W@X\n",
    "        res['betas'] = np.linalg.solve(X.T@W@X, X.T@W@Z)\n",
    "        i += 1\n",
    "    return res"
   ]
  },
  {
   "cell_type": "code",
   "execution_count": 7,
   "metadata": {
    "id": "1VDw0-mqZF7x"
   },
   "outputs": [
    {
     "name": "stdout",
     "output_type": "stream",
     "text": [
      "Estimation of parameters: [1.01351784 1.25032005]\n",
      "Estimated Fisher information matrix: [[ 2191.          5644.66779613]\n",
      " [ 5644.66779613 14968.67363722]]\n",
      "Estimated covariance matrix: [[ 0.01602488 -0.00604296]\n",
      " [-0.00604296  0.0023456 ]]\n"
     ]
    }
   ],
   "source": [
    "# Estimation of betas\n",
    "result1 = IWLS(X,Y,np.ones(2),100,10^(-6))\n",
    "print(f'Estimation of parameters: {result1[\"betas\"]}')      # Estimation of parameters\n",
    "print(f'Estimated Fisher information matrix: {result1[\"FM\"]}')        # Estimated Fisher information matrix\n",
    "print(f'Estimated covariance matrix: {np.linalg.inv(result1[\"FM\"])}')  # Estimated covariance matrix  = Inverse of estimated Fisher information matrix\n"
   ]
  },
  {
   "cell_type": "markdown",
   "metadata": {
    "id": "PEUlAqmFH_mB"
   },
   "source": [
    "Comparison of our custom solution with the built in glm function:"
   ]
  },
  {
   "cell_type": "code",
   "execution_count": 8,
   "metadata": {
    "id": "6E-UbtQQXALw"
   },
   "outputs": [
    {
     "name": "stdout",
     "output_type": "stream",
     "text": [
      "                 Generalized Linear Model Regression Results                  \n",
      "==============================================================================\n",
      "Dep. Variable:                      y   No. Observations:                   40\n",
      "Model:                            GLM   Df Residuals:                       38\n",
      "Model Family:                 Poisson   Df Model:                            1\n",
      "Link Function:                    Log   Scale:                          1.0000\n",
      "Method:                          IRLS   Log-Likelihood:                -132.52\n",
      "Date:                Wed, 07 Sep 2022   Deviance:                       45.532\n",
      "Time:                        18:05:24   Pearson chi2:                     44.2\n",
      "No. Iterations:                     5   Pseudo R-squ. (CS):              1.000\n",
      "Covariance Type:            nonrobust                                         \n",
      "==============================================================================\n",
      "                 coef    std err          z      P>|z|      [0.025      0.975]\n",
      "------------------------------------------------------------------------------\n",
      "const          1.0135      0.127      8.006      0.000       0.765       1.262\n",
      "x1             1.2503      0.048     25.816      0.000       1.155       1.345\n",
      "==============================================================================\n",
      "estimated covariance matrix [[ 0.01602485 -0.00604295]\n",
      " [-0.00604295  0.0023456 ]]\n"
     ]
    }
   ],
   "source": [
    "print(model.summary())\n",
    "\n",
    "# the unscaled (dispersion = 1) estimated covariance matrix of the estimated coefficients.\n",
    "FIM1 = model.cov_params()\n",
    "print(f'estimated covariance matrix {FIM1}')"
   ]
  },
  {
   "cell_type": "code",
   "execution_count": 9,
   "metadata": {},
   "outputs": [
    {
     "name": "stdout",
     "output_type": "stream",
     "text": [
      "aic\n",
      "bic\n",
      "bic_deviance\n",
      "bic_llf\n",
      "bse\n",
      "conf_int\n",
      "converged\n",
      "cov_kwds\n",
      "cov_params\n",
      "cov_type\n",
      "deviance\n",
      "df_model\n",
      "df_resid\n",
      "f_test\n",
      "family\n",
      "fit_history\n",
      "fittedvalues\n",
      "get_hat_matrix_diag\n",
      "get_influence\n",
      "get_prediction\n",
      "info_criteria\n",
      "initialize\n",
      "k_constant\n",
      "llf\n",
      "llf_scaled\n",
      "llnull\n",
      "load\n",
      "method\n",
      "mle_settings\n",
      "model\n",
      "mu\n",
      "nobs\n",
      "normalized_cov_params\n",
      "null\n",
      "null_deviance\n",
      "params\n",
      "pearson_chi2\n",
      "plot_added_variable\n",
      "plot_ceres_residuals\n",
      "plot_partial_residuals\n",
      "predict\n",
      "pseudo_rsquared\n",
      "pvalues\n",
      "remove_data\n",
      "resid_anscombe\n",
      "resid_anscombe_scaled\n",
      "resid_anscombe_unscaled\n",
      "resid_deviance\n",
      "resid_pearson\n",
      "resid_response\n",
      "resid_working\n",
      "save\n",
      "scale\n",
      "summary\n",
      "summary2\n",
      "t_test\n",
      "t_test_pairwise\n",
      "tvalues\n",
      "use_t\n",
      "wald_test\n",
      "wald_test_terms\n"
     ]
    }
   ],
   "source": [
    "# to find out what params has `model` object\n",
    "for attr in dir(model):\n",
    "    if not attr.startswith('_'):\n",
    "        print(attr)"
   ]
  },
  {
   "cell_type": "markdown",
   "metadata": {
    "id": "q7vo_sJaOFiL"
   },
   "source": [
    "Asymptotics:\n",
    "\n",
    "* $ (\\hat{\\beta} - \\beta) \\sim N_{p}(0, I^{-1}(\\beta))$ \n",
    "* Estimated Fisher information matrix  $\\hat{I}(\\hat{\\beta}) = (X^T \\hat{W} X)$  matrix.\n",
    "*  Estimated covariance matrix $\\hat{V} (\\hat{\\beta}) = (X^T \\hat{W} X)^{-1}$ "
   ]
  },
  {
   "cell_type": "code",
   "execution_count": 10,
   "metadata": {
    "id": "kB52Ef03Z7uO"
   },
   "outputs": [],
   "source": [
    "n = 10\n",
    "repet = 50\n",
    "n_observ = np.array([1,2,5,10,100, 500])\n",
    "betas_hat = np.zeros((6, repet, 2))\n",
    "\n",
    "for _, i in enumerate(n_observ):\n",
    "    for j in range(repet):\n",
    "        X1 = np.ones((n*i,))\n",
    "        X2 = np.array([i for i in range(1, n+1)]*i)\n",
    "        X  = np.vstack([X1, np.log(X2)]).T\n",
    "        beta = np.array([0.9, 1.3]) # Regression coefficients\n",
    "        lamdas = np.exp(X @ beta) # Means\n",
    "        Y = np.random.poisson(lamdas, n*i)\n",
    "        betas_hat[_, j] = sm.GLM(endog=Y, exog=X, family=sm.families.Poisson()).fit().params\n"
   ]
  },
  {
   "cell_type": "code",
   "execution_count": 11,
   "metadata": {
    "id": "nkafuLnXZ7xG"
   },
   "outputs": [
    {
     "name": "stdout",
     "output_type": "stream",
     "text": [
      "Number of observations: 10\n",
      "[[ 0.06385456 -0.03247057]\n",
      " [-0.03247057  0.01756642]]\n",
      "-0.010435365177580475\n",
      "Number of observations: 20\n",
      "[[ 0.05071808 -0.02432054]\n",
      " [-0.02432054  0.01217603]]\n",
      "-0.006281523971224822\n",
      "Number of observations: 50\n",
      "[[ 0.01679255 -0.00834759]\n",
      " [-0.00834759  0.00435579]]\n",
      "-0.007320489178406913\n",
      "Number of observations: 100\n",
      "[[ 0.00992265 -0.00517053]\n",
      " [-0.00517053  0.0027877 ]]\n",
      "-0.004459551155860604\n",
      "Number of observations: 1000\n",
      "[[ 0.001044   -0.00050899]\n",
      " [-0.00050899  0.00026069]]\n",
      "0.0009750449695842245\n",
      "Number of observations: 5000\n",
      "[[ 1.96034306e-04 -9.49096428e-05]\n",
      " [-9.49096428e-05  4.81948079e-05]]\n",
      "-0.0004784045858094488\n"
     ]
    }
   ],
   "source": [
    "\n",
    "for i in range(len(n_observ)):\n",
    "    print(f\"Number of observations: {n_observ[i]*n}\")\n",
    "    print(np.cov((betas_hat[i] - beta).T))\n",
    "    print(np.mean(betas_hat[i] - beta))"
   ]
  },
  {
   "cell_type": "markdown",
   "metadata": {
    "id": "2TjcOg79UPRM"
   },
   "source": [
    "## Hypothesis testing\n",
    "\n",
    "Use the model from the beginning again."
   ]
  },
  {
   "cell_type": "code",
   "execution_count": 12,
   "metadata": {
    "id": "8rwWB0Grrmnt"
   },
   "outputs": [],
   "source": [
    "n  = 20\n",
    "m  = 2\n",
    "\n",
    "X1 = np.ones((n*m,))\n",
    "X2 = np.array([i for i in range(1, n+1)]*m)\n",
    "X  = np.vstack([X1, np.log(X2)]).T\n",
    "beta = np.array([0.9, 1.3]) # Regression coefficients\n",
    "lamdas = np.exp(X @ beta) # Means\n",
    "Y = np.random.poisson(lamdas, n*m)\n",
    "\n"
   ]
  },
  {
   "cell_type": "code",
   "execution_count": 13,
   "metadata": {
    "id": "2opFFdr0UfhS"
   },
   "outputs": [
    {
     "name": "stdout",
     "output_type": "stream",
     "text": [
      "                 Generalized Linear Model Regression Results                  \n",
      "==============================================================================\n",
      "Dep. Variable:                      y   No. Observations:                   40\n",
      "Model:                            GLM   Df Residuals:                       38\n",
      "Model Family:                 Poisson   Df Model:                            1\n",
      "Link Function:                    Log   Scale:                          1.0000\n",
      "Method:                          IRLS   Log-Likelihood:                -127.31\n",
      "Date:                Wed, 07 Sep 2022   Deviance:                       36.912\n",
      "Time:                        18:05:25   Pearson chi2:                     36.3\n",
      "No. Iterations:                     5   Pseudo R-squ. (CS):              1.000\n",
      "Covariance Type:            nonrobust                                         \n",
      "==============================================================================\n",
      "                 coef    std err          z      P>|z|      [0.025      0.975]\n",
      "------------------------------------------------------------------------------\n",
      "const          0.7537      0.132      5.701      0.000       0.495       1.013\n",
      "x1             1.3559      0.050     26.972      0.000       1.257       1.454\n",
      "==============================================================================\n",
      "estimated covariance matrix [[ 0.01747906 -0.00655967]\n",
      " [-0.00655967  0.00252688]]\n"
     ]
    }
   ],
   "source": [
    "model = sm.GLM(endog=Y, exog=X, family=sm.families.Poisson()).fit()\n",
    "print(model.summary())\n",
    "\n",
    "# the unscaled (dispersion = 1) estimated covariance matrix of the estimated coefficients.\n",
    "FIM1 = model.cov_params()\n",
    "print(f'estimated covariance matrix {FIM1}')\n"
   ]
  },
  {
   "cell_type": "markdown",
   "metadata": {
    "id": "aR3DTTTWV94T"
   },
   "source": [
    "Calculation of Z value\n",
    " $$Z_i = \\frac{\\hat{\\beta_i}}{(I^{-1}(\\hat{\\beta_i}))_{ii}}$$"
   ]
  },
  {
   "cell_type": "code",
   "execution_count": 14,
   "metadata": {
    "id": "lv8guvybUK-E"
   },
   "outputs": [
    {
     "data": {
      "text/html": [
       "<table class=\"simpletable\">\n",
       "<caption>Generalized Linear Model Regression Results</caption>\n",
       "<tr>\n",
       "  <th>Dep. Variable:</th>           <td>y</td>        <th>  No. Observations:  </th>  <td>    40</td> \n",
       "</tr>\n",
       "<tr>\n",
       "  <th>Model:</th>                  <td>GLM</td>       <th>  Df Residuals:      </th>  <td>    38</td> \n",
       "</tr>\n",
       "<tr>\n",
       "  <th>Model Family:</th>         <td>Poisson</td>     <th>  Df Model:          </th>  <td>     1</td> \n",
       "</tr>\n",
       "<tr>\n",
       "  <th>Link Function:</th>          <td>Log</td>       <th>  Scale:             </th> <td>  1.0000</td>\n",
       "</tr>\n",
       "<tr>\n",
       "  <th>Method:</th>                <td>IRLS</td>       <th>  Log-Likelihood:    </th> <td> -127.31</td>\n",
       "</tr>\n",
       "<tr>\n",
       "  <th>Date:</th>            <td>Wed, 07 Sep 2022</td> <th>  Deviance:          </th> <td>  36.912</td>\n",
       "</tr>\n",
       "<tr>\n",
       "  <th>Time:</th>                <td>18:05:25</td>     <th>  Pearson chi2:      </th>  <td>  36.3</td> \n",
       "</tr>\n",
       "<tr>\n",
       "  <th>No. Iterations:</th>          <td>5</td>        <th>  Pseudo R-squ. (CS):</th>  <td> 1.000</td> \n",
       "</tr>\n",
       "<tr>\n",
       "  <th>Covariance Type:</th>     <td>nonrobust</td>    <th>                     </th>     <td> </td>   \n",
       "</tr>\n",
       "</table>\n",
       "<table class=\"simpletable\">\n",
       "<tr>\n",
       "    <td></td>       <th>coef</th>     <th>std err</th>      <th>z</th>      <th>P>|z|</th>  <th>[0.025</th>    <th>0.975]</th>  \n",
       "</tr>\n",
       "<tr>\n",
       "  <th>const</th> <td>    0.7537</td> <td>    0.132</td> <td>    5.701</td> <td> 0.000</td> <td>    0.495</td> <td>    1.013</td>\n",
       "</tr>\n",
       "<tr>\n",
       "  <th>x1</th>    <td>    1.3559</td> <td>    0.050</td> <td>   26.972</td> <td> 0.000</td> <td>    1.257</td> <td>    1.454</td>\n",
       "</tr>\n",
       "</table>"
      ],
      "text/plain": [
       "<class 'statsmodels.iolib.summary.Summary'>\n",
       "\"\"\"\n",
       "                 Generalized Linear Model Regression Results                  \n",
       "==============================================================================\n",
       "Dep. Variable:                      y   No. Observations:                   40\n",
       "Model:                            GLM   Df Residuals:                       38\n",
       "Model Family:                 Poisson   Df Model:                            1\n",
       "Link Function:                    Log   Scale:                          1.0000\n",
       "Method:                          IRLS   Log-Likelihood:                -127.31\n",
       "Date:                Wed, 07 Sep 2022   Deviance:                       36.912\n",
       "Time:                        18:05:25   Pearson chi2:                     36.3\n",
       "No. Iterations:                     5   Pseudo R-squ. (CS):              1.000\n",
       "Covariance Type:            nonrobust                                         \n",
       "==============================================================================\n",
       "                 coef    std err          z      P>|z|      [0.025      0.975]\n",
       "------------------------------------------------------------------------------\n",
       "const          0.7537      0.132      5.701      0.000       0.495       1.013\n",
       "x1             1.3559      0.050     26.972      0.000       1.257       1.454\n",
       "==============================================================================\n",
       "\"\"\""
      ]
     },
     "execution_count": 14,
     "metadata": {},
     "output_type": "execute_result"
    }
   ],
   "source": [
    "# Testing statistics from summary table\n",
    "model.summary()\n",
    "\n",
    " "
   ]
  },
  {
   "cell_type": "code",
   "execution_count": 15,
   "metadata": {
    "id": "dNjECz1FNw_c"
   },
   "outputs": [
    {
     "name": "stdout",
     "output_type": "stream",
     "text": [
      "[ 5.70101655 26.97248748]\n"
     ]
    },
    {
     "data": {
      "text/plain": [
       "array([ True,  True])"
      ]
     },
     "execution_count": 15,
     "metadata": {},
     "output_type": "execute_result"
    }
   ],
   "source": [
    "# By definition\n",
    "\n",
    "z_stat = model.params / np.sqrt(np.diag(model.cov_params()))\n",
    "print(z_stat)\n",
    "z_stat == model.tvalues"
   ]
  },
  {
   "cell_type": "code",
   "execution_count": 16,
   "metadata": {
    "id": "9mHfejdWULDh"
   },
   "outputs": [
    {
     "name": "stdout",
     "output_type": "stream",
     "text": [
      "pval: [1.19095071e-008 3.10836235e-160]\n"
     ]
    },
    {
     "data": {
      "text/plain": [
       "array([ True,  True])"
      ]
     },
     "execution_count": 16,
     "metadata": {},
     "output_type": "execute_result"
    }
   ],
   "source": [
    "# p-values of the test\n",
    "p_val = 2*scipy.stats.norm.sf(z_stat, loc=0, scale=1)\n",
    "print(f'pval: {p_val}')\n",
    "p_val == model.pvalues"
   ]
  },
  {
   "cell_type": "code",
   "execution_count": 17,
   "metadata": {
    "id": "7GdfbeqdYOIv"
   },
   "outputs": [
    {
     "name": "stdout",
     "output_type": "stream",
     "text": [
      "2.5% CI = 1.2573324470671414,ESTIM = 1.3558561451565374, 97.5% CI = 1.4543798432459334\n",
      "[[0.49459852 1.01284587]\n",
      " [1.25733245 1.45437984]]\n"
     ]
    }
   ],
   "source": [
    "### 100(1-alpha) confidence interval\n",
    "alpha = 0.05\n",
    "u = scipy.stats.norm.ppf(1-alpha/2,0,1)\n",
    "CI_LB = model.params[1] - u * np.sqrt(np.diag(model.cov_params())[1])\n",
    "CI_UB = model.params[1] + u * np.sqrt(np.diag(model.cov_params())[1])\n",
    "\n",
    "print(f\"2.5% CI = {CI_LB},ESTIM = {model.params[1]}, 97.5% CI = {CI_UB}\")\n",
    "\n",
    "\n",
    "# built in function\n",
    "print(model.conf_int())"
   ]
  },
  {
   "cell_type": "markdown",
   "metadata": {
    "id": "UkhFJFXceHjn"
   },
   "source": [
    "Question:\n",
    "\n",
    "* Compare hypothesis testing in LM vs. GLM"
   ]
  },
  {
   "cell_type": "markdown",
   "metadata": {
    "id": "wwXaIg0peQee"
   },
   "source": [
    "# Deviance\n",
    "\n",
    "Deviance is a measure of goodness of fit of a GLM. \n"
   ]
  },
  {
   "cell_type": "markdown",
   "metadata": {
    "id": "SjNUyZoZeStY"
   },
   "source": [
    "Log-likelihood of the saturated model is the highest possible one with given data, $\\tilde{\\mu}_i = y_i$ and $\\tilde{\\theta_i} = \\theta(y) = (b')^{-1}(y_i)$.\n",
    "$$l(\\tilde{\\mu},\\phi;y)=\\sum_{i=1}^{n}\\frac{y_{i}\\tilde{\\theta}_{i}-b(\\tilde{\\theta}_{i})}{a_{i}(\\phi)}+\\sum_{i=1}^{n}c(y_i,\\phi)$$\n",
    "\n",
    "Scale deviance statistics:\n",
    "$${S(y,\\hat{\\mu},\\phi)}=2\\left[l(\\tilde{\\mu},\\phi;y)-l(\\hat{\\mu},\\phi;y)\\right]\n",
    "=2\\sum_{i=1}^{n}\\frac{y_{i}(\\tilde{\\theta}_{i}-\\hat{\\theta}_{i})\n",
    "-\\left(b(\\tilde{\\theta}_{i})-b(\\hat{\\theta}_{i})\\right)}{a_{i}(\\phi)}.\n",
    "$$\n",
    "\n",
    "Deviance:\n",
    "Let $a_{i}(\\phi)=a_{i}\\phi$, then\n",
    "$$S(y,\\hat{\\mu},\\phi)=\\frac{D(y,\\hat{\\mu})}{\\phi},\n",
    "$$\n",
    "and\n",
    "$$\n",
    "D(y,\\hat{\\mu})=2\\sum_{i=1}^{n}\\frac{y_{i}(\\tilde{\\theta}_{i}-\\hat{\\theta}_{i})\n",
    "-\\left(b(\\tilde{\\theta}_{i})-b(\\hat{\\theta}_{i})\\right)}{a_{i}}\n",
    "$$\n",
    "\n",
    "### Comparison of two models\n",
    "\n",
    "Assume model $D_0$ with $p_0$ paramters and its sub-model $D_1$ with $p_1$ parameters, then\n",
    "$$ \\frac{1}{\\phi} (D_0 - D_1) \\sim \\chi(p_0 - p_1) $$"
   ]
  },
  {
   "cell_type": "markdown",
   "metadata": {
    "id": "qLxMlbIKeTe5"
   },
   "source": [
    "Question:\n",
    "* Can we take deviance as a measure of the model quality?\n",
    "* Can we use deviance as a measure of the saturated model quality?\n",
    "* Complete the sentence: Compare two GLMs with deviance is like compare two LMs with ..."
   ]
  },
  {
   "cell_type": "code",
   "execution_count": 18,
   "metadata": {
    "id": "5PVvXp_SpDUx"
   },
   "outputs": [
    {
     "data": {
      "text/html": [
       "<table class=\"simpletable\">\n",
       "<caption>Generalized Linear Model Regression Results</caption>\n",
       "<tr>\n",
       "  <th>Dep. Variable:</th>           <td>y</td>        <th>  No. Observations:  </th>  <td>    40</td> \n",
       "</tr>\n",
       "<tr>\n",
       "  <th>Model:</th>                  <td>GLM</td>       <th>  Df Residuals:      </th>  <td>    37</td> \n",
       "</tr>\n",
       "<tr>\n",
       "  <th>Model Family:</th>         <td>Poisson</td>     <th>  Df Model:          </th>  <td>     2</td> \n",
       "</tr>\n",
       "<tr>\n",
       "  <th>Link Function:</th>          <td>Log</td>       <th>  Scale:             </th> <td>  1.0000</td>\n",
       "</tr>\n",
       "<tr>\n",
       "  <th>Method:</th>                <td>IRLS</td>       <th>  Log-Likelihood:    </th> <td> -127.17</td>\n",
       "</tr>\n",
       "<tr>\n",
       "  <th>Date:</th>            <td>Wed, 07 Sep 2022</td> <th>  Deviance:          </th> <td>  36.640</td>\n",
       "</tr>\n",
       "<tr>\n",
       "  <th>Time:</th>                <td>18:05:25</td>     <th>  Pearson chi2:      </th>  <td>  36.1</td> \n",
       "</tr>\n",
       "<tr>\n",
       "  <th>No. Iterations:</th>          <td>6</td>        <th>  Pseudo R-squ. (CS):</th>  <td> 1.000</td> \n",
       "</tr>\n",
       "<tr>\n",
       "  <th>Covariance Type:</th>     <td>nonrobust</td>    <th>                     </th>     <td> </td>   \n",
       "</tr>\n",
       "</table>\n",
       "<table class=\"simpletable\">\n",
       "<tr>\n",
       "    <td></td>       <th>coef</th>     <th>std err</th>      <th>z</th>      <th>P>|z|</th>  <th>[0.025</th>    <th>0.975]</th>  \n",
       "</tr>\n",
       "<tr>\n",
       "  <th>const</th> <td>    0.7577</td> <td>    0.133</td> <td>    5.707</td> <td> 0.000</td> <td>    0.497</td> <td>    1.018</td>\n",
       "</tr>\n",
       "<tr>\n",
       "  <th>x1</th>    <td>    1.3630</td> <td>    0.052</td> <td>   26.088</td> <td> 0.000</td> <td>    1.261</td> <td>    1.465</td>\n",
       "</tr>\n",
       "<tr>\n",
       "  <th>x2</th>    <td>   -0.0440</td> <td>    0.084</td> <td>   -0.522</td> <td> 0.602</td> <td>   -0.209</td> <td>    0.121</td>\n",
       "</tr>\n",
       "</table>"
      ],
      "text/plain": [
       "<class 'statsmodels.iolib.summary.Summary'>\n",
       "\"\"\"\n",
       "                 Generalized Linear Model Regression Results                  \n",
       "==============================================================================\n",
       "Dep. Variable:                      y   No. Observations:                   40\n",
       "Model:                            GLM   Df Residuals:                       37\n",
       "Model Family:                 Poisson   Df Model:                            2\n",
       "Link Function:                    Log   Scale:                          1.0000\n",
       "Method:                          IRLS   Log-Likelihood:                -127.17\n",
       "Date:                Wed, 07 Sep 2022   Deviance:                       36.640\n",
       "Time:                        18:05:25   Pearson chi2:                     36.1\n",
       "No. Iterations:                     6   Pseudo R-squ. (CS):              1.000\n",
       "Covariance Type:            nonrobust                                         \n",
       "==============================================================================\n",
       "                 coef    std err          z      P>|z|      [0.025      0.975]\n",
       "------------------------------------------------------------------------------\n",
       "const          0.7577      0.133      5.707      0.000       0.497       1.018\n",
       "x1             1.3630      0.052     26.088      0.000       1.261       1.465\n",
       "x2            -0.0440      0.084     -0.522      0.602      -0.209       0.121\n",
       "==============================================================================\n",
       "\"\"\""
      ]
     },
     "execution_count": 18,
     "metadata": {},
     "output_type": "execute_result"
    }
   ],
   "source": [
    "# Add random variable to the previous model \n",
    "Z = scipy.stats.uniform.rvs(loc=0, scale=1, size=n*m)\n",
    "model_0 = sm.GLM(endog=Y, exog=np.hstack([X, Z[:, None]]), family=sm.families.Poisson()).fit()\n",
    "model_0.summary()"
   ]
  },
  {
   "cell_type": "code",
   "execution_count": 19,
   "metadata": {
    "id": "_O24NMRTPjoA"
   },
   "outputs": [
    {
     "data": {
      "text/html": [
       "<table class=\"simpletable\">\n",
       "<caption>Generalized Linear Model Regression Results</caption>\n",
       "<tr>\n",
       "  <th>Dep. Variable:</th>           <td>y</td>        <th>  No. Observations:  </th>  <td>    40</td> \n",
       "</tr>\n",
       "<tr>\n",
       "  <th>Model:</th>                  <td>GLM</td>       <th>  Df Residuals:      </th>  <td>    38</td> \n",
       "</tr>\n",
       "<tr>\n",
       "  <th>Model Family:</th>         <td>Poisson</td>     <th>  Df Model:          </th>  <td>     1</td> \n",
       "</tr>\n",
       "<tr>\n",
       "  <th>Link Function:</th>          <td>Log</td>       <th>  Scale:             </th> <td>  1.0000</td>\n",
       "</tr>\n",
       "<tr>\n",
       "  <th>Method:</th>                <td>IRLS</td>       <th>  Log-Likelihood:    </th> <td> -127.31</td>\n",
       "</tr>\n",
       "<tr>\n",
       "  <th>Date:</th>            <td>Wed, 07 Sep 2022</td> <th>  Deviance:          </th> <td>  36.912</td>\n",
       "</tr>\n",
       "<tr>\n",
       "  <th>Time:</th>                <td>18:05:25</td>     <th>  Pearson chi2:      </th>  <td>  36.3</td> \n",
       "</tr>\n",
       "<tr>\n",
       "  <th>No. Iterations:</th>          <td>5</td>        <th>  Pseudo R-squ. (CS):</th>  <td> 1.000</td> \n",
       "</tr>\n",
       "<tr>\n",
       "  <th>Covariance Type:</th>     <td>nonrobust</td>    <th>                     </th>     <td> </td>   \n",
       "</tr>\n",
       "</table>\n",
       "<table class=\"simpletable\">\n",
       "<tr>\n",
       "    <td></td>       <th>coef</th>     <th>std err</th>      <th>z</th>      <th>P>|z|</th>  <th>[0.025</th>    <th>0.975]</th>  \n",
       "</tr>\n",
       "<tr>\n",
       "  <th>const</th> <td>    0.7537</td> <td>    0.132</td> <td>    5.701</td> <td> 0.000</td> <td>    0.495</td> <td>    1.013</td>\n",
       "</tr>\n",
       "<tr>\n",
       "  <th>x1</th>    <td>    1.3559</td> <td>    0.050</td> <td>   26.972</td> <td> 0.000</td> <td>    1.257</td> <td>    1.454</td>\n",
       "</tr>\n",
       "</table>"
      ],
      "text/plain": [
       "<class 'statsmodels.iolib.summary.Summary'>\n",
       "\"\"\"\n",
       "                 Generalized Linear Model Regression Results                  \n",
       "==============================================================================\n",
       "Dep. Variable:                      y   No. Observations:                   40\n",
       "Model:                            GLM   Df Residuals:                       38\n",
       "Model Family:                 Poisson   Df Model:                            1\n",
       "Link Function:                    Log   Scale:                          1.0000\n",
       "Method:                          IRLS   Log-Likelihood:                -127.31\n",
       "Date:                Wed, 07 Sep 2022   Deviance:                       36.912\n",
       "Time:                        18:05:25   Pearson chi2:                     36.3\n",
       "No. Iterations:                     5   Pseudo R-squ. (CS):              1.000\n",
       "Covariance Type:            nonrobust                                         \n",
       "==============================================================================\n",
       "                 coef    std err          z      P>|z|      [0.025      0.975]\n",
       "------------------------------------------------------------------------------\n",
       "const          0.7537      0.132      5.701      0.000       0.495       1.013\n",
       "x1             1.3559      0.050     26.972      0.000       1.257       1.454\n",
       "==============================================================================\n",
       "\"\"\""
      ]
     },
     "execution_count": 19,
     "metadata": {},
     "output_type": "execute_result"
    }
   ],
   "source": [
    "# Proposed model\n",
    "m1 = sm.GLM(endog=Y, exog=X, family=sm.families.Poisson())\n",
    "model_1 = m1.fit()\n",
    "model_1.summary()"
   ]
  },
  {
   "cell_type": "code",
   "execution_count": 20,
   "metadata": {
    "id": "WbtdZzD6Pjx6"
   },
   "outputs": [
    {
     "data": {
      "text/html": [
       "<table class=\"simpletable\">\n",
       "<caption>Generalized Linear Model Regression Results</caption>\n",
       "<tr>\n",
       "  <th>Dep. Variable:</th>           <td>y</td>        <th>  No. Observations:  </th>  <td>    40</td>  \n",
       "</tr>\n",
       "<tr>\n",
       "  <th>Model:</th>                  <td>GLM</td>       <th>  Df Residuals:      </th>  <td>    39</td>  \n",
       "</tr>\n",
       "<tr>\n",
       "  <th>Model Family:</th>         <td>Poisson</td>     <th>  Df Model:          </th>  <td>     0</td>  \n",
       "</tr>\n",
       "<tr>\n",
       "  <th>Link Function:</th>          <td>Log</td>       <th>  Scale:             </th> <td>  1.0000</td> \n",
       "</tr>\n",
       "<tr>\n",
       "  <th>Method:</th>                <td>IRLS</td>       <th>  Log-Likelihood:    </th> <td> -698.03</td> \n",
       "</tr>\n",
       "<tr>\n",
       "  <th>Date:</th>            <td>Wed, 07 Sep 2022</td> <th>  Deviance:          </th> <td>  1178.3</td> \n",
       "</tr>\n",
       "<tr>\n",
       "  <th>Time:</th>                <td>18:05:25</td>     <th>  Pearson chi2:      </th> <td>1.05e+03</td> \n",
       "</tr>\n",
       "<tr>\n",
       "  <th>No. Iterations:</th>          <td>4</td>        <th>  Pseudo R-squ. (CS):</th> <td>3.408e-14</td>\n",
       "</tr>\n",
       "<tr>\n",
       "  <th>Covariance Type:</th>     <td>nonrobust</td>    <th>                     </th>     <td> </td>    \n",
       "</tr>\n",
       "</table>\n",
       "<table class=\"simpletable\">\n",
       "<tr>\n",
       "    <td></td>       <th>coef</th>     <th>std err</th>      <th>z</th>      <th>P>|z|</th>  <th>[0.025</th>    <th>0.975]</th>  \n",
       "</tr>\n",
       "<tr>\n",
       "  <th>const</th> <td>    4.0164</td> <td>    0.021</td> <td>  189.240</td> <td> 0.000</td> <td>    3.975</td> <td>    4.058</td>\n",
       "</tr>\n",
       "</table>"
      ],
      "text/plain": [
       "<class 'statsmodels.iolib.summary.Summary'>\n",
       "\"\"\"\n",
       "                 Generalized Linear Model Regression Results                  \n",
       "==============================================================================\n",
       "Dep. Variable:                      y   No. Observations:                   40\n",
       "Model:                            GLM   Df Residuals:                       39\n",
       "Model Family:                 Poisson   Df Model:                            0\n",
       "Link Function:                    Log   Scale:                          1.0000\n",
       "Method:                          IRLS   Log-Likelihood:                -698.03\n",
       "Date:                Wed, 07 Sep 2022   Deviance:                       1178.3\n",
       "Time:                        18:05:25   Pearson chi2:                 1.05e+03\n",
       "No. Iterations:                     4   Pseudo R-squ. (CS):          3.408e-14\n",
       "Covariance Type:            nonrobust                                         \n",
       "==============================================================================\n",
       "                 coef    std err          z      P>|z|      [0.025      0.975]\n",
       "------------------------------------------------------------------------------\n",
       "const          4.0164      0.021    189.240      0.000       3.975       4.058\n",
       "==============================================================================\n",
       "\"\"\""
      ]
     },
     "execution_count": 20,
     "metadata": {},
     "output_type": "execute_result"
    }
   ],
   "source": [
    "# Null model\n",
    "\n",
    "model_n = sm.GLM(endog=Y, exog=X[:, 0], family=sm.families.Poisson()).fit()\n",
    "model_n.summary()"
   ]
  },
  {
   "cell_type": "code",
   "execution_count": 21,
   "metadata": {
    "id": "508GBQM_Pj5L"
   },
   "outputs": [
    {
     "name": "stdout",
     "output_type": "stream",
     "text": [
      "                 Generalized Linear Model Regression Results                  \n",
      "==============================================================================\n",
      "Dep. Variable:                      y   No. Observations:                   40\n",
      "Model:                            GLM   Df Residuals:                        0\n",
      "Model Family:                 Poisson   Df Model:                           39\n",
      "Link Function:                    Log   Scale:                          1.0000\n",
      "Method:                          IRLS   Log-Likelihood:                -108.85\n",
      "Date:                Wed, 07 Sep 2022   Deviance:                   3.0864e-14\n",
      "Time:                        18:05:25   Pearson chi2:                 4.60e-28\n",
      "No. Iterations:                     8   Pseudo R-squ. (CS):              1.000\n",
      "Covariance Type:            nonrobust                                         \n",
      "==============================================================================\n",
      "                 coef    std err          z      P>|z|      [0.025      0.975]\n",
      "------------------------------------------------------------------------------\n",
      "x1          8.231e-17      1.000   8.23e-17      1.000      -1.960       1.960\n",
      "x2             1.0986      0.577      1.903      0.057      -0.033       2.230\n",
      "x3             2.5649      0.277      9.248      0.000       2.021       3.109\n",
      "x4             2.6391      0.267      9.874      0.000       2.115       3.163\n",
      "x5             3.1355      0.209     15.037      0.000       2.727       3.544\n",
      "x6             3.1781      0.204     15.569      0.000       2.778       3.578\n",
      "x7             3.3673      0.186     18.133      0.000       3.003       3.731\n",
      "x8             3.6636      0.160     22.879      0.000       3.350       3.977\n",
      "x9             3.7136      0.156     23.778      0.000       3.407       4.020\n",
      "x10            3.9318      0.140     28.079      0.000       3.657       4.206\n",
      "x11            4.1897      0.123     34.037      0.000       3.948       4.431\n",
      "x12            4.3175      0.115     37.391      0.000       4.091       4.544\n",
      "x13            4.1744      0.124     33.655      0.000       3.931       4.417\n",
      "x14            4.3567      0.113     38.477      0.000       4.135       4.579\n",
      "x15            4.4067      0.110     39.905      0.000       4.190       4.623\n",
      "x16            4.3820      0.112     39.194      0.000       4.163       4.601\n",
      "x17            4.4188      0.110     40.258      0.000       4.204       4.634\n",
      "x18            4.6634      0.097     48.013      0.000       4.473       4.854\n",
      "x19            4.7095      0.095     49.618      0.000       4.523       4.896\n",
      "x20            4.9345      0.085     58.177      0.000       4.768       5.101\n",
      "x21            1.0986      0.577      1.903      0.057      -0.033       2.230\n",
      "x22            1.6094      0.447      3.599      0.000       0.733       2.486\n",
      "x23            2.3026      0.316      7.281      0.000       1.683       2.922\n",
      "x24            2.0794      0.354      5.882      0.000       1.386       2.772\n",
      "x25            2.8904      0.236     12.263      0.000       2.428       3.352\n",
      "x26            3.3322      0.189     17.632      0.000       2.962       3.703\n",
      "x27            3.0910      0.213     14.498      0.000       2.673       3.509\n",
      "x28            3.7612      0.152     24.664      0.000       3.462       4.060\n",
      "x29            3.4340      0.180     19.120      0.000       3.082       3.786\n",
      "x30            3.8712      0.144     26.820      0.000       3.588       4.154\n",
      "x31            3.8918      0.143     27.243      0.000       3.612       4.172\n",
      "x32            4.2627      0.119     35.918      0.000       4.030       4.495\n",
      "x33            4.2767      0.118     36.289      0.000       4.046       4.508\n",
      "x34            4.1897      0.123     34.037      0.000       3.948       4.431\n",
      "x35            4.5951      0.101     45.721      0.000       4.398       4.792\n",
      "x36            4.4308      0.109     40.609      0.000       4.217       4.645\n",
      "x37            4.4998      0.105     42.689      0.000       4.293       4.706\n",
      "x38            4.5539      0.103     44.386      0.000       4.353       4.755\n",
      "x39            4.8363      0.089     54.287      0.000       4.662       5.011\n",
      "x40            4.8598      0.088     55.197      0.000       4.687       5.032\n",
      "==============================================================================\n",
      "Residual deviance is: 3.086420008457887e-14\n"
     ]
    },
    {
     "name": "stderr",
     "output_type": "stream",
     "text": [
      "/media/emanuel/data/miniconda3/lib/python3.9/site-packages/statsmodels/regression/_tools.py:121: RuntimeWarning: divide by zero encountered in double_scalars\n",
      "  scale = np.dot(wresid, wresid) / df_resid\n"
     ]
    }
   ],
   "source": [
    "# Saturated model CANNOT BY OBTAINED BY STATSMODELS BY DEFAULT 'CAUSE THEY PREVENT ZERO DIVISION\n",
    "\n",
    "# BUT MY WORKAROUND WHICH PROBABLY WILL NOT WORK IN COLAB AS WE DO NOT HAVE ACCESS TO MODULES IS\n",
    "# TO COMMENT OUT ROWS 1227-1229 IN MOST RECENT VERSION \n",
    "# (SEE https://github.com/statsmodels/statsmodels/blob/main/statsmodels/genmod/generalized_linear_model.py)\n",
    "\n",
    "I = np.diag(np.ones((m*n,)))\n",
    "\n",
    "\n",
    "model_s = sm.GLM(endog=Y, exog=I, family=sm.families.Poisson()).fit()\n",
    "print(model_s.summary())\n",
    "print(f'Residual deviance is: {model_s.deviance}')\n",
    "\n"
   ]
  },
  {
   "cell_type": "markdown",
   "metadata": {
    "id": "GWfxVEHguydO"
   },
   "source": [
    "For Poisson model:\n",
    "$$D = 2 \\sum_{i=1}^n y_i log( \\frac{y_i}{\\hat{\\mu_i}})$$"
   ]
  },
  {
   "cell_type": "code",
   "execution_count": 22,
   "metadata": {
    "id": "2Dm5NQ5Jr509"
   },
   "outputs": [
    {
     "name": "stdout",
     "output_type": "stream",
     "text": [
      "36.640000834769296\n",
      "36.91242364319313\n"
     ]
    }
   ],
   "source": [
    "mu_est_0 = model_0.predict()\n",
    "mu_est_1 = model_1.predict()\n",
    "\n",
    "Dev_0 = 2*np.sum(Y*np.log(Y/mu_est_0))\n",
    "print(Dev_0)\n",
    "Dev_1 = 2*np.sum(Y*np.log(Y/mu_est_1))\n",
    "print(Dev_1)\n"
   ]
  },
  {
   "cell_type": "code",
   "execution_count": 23,
   "metadata": {},
   "outputs": [
    {
     "name": "stdout",
     "output_type": "stream",
     "text": [
      "(40, 2) 2 1\n",
      "6 1\n"
     ]
    },
    {
     "data": {
      "text/html": [
       "<div>\n",
       "<style scoped>\n",
       "    .dataframe tbody tr th:only-of-type {\n",
       "        vertical-align: middle;\n",
       "    }\n",
       "\n",
       "    .dataframe tbody tr th {\n",
       "        vertical-align: top;\n",
       "    }\n",
       "\n",
       "    .dataframe thead th {\n",
       "        text-align: right;\n",
       "    }\n",
       "</style>\n",
       "<table border=\"1\" class=\"dataframe\">\n",
       "  <thead>\n",
       "    <tr style=\"text-align: right;\">\n",
       "      <th></th>\n",
       "      <th>resid_df</th>\n",
       "      <th>resid_deviance</th>\n",
       "      <th>df</th>\n",
       "      <th>deviance</th>\n",
       "      <th>chi2</th>\n",
       "      <th>p_val</th>\n",
       "    </tr>\n",
       "  </thead>\n",
       "  <tbody>\n",
       "    <tr>\n",
       "      <th>x0</th>\n",
       "      <td>39</td>\n",
       "      <td>1178.348088</td>\n",
       "      <td>NaN</td>\n",
       "      <td>NaN</td>\n",
       "      <td>NaN</td>\n",
       "      <td>NaN</td>\n",
       "    </tr>\n",
       "    <tr>\n",
       "      <th>x1</th>\n",
       "      <td>38</td>\n",
       "      <td>36.912424</td>\n",
       "      <td>1.0</td>\n",
       "      <td>1141.435664</td>\n",
       "      <td>1141.435664</td>\n",
       "      <td>3.260089e-250</td>\n",
       "    </tr>\n",
       "  </tbody>\n",
       "</table>\n",
       "</div>"
      ],
      "text/plain": [
       "    resid_df  resid_deviance   df     deviance         chi2          p_val\n",
       "x0        39     1178.348088  NaN          NaN          NaN            NaN\n",
       "x1        38       36.912424  1.0  1141.435664  1141.435664  3.260089e-250"
      ]
     },
     "execution_count": 23,
     "metadata": {},
     "output_type": "execute_result"
    }
   ],
   "source": [
    "anova = Anova()\n",
    "anova(model_1)"
   ]
  },
  {
   "cell_type": "markdown",
   "metadata": {
    "id": "s9SuGMWFwhDM"
   },
   "source": [
    "## Anova testing \n",
    "from anova.glm?\n",
    "\n",
    "The table will optionally contain test statistics (and P values) comparing the reduction in deviance for the row to the residuals. For models with known dispersion (e.g., binomial and Poisson fits) the chi-squared test is most appropriate, and for those with dispersion estimated by moments (e.g., gaussian, quasibinomial and quasipoisson fits) the F test is most appropriate. \n",
    "\n",
    "Mallows' Cp statistic is the residual deviance plus twice the estimate of $sigma^2$ times the residual degrees of freedom, which is closely related to AIC (and a multiple of it if the dispersion is known). You can also choose \"LRT\" and \"Rao\" for likelihood ratio tests and Rao's efficient score test. The former is synonymous with \"Chisq\" (although both have an asymptotic chi-square distribution). "
   ]
  },
  {
   "cell_type": "code",
   "execution_count": 36,
   "metadata": {
    "id": "u8MegJJTsqvK"
   },
   "outputs": [
    {
     "name": "stdout",
     "output_type": "stream",
     "text": [
      "(40, 2) 2 1\n",
      "6 1\n"
     ]
    },
    {
     "data": {
      "text/html": [
       "<div>\n",
       "<style scoped>\n",
       "    .dataframe tbody tr th:only-of-type {\n",
       "        vertical-align: middle;\n",
       "    }\n",
       "\n",
       "    .dataframe tbody tr th {\n",
       "        vertical-align: top;\n",
       "    }\n",
       "\n",
       "    .dataframe thead th {\n",
       "        text-align: right;\n",
       "    }\n",
       "</style>\n",
       "<table border=\"1\" class=\"dataframe\">\n",
       "  <thead>\n",
       "    <tr style=\"text-align: right;\">\n",
       "      <th></th>\n",
       "      <th>resid_df</th>\n",
       "      <th>resid_deviance</th>\n",
       "      <th>df</th>\n",
       "      <th>deviance</th>\n",
       "      <th>chi2</th>\n",
       "      <th>p_val</th>\n",
       "    </tr>\n",
       "  </thead>\n",
       "  <tbody>\n",
       "    <tr>\n",
       "      <th>x0</th>\n",
       "      <td>39</td>\n",
       "      <td>1178.348088</td>\n",
       "      <td>NaN</td>\n",
       "      <td>NaN</td>\n",
       "      <td>NaN</td>\n",
       "      <td>NaN</td>\n",
       "    </tr>\n",
       "    <tr>\n",
       "      <th>x1</th>\n",
       "      <td>38</td>\n",
       "      <td>36.912424</td>\n",
       "      <td>1.0</td>\n",
       "      <td>1141.435664</td>\n",
       "      <td>1141.435664</td>\n",
       "      <td>3.260089e-250</td>\n",
       "    </tr>\n",
       "  </tbody>\n",
       "</table>\n",
       "</div>"
      ],
      "text/plain": [
       "    resid_df  resid_deviance   df     deviance         chi2          p_val\n",
       "x0        39     1178.348088  NaN          NaN          NaN            NaN\n",
       "x1        38       36.912424  1.0  1141.435664  1141.435664  3.260089e-250"
      ]
     },
     "metadata": {},
     "output_type": "display_data"
    },
    {
     "name": "stdout",
     "output_type": "stream",
     "text": [
      "(40, 2) 2 1\n",
      "5 1\n"
     ]
    },
    {
     "data": {
      "text/html": [
       "<div>\n",
       "<style scoped>\n",
       "    .dataframe tbody tr th:only-of-type {\n",
       "        vertical-align: middle;\n",
       "    }\n",
       "\n",
       "    .dataframe tbody tr th {\n",
       "        vertical-align: top;\n",
       "    }\n",
       "\n",
       "    .dataframe thead th {\n",
       "        text-align: right;\n",
       "    }\n",
       "</style>\n",
       "<table border=\"1\" class=\"dataframe\">\n",
       "  <thead>\n",
       "    <tr style=\"text-align: right;\">\n",
       "      <th></th>\n",
       "      <th>resid_df</th>\n",
       "      <th>resid_deviance</th>\n",
       "      <th>df</th>\n",
       "      <th>deviance</th>\n",
       "      <th>cp</th>\n",
       "    </tr>\n",
       "  </thead>\n",
       "  <tbody>\n",
       "    <tr>\n",
       "      <th>x0</th>\n",
       "      <td>39</td>\n",
       "      <td>1178.348088</td>\n",
       "      <td>NaN</td>\n",
       "      <td>NaN</td>\n",
       "      <td>1178.348088</td>\n",
       "    </tr>\n",
       "    <tr>\n",
       "      <th>x1</th>\n",
       "      <td>38</td>\n",
       "      <td>36.912424</td>\n",
       "      <td>1.0</td>\n",
       "      <td>1141.435664</td>\n",
       "      <td>38.912424</td>\n",
       "    </tr>\n",
       "  </tbody>\n",
       "</table>\n",
       "</div>"
      ],
      "text/plain": [
       "    resid_df  resid_deviance   df     deviance           cp\n",
       "x0        39     1178.348088  NaN          NaN  1178.348088\n",
       "x1        38       36.912424  1.0  1141.435664    38.912424"
      ]
     },
     "metadata": {},
     "output_type": "display_data"
    },
    {
     "name": "stdout",
     "output_type": "stream",
     "text": [
      "(40, 2) 2 1\n",
      "6 1\n"
     ]
    },
    {
     "data": {
      "text/html": [
       "<div>\n",
       "<style scoped>\n",
       "    .dataframe tbody tr th:only-of-type {\n",
       "        vertical-align: middle;\n",
       "    }\n",
       "\n",
       "    .dataframe tbody tr th {\n",
       "        vertical-align: top;\n",
       "    }\n",
       "\n",
       "    .dataframe thead th {\n",
       "        text-align: right;\n",
       "    }\n",
       "</style>\n",
       "<table border=\"1\" class=\"dataframe\">\n",
       "  <thead>\n",
       "    <tr style=\"text-align: right;\">\n",
       "      <th></th>\n",
       "      <th>resid_df</th>\n",
       "      <th>resid_deviance</th>\n",
       "      <th>df</th>\n",
       "      <th>deviance</th>\n",
       "      <th>chi2</th>\n",
       "      <th>p_val</th>\n",
       "    </tr>\n",
       "  </thead>\n",
       "  <tbody>\n",
       "    <tr>\n",
       "      <th>x0</th>\n",
       "      <td>39</td>\n",
       "      <td>1178.348088</td>\n",
       "      <td>NaN</td>\n",
       "      <td>NaN</td>\n",
       "      <td>NaN</td>\n",
       "      <td>NaN</td>\n",
       "    </tr>\n",
       "    <tr>\n",
       "      <th>x1</th>\n",
       "      <td>38</td>\n",
       "      <td>36.912424</td>\n",
       "      <td>1.0</td>\n",
       "      <td>1141.435664</td>\n",
       "      <td>1141.435664</td>\n",
       "      <td>3.260089e-250</td>\n",
       "    </tr>\n",
       "  </tbody>\n",
       "</table>\n",
       "</div>"
      ],
      "text/plain": [
       "    resid_df  resid_deviance   df     deviance         chi2          p_val\n",
       "x0        39     1178.348088  NaN          NaN          NaN            NaN\n",
       "x1        38       36.912424  1.0  1141.435664  1141.435664  3.260089e-250"
      ]
     },
     "metadata": {},
     "output_type": "display_data"
    },
    {
     "name": "stdout",
     "output_type": "stream",
     "text": [
      "6 1\n"
     ]
    },
    {
     "name": "stderr",
     "output_type": "stream",
     "text": [
      "/home/emanuel/Documents/Matematika/ZobecneneLinearneModely/01ZLMA/Python/helpers.py:174: UserWarning: Note that rao score statistic may be inccorect. Currently it is Generalized Pearson statistic\n",
      "  warnings.warn(\"Note that rao score statistic may be inccorect. Currently it is Generalized Pearson statistic\")\n"
     ]
    },
    {
     "data": {
      "text/html": [
       "<div>\n",
       "<style scoped>\n",
       "    .dataframe tbody tr th:only-of-type {\n",
       "        vertical-align: middle;\n",
       "    }\n",
       "\n",
       "    .dataframe tbody tr th {\n",
       "        vertical-align: top;\n",
       "    }\n",
       "\n",
       "    .dataframe thead th {\n",
       "        text-align: right;\n",
       "    }\n",
       "</style>\n",
       "<table border=\"1\" class=\"dataframe\">\n",
       "  <thead>\n",
       "    <tr style=\"text-align: right;\">\n",
       "      <th></th>\n",
       "      <th>resid_df</th>\n",
       "      <th>resid_deviance</th>\n",
       "      <th>df</th>\n",
       "      <th>deviance</th>\n",
       "      <th>rao</th>\n",
       "      <th>p_val</th>\n",
       "    </tr>\n",
       "  </thead>\n",
       "  <tbody>\n",
       "    <tr>\n",
       "      <th>0</th>\n",
       "      <td>38</td>\n",
       "      <td>36.912424</td>\n",
       "      <td>NaN</td>\n",
       "      <td>NaN</td>\n",
       "      <td>NaN</td>\n",
       "      <td>NaN</td>\n",
       "    </tr>\n",
       "    <tr>\n",
       "      <th>1</th>\n",
       "      <td>37</td>\n",
       "      <td>36.640001</td>\n",
       "      <td>1.0</td>\n",
       "      <td>0.272423</td>\n",
       "      <td>0.134363</td>\n",
       "      <td>0.713951</td>\n",
       "    </tr>\n",
       "  </tbody>\n",
       "</table>\n",
       "</div>"
      ],
      "text/plain": [
       "   resid_df  resid_deviance   df  deviance       rao     p_val\n",
       "0        38       36.912424  NaN       NaN       NaN       NaN\n",
       "1        37       36.640001  1.0  0.272423  0.134363  0.713951"
      ]
     },
     "metadata": {},
     "output_type": "display_data"
    },
    {
     "name": "stdout",
     "output_type": "stream",
     "text": [
      "6 1\n",
      "   resid_df  resid_deviance   df  deviance      chi2     p_val\n",
      "0        38       36.912424  NaN       NaN       NaN       NaN\n",
      "1        37       36.640001  1.0  0.272423  0.272423  0.601711\n"
     ]
    }
   ],
   "source": [
    "display(anova(model_1))\n",
    "display(anova(model_1, test = \"Cp\"))\n",
    "display(anova(model_1, test = \"Chisq\"))\n",
    "\n",
    "display(anova(model_1, model_0, test = \"Rao\"))  # TODO Needs correct formula\n",
    "print(anova(model_1, model_0, test = \"LRT\"))\n",
    "  "
   ]
  },
  {
   "cell_type": "code",
   "execution_count": 28,
   "metadata": {
    "id": "UchWeYjOxI7X"
   },
   "outputs": [
    {
     "name": "stdout",
     "output_type": "stream",
     "text": [
      "0.519625906052245\n",
      "53.38354062296933\n",
      "                 Generalized Linear Model Regression Results                  \n",
      "==============================================================================\n",
      "Dep. Variable:                      y   No. Observations:                   40\n",
      "Model:                            GLM   Df Residuals:                       38\n",
      "Model Family:                 Poisson   Df Model:                            1\n",
      "Link Function:                    Log   Scale:                          1.0000\n",
      "Method:                          IRLS   Log-Likelihood:                -127.31\n",
      "Date:                Wed, 07 Sep 2022   Deviance:                       36.912\n",
      "Time:                        18:05:25   Pearson chi2:                     36.3\n",
      "No. Iterations:                     5   Pseudo R-squ. (CS):              1.000\n",
      "Covariance Type:            nonrobust                                         \n",
      "==============================================================================\n",
      "                 coef    std err          z      P>|z|      [0.025      0.975]\n",
      "------------------------------------------------------------------------------\n",
      "const          0.7537      0.132      5.701      0.000       0.495       1.013\n",
      "x1             1.3559      0.050     26.972      0.000       1.257       1.454\n",
      "==============================================================================\n",
      "6 1\n"
     ]
    },
    {
     "data": {
      "text/html": [
       "<div>\n",
       "<style scoped>\n",
       "    .dataframe tbody tr th:only-of-type {\n",
       "        vertical-align: middle;\n",
       "    }\n",
       "\n",
       "    .dataframe tbody tr th {\n",
       "        vertical-align: top;\n",
       "    }\n",
       "\n",
       "    .dataframe thead th {\n",
       "        text-align: right;\n",
       "    }\n",
       "</style>\n",
       "<table border=\"1\" class=\"dataframe\">\n",
       "  <thead>\n",
       "    <tr style=\"text-align: right;\">\n",
       "      <th></th>\n",
       "      <th>resid_df</th>\n",
       "      <th>resid_deviance</th>\n",
       "      <th>df</th>\n",
       "      <th>deviance</th>\n",
       "      <th>chi2</th>\n",
       "      <th>p_val</th>\n",
       "    </tr>\n",
       "  </thead>\n",
       "  <tbody>\n",
       "    <tr>\n",
       "      <th>0</th>\n",
       "      <td>38</td>\n",
       "      <td>3.691242e+01</td>\n",
       "      <td>NaN</td>\n",
       "      <td>NaN</td>\n",
       "      <td>NaN</td>\n",
       "      <td>NaN</td>\n",
       "    </tr>\n",
       "    <tr>\n",
       "      <th>1</th>\n",
       "      <td>0</td>\n",
       "      <td>2.842171e-14</td>\n",
       "      <td>38.0</td>\n",
       "      <td>36.912424</td>\n",
       "      <td>36.912424</td>\n",
       "      <td>0.519626</td>\n",
       "    </tr>\n",
       "  </tbody>\n",
       "</table>\n",
       "</div>"
      ],
      "text/plain": [
       "   resid_df  resid_deviance    df   deviance       chi2     p_val\n",
       "0        38    3.691242e+01   NaN        NaN        NaN       NaN\n",
       "1         0    2.842171e-14  38.0  36.912424  36.912424  0.519626"
      ]
     },
     "metadata": {},
     "output_type": "display_data"
    }
   ],
   "source": [
    "# p-value of deviance tst\n",
    "# H0: model fit data\n",
    "p_dev = scipy.stats.chi2.sf(model_1.deviance, df=model_1.df_resid)\n",
    "\n",
    "print(p_dev)\n",
    "\n",
    "# critical value\n",
    "C_val = scipy.stats.chi2.isf(0.05, model_1.df_resid)\n",
    "print(C_val)\n",
    "\n",
    "print(model_1.summary())\n",
    "\n",
    "\n",
    "display(anova(model_1,model_s, test = \"LRT\"))   # saturated vs. final model\n",
    "\n"
   ]
  },
  {
   "cell_type": "markdown",
   "metadata": {
    "id": "dz4Ek6Y464bE"
   },
   "source": [
    "## Rao statistics"
   ]
  },
  {
   "cell_type": "code",
   "execution_count": 37,
   "metadata": {
    "id": "GrTIUoUKUKDg"
   },
   "outputs": [
    {
     "name": "stdout",
     "output_type": "stream",
     "text": [
      "rao score statistic: 36.26391412312462\n",
      "p-val of rao test: 0.5498961429402949\n",
      "6 1\n"
     ]
    },
    {
     "name": "stderr",
     "output_type": "stream",
     "text": [
      "/home/emanuel/Documents/Matematika/ZobecneneLinearneModely/01ZLMA/Python/helpers.py:174: UserWarning: Note that rao score statistic may be inccorect. Currently it is Generalized Pearson statistic\n",
      "  warnings.warn(\"Note that rao score statistic may be inccorect. Currently it is Generalized Pearson statistic\")\n"
     ]
    },
    {
     "data": {
      "text/html": [
       "<div>\n",
       "<style scoped>\n",
       "    .dataframe tbody tr th:only-of-type {\n",
       "        vertical-align: middle;\n",
       "    }\n",
       "\n",
       "    .dataframe tbody tr th {\n",
       "        vertical-align: top;\n",
       "    }\n",
       "\n",
       "    .dataframe thead th {\n",
       "        text-align: right;\n",
       "    }\n",
       "</style>\n",
       "<table border=\"1\" class=\"dataframe\">\n",
       "  <thead>\n",
       "    <tr style=\"text-align: right;\">\n",
       "      <th></th>\n",
       "      <th>resid_df</th>\n",
       "      <th>resid_deviance</th>\n",
       "      <th>df</th>\n",
       "      <th>deviance</th>\n",
       "      <th>rao</th>\n",
       "      <th>p_val</th>\n",
       "    </tr>\n",
       "  </thead>\n",
       "  <tbody>\n",
       "    <tr>\n",
       "      <th>0</th>\n",
       "      <td>38</td>\n",
       "      <td>3.691242e+01</td>\n",
       "      <td>NaN</td>\n",
       "      <td>NaN</td>\n",
       "      <td>NaN</td>\n",
       "      <td>NaN</td>\n",
       "    </tr>\n",
       "    <tr>\n",
       "      <th>1</th>\n",
       "      <td>0</td>\n",
       "      <td>2.842171e-14</td>\n",
       "      <td>38.0</td>\n",
       "      <td>36.912424</td>\n",
       "      <td>36.263914</td>\n",
       "      <td>0.549896</td>\n",
       "    </tr>\n",
       "  </tbody>\n",
       "</table>\n",
       "</div>"
      ],
      "text/plain": [
       "   resid_df  resid_deviance    df   deviance        rao     p_val\n",
       "0        38    3.691242e+01   NaN        NaN        NaN       NaN\n",
       "1         0    2.842171e-14  38.0  36.912424  36.263914  0.549896"
      ]
     },
     "execution_count": 37,
     "metadata": {},
     "output_type": "execute_result"
    }
   ],
   "source": [
    "######## Rao score statistics (for Poisson GLM)\n",
    "\n",
    "#score = model_1.resid_response / model_1.model.family.variance(model_1.predict())\n",
    "#rao = score.T @  np.diag(model_1.model.family.variance(model_1.predict())) @ score\n",
    "# model_1.resid_pearson @ model_1.resid_pearson.T \n",
    "\n",
    "rao = np.sum((Y-model_1.predict())**2/model_1.predict())\n",
    "\n",
    "print(f'rao score statistic: {rao}')\n",
    "\n",
    "# p-hodnota testu adekvatnosti modelu (pomoci Raovy statistiky)\n",
    "# H0: model dobre popisuje data\n",
    "\n",
    "print(f'p-val of rao test: {scipy.stats.chi2.sf(rao, df=model_1.df_resid)}')\n",
    "\n",
    "######  pomoci saturovaneho modelu\n",
    "\n",
    "anova(model_1,model_s, test = \"Rao\")"
   ]
  },
  {
   "cell_type": "markdown",
   "metadata": {
    "id": "cAmB4PDZJKEl"
   },
   "source": [
    "# Your turn:\n",
    "1. Generate data with followings parameters\n",
    " * $Y \\sim Poi(\\mu_i)$, where $E[Y_i] = \\mu_i = \\beta_0 + \\beta_1 x_{i1} + \\beta_2 x_{i2} = x_i^T \\beta \\  \\Rightarrow \\ q(\\mu_i) = \\mu_i =  x_i^T \\beta  = \\eta_i$\n",
    "* $X_{i1} \\sim N(50,10)$\n",
    "* $X_{i2} \\sim U(10,60)$\n",
    "* $X_{i3} \\sim Ber(0.45)$\n",
    "* $n = 40$\n",
    "2. Compute $\\hat{\\mu_i}$  for saturated, null,\"full\",\"best\" models.\n",
    "3. Compute Deviance, Rao, Wald statistics for your model and compare final model with the saturated and \"full\" ones.\n",
    "4. Generate 100x data for  $n \\in \\{20,40,60,80,100 \\}$ and plot $(\\hat{\\beta_i} -\\beta_i)$ vs. $(n)$\n"
   ]
  },
  {
   "cell_type": "code",
   "execution_count": null,
   "metadata": {
    "id": "3O60Qhn1rV7Z"
   },
   "outputs": [],
   "source": []
  },
  {
   "cell_type": "code",
   "execution_count": null,
   "metadata": {},
   "outputs": [],
   "source": []
  }
 ],
 "metadata": {
  "colab": {
   "authorship_tag": "ABX9TyM3+qISYKNbOXYZbGEQmi1a",
   "collapsed_sections": [],
   "include_colab_link": true,
   "name": "01ZLMA_ex03.ipynb",
   "private_outputs": true,
   "provenance": []
  },
  "kernelspec": {
   "display_name": "Python 3 (ipykernel)",
   "language": "python",
   "name": "python3"
  },
  "language_info": {
   "codemirror_mode": {
    "name": "ipython",
    "version": 3
   },
   "file_extension": ".py",
   "mimetype": "text/x-python",
   "name": "python",
   "nbconvert_exporter": "python",
   "pygments_lexer": "ipython3",
   "version": "3.9.1"
  }
 },
 "nbformat": 4,
 "nbformat_minor": 1
}
