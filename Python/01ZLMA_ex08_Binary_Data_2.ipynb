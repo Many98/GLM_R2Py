{
 "cells": [
  {
   "cell_type": "markdown",
   "metadata": {
    "colab_type": "text",
    "id": "view-in-github"
   },
   "source": [
    "<a href=\"https://colab.research.google.com/github/Many98/GLM_R2Py/blob/main/Python/01ZLMA_ex08_Binary_Data_2.ipynb\" target=\"_parent\"><img src=\"https://colab.research.google.com/assets/colab-badge.svg\" alt=\"Open In Colab\"/></a>"
   ]
  },
  {
   "cell_type": "markdown",
   "metadata": {
    "id": "oD47O_0VwUBm"
   },
   "source": [
    "Exercise 08 of the course 01ZLMA. \n",
    "\n",
    "# GLM for Discrete response - Binary Data Analysis (02)\n",
    "\n",
    "Alternative and Binomial responses"
   ]
  },
  {
   "cell_type": "markdown",
   "metadata": {
    "id": "l2EHCMAWUHT6",
    "lines_to_next_cell": 0
   },
   "source": [
    "**Bernoulli (Alternative) Model**\n",
    "\n",
    "$$Y_{i,j} \\sim Be(\\pi_i) \\ i = 1,\\ldots,K \\ \\text{and} \\ j = 1,\\ldots, n_i.$$\n",
    "$K$ is number of groups, $n_i$ is number of observations in group $i$ and $\\sum_{i=1}^{K} = N$\n",
    "$$ E[Y_{i,j}] = \\pi_i \\ \\text{and} \\ g(\\pi_i) = \\eta_i =x_i^T \\beta $$\n",
    "\n",
    "\n",
    "**Binomial Model**\n",
    "$$Y_i = \\sum_{j=1}^{n_i} Y_{i,j} \\sim Bi(n_i, \\pi_i)$$"
   ]
  },
  {
   "cell_type": "markdown",
   "metadata": {
    "id": "urFC1XzcWd1t"
   },
   "source": [
    "**Without continuos covariate (only factor variables)**\n",
    "\n",
    "$K$ is constant and $n_i \\rightarrow \\infty $\n",
    "\n",
    "**With at least one continuos covariate**\n",
    "\n",
    "$n_i \\approx 1$ ( $n_i$ is small enough) and $K \\rightarrow \\infty$\n",
    "\n"
   ]
  },
  {
   "cell_type": "markdown",
   "metadata": {
    "id": "lSgD34dQW1cE"
   },
   "source": [
    "## Link functions for binary data\n",
    "\n",
    "**Logistic function:**\n",
    "\n",
    "The logistic function is the canonical link function for binary responses, and it is CDF of the standard logistic distribution.\n",
    "\n",
    "$$\\pi_i = \\frac{1}{1+e^{-x_i^T \\beta}} $$ \n",
    "\n",
    "\n",
    "**Probit function:**\n",
    "\n",
    "The CDF of the normal distribution. \n",
    "$$\\pi_i = \\Phi({x_i^T \\beta}) $$ \n",
    "\n",
    "\n",
    "**Cauchit function:**\n",
    "\n",
    "The CDF of the Cauchy distribution\n",
    "\n",
    "$$\\pi_i = \\frac{1}{\\pi}\\text{arctan}(x_i^T \\beta) + \\frac{1}{2} $$ \n",
    "\n",
    "\n",
    "**Complementary log-log (cloglog) function:**\n",
    "\n",
    "The inverse of the conditional log-log function (CDF of the Gumbel distribution)\n",
    "\n",
    "$$\\pi_i = 1 − e^{-e^{x_i^T \\beta}}$$\n",
    "\n",
    "The counter part of the cloglog function is log-log link function."
   ]
  },
  {
   "cell_type": "code",
   "execution_count": 1,
   "metadata": {
    "id": "Jv5SOQ0TUHT7",
    "vscode": {
     "languageId": "r"
    }
   },
   "outputs": [],
   "source": [
    "import numpy as np\n",
    "import scipy\n",
    "from scipy import stats\n",
    "\n",
    "import statsmodels.api as sm\n",
    "import statsmodels.formula.api as smf\n",
    "\n",
    "from sklearn import datasets\n",
    "from sklearn.model_selection import train_test_split\n",
    "\n",
    "import matplotlib.pyplot as plt\n",
    "import seaborn as sns\n",
    "from statsmodels.graphics.api import abline_plot\n",
    "\n",
    "import pandas as pd\n",
    "\n",
    "from helpers import DiagnosticPlots"
   ]
  },
  {
   "cell_type": "code",
   "execution_count": 5,
   "metadata": {},
   "outputs": [
    {
     "data": {
      "image/png": "[encoded data removed]",
      "text/plain": [
       "<Figure size 432x288 with 1 Axes>"
      ]
     },
     "metadata": {
      "needs_background": "light"
     },
     "output_type": "display_data"
    }
   ],
   "source": [
    "x = np.tile(np.linspace(-5, 5, 101), 4).reshape(4, -1)\n",
    "y = []\n",
    "names =[]\n",
    "\n",
    "for i, j in enumerate(zip((\"logit\", \"probit\", \"cauchit\", \"cloglog\"), \n",
    "                (sm.genmod.families.links.Logit(), sm.genmod.families.links.probit(), \n",
    "                 sm.genmod.families.links.cauchy(), sm.genmod.families.links.CLogLog()))):\n",
    "    \n",
    "    y.append(j[1].inverse(x[i]))\n",
    "    names.append([j[0]]*len(x[i]))\n",
    "    \n",
    "y = np.array(y).flatten()\n",
    "n = np.array(names).flatten()\n",
    "\n",
    "fig, ax = plt.subplots()\n",
    "\n",
    "\n",
    "\n",
    "sns.lineplot(x='x', y='y', data=pd.DataFrame(data={'x': x.flatten(), 'y': y, 'n': n}), ax=ax, hue='n')\n",
    "    \n",
    "\n",
    "ax.legend()\n",
    "ax.set_xlabel(r'$x_i^T \\beta$')\n",
    "ax.set_ylabel(r'$\\pi_i$')\n",
    "plt.show()"
   ]
  },
  {
   "cell_type": "markdown",
   "metadata": {
    "id": "dnlQ4vEGYGOH"
   },
   "source": [
    "## Logistic regression with Titanic dataset\n",
    "\n",
    "https://www.kaggle.com/c/titanic/data\n",
    "\n",
    "| Variable |                 Definition                 |                       Key                      |\n",
    "|:--------:|:------------------------------------------:|:----------------------------------------------:|\n",
    "| survival | Survival                                   | 0 = No, 1 = Yes                                |\n",
    "| pclass   | Ticket class                               | 1 = 1st, 2 = 2nd, 3 = 3rd                      |\n",
    "| sex      | Sex                                        |                                                |\n",
    "| Age      | Age in years                               |                                                |\n",
    "| sibsp    | # of siblings / spouses aboard the Titanic |                                                |\n",
    "| parch    | # of parents / children aboard the Titanic |                                                |\n",
    "| ticket   | Ticket number                              |                                                |\n",
    "| fare     | Passenger fare                             |                                                |\n",
    "| cabin    | Cabin number                               |                                                |\n",
    "| embarked | Port of Embarkation                        | C = Cherbourg, Q = Queenstown, S = Southampton |"
   ]
  },
  {
   "cell_type": "code",
   "execution_count": 6,
   "metadata": {
    "id": "VxBIs-aDYMxd",
    "vscode": {
     "languageId": "r"
    }
   },
   "outputs": [],
   "source": [
    "X, y = datasets.fetch_openml(\"titanic\", version=1, as_frame=True, return_X_y=True)\n",
    "X_train, X_test, y_train, y_test = train_test_split(X, y, stratify=y, test_size=0.2)\n",
    "\n",
    "titanic_train = pd.concat([X_train, y_train], axis=1)\n",
    "titanic_test = pd.concat([X_test, y_test], axis=1)"
   ]
  },
  {
   "cell_type": "code",
   "execution_count": 7,
   "metadata": {
    "id": "AfwAohjgfMvg",
    "vscode": {
     "languageId": "r"
    }
   },
   "outputs": [
    {
     "data": {
      "text/html": [
       "<div>\n",
       "<style scoped>\n",
       "    .dataframe tbody tr th:only-of-type {\n",
       "        vertical-align: middle;\n",
       "    }\n",
       "\n",
       "    .dataframe tbody tr th {\n",
       "        vertical-align: top;\n",
       "    }\n",
       "\n",
       "    .dataframe thead th {\n",
       "        text-align: right;\n",
       "    }\n",
       "</style>\n",
       "<table border=\"1\" class=\"dataframe\">\n",
       "  <thead>\n",
       "    <tr style=\"text-align: right;\">\n",
       "      <th></th>\n",
       "      <th>pclass</th>\n",
       "      <th>name</th>\n",
       "      <th>sex</th>\n",
       "      <th>age</th>\n",
       "      <th>sibsp</th>\n",
       "      <th>parch</th>\n",
       "      <th>ticket</th>\n",
       "      <th>fare</th>\n",
       "      <th>cabin</th>\n",
       "      <th>embarked</th>\n",
       "      <th>boat</th>\n",
       "      <th>body</th>\n",
       "      <th>home.dest</th>\n",
       "      <th>survived</th>\n",
       "    </tr>\n",
       "  </thead>\n",
       "  <tbody>\n",
       "    <tr>\n",
       "      <th>count</th>\n",
       "      <td>262.000000</td>\n",
       "      <td>262</td>\n",
       "      <td>262</td>\n",
       "      <td>210.000000</td>\n",
       "      <td>262.000000</td>\n",
       "      <td>262.000000</td>\n",
       "      <td>262</td>\n",
       "      <td>262.000000</td>\n",
       "      <td>65</td>\n",
       "      <td>261</td>\n",
       "      <td>97</td>\n",
       "      <td>20.000000</td>\n",
       "      <td>157</td>\n",
       "      <td>262</td>\n",
       "    </tr>\n",
       "    <tr>\n",
       "      <th>unique</th>\n",
       "      <td>NaN</td>\n",
       "      <td>262</td>\n",
       "      <td>2</td>\n",
       "      <td>NaN</td>\n",
       "      <td>NaN</td>\n",
       "      <td>NaN</td>\n",
       "      <td>237</td>\n",
       "      <td>NaN</td>\n",
       "      <td>60</td>\n",
       "      <td>3</td>\n",
       "      <td>21</td>\n",
       "      <td>NaN</td>\n",
       "      <td>114</td>\n",
       "      <td>2</td>\n",
       "    </tr>\n",
       "    <tr>\n",
       "      <th>top</th>\n",
       "      <td>NaN</td>\n",
       "      <td>Chronopoulos, Mr. Demetrios</td>\n",
       "      <td>male</td>\n",
       "      <td>NaN</td>\n",
       "      <td>NaN</td>\n",
       "      <td>NaN</td>\n",
       "      <td>CA. 2343</td>\n",
       "      <td>NaN</td>\n",
       "      <td>C85</td>\n",
       "      <td>S</td>\n",
       "      <td>5</td>\n",
       "      <td>NaN</td>\n",
       "      <td>New York, NY</td>\n",
       "      <td>0</td>\n",
       "    </tr>\n",
       "    <tr>\n",
       "      <th>freq</th>\n",
       "      <td>NaN</td>\n",
       "      <td>1</td>\n",
       "      <td>169</td>\n",
       "      <td>NaN</td>\n",
       "      <td>NaN</td>\n",
       "      <td>NaN</td>\n",
       "      <td>3</td>\n",
       "      <td>NaN</td>\n",
       "      <td>2</td>\n",
       "      <td>173</td>\n",
       "      <td>8</td>\n",
       "      <td>NaN</td>\n",
       "      <td>15</td>\n",
       "      <td>162</td>\n",
       "    </tr>\n",
       "    <tr>\n",
       "      <th>mean</th>\n",
       "      <td>2.183206</td>\n",
       "      <td>NaN</td>\n",
       "      <td>NaN</td>\n",
       "      <td>31.551190</td>\n",
       "      <td>0.477099</td>\n",
       "      <td>0.396947</td>\n",
       "      <td>NaN</td>\n",
       "      <td>35.103323</td>\n",
       "      <td>NaN</td>\n",
       "      <td>NaN</td>\n",
       "      <td>NaN</td>\n",
       "      <td>147.300000</td>\n",
       "      <td>NaN</td>\n",
       "      <td>NaN</td>\n",
       "    </tr>\n",
       "    <tr>\n",
       "      <th>std</th>\n",
       "      <td>0.873637</td>\n",
       "      <td>NaN</td>\n",
       "      <td>NaN</td>\n",
       "      <td>14.660881</td>\n",
       "      <td>0.993007</td>\n",
       "      <td>0.972254</td>\n",
       "      <td>NaN</td>\n",
       "      <td>48.465996</td>\n",
       "      <td>NaN</td>\n",
       "      <td>NaN</td>\n",
       "      <td>NaN</td>\n",
       "      <td>90.446902</td>\n",
       "      <td>NaN</td>\n",
       "      <td>NaN</td>\n",
       "    </tr>\n",
       "    <tr>\n",
       "      <th>min</th>\n",
       "      <td>1.000000</td>\n",
       "      <td>NaN</td>\n",
       "      <td>NaN</td>\n",
       "      <td>0.750000</td>\n",
       "      <td>0.000000</td>\n",
       "      <td>0.000000</td>\n",
       "      <td>NaN</td>\n",
       "      <td>0.000000</td>\n",
       "      <td>NaN</td>\n",
       "      <td>NaN</td>\n",
       "      <td>NaN</td>\n",
       "      <td>22.000000</td>\n",
       "      <td>NaN</td>\n",
       "      <td>NaN</td>\n",
       "    </tr>\n",
       "    <tr>\n",
       "      <th>25%</th>\n",
       "      <td>1.000000</td>\n",
       "      <td>NaN</td>\n",
       "      <td>NaN</td>\n",
       "      <td>22.000000</td>\n",
       "      <td>0.000000</td>\n",
       "      <td>0.000000</td>\n",
       "      <td>NaN</td>\n",
       "      <td>7.925000</td>\n",
       "      <td>NaN</td>\n",
       "      <td>NaN</td>\n",
       "      <td>NaN</td>\n",
       "      <td>73.500000</td>\n",
       "      <td>NaN</td>\n",
       "      <td>NaN</td>\n",
       "    </tr>\n",
       "    <tr>\n",
       "      <th>50%</th>\n",
       "      <td>2.000000</td>\n",
       "      <td>NaN</td>\n",
       "      <td>NaN</td>\n",
       "      <td>29.500000</td>\n",
       "      <td>0.000000</td>\n",
       "      <td>0.000000</td>\n",
       "      <td>NaN</td>\n",
       "      <td>13.950000</td>\n",
       "      <td>NaN</td>\n",
       "      <td>NaN</td>\n",
       "      <td>NaN</td>\n",
       "      <td>126.500000</td>\n",
       "      <td>NaN</td>\n",
       "      <td>NaN</td>\n",
       "    </tr>\n",
       "    <tr>\n",
       "      <th>75%</th>\n",
       "      <td>3.000000</td>\n",
       "      <td>NaN</td>\n",
       "      <td>NaN</td>\n",
       "      <td>41.000000</td>\n",
       "      <td>1.000000</td>\n",
       "      <td>0.000000</td>\n",
       "      <td>NaN</td>\n",
       "      <td>39.550000</td>\n",
       "      <td>NaN</td>\n",
       "      <td>NaN</td>\n",
       "      <td>NaN</td>\n",
       "      <td>207.250000</td>\n",
       "      <td>NaN</td>\n",
       "      <td>NaN</td>\n",
       "    </tr>\n",
       "    <tr>\n",
       "      <th>max</th>\n",
       "      <td>3.000000</td>\n",
       "      <td>NaN</td>\n",
       "      <td>NaN</td>\n",
       "      <td>71.000000</td>\n",
       "      <td>8.000000</td>\n",
       "      <td>9.000000</td>\n",
       "      <td>NaN</td>\n",
       "      <td>263.000000</td>\n",
       "      <td>NaN</td>\n",
       "      <td>NaN</td>\n",
       "      <td>NaN</td>\n",
       "      <td>314.000000</td>\n",
       "      <td>NaN</td>\n",
       "      <td>NaN</td>\n",
       "    </tr>\n",
       "  </tbody>\n",
       "</table>\n",
       "</div>"
      ],
      "text/plain": [
       "            pclass                         name   sex         age       sibsp  \\\n",
       "count   262.000000                          262   262  210.000000  262.000000   \n",
       "unique         NaN                          262     2         NaN         NaN   \n",
       "top            NaN  Chronopoulos, Mr. Demetrios  male         NaN         NaN   \n",
       "freq           NaN                            1   169         NaN         NaN   \n",
       "mean      2.183206                          NaN   NaN   31.551190    0.477099   \n",
       "std       0.873637                          NaN   NaN   14.660881    0.993007   \n",
       "min       1.000000                          NaN   NaN    0.750000    0.000000   \n",
       "25%       1.000000                          NaN   NaN   22.000000    0.000000   \n",
       "50%       2.000000                          NaN   NaN   29.500000    0.000000   \n",
       "75%       3.000000                          NaN   NaN   41.000000    1.000000   \n",
       "max       3.000000                          NaN   NaN   71.000000    8.000000   \n",
       "\n",
       "             parch    ticket        fare cabin embarked boat        body  \\\n",
       "count   262.000000       262  262.000000    65      261   97   20.000000   \n",
       "unique         NaN       237         NaN    60        3   21         NaN   \n",
       "top            NaN  CA. 2343         NaN   C85        S    5         NaN   \n",
       "freq           NaN         3         NaN     2      173    8         NaN   \n",
       "mean      0.396947       NaN   35.103323   NaN      NaN  NaN  147.300000   \n",
       "std       0.972254       NaN   48.465996   NaN      NaN  NaN   90.446902   \n",
       "min       0.000000       NaN    0.000000   NaN      NaN  NaN   22.000000   \n",
       "25%       0.000000       NaN    7.925000   NaN      NaN  NaN   73.500000   \n",
       "50%       0.000000       NaN   13.950000   NaN      NaN  NaN  126.500000   \n",
       "75%       0.000000       NaN   39.550000   NaN      NaN  NaN  207.250000   \n",
       "max       9.000000       NaN  263.000000   NaN      NaN  NaN  314.000000   \n",
       "\n",
       "           home.dest survived  \n",
       "count            157      262  \n",
       "unique           114        2  \n",
       "top     New York, NY        0  \n",
       "freq              15      162  \n",
       "mean             NaN      NaN  \n",
       "std              NaN      NaN  \n",
       "min              NaN      NaN  \n",
       "25%              NaN      NaN  \n",
       "50%              NaN      NaN  \n",
       "75%              NaN      NaN  \n",
       "max              NaN      NaN  "
      ]
     },
     "execution_count": 7,
     "metadata": {},
     "output_type": "execute_result"
    }
   ],
   "source": [
    "titanic_test.describe(include = 'all')"
   ]
  },
  {
   "cell_type": "markdown",
   "metadata": {
    "id": "v4KddgL4vP3f"
   },
   "source": [
    "# Fast and furios solution of the HW from the previous Ex07\n",
    "\n",
    "Consider a model with continuos variables `age`, `fare`, and any factor variable. \n",
    "\n",
    "* Create factor `age`, which takes values 1 (child) and 0 (adult).\n",
    "* Create factor from varaible `fare` by spliting into 10 groups with approx same number of observations.\n",
    "* What percentage is the chance of survival lower for adult compare to child? \n",
    "* Depends the probability of survival on fare? Test it.\n",
    "* Assume that the chance of survival increases with exponential increasig fare. How the chance of survival increased if the person spent an extra 10 pound for a ticket? \n",
    "* Build a model where the probabilty of survival depends on both `age` and `fare`. Are both covariates significant?\n",
    "* "
   ]
  },
  {
   "cell_type": "code",
   "execution_count": null,
   "metadata": {
    "id": "ZtEboSVjZ-wD",
    "vscode": {
     "languageId": "r"
    }
   },
   "outputs": [],
   "source": [
    "data_HW = titanic_train %>%\n",
    "  dplyr::select(Survived,Age,Fare,Pclass,Sex,Embarked)\n",
    "\n",
    "data_HW %>% mutate_if(is.character,as.factor) %>% summary() %>%  knitr::kable()\n",
    "\n",
    "data_HW = data_HW %>%\n",
    "  filter(Embarked %in% c(\"C\",\"Q\",\"S\")) %>%\n",
    "  transmute(survived = as.factor(Survived),\n",
    "            survived_num = Survived,\n",
    "            age  = cut(Age, breaks=c(-Inf, 16, Inf), labels=c(\"child\",\"adult\")),\n",
    "            age_num = Age,\n",
    "            fare = Fare,\n",
    "            fare_quantile = ntile(Fare, 8),\n",
    "            fare_quantile2 = cut(Fare, quantile(Fare, prob = seq(0,1,length = 9), type = 8)), \n",
    "            class = as.factor(Pclass),\n",
    "            sex = as.factor(Sex),\n",
    "            embarked = as.factor(Embarked)) %>%\n",
    "  drop_na()          \n",
    "\n",
    "data_HW %>% summary() %>%  knitr::kable()       \n",
    "str(data_HW)\n"
   ]
  },
  {
   "cell_type": "code",
   "execution_count": null,
   "metadata": {
    "id": "UT2_FST2eRRX",
    "vscode": {
     "languageId": "r"
    }
   },
   "outputs": [],
   "source": [
    "install.packages(\"GGally\")\n",
    "library(GGally)\n",
    "options(repr.plot.width=16, repr.plot.height=12)\n",
    "ggpairs(data_HW)"
   ]
  },
  {
   "cell_type": "code",
   "execution_count": null,
   "metadata": {
    "id": "5-BI4OLoxaBT",
    "vscode": {
     "languageId": "r"
    }
   },
   "outputs": [],
   "source": [
    "# Simple Logistic Regression model with all discrete covariates fare,sex, agewithout interactions\n",
    "mod_HW1=glm(survived~age+sex+fare_quantile2,family=binomial(link = \"logit\"),data_HW) #\n",
    "summary(mod_HW1)"
   ]
  },
  {
   "cell_type": "code",
   "execution_count": null,
   "metadata": {
    "id": "rkW40xpk6Ysr",
    "vscode": {
     "languageId": "r"
    }
   },
   "outputs": [],
   "source": [
    "#Function to estimate OR with lower and upper limit of 95% CI for OR\n",
    "OR_coef = function(variable,model,CI){\n",
    "  param = coef(model)\n",
    "  where = grep(variable,names(param))[1]\n",
    "  beta  = param[where]\n",
    "  se = summary(model)$coef[where,2]\n",
    "  or = exp(beta)\n",
    "  ci = exp(beta+c(-1,1)*qnorm(CI/2+0.5)*se)\n",
    "  out = data.frame(ci[1],or, ci[2])\n",
    "  names(out) = c(\"LCL\",\"OR\",\"UCL\")\n",
    "  out\n",
    "}\n",
    "OR_coef(\"age\",mod_HW1,0.95)"
   ]
  },
  {
   "cell_type": "markdown",
   "metadata": {
    "id": "lTedw3KV5ASe"
   },
   "source": [
    "The chances of drowning were almost twice as high in the group of adults as in the group of children. "
   ]
  },
  {
   "cell_type": "code",
   "execution_count": null,
   "metadata": {
    "id": "tY9zl_bg6MiD",
    "vscode": {
     "languageId": "r"
    }
   },
   "outputs": [],
   "source": [
    "# Check model with factorized Fare\n",
    "mod_HW0=glm(survived~age+sex,family=binomial(link = \"logit\"),data_HW) #\n",
    "mod_HW1=glm(survived~age+sex+fare_quantile2,family=binomial(link = \"logit\"),data_HW) #\n",
    "mod_HW2=glm(survived~age+sex+fare,family=binomial(link = \"logit\"),data_HW) #\n",
    "summary(mod_HW1)\n"
   ]
  },
  {
   "cell_type": "markdown",
   "metadata": {
    "id": "T30L1viF7Q-S"
   },
   "source": [
    "Yes, covariate `fare` is statisticaly significant in the model. But it's better to test it with Deviation test (LRT) compare to Wald tests from summary() function."
   ]
  },
  {
   "cell_type": "code",
   "execution_count": null,
   "metadata": {
    "id": "VyMp7aHXKJfo",
    "vscode": {
     "languageId": "r"
    }
   },
   "outputs": [],
   "source": [
    "anova(mod_HW1,mod_HW0,test=\"Chisq\")\n",
    "drop1(mod_HW1,test=\"Chisq\")"
   ]
  },
  {
   "cell_type": "markdown",
   "metadata": {
    "id": "B1HsxUawKTm0"
   },
   "source": [
    "Confirmed."
   ]
  },
  {
   "cell_type": "code",
   "execution_count": null,
   "metadata": {
    "id": "oRepJ3yu69GW",
    "vscode": {
     "languageId": "r"
    }
   },
   "outputs": [],
   "source": [
    "# Fare as continuous variable\n",
    "mod_HW3=glm(survived~I(fare/10),family=binomial(link = \"logit\"),data_HW) #\n",
    "\n",
    "mod_HW4=glm(survived~I(fare/10)+sex+age,family=binomial(link = \"logit\"),data_HW) #\n",
    "#summary(mod_HW4)\n",
    "exp(coef(mod_HW3))\n",
    "exp(coef(mod_HW4))"
   ]
  },
  {
   "cell_type": "markdown",
   "metadata": {
    "id": "NIPQPETQ9VW3"
   },
   "source": [
    "The chance of survival increased by 12.9% with the ticket price 10 pounds higher.\n",
    "\n",
    "Question: What can you say about Causality? Does a higher price result in a greater chance of survival?\n",
    "\n"
   ]
  },
  {
   "cell_type": "code",
   "execution_count": null,
   "metadata": {
    "id": "YBtFn99v-a1l",
    "vscode": {
     "languageId": "r"
    }
   },
   "outputs": [],
   "source": [
    "# Model without sex variable\n",
    "mod_HW5=glm(survived~I(fare/10)+I(age_num/10),family=binomial(link = \"logit\"),data_HW) #\n",
    "summary(mod_HW5)"
   ]
  },
  {
   "cell_type": "markdown",
   "metadata": {
    "id": "TsI7nUG5A_EU"
   },
   "source": [
    "## Binomial data approach"
   ]
  },
  {
   "cell_type": "code",
   "execution_count": null,
   "metadata": {
    "id": "OvPH1Bk_cKws",
    "vscode": {
     "languageId": "r"
    }
   },
   "outputs": [],
   "source": [
    "#data_HW"
   ]
  },
  {
   "cell_type": "code",
   "execution_count": null,
   "metadata": {
    "id": "d3XCOTx6BHsU",
    "vscode": {
     "languageId": "r"
    }
   },
   "outputs": [],
   "source": [
    "data_HW_bin = data_HW %>%\n",
    "  group_by(sex,age,fare_quantile2) %>%\n",
    "  summarise(n = n(),\n",
    "         m = sum(survived_num)\n",
    "        )\n",
    " data_HW_bin        "
   ]
  },
  {
   "cell_type": "markdown",
   "metadata": {
    "id": "SK0WpYLlfm_e"
   },
   "source": [
    "### Some additional questions "
   ]
  },
  {
   "cell_type": "markdown",
   "metadata": {
    "id": "2ylHJMd-oa-G"
   },
   "source": [
    "**Estimate** null model and compare obtained probality of survived with estimated probability from survived-not survived ratio."
   ]
  },
  {
   "cell_type": "code",
   "execution_count": null,
   "metadata": {
    "id": "Ehy03B2vfl0N",
    "vscode": {
     "languageId": "r"
    }
   },
   "outputs": [],
   "source": [
    "mod_0 = glm(cbind(m,n-m)~1,family=binomial(link=\"logit\"),data = data_HW_bin)\n",
    "#summary(mod_0)\n",
    "invlogit = function(x) return(exp(x)/(1+exp(x))) # inverse logit function\n",
    "p0_model = invlogit(coef(mod_0))\n",
    "\n",
    "# Probability of survive\n",
    "p0_stat = sum(data_HW_bin$m)/sum(data_HW_bin$n)\n",
    "print(cbind(p0_model,p0_stat))\n",
    "\n",
    "# Chance of survive\n",
    "exp(coef(mod_0))\n",
    "p0_stat/(1-p0_stat)"
   ]
  },
  {
   "cell_type": "markdown",
   "metadata": {
    "id": "0iIY61MRpCYf"
   },
   "source": [
    "Estimate model with one covariate factorized `fare` and compare OR computed directly from estimated regression coefficient with OR compputed from probabilities of survived for each group."
   ]
  },
  {
   "cell_type": "code",
   "execution_count": null,
   "metadata": {
    "id": "0OUqDr3ThQyJ",
    "vscode": {
     "languageId": "r"
    }
   },
   "outputs": [],
   "source": [
    "mod_fare = glm(cbind(m,n-m)~fare_quantile2,family=binomial(link=\"logit\"),data = data_HW_bin)\n",
    "#summary(mod_fare)\n",
    "anova(mod_fare,mod_0,test=\"Chisq\") \n",
    "# Fare price is highly significant in the model.\n",
    "exp(coef(mod_fare)) %>% knitr::kable()\n",
    "\n",
    "\n"
   ]
  },
  {
   "cell_type": "markdown",
   "metadata": {
    "id": "TALfAE7YM7Ei"
   },
   "source": [
    "Question: Assume you spent 25 pounds for a ticket. What is your chance to survive compare to someone who spent only 5 pounds?"
   ]
  },
  {
   "cell_type": "code",
   "execution_count": null,
   "metadata": {
    "id": "a_Y18QCbMf7o",
    "vscode": {
     "languageId": "r"
    }
   },
   "outputs": [],
   "source": [
    "# Compute probability of survival:\n",
    "invlogit(coef(mod_fare)[1]) \n",
    "invlogit(coef(mod_fare)[1]+coef(mod_fare)[-1]) %>% knitr::kable()\n"
   ]
  },
  {
   "cell_type": "code",
   "execution_count": null,
   "metadata": {
    "id": "fCwisWk0iOp1",
    "vscode": {
     "languageId": "r"
    }
   },
   "outputs": [],
   "source": [
    "# Check: odds ratio computed by hands.\n",
    "Pr_1= (invlogit(coef(mod_fare)[1]))\n",
    "Pr_8 = (invlogit(coef(mod_fare)[1] +coef(mod_fare)[8]))\n",
    "\n",
    "OR_1 = Pr_1/(1-Pr_1)\n",
    "OR_8 = Pr_8/(1-Pr_8)\n",
    "OR_8/OR_1\n",
    "(exp(coef(mod_fare)[8]) == OR_8/OR_1)\n"
   ]
  },
  {
   "cell_type": "markdown",
   "metadata": {
    "id": "KmSHzexSuPcQ"
   },
   "source": [
    "**Estimate saturated model**\n",
    "\n",
    "If we have  fixed number of parameters,  saturated model obtain every  \"observation\" and residual deviance of this saturated model is \"zero\". \n"
   ]
  },
  {
   "cell_type": "code",
   "execution_count": null,
   "metadata": {
    "id": "-W1s8tr0Adyc",
    "vscode": {
     "languageId": "r"
    }
   },
   "outputs": [],
   "source": [
    "mod_HW_sat=glm(cbind(m,n-m)~fare_quantile2*age*sex,family=binomial(link = \"logit\"),data_HW_bin) #\n",
    "summary(mod_HW_sat)"
   ]
  },
  {
   "cell_type": "markdown",
   "metadata": {
    "id": "CchPO_1oFoij"
   },
   "source": [
    "\n",
    "We can test other models against saturated one."
   ]
  },
  {
   "cell_type": "code",
   "execution_count": null,
   "metadata": {
    "id": "2G4T-YwJFnHd",
    "vscode": {
     "languageId": "r"
    }
   },
   "outputs": [],
   "source": [
    "mod_HW_bin1=glm(cbind(m,n-m)~fare_quantile2+age+sex,family=binomial(link = \"logit\"),data_HW_bin) #\n",
    "summary(mod_HW_bin1)"
   ]
  },
  {
   "cell_type": "code",
   "execution_count": null,
   "metadata": {
    "id": "XsqLCkGnGSj6",
    "vscode": {
     "languageId": "r"
    }
   },
   "outputs": [],
   "source": [
    "drop1(mod_HW_sat, test=\"Chisq\")\n",
    "anova(mod_HW_sat,mod_HW_bin1, test=\"Chisq\")\n"
   ]
  },
  {
   "cell_type": "markdown",
   "metadata": {
    "id": "_redlhPCHH0J"
   },
   "source": [
    "## Question:\n",
    "* How do you interpret previous result?\n",
    "* Is simplier aditive model without interactions good enough?"
   ]
  },
  {
   "cell_type": "code",
   "execution_count": null,
   "metadata": {
    "id": "qmEvNZN5HG69",
    "vscode": {
     "languageId": "r"
    }
   },
   "outputs": [],
   "source": []
  },
  {
   "cell_type": "markdown",
   "metadata": {
    "id": "EnmxNtfiu2lK"
   },
   "source": [
    "## Residual analysis"
   ]
  },
  {
   "cell_type": "code",
   "execution_count": null,
   "metadata": {
    "id": "XgUrBZH4v5dJ",
    "vscode": {
     "languageId": "r"
    }
   },
   "outputs": [],
   "source": [
    "# start with simple model\n",
    "\n",
    "mod_1=glm(survived~age_num+sex+class,family=binomial(link = \"logit\"),data_HW) #\n",
    "summary(mod_1)\n",
    "\n",
    "#mod_1=glm(survived~sex +fare,family=binomial(link = \"logit\"),data_HW) #\n",
    "#summary(mod_1)\n"
   ]
  },
  {
   "cell_type": "code",
   "execution_count": null,
   "metadata": {
    "id": "bCWKf4lfwas4",
    "vscode": {
     "languageId": "r"
    }
   },
   "outputs": [],
   "source": [
    "res_resp = mod_1.resid_response \n",
    "res_work = mod_1.resid_working \n",
    "res_pear = mod_1.resid_pearson \n",
    "res_deviance = mod_1.resid_deviance\n",
    "\n",
    "#print(res_resp,res_work,res_pear, res_deviance)"
   ]
  },
  {
   "cell_type": "markdown",
   "metadata": {
    "id": "mBrkKrII_aa_"
   },
   "source": [
    "A perfect fit of a datapoint (which never occurs) gives a deviance of zero as \"log(1) =0\". A poorly fitting point has a large residual deviance."
   ]
  },
  {
   "cell_type": "code",
   "execution_count": null,
   "metadata": {
    "id": "h7JWKBk4yuRF",
    "vscode": {
     "languageId": "r"
    }
   },
   "outputs": [],
   "source": [
    "cls = DiagnosticPlots(mod_1)\n",
    "fig, ax = cls()"
   ]
  },
  {
   "cell_type": "code",
   "execution_count": null,
   "metadata": {},
   "outputs": [],
   "source": [
    "# TODO see this https://www.statsmodels.org/devel/examples/notebooks/generated/glm.html"
   ]
  },
  {
   "cell_type": "markdown",
   "metadata": {
    "id": "tYsJUO9wAb1E"
   },
   "source": [
    "All plots look funny. What do you think, is there any problem in the model?"
   ]
  },
  {
   "cell_type": "markdown",
   "metadata": {
    "id": "pfM3W9zGA_0p"
   },
   "source": [
    "\n",
    "* The **Residuals vs Fitted** plot can help you see, for example, if there are curvilinear trends that you missed. But the fit of a logistic regression is curvilinear by nature, so you can have odd looking trends in the residuals with nothing amiss.\n",
    "* The **Normal Q-Q** plot helps you detect if your residuals are normally distributed. But the deviance residuals don't have to be normally distributed for the model to be valid, so the normality / non-normality of the residuals doesn't necessarily tell you anything.\n",
    "* The **Scale-Location** plot can help you identify heteroscedasticity. But logistic regression models are pretty much heteroscedastic by nature.\n",
    "* The **Residuals vs Leverage** can help you identify possible outliers. But outliers in logistic regression don't necessarily manifest in the same way as in linear regression, so this plot may or may not be helpful in identifying them.\n",
    "\n",
    "source:https://stats.stackexchange.com/questions/121490/interpretation-of-plot-glm-model\n"
   ]
  },
  {
   "cell_type": "code",
   "execution_count": null,
   "metadata": {
    "id": "j7BG0M8YyuUJ",
    "vscode": {
     "languageId": "r"
    }
   },
   "outputs": [],
   "source": [
    "plot(mod_1,which=1)"
   ]
  },
  {
   "cell_type": "code",
   "execution_count": null,
   "metadata": {
    "id": "gD6A7ebJyuW7",
    "vscode": {
     "languageId": "r"
    }
   },
   "outputs": [],
   "source": [
    "plot(data_HW$age_num,residuals(mod_1),col=c(\"blue\",\"red\")[1+data_HW$survived_num])\n",
    "lines(lowess(data_HW$age_num,residuals(mod_1)),col=\"black\",lwd=2)\n",
    "lines(lowess(data_HW$age_num[data_HW$survived_num==0],residuals(mod_1)[data_HW$survived_num==0]),col=\"blue\")\n",
    "lines(lowess(data_HW$age_num[data_HW$survived_num==1],residuals(mod_1)[data_HW$survived_num==1]),col=\"red\")\n",
    "abline(h=0,lty=2,col=\"grey\")"
   ]
  },
  {
   "cell_type": "code",
   "execution_count": null,
   "metadata": {
    "id": "8gEexODqyuZw",
    "vscode": {
     "languageId": "r"
    }
   },
   "outputs": [],
   "source": []
  },
  {
   "cell_type": "code",
   "execution_count": null,
   "metadata": {
    "id": "699nkaZ2yucr",
    "vscode": {
     "languageId": "r"
    }
   },
   "outputs": [],
   "source": [
    "data_HW_mod = data_HW %>%\n",
    "  mutate(fitted = mod_1$fitted.values,\n",
    "         #fitted = predict(mod_1, newdata = data_HW, type = \"response\"),\n",
    "         predict = as.factor(ifelse(fitted > 0.5, \"1\", \"0\")),\n",
    "         r_deviance_std =rstandard(mod_1, type = \"deviance\"),\n",
    "         r_pearson_std = rstandard(mod_1, type = \"pearson\") )\n",
    "head(data_HW_mod)"
   ]
  },
  {
   "cell_type": "code",
   "execution_count": null,
   "metadata": {
    "id": "LdOeCOC-Puzf",
    "vscode": {
     "languageId": "r"
    }
   },
   "outputs": [],
   "source": []
  },
  {
   "cell_type": "code",
   "execution_count": null,
   "metadata": {
    "id": "MvxzoUKoyuia",
    "vscode": {
     "languageId": "r"
    }
   },
   "outputs": [],
   "source": [
    "library(ggplot2)\n",
    "install.packages(\"gridExtra\")\n",
    "library(gridExtra)\n",
    "\n",
    "p1 = ggplot(data_HW_mod, aes(x = age_num,y = fitted, color = sex, shape = class)) + \n",
    "      geom_point() \n",
    "p2 = ggplot(data_HW_mod, aes(x = age_num,y = r_deviance_std, color = sex, shape = class)) + \n",
    "      geom_point() \n",
    "grid.arrange(p1, p2, nrow = 1)"
   ]
  },
  {
   "cell_type": "code",
   "execution_count": null,
   "metadata": {
    "id": "4MVktHiqyuk9",
    "vscode": {
     "languageId": "r"
    }
   },
   "outputs": [],
   "source": [
    "p1 = ggplot(data_HW_mod, aes(x = age_num,y = fitted, color = survived)) + \n",
    "      geom_point() \n",
    "p2 = ggplot(data_HW_mod, aes(x = age_num,y = r_deviance_std, color = survived)) + \n",
    "      geom_point() \n",
    "grid.arrange(p1, p2, nrow = 1)"
   ]
  },
  {
   "cell_type": "code",
   "execution_count": null,
   "metadata": {
    "id": "7Uydx4Gbyuou",
    "vscode": {
     "languageId": "r"
    }
   },
   "outputs": [],
   "source": []
  },
  {
   "cell_type": "code",
   "execution_count": null,
   "metadata": {
    "id": "FvbwSkYS9jIQ",
    "vscode": {
     "languageId": "r"
    }
   },
   "outputs": [],
   "source": []
  },
  {
   "cell_type": "markdown",
   "metadata": {
    "id": "B8A_m1M7GHfc"
   },
   "source": [
    "## Post hoc analysis by quality of fitted values"
   ]
  },
  {
   "cell_type": "code",
   "execution_count": null,
   "metadata": {
    "id": "B1y5b5Sc9jLe",
    "vscode": {
     "languageId": "r"
    }
   },
   "outputs": [],
   "source": [
    "# Fit a  model\n",
    "table(data_HW_mod$predict, data_HW$survived)"
   ]
  },
  {
   "cell_type": "code",
   "execution_count": null,
   "metadata": {
    "id": "ipcId_Ol9jOY",
    "vscode": {
     "languageId": "r"
    }
   },
   "outputs": [],
   "source": [
    "install.packages(\"caret\")\n",
    "library(caret)\n",
    "install.packages(\"e1071\")\n",
    "library(e1071)\n",
    "install.packages(\"tidymodels\")\n",
    "library(tidymodels)\n",
    " "
   ]
  },
  {
   "cell_type": "code",
   "execution_count": null,
   "metadata": {
    "id": "f0VMvxaaCIkV",
    "vscode": {
     "languageId": "r"
    }
   },
   "outputs": [],
   "source": [
    "confusionMatrix(data_HW_mod$predict, data_HW_mod$survived, positive = \"1\")"
   ]
  },
  {
   "cell_type": "code",
   "execution_count": null,
   "metadata": {
    "id": "JbXyE9byGQ13",
    "vscode": {
     "languageId": "r"
    }
   },
   "outputs": [],
   "source": [
    "ggplot(data_HW_mod, aes(x=fitted, color=survived)) +\n",
    "  geom_histogram(fill=\"white\",aes(y=..density..), alpha=0.1, position=\"identity\") +\n",
    "   geom_density(aes(y=..density..))\n",
    "\n",
    "# Overlaid histograms\n",
    "#ggplot(df, aes(x=weight, color=sex)) +\n",
    "#  geom_histogram(fill=\"white\", alpha=0.5, position=\"identity\")"
   ]
  },
  {
   "cell_type": "code",
   "execution_count": null,
   "metadata": {
    "id": "82ROBD5ICInN",
    "vscode": {
     "languageId": "r"
    }
   },
   "outputs": [],
   "source": [
    "data_HW_mod = data_HW_mod %>%\n",
    "  mutate(predict_04 = as.factor(ifelse(fitted > 0.4, \"1\", \"0\")) )\n",
    "head(data_HW_mod)\n",
    "confusionMatrix(data_HW_mod$predict_04, data_HW_mod$survived, positive = \"1\")"
   ]
  },
  {
   "cell_type": "code",
   "execution_count": null,
   "metadata": {
    "id": "rcvHrJ61CIqv",
    "vscode": {
     "languageId": "r"
    }
   },
   "outputs": [],
   "source": [
    "(332+232)/(332 + 55 + + 86 + 232) # Accuracy from Confusion Matrix"
   ]
  },
  {
   "cell_type": "code",
   "execution_count": null,
   "metadata": {
    "id": "AbXPDa5L9jTc",
    "vscode": {
     "languageId": "r"
    }
   },
   "outputs": [],
   "source": []
  },
  {
   "cell_type": "markdown",
   "metadata": {
    "id": "8HDo1IxQLGxd"
   },
   "source": [
    "## Use test data"
   ]
  },
  {
   "cell_type": "code",
   "execution_count": 8,
   "metadata": {
    "id": "DPguRPRVLpIw",
    "vscode": {
     "languageId": "r"
    }
   },
   "outputs": [
    {
     "data": {
      "text/html": [
       "<div>\n",
       "<style scoped>\n",
       "    .dataframe tbody tr th:only-of-type {\n",
       "        vertical-align: middle;\n",
       "    }\n",
       "\n",
       "    .dataframe tbody tr th {\n",
       "        vertical-align: top;\n",
       "    }\n",
       "\n",
       "    .dataframe thead th {\n",
       "        text-align: right;\n",
       "    }\n",
       "</style>\n",
       "<table border=\"1\" class=\"dataframe\">\n",
       "  <thead>\n",
       "    <tr style=\"text-align: right;\">\n",
       "      <th></th>\n",
       "      <th>pclass</th>\n",
       "      <th>name</th>\n",
       "      <th>sex</th>\n",
       "      <th>age</th>\n",
       "      <th>sibsp</th>\n",
       "      <th>parch</th>\n",
       "      <th>ticket</th>\n",
       "      <th>fare</th>\n",
       "      <th>cabin</th>\n",
       "      <th>embarked</th>\n",
       "      <th>boat</th>\n",
       "      <th>body</th>\n",
       "      <th>home.dest</th>\n",
       "      <th>survived</th>\n",
       "    </tr>\n",
       "  </thead>\n",
       "  <tbody>\n",
       "    <tr>\n",
       "      <th>717</th>\n",
       "      <td>3.0</td>\n",
       "      <td>Chronopoulos, Mr. Demetrios</td>\n",
       "      <td>male</td>\n",
       "      <td>18.0</td>\n",
       "      <td>1.0</td>\n",
       "      <td>0.0</td>\n",
       "      <td>2680</td>\n",
       "      <td>14.4542</td>\n",
       "      <td>None</td>\n",
       "      <td>C</td>\n",
       "      <td>None</td>\n",
       "      <td>NaN</td>\n",
       "      <td>Greece</td>\n",
       "      <td>0</td>\n",
       "    </tr>\n",
       "    <tr>\n",
       "      <th>677</th>\n",
       "      <td>3.0</td>\n",
       "      <td>Bostandyeff, Mr. Guentcho</td>\n",
       "      <td>male</td>\n",
       "      <td>26.0</td>\n",
       "      <td>0.0</td>\n",
       "      <td>0.0</td>\n",
       "      <td>349224</td>\n",
       "      <td>7.8958</td>\n",
       "      <td>None</td>\n",
       "      <td>S</td>\n",
       "      <td>None</td>\n",
       "      <td>NaN</td>\n",
       "      <td>Bulgaria Chicago, IL</td>\n",
       "      <td>0</td>\n",
       "    </tr>\n",
       "    <tr>\n",
       "      <th>40</th>\n",
       "      <td>1.0</td>\n",
       "      <td>Brewe, Dr. Arthur Jackson</td>\n",
       "      <td>male</td>\n",
       "      <td>NaN</td>\n",
       "      <td>0.0</td>\n",
       "      <td>0.0</td>\n",
       "      <td>112379</td>\n",
       "      <td>39.6000</td>\n",
       "      <td>None</td>\n",
       "      <td>C</td>\n",
       "      <td>None</td>\n",
       "      <td>NaN</td>\n",
       "      <td>Philadelphia, PA</td>\n",
       "      <td>0</td>\n",
       "    </tr>\n",
       "    <tr>\n",
       "      <th>982</th>\n",
       "      <td>3.0</td>\n",
       "      <td>Lyntakoff, Mr. Stanko</td>\n",
       "      <td>male</td>\n",
       "      <td>NaN</td>\n",
       "      <td>0.0</td>\n",
       "      <td>0.0</td>\n",
       "      <td>349235</td>\n",
       "      <td>7.8958</td>\n",
       "      <td>None</td>\n",
       "      <td>S</td>\n",
       "      <td>None</td>\n",
       "      <td>NaN</td>\n",
       "      <td>None</td>\n",
       "      <td>0</td>\n",
       "    </tr>\n",
       "    <tr>\n",
       "      <th>1175</th>\n",
       "      <td>3.0</td>\n",
       "      <td>Sage, Miss. Stella Anna</td>\n",
       "      <td>female</td>\n",
       "      <td>NaN</td>\n",
       "      <td>8.0</td>\n",
       "      <td>2.0</td>\n",
       "      <td>CA. 2343</td>\n",
       "      <td>69.5500</td>\n",
       "      <td>None</td>\n",
       "      <td>S</td>\n",
       "      <td>None</td>\n",
       "      <td>NaN</td>\n",
       "      <td>None</td>\n",
       "      <td>0</td>\n",
       "    </tr>\n",
       "  </tbody>\n",
       "</table>\n",
       "</div>"
      ],
      "text/plain": [
       "      pclass                         name     sex   age  sibsp  parch  \\\n",
       "717      3.0  Chronopoulos, Mr. Demetrios    male  18.0    1.0    0.0   \n",
       "677      3.0    Bostandyeff, Mr. Guentcho    male  26.0    0.0    0.0   \n",
       "40       1.0    Brewe, Dr. Arthur Jackson    male   NaN    0.0    0.0   \n",
       "982      3.0        Lyntakoff, Mr. Stanko    male   NaN    0.0    0.0   \n",
       "1175     3.0      Sage, Miss. Stella Anna  female   NaN    8.0    2.0   \n",
       "\n",
       "        ticket     fare cabin embarked  boat  body             home.dest  \\\n",
       "717       2680  14.4542  None        C  None   NaN                Greece   \n",
       "677     349224   7.8958  None        S  None   NaN  Bulgaria Chicago, IL   \n",
       "40      112379  39.6000  None        C  None   NaN      Philadelphia, PA   \n",
       "982     349235   7.8958  None        S  None   NaN                  None   \n",
       "1175  CA. 2343  69.5500  None        S  None   NaN                  None   \n",
       "\n",
       "     survived  \n",
       "717         0  \n",
       "677         0  \n",
       "40          0  \n",
       "982         0  \n",
       "1175        0  "
      ]
     },
     "execution_count": 8,
     "metadata": {},
     "output_type": "execute_result"
    }
   ],
   "source": [
    "titanic_test.head()"
   ]
  },
  {
   "cell_type": "code",
   "execution_count": null,
   "metadata": {
    "id": "AumkO643J2nz",
    "vscode": {
     "languageId": "r"
    }
   },
   "outputs": [],
   "source": [
    "data_test = titanic_test %>%\n",
    "  dplyr::select(Age,Fare,Pclass,Sex,Embarked) %>%\n",
    "  filter(Embarked %in% c(\"C\",\"Q\",\"S\")) %>%\n",
    "  drop_na %>%\n",
    "  transmute(age  = cut(Age, breaks=c(-Inf, 16, Inf), labels=c(\"child\",\"adult\")),\n",
    "            age_num = Age,\n",
    "            fare = Fare,\n",
    "            fare_quantile = ntile(Fare, 8),\n",
    "            fare_quantile2 = cut(Fare, quantile(Fare, prob = seq(0,1,length = 9), type = 8)), \n",
    "            class = as.factor(Pclass),\n",
    "            sex = as.factor(Sex),\n",
    "            embarked = as.factor(Embarked)) %>%\n",
    "  drop_na \n",
    "  summary(data_test)"
   ]
  },
  {
   "cell_type": "code",
   "execution_count": null,
   "metadata": {
    "id": "eyl9UkO3J2tU",
    "vscode": {
     "languageId": "r"
    }
   },
   "outputs": [],
   "source": []
  },
  {
   "cell_type": "code",
   "execution_count": null,
   "metadata": {
    "id": "WjptemJqJ2qp",
    "vscode": {
     "languageId": "r"
    }
   },
   "outputs": [],
   "source": [
    "## Plot train\n",
    "\n",
    "data_test = data_test %>%\n",
    "  mutate(fitted = predict(mod_1, newdata = data_test, type = \"response\"),\n",
    "         predict = as.factor(ifelse(fitted > 0.5, \"1\", \"0\")) ) %>%\n",
    "         arrange(age_num)\n",
    "head(data_test)\n",
    "\n",
    "\n",
    "plt = ggplot(data_test, aes(x = age_num, y = fitted, colour = sex:class)) +\n",
    "    geom_line() +\n",
    "    geom_rug(aes(y = survived_num, colour = survived), data = data_HW_mod) +\n",
    "    #scale_colour_discrete(name = 'Survived') +\n",
    "    labs(x = 'Age', y = 'Probability of survived')\n",
    "plt\n",
    "\n"
   ]
  },
  {
   "cell_type": "code",
   "execution_count": null,
   "metadata": {
    "id": "6fsoPecdQRVj",
    "vscode": {
     "languageId": "r"
    }
   },
   "outputs": [],
   "source": [
    "data_test_select = data_test %>%\n",
    "  dplyr::filter(sex == \"male\",\n",
    "               class == \"2\")\n",
    "\n",
    "plt = ggplot(data_test_select, aes(x = age_num, y = fitted)) +\n",
    "    geom_line() +\n",
    "    geom_rug(aes(y = survived_num, colour = survived), data = data_HW_mod) +\n",
    "    #scale_colour_discrete(name = 'Survived') +\n",
    "    labs(x = 'Age', y = 'Probability of survived')\n",
    "plt\n"
   ]
  },
  {
   "cell_type": "markdown",
   "metadata": {
    "id": "Y9jQj8n4Qs3G"
   },
   "source": [
    "Wrong way to plot confidence interval"
   ]
  },
  {
   "cell_type": "code",
   "execution_count": null,
   "metadata": {
    "id": "uuy1Yd6jVYKI",
    "vscode": {
     "languageId": "r"
    }
   },
   "outputs": [],
   "source": [
    "#plt = ggplot(data_test, aes(x = age_num, y = fitted, colour = sex:class)) +\n",
    "#    geom_line() +\n",
    "#    geom_rug(aes(y = survived_num, colour = survived), data = data_HW_mod) +\n",
    "#    #scale_colour_discrete(name = 'Survived') +\n",
    "#    labs(x = 'Age', y = 'Probability of survived')\n",
    "#plt"
   ]
  },
  {
   "cell_type": "code",
   "execution_count": null,
   "metadata": {
    "id": "eTmmVknMJ2v-",
    "vscode": {
     "languageId": "r"
    }
   },
   "outputs": [],
   "source": [
    "## add standard errors and compute a 95% interval the wrong way\n",
    "data_test_select = data_test_select %>%\n",
    "  mutate(wrong_se = predict(mod_1, newdata = data_test_select, type = 'response',se.fit = TRUE)$se.fit,\n",
    "         wrong_upr = fitted + (2 * wrong_se),\n",
    "         wrong_lwr = fitted - (2 * wrong_se))\n",
    "\n",
    "plt + geom_ribbon(data = data_test_select, aes(ymin = wrong_lwr, ymax = wrong_upr),\n",
    "                  alpha = 0.1)\n",
    "\n",
    "\n"
   ]
  },
  {
   "cell_type": "code",
   "execution_count": null,
   "metadata": {
    "id": "7shmtwpQJ2yc",
    "vscode": {
     "languageId": "r"
    }
   },
   "outputs": [],
   "source": []
  },
  {
   "cell_type": "markdown",
   "metadata": {
    "id": "kKOeZKUDR_2T"
   },
   "source": [
    "Right way"
   ]
  },
  {
   "cell_type": "code",
   "execution_count": null,
   "metadata": {
    "id": "wAQ0XDOiSpVk",
    "vscode": {
     "languageId": "r"
    }
   },
   "outputs": [],
   "source": [
    "#predict(mod_1, data_test_select, se.fit = TRUE)\n"
   ]
  },
  {
   "cell_type": "code",
   "execution_count": null,
   "metadata": {
    "id": "Ocg3o-RhJ21V",
    "vscode": {
     "languageId": "r"
    }
   },
   "outputs": [],
   "source": [
    "ilink = family(mod_1)$linkinv\n",
    "quant_t = qt(0.025, df = df.residual(mod_1), lower.tail = FALSE)\n",
    "quant_n = qnorm(0.005, lower.tail = FALSE)\n",
    "## add fit and se.fit on the **link** scale\n",
    "data_test_select = data_test_select %>%\n",
    "   mutate(fit_link = predict(mod_1, data_test_select, se.fit = TRUE)$fit,\n",
    "          se_link  = predict(mod_1, data_test_select, se.fit = TRUE)$se.fit,\n",
    "          fit  = ilink(fit_link),\n",
    "          fit_ul = ilink(fit_link + (quant_n * se_link)),\n",
    "          fit_ll = ilink(fit_link - (quant_n * se_link)))\n",
    "## show\n",
    "head(data_test_select)\n",
    "\n",
    "plt + geom_ribbon(data = data_test_select,\n",
    "                  aes(ymin = fit_ll, ymax = fit_ul),\n",
    "                  alpha = 0.1)\n",
    "\n"
   ]
  },
  {
   "cell_type": "markdown",
   "metadata": {
    "id": "btwAWoSYZOUX"
   },
   "source": [
    "Binary classification"
   ]
  },
  {
   "cell_type": "markdown",
   "metadata": {
    "id": "87o4YqSPZSOc"
   },
   "source": [
    "https://en.wikipedia.org/wiki/Binary_classification\n",
    "\n",
    "https://en.wikipedia.org/wiki/Sensitivity_and_specificity\n",
    "\n",
    "https://en.wikipedia.org/wiki/Receiver_operating_characteristic\n",
    "\n"
   ]
  },
  {
   "cell_type": "markdown",
   "metadata": {
    "id": "M2qBbWteZdBj"
   },
   "source": [
    "In R many different packages:  /TODO prepare for Python/\n",
    "\n",
    "https://rviews.rstudio.com/2019/03/01/some-r-packages-for-roc-curves/\n",
    "\n",
    "https://cran.r-project.org/web/packages/ROCit/index.html\n",
    "\n",
    "https://cran.r-project.org/web/packages/pROC/index.html\n",
    "\n",
    "https://cran.r-project.org/web/packages/ROCR/"
   ]
  },
  {
   "cell_type": "code",
   "execution_count": null,
   "metadata": {
    "id": "bKZ3Ug3HSCNq",
    "vscode": {
     "languageId": "r"
    }
   },
   "outputs": [],
   "source": [
    "install.packages(\"pROC\")\n",
    "library(pROC)"
   ]
  },
  {
   "cell_type": "markdown",
   "metadata": {
    "id": "Li1Kkmp5cUm5"
   },
   "source": [
    "Intro with pROC: https://rpubs.com/Wangzf/pROC"
   ]
  },
  {
   "cell_type": "code",
   "execution_count": null,
   "metadata": {
    "id": "XLe_aF7_SCQp",
    "vscode": {
     "languageId": "r"
    }
   },
   "outputs": [],
   "source": [
    "plot.roc(data_HW_mod$survived, data_HW_mod$fitted,          # data\n",
    "         percent = TRUE,                    # show all values in percent\n",
    "         #partial.auc=c(100, 90), \n",
    "         #partial.auc.correct=True,          # define a partial AUC (pAUC)\n",
    "         print.auc=TRUE,                    \n",
    "         #display pAUC value on the plot with following options:\n",
    "         #print.auc.pattern = \"Corrected pAUC (100-90%% SP):\\n%.1f%%\",\n",
    "         #print.auc.col = \"#1c61b6\",\n",
    "         #auc.polygon = TRUE, \n",
    "         #auc.polygon.col = \"#1c61b6\",       # show pAUC as a polygon\n",
    "         #max.auc.polygon = TRUE, \n",
    "         #max.auc.polygon.col = \"#1c61b622\", # also show the 100% polygon\n",
    "         main = \"Partial AUC (pAUC)\")\n",
    "\n"
   ]
  },
  {
   "cell_type": "code",
   "execution_count": null,
   "metadata": {
    "id": "ZqVP5s9DbnqN",
    "vscode": {
     "languageId": "r"
    }
   },
   "outputs": [],
   "source": [
    "plot.roc(data_HW_mod$survived, data_HW_mod$fitted,          # data\n",
    "         percent = TRUE,                    # show all values in percent\n",
    "         partial.auc=c(100, 90), \n",
    "         partial.auc.correct=TRUE,          # define a partial AUC (pAUC)\n",
    "         print.auc=TRUE,                    \n",
    "         #display pAUC value on the plot with following options:\n",
    "         print.auc.pattern = \"Corrected pAUC (100-90%% SP):\\n%.1f%%\",\n",
    "         print.auc.col = \"#1c61b6\",\n",
    "         auc.polygon = TRUE, \n",
    "         auc.polygon.col = \"#1c61b6\",       # show pAUC as a polygon\n",
    "         max.auc.polygon = TRUE, \n",
    "         max.auc.polygon.col = \"#1c61b622\", # also show the 100% polygon\n",
    "         main = \"Partial AUC (pAUC)\")\n",
    "plot.roc(data_HW_mod$survived, data_HW_mod$fitted,\n",
    "         percent = TRUE, \n",
    "         add = TRUE, \n",
    "         type = \"n\",                        # add to plot, but don't re-add the ROC itself (useless)\n",
    "         partial.auc = c(100, 90), \n",
    "         partial.auc.correct = TRUE,\n",
    "         partial.auc.focus = \"se\",          # focus pAUC on the sensitivity\n",
    "         print.auc = TRUE, \n",
    "         print.auc.pattern = \"Corrected pAUC (100-90%% SE):\\n%.1f%%\", \n",
    "         print.auc.col = \"#008600\",\n",
    "         print.auc.y = 40,                  # do not print auc over the previous one\n",
    "         auc.polygon = TRUE, \n",
    "         auc.polygon.col = \"#008600\",\n",
    "         max.auc.polygon = TRUE, \n",
    "         max.auc.polygon.col = \"#00860022\")"
   ]
  },
  {
   "cell_type": "code",
   "execution_count": null,
   "metadata": {
    "id": "Z6qGXKSpvLFH",
    "vscode": {
     "languageId": "r"
    }
   },
   "outputs": [],
   "source": [
    "install.packages(\"ROCR\")\n",
    "library(ROCR)\n",
    "pr = prediction(data_HW_mod$fitted, data_HW_mod$survived)\n",
    "prf = performance(pr, measure = \"tpr\", x.measure = \"fpr\")\n",
    "plot(prf)\n",
    "#? performance\n",
    "auc = performance(pr, measure = \"auc\")\n",
    "auc = auc@y.values[[1]]\n",
    "auc"
   ]
  },
  {
   "cell_type": "code",
   "execution_count": null,
   "metadata": {
    "id": "5FEIj8REhxZt",
    "vscode": {
     "languageId": "r"
    }
   },
   "outputs": [],
   "source": []
  },
  {
   "cell_type": "markdown",
   "metadata": {
    "id": "76UBUNIMcthh"
   },
   "source": [
    "## Your Turn :\n",
    "\n",
    "* Compute a new variable `nrelatives = sibsp + parch`\n",
    "* Fit model with this new variable (you can try use it as continuous or as factor (change levels)) and `sex, age, fare, class, embarked`\n",
    "* Try to use `step` function to find the \"best\" model.\n",
    "* Validate the model. Are all variables significant? If you have any numerical variable, does it need any transformation?\n",
    "* Plot densities of fitted probabilities for survived/not survived and choose optimal threshold.\n",
    "* Compute the confusion matrix and basic statistics and compare results of your model with model mod_1\n",
    "* Plot ROC curve of your model together with ROC curve of mod_1. Which one has larger AUC."
   ]
  },
  {
   "cell_type": "code",
   "execution_count": null,
   "metadata": {
    "id": "xCn9FM42tc2P",
    "vscode": {
     "languageId": "r"
    }
   },
   "outputs": [],
   "source": []
  }
 ],
 "metadata": {
  "colab": {
   "authorship_tag": "ABX9TyOS6EtqeFrFULJJ+5TG1tiq",
   "collapsed_sections": [],
   "include_colab_link": true,
   "name": "01ZLMA_ex08_Binary_Data_2.ipynb",
   "private_outputs": true,
   "provenance": []
  },
  "kernelspec": {
   "display_name": "Python 3",
   "language": "python",
   "name": "python3"
  },
  "language_info": {
   "codemirror_mode": {
    "name": "ipython",
    "version": 3
   },
   "file_extension": ".py",
   "mimetype": "text/x-python",
   "name": "python",
   "nbconvert_exporter": "python",
   "pygments_lexer": "ipython3",
   "version": "3.9.1"
  }
 },
 "nbformat": 4,
 "nbformat_minor": 1
}
