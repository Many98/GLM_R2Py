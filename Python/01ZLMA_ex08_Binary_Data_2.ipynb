{
 "cells": [
  {
   "cell_type": "markdown",
   "metadata": {
    "colab_type": "text",
    "id": "view-in-github"
   },
   "source": [
    "<a href=\"https://colab.research.google.com/github/Many98/GLM_R2Py/blob/main/Python/01ZLMA_ex08_Binary_Data_2.ipynb\" target=\"_parent\"><img src=\"https://colab.research.google.com/assets/colab-badge.svg\" alt=\"Open In Colab\"/></a>"
   ]
  },
  {
   "cell_type": "markdown",
   "metadata": {
    "id": "oD47O_0VwUBm"
   },
   "source": [
    "Exercise 08 of the course 01ZLMA. \n",
    "\n",
    "# GLM for Discrete response - Binary Data Analysis (02)\n",
    "\n",
    "Alternative and Binomial responses"
   ]
  },
  {
   "cell_type": "markdown",
   "metadata": {
    "id": "l2EHCMAWUHT6",
    "lines_to_next_cell": 0
   },
   "source": [
    "**Bernoulli (Alternative) Model**\n",
    "\n",
    "$$Y_{i,j} \\sim Be(\\pi_i) \\ i = 1,\\ldots,K \\ \\text{and} \\ j = 1,\\ldots, n_i.$$\n",
    "$K$ is number of groups, $n_i$ is number of observations in group $i$ and $\\sum_{i=1}^{K} = N$\n",
    "$$ E[Y_{i,j}] = \\pi_i \\ \\text{and} \\ g(\\pi_i) = \\eta_i =x_i^T \\beta $$\n",
    "\n",
    "\n",
    "**Binomial Model**\n",
    "$$Y_i = \\sum_{j=1}^{n_i} Y_{i,j} \\sim Bi(n_i, \\pi_i)$$"
   ]
  },
  {
   "cell_type": "markdown",
   "metadata": {
    "id": "urFC1XzcWd1t"
   },
   "source": [
    "**Without continuos covariate (only factor variables)**\n",
    "\n",
    "$K$ is constant and $n_i \\rightarrow \\infty $\n",
    "\n",
    "**With at least one continuos covariate**\n",
    "\n",
    "$n_i \\approx 1$ ( $n_i$ is small enough) and $K \\rightarrow \\infty$\n",
    "\n"
   ]
  },
  {
   "cell_type": "markdown",
   "metadata": {
    "id": "lSgD34dQW1cE"
   },
   "source": [
    "## Link functions for binary data\n",
    "\n",
    "**Logistic function:**\n",
    "\n",
    "The logistic function is the canonical link function for binary responses, and it is CDF of the standard logistic distribution.\n",
    "\n",
    "$$\\pi_i = \\frac{1}{1+e^{-x_i^T \\beta}} $$ \n",
    "\n",
    "\n",
    "**Probit function:**\n",
    "\n",
    "The CDF of the normal distribution. \n",
    "$$\\pi_i = \\Phi({x_i^T \\beta}) $$ \n",
    "\n",
    "\n",
    "**Cauchit function:**\n",
    "\n",
    "The CDF of the Cauchy distribution\n",
    "\n",
    "$$\\pi_i = \\frac{1}{\\pi}\\text{arctan}(x_i^T \\beta) + \\frac{1}{2} $$ \n",
    "\n",
    "\n",
    "**Complementary log-log (cloglog) function:**\n",
    "\n",
    "The inverse of the conditional log-log function (CDF of the Gumbel distribution)\n",
    "\n",
    "$$\\pi_i = 1 − e^{-e^{x_i^T \\beta}}$$\n",
    "\n",
    "The counter part of the cloglog function is log-log link function."
   ]
  },
  {
   "cell_type": "code",
   "execution_count": 6,
   "metadata": {
    "id": "Jv5SOQ0TUHT7",
    "vscode": {
     "languageId": "r"
    }
   },
   "outputs": [],
   "source": [
    "import numpy as np\n",
    "import scipy\n",
    "from scipy import stats\n",
    "\n",
    "import statsmodels.api as sm\n",
    "import statsmodels.formula.api as smf\n",
    "\n",
    "from sklearn import datasets\n",
    "from sklearn.model_selection import train_test_split\n",
    "\n",
    "import matplotlib.pyplot as plt\n",
    "import seaborn as sns\n",
    "from statsmodels.graphics.api import abline_plot\n",
    "\n",
    "import pandas as pd\n",
    "\n",
    "from helpers import DiagnosticPlots ,chisq\n",
    "from dfply import *  # handy module to mimic R dplyr library\n",
    "\n"
   ]
  },
  {
   "cell_type": "code",
   "execution_count": 2,
   "metadata": {},
   "outputs": [
    {
     "data": {
      "image/png": "[encoded data removed]",
      "text/plain": [
       "<Figure size 432x288 with 1 Axes>"
      ]
     },
     "metadata": {
      "needs_background": "light"
     },
     "output_type": "display_data"
    }
   ],
   "source": [
    "x = np.tile(np.linspace(-5, 5, 101), 4).reshape(4, -1)\n",
    "y = []\n",
    "names =[]\n",
    "\n",
    "for i, j in enumerate(zip((\"logit\", \"probit\", \"cauchit\", \"cloglog\"), \n",
    "                (sm.genmod.families.links.Logit(), sm.genmod.families.links.probit(), \n",
    "                 sm.genmod.families.links.cauchy(), sm.genmod.families.links.CLogLog()))):\n",
    "    \n",
    "    y.append(j[1].inverse(x[i]))\n",
    "    names.append([j[0]]*len(x[i]))\n",
    "    \n",
    "y = np.array(y).flatten()\n",
    "n = np.array(names).flatten()\n",
    "\n",
    "fig, ax = plt.subplots()\n",
    "\n",
    "\n",
    "\n",
    "sns.lineplot(x='x', y='y', data=pd.DataFrame(data={'x': x.flatten(), 'y': y, 'n': n}), ax=ax, hue='n')\n",
    "    \n",
    "\n",
    "ax.legend()\n",
    "ax.set_xlabel(r'$x_i^T \\beta$')\n",
    "ax.set_ylabel(r'$\\pi_i$')\n",
    "plt.show()"
   ]
  },
  {
   "cell_type": "markdown",
   "metadata": {
    "id": "dnlQ4vEGYGOH"
   },
   "source": [
    "## Logistic regression with Titanic dataset\n",
    "\n",
    "https://www.kaggle.com/c/titanic/data\n",
    "\n",
    "| Variable |                 Definition                 |                       Key                      |\n",
    "|:--------:|:------------------------------------------:|:----------------------------------------------:|\n",
    "| survival | Survival                                   | 0 = No, 1 = Yes                                |\n",
    "| pclass   | Ticket class                               | 1 = 1st, 2 = 2nd, 3 = 3rd                      |\n",
    "| sex      | Sex                                        |                                                |\n",
    "| Age      | Age in years                               |                                                |\n",
    "| sibsp    | # of siblings / spouses aboard the Titanic |                                                |\n",
    "| parch    | # of parents / children aboard the Titanic |                                                |\n",
    "| ticket   | Ticket number                              |                                                |\n",
    "| fare     | Passenger fare                             |                                                |\n",
    "| cabin    | Cabin number                               |                                                |\n",
    "| embarked | Port of Embarkation                        | C = Cherbourg, Q = Queenstown, S = Southampton |"
   ]
  },
  {
   "cell_type": "code",
   "execution_count": 3,
   "metadata": {
    "id": "VxBIs-aDYMxd",
    "vscode": {
     "languageId": "r"
    }
   },
   "outputs": [],
   "source": [
    "X, y = datasets.fetch_openml(\"titanic\", version=1, as_frame=True, return_X_y=True)\n",
    "X_train, X_test, y_train, y_test = train_test_split(X, y, stratify=y, test_size=0.2)\n",
    "\n",
    "titanic_train = pd.concat([X_train, y_train], axis=1)\n",
    "titanic_test = pd.concat([X_test, y_test], axis=1)"
   ]
  },
  {
   "cell_type": "code",
   "execution_count": 4,
   "metadata": {
    "id": "AfwAohjgfMvg",
    "vscode": {
     "languageId": "r"
    }
   },
   "outputs": [
    {
     "data": {
      "text/html": [
       "<div>\n",
       "<style scoped>\n",
       "    .dataframe tbody tr th:only-of-type {\n",
       "        vertical-align: middle;\n",
       "    }\n",
       "\n",
       "    .dataframe tbody tr th {\n",
       "        vertical-align: top;\n",
       "    }\n",
       "\n",
       "    .dataframe thead th {\n",
       "        text-align: right;\n",
       "    }\n",
       "</style>\n",
       "<table border=\"1\" class=\"dataframe\">\n",
       "  <thead>\n",
       "    <tr style=\"text-align: right;\">\n",
       "      <th></th>\n",
       "      <th>pclass</th>\n",
       "      <th>name</th>\n",
       "      <th>sex</th>\n",
       "      <th>age</th>\n",
       "      <th>sibsp</th>\n",
       "      <th>parch</th>\n",
       "      <th>ticket</th>\n",
       "      <th>fare</th>\n",
       "      <th>cabin</th>\n",
       "      <th>embarked</th>\n",
       "      <th>boat</th>\n",
       "      <th>body</th>\n",
       "      <th>home.dest</th>\n",
       "      <th>survived</th>\n",
       "    </tr>\n",
       "  </thead>\n",
       "  <tbody>\n",
       "    <tr>\n",
       "      <th>count</th>\n",
       "      <td>262.000000</td>\n",
       "      <td>262</td>\n",
       "      <td>262</td>\n",
       "      <td>208.000000</td>\n",
       "      <td>262.000000</td>\n",
       "      <td>262.000000</td>\n",
       "      <td>262</td>\n",
       "      <td>262.000000</td>\n",
       "      <td>52</td>\n",
       "      <td>261</td>\n",
       "      <td>98</td>\n",
       "      <td>24.000000</td>\n",
       "      <td>148</td>\n",
       "      <td>262</td>\n",
       "    </tr>\n",
       "    <tr>\n",
       "      <th>unique</th>\n",
       "      <td>NaN</td>\n",
       "      <td>262</td>\n",
       "      <td>2</td>\n",
       "      <td>NaN</td>\n",
       "      <td>NaN</td>\n",
       "      <td>NaN</td>\n",
       "      <td>242</td>\n",
       "      <td>NaN</td>\n",
       "      <td>49</td>\n",
       "      <td>3</td>\n",
       "      <td>23</td>\n",
       "      <td>NaN</td>\n",
       "      <td>125</td>\n",
       "      <td>2</td>\n",
       "    </tr>\n",
       "    <tr>\n",
       "      <th>top</th>\n",
       "      <td>NaN</td>\n",
       "      <td>Burns, Miss. Elizabeth Margaret</td>\n",
       "      <td>male</td>\n",
       "      <td>NaN</td>\n",
       "      <td>NaN</td>\n",
       "      <td>NaN</td>\n",
       "      <td>12749</td>\n",
       "      <td>NaN</td>\n",
       "      <td>C78</td>\n",
       "      <td>S</td>\n",
       "      <td>15</td>\n",
       "      <td>NaN</td>\n",
       "      <td>New York, NY</td>\n",
       "      <td>0</td>\n",
       "    </tr>\n",
       "    <tr>\n",
       "      <th>freq</th>\n",
       "      <td>NaN</td>\n",
       "      <td>1</td>\n",
       "      <td>172</td>\n",
       "      <td>NaN</td>\n",
       "      <td>NaN</td>\n",
       "      <td>NaN</td>\n",
       "      <td>3</td>\n",
       "      <td>NaN</td>\n",
       "      <td>2</td>\n",
       "      <td>172</td>\n",
       "      <td>12</td>\n",
       "      <td>NaN</td>\n",
       "      <td>10</td>\n",
       "      <td>162</td>\n",
       "    </tr>\n",
       "    <tr>\n",
       "      <th>mean</th>\n",
       "      <td>2.301527</td>\n",
       "      <td>NaN</td>\n",
       "      <td>NaN</td>\n",
       "      <td>29.812901</td>\n",
       "      <td>0.366412</td>\n",
       "      <td>0.354962</td>\n",
       "      <td>NaN</td>\n",
       "      <td>29.939677</td>\n",
       "      <td>NaN</td>\n",
       "      <td>NaN</td>\n",
       "      <td>NaN</td>\n",
       "      <td>202.458333</td>\n",
       "      <td>NaN</td>\n",
       "      <td>NaN</td>\n",
       "    </tr>\n",
       "    <tr>\n",
       "      <th>std</th>\n",
       "      <td>0.833171</td>\n",
       "      <td>NaN</td>\n",
       "      <td>NaN</td>\n",
       "      <td>14.491698</td>\n",
       "      <td>0.697078</td>\n",
       "      <td>0.998060</td>\n",
       "      <td>NaN</td>\n",
       "      <td>39.516918</td>\n",
       "      <td>NaN</td>\n",
       "      <td>NaN</td>\n",
       "      <td>NaN</td>\n",
       "      <td>105.135101</td>\n",
       "      <td>NaN</td>\n",
       "      <td>NaN</td>\n",
       "    </tr>\n",
       "    <tr>\n",
       "      <th>min</th>\n",
       "      <td>1.000000</td>\n",
       "      <td>NaN</td>\n",
       "      <td>NaN</td>\n",
       "      <td>0.166700</td>\n",
       "      <td>0.000000</td>\n",
       "      <td>0.000000</td>\n",
       "      <td>NaN</td>\n",
       "      <td>0.000000</td>\n",
       "      <td>NaN</td>\n",
       "      <td>NaN</td>\n",
       "      <td>NaN</td>\n",
       "      <td>14.000000</td>\n",
       "      <td>NaN</td>\n",
       "      <td>NaN</td>\n",
       "    </tr>\n",
       "    <tr>\n",
       "      <th>25%</th>\n",
       "      <td>2.000000</td>\n",
       "      <td>NaN</td>\n",
       "      <td>NaN</td>\n",
       "      <td>20.750000</td>\n",
       "      <td>0.000000</td>\n",
       "      <td>0.000000</td>\n",
       "      <td>NaN</td>\n",
       "      <td>7.860450</td>\n",
       "      <td>NaN</td>\n",
       "      <td>NaN</td>\n",
       "      <td>NaN</td>\n",
       "      <td>162.750000</td>\n",
       "      <td>NaN</td>\n",
       "      <td>NaN</td>\n",
       "    </tr>\n",
       "    <tr>\n",
       "      <th>50%</th>\n",
       "      <td>3.000000</td>\n",
       "      <td>NaN</td>\n",
       "      <td>NaN</td>\n",
       "      <td>28.000000</td>\n",
       "      <td>0.000000</td>\n",
       "      <td>0.000000</td>\n",
       "      <td>NaN</td>\n",
       "      <td>13.000000</td>\n",
       "      <td>NaN</td>\n",
       "      <td>NaN</td>\n",
       "      <td>NaN</td>\n",
       "      <td>204.500000</td>\n",
       "      <td>NaN</td>\n",
       "      <td>NaN</td>\n",
       "    </tr>\n",
       "    <tr>\n",
       "      <th>75%</th>\n",
       "      <td>3.000000</td>\n",
       "      <td>NaN</td>\n",
       "      <td>NaN</td>\n",
       "      <td>38.000000</td>\n",
       "      <td>1.000000</td>\n",
       "      <td>0.000000</td>\n",
       "      <td>NaN</td>\n",
       "      <td>29.556250</td>\n",
       "      <td>NaN</td>\n",
       "      <td>NaN</td>\n",
       "      <td>NaN</td>\n",
       "      <td>298.250000</td>\n",
       "      <td>NaN</td>\n",
       "      <td>NaN</td>\n",
       "    </tr>\n",
       "    <tr>\n",
       "      <th>max</th>\n",
       "      <td>3.000000</td>\n",
       "      <td>NaN</td>\n",
       "      <td>NaN</td>\n",
       "      <td>74.000000</td>\n",
       "      <td>5.000000</td>\n",
       "      <td>9.000000</td>\n",
       "      <td>NaN</td>\n",
       "      <td>262.375000</td>\n",
       "      <td>NaN</td>\n",
       "      <td>NaN</td>\n",
       "      <td>NaN</td>\n",
       "      <td>328.000000</td>\n",
       "      <td>NaN</td>\n",
       "      <td>NaN</td>\n",
       "    </tr>\n",
       "  </tbody>\n",
       "</table>\n",
       "</div>"
      ],
      "text/plain": [
       "            pclass                             name   sex         age  \\\n",
       "count   262.000000                              262   262  208.000000   \n",
       "unique         NaN                              262     2         NaN   \n",
       "top            NaN  Burns, Miss. Elizabeth Margaret  male         NaN   \n",
       "freq           NaN                                1   172         NaN   \n",
       "mean      2.301527                              NaN   NaN   29.812901   \n",
       "std       0.833171                              NaN   NaN   14.491698   \n",
       "min       1.000000                              NaN   NaN    0.166700   \n",
       "25%       2.000000                              NaN   NaN   20.750000   \n",
       "50%       3.000000                              NaN   NaN   28.000000   \n",
       "75%       3.000000                              NaN   NaN   38.000000   \n",
       "max       3.000000                              NaN   NaN   74.000000   \n",
       "\n",
       "             sibsp       parch ticket        fare cabin embarked boat  \\\n",
       "count   262.000000  262.000000    262  262.000000    52      261   98   \n",
       "unique         NaN         NaN    242         NaN    49        3   23   \n",
       "top            NaN         NaN  12749         NaN   C78        S   15   \n",
       "freq           NaN         NaN      3         NaN     2      172   12   \n",
       "mean      0.366412    0.354962    NaN   29.939677   NaN      NaN  NaN   \n",
       "std       0.697078    0.998060    NaN   39.516918   NaN      NaN  NaN   \n",
       "min       0.000000    0.000000    NaN    0.000000   NaN      NaN  NaN   \n",
       "25%       0.000000    0.000000    NaN    7.860450   NaN      NaN  NaN   \n",
       "50%       0.000000    0.000000    NaN   13.000000   NaN      NaN  NaN   \n",
       "75%       1.000000    0.000000    NaN   29.556250   NaN      NaN  NaN   \n",
       "max       5.000000    9.000000    NaN  262.375000   NaN      NaN  NaN   \n",
       "\n",
       "              body     home.dest survived  \n",
       "count    24.000000           148      262  \n",
       "unique         NaN           125        2  \n",
       "top            NaN  New York, NY        0  \n",
       "freq           NaN            10      162  \n",
       "mean    202.458333           NaN      NaN  \n",
       "std     105.135101           NaN      NaN  \n",
       "min      14.000000           NaN      NaN  \n",
       "25%     162.750000           NaN      NaN  \n",
       "50%     204.500000           NaN      NaN  \n",
       "75%     298.250000           NaN      NaN  \n",
       "max     328.000000           NaN      NaN  "
      ]
     },
     "execution_count": 4,
     "metadata": {},
     "output_type": "execute_result"
    }
   ],
   "source": [
    "titanic_test.describe(include = 'all')"
   ]
  },
  {
   "cell_type": "markdown",
   "metadata": {
    "id": "v4KddgL4vP3f"
   },
   "source": [
    "# Fast and furios solution of the HW from the previous Ex07\n",
    "\n",
    "Consider a model with continuos variables `age`, `fare`, and any factor variable. \n",
    "\n",
    "* Create factor `age`, which takes values 1 (child) and 0 (adult).\n",
    "* Create factor from varaible `fare` by spliting into 10 groups with approx same number of observations.\n",
    "* What percentage is the chance of survival lower for adult compare to child? \n",
    "* Depends the probability of survival on fare? Test it.\n",
    "* Assume that the chance of survival increases with exponential increasig fare. How the chance of survival increased if the person spent an extra 10 pound for a ticket? \n",
    "* Build a model where the probabilty of survival depends on both `age` and `fare`. Are both covariates significant?\n",
    "* "
   ]
  },
  {
   "cell_type": "code",
   "execution_count": 80,
   "metadata": {
    "id": "ZtEboSVjZ-wD",
    "vscode": {
     "languageId": "r"
    }
   },
   "outputs": [
    {
     "name": "stdout",
     "output_type": "stream",
     "text": [
      "       survived         age         fare       pclass   sex embarked\n",
      "count      1047  838.000000  1046.000000  1047.000000  1047     1046\n",
      "unique        2         NaN          NaN          NaN     2        3\n",
      "top           0         NaN          NaN          NaN  male        S\n",
      "freq        647         NaN          NaN          NaN   671      742\n",
      "mean        NaN   29.898071    34.136034     2.293219   NaN      NaN\n",
      "std         NaN   14.402664    54.378935     0.839388   NaN      NaN\n",
      "min         NaN    0.333300     0.000000     1.000000   NaN      NaN\n",
      "25%         NaN   21.000000     7.925000     2.000000   NaN      NaN\n",
      "50%         NaN   28.000000    14.500000     3.000000   NaN      NaN\n",
      "75%         NaN   39.000000    31.275000     3.000000   NaN      NaN\n",
      "max         NaN   80.000000   512.329200     3.000000   NaN      NaN\n",
      "survived    category\n",
      "age          float64\n",
      "fare         float64\n",
      "pclass       float64\n",
      "sex         category\n",
      "embarked    category\n",
      "dtype: object\n",
      "       survived  survived_num    age     age_num        fare  fare_quantile  \\\n",
      "count       836    836.000000    836  836.000000  836.000000          836.0   \n",
      "unique        2           NaN      2         NaN         NaN            8.0   \n",
      "top           0           NaN  adult         NaN         NaN            6.0   \n",
      "freq        489           NaN    725         NaN         NaN          123.0   \n",
      "mean        NaN      0.415072    NaN   29.851774   37.782705            NaN   \n",
      "std         NaN      0.493029    NaN   14.378153   58.616344            NaN   \n",
      "min         NaN      0.000000    NaN    0.333300    0.000000            NaN   \n",
      "25%         NaN      0.000000    NaN   21.000000    8.050000            NaN   \n",
      "50%         NaN      0.000000    NaN   28.000000   16.100000            NaN   \n",
      "75%         NaN      1.000000    NaN   39.000000   35.812500            NaN   \n",
      "max         NaN      1.000000    NaN   80.000000  512.329200            NaN   \n",
      "\n",
      "          fare_quantile2  class_   sex embarked  \n",
      "count                836   836.0   836      836  \n",
      "unique                 8     3.0     2        3  \n",
      "top     (25.926, 31.275]     3.0  male        S  \n",
      "freq                 123   400.0   517      628  \n",
      "mean                 NaN     NaN   NaN      NaN  \n",
      "std                  NaN     NaN   NaN      NaN  \n",
      "min                  NaN     NaN   NaN      NaN  \n",
      "25%                  NaN     NaN   NaN      NaN  \n",
      "50%                  NaN     NaN   NaN      NaN  \n",
      "75%                  NaN     NaN   NaN      NaN  \n",
      "max                  NaN     NaN   NaN      NaN  \n",
      "<class 'pandas.core.frame.DataFrame'>\n",
      "Int64Index: 836 entries, 175 to 215\n",
      "Data columns (total 10 columns):\n",
      " #   Column          Non-Null Count  Dtype   \n",
      "---  ------          --------------  -----   \n",
      " 0   survived        836 non-null    category\n",
      " 1   survived_num    836 non-null    float64 \n",
      " 2   age             836 non-null    category\n",
      " 3   age_num         836 non-null    float64 \n",
      " 4   fare            836 non-null    float64 \n",
      " 5   fare_quantile   836 non-null    category\n",
      " 6   fare_quantile2  836 non-null    category\n",
      " 7   class_          836 non-null    category\n",
      " 8   sex             836 non-null    category\n",
      " 9   embarked        836 non-null    category\n",
      "dtypes: category(7), float64(3)\n",
      "memory usage: 33.2 KB\n",
      "None\n"
     ]
    }
   ],
   "source": [
    "data_HW = titanic_train >> \\\n",
    "  select(titanic_train.survived,titanic_train.age,titanic_train.fare,titanic_train.pclass,titanic_train.sex,\n",
    "         titanic_train.embarked)\n",
    "\n",
    "data_HW = data_HW.apply(lambda x: x.astype('category') if str(x.dtype) == 'str' else x) \n",
    "print(data_HW.describe(include='all'))\n",
    "print(data_HW.dtypes)\n",
    "\n",
    "data_HW = data_HW >> \\\n",
    "            filter_by(data_HW.embarked.isin(('C', 'S', 'Q')) )  >> \\\n",
    "            transmute(survived = data_HW.survived.astype('category'),\n",
    "                      survived_num = data_HW.survived.astype('float'),\n",
    "                      age = pd.cut(data_HW.age,(-np.inf, 16, np.inf), labels=[\"child\",\"adult\"]),\n",
    "                      age_num = data_HW.age,\n",
    "                      fare = data_HW.fare,\n",
    "                      fare_quantile = pd.qcut(data_HW.fare, q=8, labels=list(range(1, 9))),\n",
    "                      fare_quantile2 = pd.qcut(data_HW.fare, q=np.linspace(0, 1, 9)),\n",
    "                      class_ = data_HW.pclass.astype('category'),\n",
    "                      sex = data_HW.sex.astype('category'),\n",
    "                      embarked = data_HW.embarked.astype('category')) \n",
    "\n",
    "#data_HW.fare_quantile = pd.factorize(data_HW.fare_quantile)\n",
    "data_HW = data_HW.dropna(axis=0, how='any')  # `axis=0` stands for per index (row)\n",
    "\n",
    "       \n",
    "\n",
    "print(data_HW.describe(include='all'))\n",
    "print(data_HW.info())\n"
   ]
  },
  {
   "cell_type": "code",
   "execution_count": null,
   "metadata": {},
   "outputs": [],
   "source": [
    "g = sns.pairplot(data=data_HW, vars=list(data_HW.columns))\n",
    "#g.map_diag(sns.kdeplot)\n",
    "#g.map_lower(sns.histplot)  TODO needs implementation"
   ]
  },
  {
   "cell_type": "code",
   "execution_count": 41,
   "metadata": {},
   "outputs": [
    {
     "data": {
      "text/html": [
       "<table class=\"simpletable\">\n",
       "<caption>Generalized Linear Model Regression Results</caption>\n",
       "<tr>\n",
       "  <th>Dep. Variable:</th>     <td>survived_num</td>   <th>  No. Observations:  </th>  <td>   836</td> \n",
       "</tr>\n",
       "<tr>\n",
       "  <th>Model:</th>                  <td>GLM</td>       <th>  Df Residuals:      </th>  <td>   826</td> \n",
       "</tr>\n",
       "<tr>\n",
       "  <th>Model Family:</th>        <td>Binomial</td>     <th>  Df Model:          </th>  <td>     9</td> \n",
       "</tr>\n",
       "<tr>\n",
       "  <th>Link Function:</th>         <td>Logit</td>      <th>  Scale:             </th> <td>  1.0000</td>\n",
       "</tr>\n",
       "<tr>\n",
       "  <th>Method:</th>                <td>IRLS</td>       <th>  Log-Likelihood:    </th> <td> -418.27</td>\n",
       "</tr>\n",
       "<tr>\n",
       "  <th>Date:</th>            <td>Mon, 05 Sep 2022</td> <th>  Deviance:          </th> <td>  836.53</td>\n",
       "</tr>\n",
       "<tr>\n",
       "  <th>Time:</th>                <td>19:38:19</td>     <th>  Pearson chi2:      </th>  <td>  852.</td> \n",
       "</tr>\n",
       "<tr>\n",
       "  <th>No. Iterations:</th>          <td>5</td>        <th>  Pseudo R-squ. (CS):</th>  <td>0.3000</td> \n",
       "</tr>\n",
       "<tr>\n",
       "  <th>Covariance Type:</th>     <td>nonrobust</td>    <th>                     </th>     <td> </td>   \n",
       "</tr>\n",
       "</table>\n",
       "<table class=\"simpletable\">\n",
       "<tr>\n",
       "                               <td></td>                                 <th>coef</th>     <th>std err</th>      <th>z</th>      <th>P>|z|</th>  <th>[0.025</th>    <th>0.975]</th>  \n",
       "</tr>\n",
       "<tr>\n",
       "  <th>Intercept</th>                                                  <td>    1.3964</td> <td>    0.371</td> <td>    3.762</td> <td> 0.000</td> <td>    0.669</td> <td>    2.124</td>\n",
       "</tr>\n",
       "<tr>\n",
       "  <th>age[T.adult]</th>                                               <td>   -0.5473</td> <td>    0.251</td> <td>   -2.182</td> <td> 0.029</td> <td>   -1.039</td> <td>   -0.056</td>\n",
       "</tr>\n",
       "<tr>\n",
       "  <th>sex[T.male]</th>                                                <td>   -2.3664</td> <td>    0.176</td> <td>  -13.407</td> <td> 0.000</td> <td>   -2.712</td> <td>   -2.020</td>\n",
       "</tr>\n",
       "<tr>\n",
       "  <th>fare_quantile2[T.Interval(7.75, 7.925, closed='right')]</th>    <td>   -0.6346</td> <td>    0.390</td> <td>   -1.625</td> <td> 0.104</td> <td>   -1.400</td> <td>    0.131</td>\n",
       "</tr>\n",
       "<tr>\n",
       "  <th>fare_quantile2[T.Interval(7.925, 10.462, closed='right')]</th>  <td>   -0.8467</td> <td>    0.404</td> <td>   -2.094</td> <td> 0.036</td> <td>   -1.639</td> <td>   -0.054</td>\n",
       "</tr>\n",
       "<tr>\n",
       "  <th>fare_quantile2[T.Interval(10.462, 14.5, closed='right')]</th>   <td>   -0.0746</td> <td>    0.340</td> <td>   -0.220</td> <td> 0.826</td> <td>   -0.740</td> <td>    0.591</td>\n",
       "</tr>\n",
       "<tr>\n",
       "  <th>fare_quantile2[T.Interval(14.5, 25.926, closed='right')]</th>   <td>    0.0914</td> <td>    0.368</td> <td>    0.249</td> <td> 0.804</td> <td>   -0.629</td> <td>    0.812</td>\n",
       "</tr>\n",
       "<tr>\n",
       "  <th>fare_quantile2[T.Interval(25.926, 31.275, closed='right')]</th> <td>    0.1948</td> <td>    0.337</td> <td>    0.578</td> <td> 0.563</td> <td>   -0.465</td> <td>    0.855</td>\n",
       "</tr>\n",
       "<tr>\n",
       "  <th>fare_quantile2[T.Interval(31.275, 69.55, closed='right')]</th>  <td>    0.6294</td> <td>    0.339</td> <td>    1.855</td> <td> 0.064</td> <td>   -0.036</td> <td>    1.294</td>\n",
       "</tr>\n",
       "<tr>\n",
       "  <th>fare_quantile2[T.Interval(69.55, 512.329, closed='right')]</th> <td>    1.0188</td> <td>    0.342</td> <td>    2.979</td> <td> 0.003</td> <td>    0.349</td> <td>    1.689</td>\n",
       "</tr>\n",
       "</table>"
      ],
      "text/plain": [
       "<class 'statsmodels.iolib.summary.Summary'>\n",
       "\"\"\"\n",
       "                 Generalized Linear Model Regression Results                  \n",
       "==============================================================================\n",
       "Dep. Variable:           survived_num   No. Observations:                  836\n",
       "Model:                            GLM   Df Residuals:                      826\n",
       "Model Family:                Binomial   Df Model:                            9\n",
       "Link Function:                  Logit   Scale:                          1.0000\n",
       "Method:                          IRLS   Log-Likelihood:                -418.27\n",
       "Date:                Mon, 05 Sep 2022   Deviance:                       836.53\n",
       "Time:                        19:38:19   Pearson chi2:                     852.\n",
       "No. Iterations:                     5   Pseudo R-squ. (CS):             0.3000\n",
       "Covariance Type:            nonrobust                                         \n",
       "==============================================================================================================================\n",
       "                                                                 coef    std err          z      P>|z|      [0.025      0.975]\n",
       "------------------------------------------------------------------------------------------------------------------------------\n",
       "Intercept                                                      1.3964      0.371      3.762      0.000       0.669       2.124\n",
       "age[T.adult]                                                  -0.5473      0.251     -2.182      0.029      -1.039      -0.056\n",
       "sex[T.male]                                                   -2.3664      0.176    -13.407      0.000      -2.712      -2.020\n",
       "fare_quantile2[T.Interval(7.75, 7.925, closed='right')]       -0.6346      0.390     -1.625      0.104      -1.400       0.131\n",
       "fare_quantile2[T.Interval(7.925, 10.462, closed='right')]     -0.8467      0.404     -2.094      0.036      -1.639      -0.054\n",
       "fare_quantile2[T.Interval(10.462, 14.5, closed='right')]      -0.0746      0.340     -0.220      0.826      -0.740       0.591\n",
       "fare_quantile2[T.Interval(14.5, 25.926, closed='right')]       0.0914      0.368      0.249      0.804      -0.629       0.812\n",
       "fare_quantile2[T.Interval(25.926, 31.275, closed='right')]     0.1948      0.337      0.578      0.563      -0.465       0.855\n",
       "fare_quantile2[T.Interval(31.275, 69.55, closed='right')]      0.6294      0.339      1.855      0.064      -0.036       1.294\n",
       "fare_quantile2[T.Interval(69.55, 512.329, closed='right')]     1.0188      0.342      2.979      0.003       0.349       1.689\n",
       "==============================================================================================================================\n",
       "\"\"\""
      ]
     },
     "execution_count": 41,
     "metadata": {},
     "output_type": "execute_result"
    }
   ],
   "source": [
    "# Simple Logistic Regression model with all discrete covariates fare,sex, agewithout interactions\n",
    "mod_HW1=smf.glm(formula = 'survived_num~age+sex+fare_quantile2', data=data_HW,\n",
    "                family=sm.families.Binomial(sm.families.links.Logit())).fit()\n",
    "\n",
    "mod_HW1.summary()"
   ]
  },
  {
   "cell_type": "code",
   "execution_count": 32,
   "metadata": {},
   "outputs": [
    {
     "data": {
      "text/html": [
       "<div>\n",
       "<style scoped>\n",
       "    .dataframe tbody tr th:only-of-type {\n",
       "        vertical-align: middle;\n",
       "    }\n",
       "\n",
       "    .dataframe tbody tr th {\n",
       "        vertical-align: top;\n",
       "    }\n",
       "\n",
       "    .dataframe thead th {\n",
       "        text-align: right;\n",
       "    }\n",
       "</style>\n",
       "<table border=\"1\" class=\"dataframe\">\n",
       "  <thead>\n",
       "    <tr style=\"text-align: right;\">\n",
       "      <th></th>\n",
       "      <th>OR</th>\n",
       "      <th>LCL</th>\n",
       "      <th>UCL</th>\n",
       "    </tr>\n",
       "  </thead>\n",
       "  <tbody>\n",
       "    <tr>\n",
       "      <th>age[T.adult]</th>\n",
       "      <td>1.728637</td>\n",
       "      <td>1.057281</td>\n",
       "      <td>2.826291</td>\n",
       "    </tr>\n",
       "  </tbody>\n",
       "</table>\n",
       "</div>"
      ],
      "text/plain": [
       "                    OR       LCL       UCL\n",
       "age[T.adult]  1.728637  1.057281  2.826291"
      ]
     },
     "execution_count": 32,
     "metadata": {},
     "output_type": "execute_result"
    }
   ],
   "source": [
    "#Function to estimate OR with lower and upper limit of 95% CI for OR\n",
    "\n",
    "def OR_coef(variable,model,CI):\n",
    "    param = np.array(model.params)\n",
    "    where = np.where(np.array(model.params.index) == variable)\n",
    "    beta = param[where]\n",
    "    se = np.sqrt(np.diag(model.cov_params().to_numpy()))[where]\n",
    "    or_ = np.exp(beta)\n",
    "    \n",
    "    return pd.DataFrame(index=[variable], data={'OR': or_, 'LCL': np.exp(beta-1*scipy.stats.norm.ppf(CI/2 +0.5)*se)\n",
    "                                              , 'UCL':np.exp(beta+ scipy.stats.norm.ppf(CI/2 +0.5)*se)})\n",
    "OR_coef(\"age[T.adult]\",mod_HW1,0.95)"
   ]
  },
  {
   "cell_type": "markdown",
   "metadata": {
    "id": "lTedw3KV5ASe"
   },
   "source": [
    "The chances of drowning were almost twice as high in the group of adults as in the group of children. "
   ]
  },
  {
   "cell_type": "code",
   "execution_count": 42,
   "metadata": {
    "id": "tY9zl_bg6MiD",
    "vscode": {
     "languageId": "r"
    }
   },
   "outputs": [
    {
     "data": {
      "text/html": [
       "<table class=\"simpletable\">\n",
       "<caption>Generalized Linear Model Regression Results</caption>\n",
       "<tr>\n",
       "  <th>Dep. Variable:</th>     <td>survived_num</td>   <th>  No. Observations:  </th>  <td>   836</td> \n",
       "</tr>\n",
       "<tr>\n",
       "  <th>Model:</th>                  <td>GLM</td>       <th>  Df Residuals:      </th>  <td>   826</td> \n",
       "</tr>\n",
       "<tr>\n",
       "  <th>Model Family:</th>        <td>Binomial</td>     <th>  Df Model:          </th>  <td>     9</td> \n",
       "</tr>\n",
       "<tr>\n",
       "  <th>Link Function:</th>         <td>Logit</td>      <th>  Scale:             </th> <td>  1.0000</td>\n",
       "</tr>\n",
       "<tr>\n",
       "  <th>Method:</th>                <td>IRLS</td>       <th>  Log-Likelihood:    </th> <td> -418.27</td>\n",
       "</tr>\n",
       "<tr>\n",
       "  <th>Date:</th>            <td>Mon, 05 Sep 2022</td> <th>  Deviance:          </th> <td>  836.53</td>\n",
       "</tr>\n",
       "<tr>\n",
       "  <th>Time:</th>                <td>19:38:54</td>     <th>  Pearson chi2:      </th>  <td>  852.</td> \n",
       "</tr>\n",
       "<tr>\n",
       "  <th>No. Iterations:</th>          <td>5</td>        <th>  Pseudo R-squ. (CS):</th>  <td>0.3000</td> \n",
       "</tr>\n",
       "<tr>\n",
       "  <th>Covariance Type:</th>     <td>nonrobust</td>    <th>                     </th>     <td> </td>   \n",
       "</tr>\n",
       "</table>\n",
       "<table class=\"simpletable\">\n",
       "<tr>\n",
       "                               <td></td>                                 <th>coef</th>     <th>std err</th>      <th>z</th>      <th>P>|z|</th>  <th>[0.025</th>    <th>0.975]</th>  \n",
       "</tr>\n",
       "<tr>\n",
       "  <th>Intercept</th>                                                  <td>    1.3964</td> <td>    0.371</td> <td>    3.762</td> <td> 0.000</td> <td>    0.669</td> <td>    2.124</td>\n",
       "</tr>\n",
       "<tr>\n",
       "  <th>age[T.adult]</th>                                               <td>   -0.5473</td> <td>    0.251</td> <td>   -2.182</td> <td> 0.029</td> <td>   -1.039</td> <td>   -0.056</td>\n",
       "</tr>\n",
       "<tr>\n",
       "  <th>sex[T.male]</th>                                                <td>   -2.3664</td> <td>    0.176</td> <td>  -13.407</td> <td> 0.000</td> <td>   -2.712</td> <td>   -2.020</td>\n",
       "</tr>\n",
       "<tr>\n",
       "  <th>fare_quantile2[T.Interval(7.75, 7.925, closed='right')]</th>    <td>   -0.6346</td> <td>    0.390</td> <td>   -1.625</td> <td> 0.104</td> <td>   -1.400</td> <td>    0.131</td>\n",
       "</tr>\n",
       "<tr>\n",
       "  <th>fare_quantile2[T.Interval(7.925, 10.462, closed='right')]</th>  <td>   -0.8467</td> <td>    0.404</td> <td>   -2.094</td> <td> 0.036</td> <td>   -1.639</td> <td>   -0.054</td>\n",
       "</tr>\n",
       "<tr>\n",
       "  <th>fare_quantile2[T.Interval(10.462, 14.5, closed='right')]</th>   <td>   -0.0746</td> <td>    0.340</td> <td>   -0.220</td> <td> 0.826</td> <td>   -0.740</td> <td>    0.591</td>\n",
       "</tr>\n",
       "<tr>\n",
       "  <th>fare_quantile2[T.Interval(14.5, 25.926, closed='right')]</th>   <td>    0.0914</td> <td>    0.368</td> <td>    0.249</td> <td> 0.804</td> <td>   -0.629</td> <td>    0.812</td>\n",
       "</tr>\n",
       "<tr>\n",
       "  <th>fare_quantile2[T.Interval(25.926, 31.275, closed='right')]</th> <td>    0.1948</td> <td>    0.337</td> <td>    0.578</td> <td> 0.563</td> <td>   -0.465</td> <td>    0.855</td>\n",
       "</tr>\n",
       "<tr>\n",
       "  <th>fare_quantile2[T.Interval(31.275, 69.55, closed='right')]</th>  <td>    0.6294</td> <td>    0.339</td> <td>    1.855</td> <td> 0.064</td> <td>   -0.036</td> <td>    1.294</td>\n",
       "</tr>\n",
       "<tr>\n",
       "  <th>fare_quantile2[T.Interval(69.55, 512.329, closed='right')]</th> <td>    1.0188</td> <td>    0.342</td> <td>    2.979</td> <td> 0.003</td> <td>    0.349</td> <td>    1.689</td>\n",
       "</tr>\n",
       "</table>"
      ],
      "text/plain": [
       "<class 'statsmodels.iolib.summary.Summary'>\n",
       "\"\"\"\n",
       "                 Generalized Linear Model Regression Results                  \n",
       "==============================================================================\n",
       "Dep. Variable:           survived_num   No. Observations:                  836\n",
       "Model:                            GLM   Df Residuals:                      826\n",
       "Model Family:                Binomial   Df Model:                            9\n",
       "Link Function:                  Logit   Scale:                          1.0000\n",
       "Method:                          IRLS   Log-Likelihood:                -418.27\n",
       "Date:                Mon, 05 Sep 2022   Deviance:                       836.53\n",
       "Time:                        19:38:54   Pearson chi2:                     852.\n",
       "No. Iterations:                     5   Pseudo R-squ. (CS):             0.3000\n",
       "Covariance Type:            nonrobust                                         \n",
       "==============================================================================================================================\n",
       "                                                                 coef    std err          z      P>|z|      [0.025      0.975]\n",
       "------------------------------------------------------------------------------------------------------------------------------\n",
       "Intercept                                                      1.3964      0.371      3.762      0.000       0.669       2.124\n",
       "age[T.adult]                                                  -0.5473      0.251     -2.182      0.029      -1.039      -0.056\n",
       "sex[T.male]                                                   -2.3664      0.176    -13.407      0.000      -2.712      -2.020\n",
       "fare_quantile2[T.Interval(7.75, 7.925, closed='right')]       -0.6346      0.390     -1.625      0.104      -1.400       0.131\n",
       "fare_quantile2[T.Interval(7.925, 10.462, closed='right')]     -0.8467      0.404     -2.094      0.036      -1.639      -0.054\n",
       "fare_quantile2[T.Interval(10.462, 14.5, closed='right')]      -0.0746      0.340     -0.220      0.826      -0.740       0.591\n",
       "fare_quantile2[T.Interval(14.5, 25.926, closed='right')]       0.0914      0.368      0.249      0.804      -0.629       0.812\n",
       "fare_quantile2[T.Interval(25.926, 31.275, closed='right')]     0.1948      0.337      0.578      0.563      -0.465       0.855\n",
       "fare_quantile2[T.Interval(31.275, 69.55, closed='right')]      0.6294      0.339      1.855      0.064      -0.036       1.294\n",
       "fare_quantile2[T.Interval(69.55, 512.329, closed='right')]     1.0188      0.342      2.979      0.003       0.349       1.689\n",
       "==============================================================================================================================\n",
       "\"\"\""
      ]
     },
     "execution_count": 42,
     "metadata": {},
     "output_type": "execute_result"
    }
   ],
   "source": [
    "# Check model with factorized Fare\n",
    "mod_HW0=smf.glm(formula = 'survived_num~age+sex', data=data_HW,\n",
    "                family=sm.families.Binomial(sm.families.links.Logit())).fit()\n",
    "mod_HW1=smf.glm(formula = 'survived_num~age+sex+fare_quantile2', data=data_HW,\n",
    "                family=sm.families.Binomial(sm.families.links.Logit())).fit()\n",
    "mod_HW2=smf.glm(formula = 'survived_num~age+sex+fare', data=data_HW,\n",
    "                family=sm.families.Binomial(sm.families.links.Logit())).fit()\n",
    "mod_HW1.summary()\n",
    "\n"
   ]
  },
  {
   "cell_type": "markdown",
   "metadata": {
    "id": "T30L1viF7Q-S"
   },
   "source": [
    "Yes, covariate `fare` is statisticaly significant in the model. But it's better to test it with Deviation test (LRT) compare to Wald tests from summary() function."
   ]
  },
  {
   "cell_type": "code",
   "execution_count": 43,
   "metadata": {
    "id": "VyMp7aHXKJfo",
    "vscode": {
     "languageId": "r"
    }
   },
   "outputs": [
    {
     "name": "stdout",
     "output_type": "stream",
     "text": [
      "Estimated Chi2 statistic is: 41.069171090042005 \n",
      "P-value is: 7.852116113956844e-07 \n",
      "\n"
     ]
    }
   ],
   "source": [
    "#anova(mod_HW1,mod_HW0,test=\"Chisq\")\n",
    "chisq(mod_HW0, mod_HW1)\n",
    "#drop1(mod_HW1,test=\"Chisq\")  # TODO needs implementaion"
   ]
  },
  {
   "cell_type": "markdown",
   "metadata": {
    "id": "B1HsxUawKTm0"
   },
   "source": [
    "Confirmed."
   ]
  },
  {
   "cell_type": "code",
   "execution_count": 46,
   "metadata": {
    "id": "oRepJ3yu69GW",
    "vscode": {
     "languageId": "r"
    }
   },
   "outputs": [
    {
     "name": "stdout",
     "output_type": "stream",
     "text": [
      "                 Generalized Linear Model Regression Results                  \n",
      "==============================================================================\n",
      "Dep. Variable:           survived_num   No. Observations:                  836\n",
      "Model:                            GLM   Df Residuals:                      832\n",
      "Model Family:                Binomial   Df Model:                            3\n",
      "Link Function:                  Logit   Scale:                          1.0000\n",
      "Method:                          IRLS   Log-Likelihood:                -425.75\n",
      "Date:                Mon, 05 Sep 2022   Deviance:                       851.51\n",
      "Time:                        19:40:46   Pearson chi2:                     830.\n",
      "No. Iterations:                     5   Pseudo R-squ. (CS):             0.2873\n",
      "Covariance Type:            nonrobust                                         \n",
      "=======================================================================================\n",
      "                          coef    std err          z      P>|z|      [0.025      0.975]\n",
      "---------------------------------------------------------------------------------------\n",
      "Intercept               1.3452      0.255      5.269      0.000       0.845       1.846\n",
      "sex[T.male]            -2.3773      0.173    -13.767      0.000      -2.716      -2.039\n",
      "age[T.adult]           -0.6759      0.242     -2.792      0.005      -1.150      -0.201\n",
      "np.divide(fare, 10)     0.0815      0.018      4.508      0.000       0.046       0.117\n",
      "=======================================================================================\n",
      "Intercept              0.487182\n",
      "np.divide(fare, 10)    1.109989\n",
      "dtype: float64\n",
      "Intercept              3.838778\n",
      "sex[T.male]            0.092799\n",
      "age[T.adult]           0.508703\n",
      "np.divide(fare, 10)    1.084961\n",
      "dtype: float64\n"
     ]
    }
   ],
   "source": [
    "# Fare as continuous variable\n",
    "\n",
    "mod_HW3 = smf.glm(formula = 'survived_num~np.divide(fare, 10)', data=data_HW,\n",
    "                family=sm.families.Binomial(sm.families.links.Logit())).fit()\n",
    "mod_HW4 = smf.glm(formula = 'survived_num~np.divide(fare, 10)+sex+age', data=data_HW,\n",
    "                family=sm.families.Binomial(sm.families.links.Logit())).fit()\n",
    "\n",
    "print(mod_HW4.summary())\n",
    "print(np.exp(mod_HW3.params))\n",
    "print(np.exp(mod_HW4.params))"
   ]
  },
  {
   "cell_type": "markdown",
   "metadata": {
    "id": "NIPQPETQ9VW3"
   },
   "source": [
    "The chance of survival increased by 8.5% with the ticket price 10 pounds higher.\n",
    "\n",
    "Question: What can you say about Causality? Does a higher price result in a greater chance of survival?\n",
    "\n"
   ]
  },
  {
   "cell_type": "code",
   "execution_count": 47,
   "metadata": {
    "id": "YBtFn99v-a1l",
    "vscode": {
     "languageId": "r"
    }
   },
   "outputs": [
    {
     "data": {
      "text/html": [
       "<table class=\"simpletable\">\n",
       "<caption>Generalized Linear Model Regression Results</caption>\n",
       "<tr>\n",
       "  <th>Dep. Variable:</th>     <td>survived_num</td>   <th>  No. Observations:  </th>  <td>   836</td> \n",
       "</tr>\n",
       "<tr>\n",
       "  <th>Model:</th>                  <td>GLM</td>       <th>  Df Residuals:      </th>  <td>   833</td> \n",
       "</tr>\n",
       "<tr>\n",
       "  <th>Model Family:</th>        <td>Binomial</td>     <th>  Df Model:          </th>  <td>     2</td> \n",
       "</tr>\n",
       "<tr>\n",
       "  <th>Link Function:</th>         <td>Logit</td>      <th>  Scale:             </th> <td>  1.0000</td>\n",
       "</tr>\n",
       "<tr>\n",
       "  <th>Method:</th>                <td>IRLS</td>       <th>  Log-Likelihood:    </th> <td> -534.51</td>\n",
       "</tr>\n",
       "<tr>\n",
       "  <th>Date:</th>            <td>Mon, 05 Sep 2022</td> <th>  Deviance:          </th> <td>  1069.0</td>\n",
       "</tr>\n",
       "<tr>\n",
       "  <th>Time:</th>                <td>19:42:07</td>     <th>  Pearson chi2:      </th>  <td>  844.</td> \n",
       "</tr>\n",
       "<tr>\n",
       "  <th>No. Iterations:</th>          <td>5</td>        <th>  Pseudo R-squ. (CS):</th>  <td>0.07556</td>\n",
       "</tr>\n",
       "<tr>\n",
       "  <th>Covariance Type:</th>     <td>nonrobust</td>    <th>                     </th>     <td> </td>   \n",
       "</tr>\n",
       "</table>\n",
       "<table class=\"simpletable\">\n",
       "<tr>\n",
       "             <td></td>               <th>coef</th>     <th>std err</th>      <th>z</th>      <th>P>|z|</th>  <th>[0.025</th>    <th>0.975]</th>  \n",
       "</tr>\n",
       "<tr>\n",
       "  <th>Intercept</th>              <td>   -0.1608</td> <td>    0.169</td> <td>   -0.952</td> <td> 0.341</td> <td>   -0.492</td> <td>    0.170</td>\n",
       "</tr>\n",
       "<tr>\n",
       "  <th>np.divide(fare, 10)</th>    <td>    0.1180</td> <td>    0.019</td> <td>    6.376</td> <td> 0.000</td> <td>    0.082</td> <td>    0.154</td>\n",
       "</tr>\n",
       "<tr>\n",
       "  <th>np.divide(age_num, 10)</th> <td>   -0.2049</td> <td>    0.053</td> <td>   -3.869</td> <td> 0.000</td> <td>   -0.309</td> <td>   -0.101</td>\n",
       "</tr>\n",
       "</table>"
      ],
      "text/plain": [
       "<class 'statsmodels.iolib.summary.Summary'>\n",
       "\"\"\"\n",
       "                 Generalized Linear Model Regression Results                  \n",
       "==============================================================================\n",
       "Dep. Variable:           survived_num   No. Observations:                  836\n",
       "Model:                            GLM   Df Residuals:                      833\n",
       "Model Family:                Binomial   Df Model:                            2\n",
       "Link Function:                  Logit   Scale:                          1.0000\n",
       "Method:                          IRLS   Log-Likelihood:                -534.51\n",
       "Date:                Mon, 05 Sep 2022   Deviance:                       1069.0\n",
       "Time:                        19:42:07   Pearson chi2:                     844.\n",
       "No. Iterations:                     5   Pseudo R-squ. (CS):            0.07556\n",
       "Covariance Type:            nonrobust                                         \n",
       "==========================================================================================\n",
       "                             coef    std err          z      P>|z|      [0.025      0.975]\n",
       "------------------------------------------------------------------------------------------\n",
       "Intercept                 -0.1608      0.169     -0.952      0.341      -0.492       0.170\n",
       "np.divide(fare, 10)        0.1180      0.019      6.376      0.000       0.082       0.154\n",
       "np.divide(age_num, 10)    -0.2049      0.053     -3.869      0.000      -0.309      -0.101\n",
       "==========================================================================================\n",
       "\"\"\""
      ]
     },
     "execution_count": 47,
     "metadata": {},
     "output_type": "execute_result"
    }
   ],
   "source": [
    "# Model without sex variable\n",
    "mod_HW5 = smf.glm(formula = 'survived_num~np.divide(fare, 10)+np.divide(age_num, 10)', data=data_HW,\n",
    "                family=sm.families.Binomial(sm.families.links.Logit())).fit()\n",
    "\n",
    "mod_HW5.summary()"
   ]
  },
  {
   "cell_type": "markdown",
   "metadata": {
    "id": "TsI7nUG5A_EU"
   },
   "source": [
    "## Binomial data approach"
   ]
  },
  {
   "cell_type": "code",
   "execution_count": null,
   "metadata": {
    "id": "OvPH1Bk_cKws",
    "vscode": {
     "languageId": "r"
    }
   },
   "outputs": [],
   "source": [
    "#data_HW"
   ]
  },
  {
   "cell_type": "code",
   "execution_count": 99,
   "metadata": {
    "id": "d3XCOTx6BHsU",
    "vscode": {
     "languageId": "r"
    }
   },
   "outputs": [
    {
     "data": {
      "text/html": [
       "<div>\n",
       "<style scoped>\n",
       "    .dataframe tbody tr th:only-of-type {\n",
       "        vertical-align: middle;\n",
       "    }\n",
       "\n",
       "    .dataframe tbody tr th {\n",
       "        vertical-align: top;\n",
       "    }\n",
       "\n",
       "    .dataframe thead th {\n",
       "        text-align: right;\n",
       "    }\n",
       "</style>\n",
       "<table border=\"1\" class=\"dataframe\">\n",
       "  <thead>\n",
       "    <tr style=\"text-align: right;\">\n",
       "      <th></th>\n",
       "      <th>sex</th>\n",
       "      <th>age</th>\n",
       "      <th>fare_quantile2</th>\n",
       "      <th>n</th>\n",
       "      <th>m</th>\n",
       "    </tr>\n",
       "  </thead>\n",
       "  <tbody>\n",
       "    <tr>\n",
       "      <th>0</th>\n",
       "      <td>female</td>\n",
       "      <td>child</td>\n",
       "      <td>(-0.001, 7.75]</td>\n",
       "      <td>5</td>\n",
       "      <td>5.0</td>\n",
       "    </tr>\n",
       "    <tr>\n",
       "      <th>1</th>\n",
       "      <td>female</td>\n",
       "      <td>child</td>\n",
       "      <td>(7.75, 7.925]</td>\n",
       "      <td>1</td>\n",
       "      <td>0.0</td>\n",
       "    </tr>\n",
       "    <tr>\n",
       "      <th>2</th>\n",
       "      <td>female</td>\n",
       "      <td>child</td>\n",
       "      <td>(7.925, 10.462]</td>\n",
       "      <td>2</td>\n",
       "      <td>1.0</td>\n",
       "    </tr>\n",
       "    <tr>\n",
       "      <th>3</th>\n",
       "      <td>female</td>\n",
       "      <td>child</td>\n",
       "      <td>(10.462, 14.5]</td>\n",
       "      <td>6</td>\n",
       "      <td>4.0</td>\n",
       "    </tr>\n",
       "    <tr>\n",
       "      <th>4</th>\n",
       "      <td>female</td>\n",
       "      <td>child</td>\n",
       "      <td>(14.5, 25.926]</td>\n",
       "      <td>14</td>\n",
       "      <td>10.0</td>\n",
       "    </tr>\n",
       "    <tr>\n",
       "      <th>5</th>\n",
       "      <td>female</td>\n",
       "      <td>child</td>\n",
       "      <td>(25.926, 31.275]</td>\n",
       "      <td>12</td>\n",
       "      <td>6.0</td>\n",
       "    </tr>\n",
       "    <tr>\n",
       "      <th>6</th>\n",
       "      <td>female</td>\n",
       "      <td>child</td>\n",
       "      <td>(31.275, 69.55]</td>\n",
       "      <td>9</td>\n",
       "      <td>8.0</td>\n",
       "    </tr>\n",
       "    <tr>\n",
       "      <th>7</th>\n",
       "      <td>female</td>\n",
       "      <td>child</td>\n",
       "      <td>(69.55, 512.329]</td>\n",
       "      <td>3</td>\n",
       "      <td>2.0</td>\n",
       "    </tr>\n",
       "    <tr>\n",
       "      <th>8</th>\n",
       "      <td>female</td>\n",
       "      <td>adult</td>\n",
       "      <td>(-0.001, 7.75]</td>\n",
       "      <td>19</td>\n",
       "      <td>13.0</td>\n",
       "    </tr>\n",
       "    <tr>\n",
       "      <th>9</th>\n",
       "      <td>female</td>\n",
       "      <td>adult</td>\n",
       "      <td>(7.75, 7.925]</td>\n",
       "      <td>20</td>\n",
       "      <td>7.0</td>\n",
       "    </tr>\n",
       "    <tr>\n",
       "      <th>10</th>\n",
       "      <td>female</td>\n",
       "      <td>adult</td>\n",
       "      <td>(7.925, 10.462]</td>\n",
       "      <td>17</td>\n",
       "      <td>5.0</td>\n",
       "    </tr>\n",
       "    <tr>\n",
       "      <th>11</th>\n",
       "      <td>female</td>\n",
       "      <td>adult</td>\n",
       "      <td>(10.462, 14.5]</td>\n",
       "      <td>39</td>\n",
       "      <td>28.0</td>\n",
       "    </tr>\n",
       "    <tr>\n",
       "      <th>12</th>\n",
       "      <td>female</td>\n",
       "      <td>adult</td>\n",
       "      <td>(14.5, 25.926]</td>\n",
       "      <td>33</td>\n",
       "      <td>25.0</td>\n",
       "    </tr>\n",
       "    <tr>\n",
       "      <th>13</th>\n",
       "      <td>female</td>\n",
       "      <td>adult</td>\n",
       "      <td>(25.926, 31.275]</td>\n",
       "      <td>35</td>\n",
       "      <td>28.0</td>\n",
       "    </tr>\n",
       "    <tr>\n",
       "      <th>14</th>\n",
       "      <td>female</td>\n",
       "      <td>adult</td>\n",
       "      <td>(31.275, 69.55]</td>\n",
       "      <td>40</td>\n",
       "      <td>36.0</td>\n",
       "    </tr>\n",
       "    <tr>\n",
       "      <th>15</th>\n",
       "      <td>female</td>\n",
       "      <td>adult</td>\n",
       "      <td>(69.55, 512.329]</td>\n",
       "      <td>64</td>\n",
       "      <td>62.0</td>\n",
       "    </tr>\n",
       "    <tr>\n",
       "      <th>16</th>\n",
       "      <td>male</td>\n",
       "      <td>child</td>\n",
       "      <td>(-0.001, 7.75]</td>\n",
       "      <td>1</td>\n",
       "      <td>1.0</td>\n",
       "    </tr>\n",
       "    <tr>\n",
       "      <th>17</th>\n",
       "      <td>male</td>\n",
       "      <td>child</td>\n",
       "      <td>(7.75, 7.925]</td>\n",
       "      <td>1</td>\n",
       "      <td>0.0</td>\n",
       "    </tr>\n",
       "    <tr>\n",
       "      <th>18</th>\n",
       "      <td>male</td>\n",
       "      <td>child</td>\n",
       "      <td>(7.925, 10.462]</td>\n",
       "      <td>7</td>\n",
       "      <td>4.0</td>\n",
       "    </tr>\n",
       "    <tr>\n",
       "      <th>19</th>\n",
       "      <td>male</td>\n",
       "      <td>child</td>\n",
       "      <td>(10.462, 14.5]</td>\n",
       "      <td>6</td>\n",
       "      <td>4.0</td>\n",
       "    </tr>\n",
       "    <tr>\n",
       "      <th>20</th>\n",
       "      <td>male</td>\n",
       "      <td>child</td>\n",
       "      <td>(14.5, 25.926]</td>\n",
       "      <td>11</td>\n",
       "      <td>6.0</td>\n",
       "    </tr>\n",
       "    <tr>\n",
       "      <th>21</th>\n",
       "      <td>male</td>\n",
       "      <td>child</td>\n",
       "      <td>(25.926, 31.275]</td>\n",
       "      <td>11</td>\n",
       "      <td>3.0</td>\n",
       "    </tr>\n",
       "    <tr>\n",
       "      <th>22</th>\n",
       "      <td>male</td>\n",
       "      <td>child</td>\n",
       "      <td>(31.275, 69.55]</td>\n",
       "      <td>18</td>\n",
       "      <td>4.0</td>\n",
       "    </tr>\n",
       "    <tr>\n",
       "      <th>23</th>\n",
       "      <td>male</td>\n",
       "      <td>child</td>\n",
       "      <td>(69.55, 512.329]</td>\n",
       "      <td>4</td>\n",
       "      <td>4.0</td>\n",
       "    </tr>\n",
       "    <tr>\n",
       "      <th>24</th>\n",
       "      <td>male</td>\n",
       "      <td>adult</td>\n",
       "      <td>(-0.001, 7.75]</td>\n",
       "      <td>69</td>\n",
       "      <td>11.0</td>\n",
       "    </tr>\n",
       "    <tr>\n",
       "      <th>25</th>\n",
       "      <td>male</td>\n",
       "      <td>adult</td>\n",
       "      <td>(7.75, 7.925]</td>\n",
       "      <td>68</td>\n",
       "      <td>12.0</td>\n",
       "    </tr>\n",
       "    <tr>\n",
       "      <th>26</th>\n",
       "      <td>male</td>\n",
       "      <td>adult</td>\n",
       "      <td>(7.925, 10.462]</td>\n",
       "      <td>61</td>\n",
       "      <td>6.0</td>\n",
       "    </tr>\n",
       "    <tr>\n",
       "      <th>27</th>\n",
       "      <td>male</td>\n",
       "      <td>adult</td>\n",
       "      <td>(10.462, 14.5]</td>\n",
       "      <td>71</td>\n",
       "      <td>9.0</td>\n",
       "    </tr>\n",
       "    <tr>\n",
       "      <th>28</th>\n",
       "      <td>male</td>\n",
       "      <td>adult</td>\n",
       "      <td>(14.5, 25.926]</td>\n",
       "      <td>29</td>\n",
       "      <td>3.0</td>\n",
       "    </tr>\n",
       "    <tr>\n",
       "      <th>29</th>\n",
       "      <td>male</td>\n",
       "      <td>adult</td>\n",
       "      <td>(25.926, 31.275]</td>\n",
       "      <td>65</td>\n",
       "      <td>16.0</td>\n",
       "    </tr>\n",
       "    <tr>\n",
       "      <th>30</th>\n",
       "      <td>male</td>\n",
       "      <td>adult</td>\n",
       "      <td>(31.275, 69.55]</td>\n",
       "      <td>48</td>\n",
       "      <td>14.0</td>\n",
       "    </tr>\n",
       "    <tr>\n",
       "      <th>31</th>\n",
       "      <td>male</td>\n",
       "      <td>adult</td>\n",
       "      <td>(69.55, 512.329]</td>\n",
       "      <td>47</td>\n",
       "      <td>10.0</td>\n",
       "    </tr>\n",
       "  </tbody>\n",
       "</table>\n",
       "</div>"
      ],
      "text/plain": [
       "       sex    age    fare_quantile2   n     m\n",
       "0   female  child    (-0.001, 7.75]   5   5.0\n",
       "1   female  child     (7.75, 7.925]   1   0.0\n",
       "2   female  child   (7.925, 10.462]   2   1.0\n",
       "3   female  child    (10.462, 14.5]   6   4.0\n",
       "4   female  child    (14.5, 25.926]  14  10.0\n",
       "5   female  child  (25.926, 31.275]  12   6.0\n",
       "6   female  child   (31.275, 69.55]   9   8.0\n",
       "7   female  child  (69.55, 512.329]   3   2.0\n",
       "8   female  adult    (-0.001, 7.75]  19  13.0\n",
       "9   female  adult     (7.75, 7.925]  20   7.0\n",
       "10  female  adult   (7.925, 10.462]  17   5.0\n",
       "11  female  adult    (10.462, 14.5]  39  28.0\n",
       "12  female  adult    (14.5, 25.926]  33  25.0\n",
       "13  female  adult  (25.926, 31.275]  35  28.0\n",
       "14  female  adult   (31.275, 69.55]  40  36.0\n",
       "15  female  adult  (69.55, 512.329]  64  62.0\n",
       "16    male  child    (-0.001, 7.75]   1   1.0\n",
       "17    male  child     (7.75, 7.925]   1   0.0\n",
       "18    male  child   (7.925, 10.462]   7   4.0\n",
       "19    male  child    (10.462, 14.5]   6   4.0\n",
       "20    male  child    (14.5, 25.926]  11   6.0\n",
       "21    male  child  (25.926, 31.275]  11   3.0\n",
       "22    male  child   (31.275, 69.55]  18   4.0\n",
       "23    male  child  (69.55, 512.329]   4   4.0\n",
       "24    male  adult    (-0.001, 7.75]  69  11.0\n",
       "25    male  adult     (7.75, 7.925]  68  12.0\n",
       "26    male  adult   (7.925, 10.462]  61   6.0\n",
       "27    male  adult    (10.462, 14.5]  71   9.0\n",
       "28    male  adult    (14.5, 25.926]  29   3.0\n",
       "29    male  adult  (25.926, 31.275]  65  16.0\n",
       "30    male  adult   (31.275, 69.55]  48  14.0\n",
       "31    male  adult  (69.55, 512.329]  47  10.0"
      ]
     },
     "execution_count": 99,
     "metadata": {},
     "output_type": "execute_result"
    }
   ],
   "source": [
    "\n",
    "data_HW_bin = \\\n",
    "        (data_HW.groupby(by=[\"sex\", \"age\", \"fare_quantile2\"], as_index=False)\n",
    "        .agg(n=('survived_num', 'count'), m=('survived_num', 'sum'))\n",
    "    \n",
    "    )\n",
    "\n",
    "data_HW_bin"
   ]
  },
  {
   "cell_type": "markdown",
   "metadata": {
    "id": "SK0WpYLlfm_e"
   },
   "source": [
    "### Some additional questions "
   ]
  },
  {
   "cell_type": "markdown",
   "metadata": {
    "id": "2ylHJMd-oa-G"
   },
   "source": [
    "**Estimate** null model and compare obtained probality of survived with estimated probability from survived-not survived ratio."
   ]
  },
  {
   "cell_type": "code",
   "execution_count": 111,
   "metadata": {
    "id": "Ehy03B2vfl0N",
    "vscode": {
     "languageId": "r"
    }
   },
   "outputs": [
    {
     "name": "stdout",
     "output_type": "stream",
     "text": [
      "                 Generalized Linear Model Regression Results                  \n",
      "==============================================================================\n",
      "Dep. Variable:             ['m', 'f']   No. Observations:                   32\n",
      "Model:                            GLM   Df Residuals:                       31\n",
      "Model Family:                Binomial   Df Model:                            0\n",
      "Link Function:                  Logit   Scale:                          1.0000\n",
      "Method:                          IRLS   Log-Likelihood:                -226.46\n",
      "Date:                Mon, 05 Sep 2022   Deviance:                       368.94\n",
      "Time:                        20:53:22   Pearson chi2:                     331.\n",
      "No. Iterations:                     4   Pseudo R-squ. (CS):              0.000\n",
      "Covariance Type:            nonrobust                                         \n",
      "==============================================================================\n",
      "                 coef    std err          z      P>|z|      [0.025      0.975]\n",
      "------------------------------------------------------------------------------\n",
      "const         -0.3430      0.070     -4.887      0.000      -0.481      -0.205\n",
      "==============================================================================\n",
      "const    0.415072\n",
      "dtype: float64 0.4150717703349282\n",
      "const    0.709611\n",
      "dtype: float64\n"
     ]
    },
    {
     "data": {
      "text/plain": [
       "0.7096114519427402"
      ]
     },
     "execution_count": 111,
     "metadata": {},
     "output_type": "execute_result"
    }
   ],
   "source": [
    "data_HW_bin['f'] = data_HW_bin['n'] - data_HW_bin['m']\n",
    "data_HW_bin = sm.add_constant(data_HW_bin)\n",
    "\n",
    "mod_0 = sm.GLM(endog =data_HW_bin[['m', 'f']], exog=data_HW_bin['const'],\n",
    "                family=sm.families.Binomial(sm.families.links.Logit())).fit()\n",
    "\n",
    "print(mod_0.summary())\n",
    "\n",
    "\n",
    "def invlogit(x): return np.exp(x) / (1+np.exp(x)) # inverse logit function\n",
    "\n",
    "p0_model = invlogit(mod_0.params)\n",
    "\n",
    "# Probability of survive\n",
    "p0_stat = data_HW_bin['m'].sum()/data_HW_bin['n'].sum()\n",
    "print(p0_model,p0_stat)\n",
    "\n",
    "# Chance of survive\n",
    "print(np.exp(mod_0.params))\n",
    "p0_stat/(1-p0_stat)"
   ]
  },
  {
   "cell_type": "markdown",
   "metadata": {
    "id": "0iIY61MRpCYf"
   },
   "source": [
    "Estimate model with one covariate factorized `fare` and compare OR computed directly from estimated regression coefficient with OR compputed from probabilities of survived for each group."
   ]
  },
  {
   "cell_type": "code",
   "execution_count": 121,
   "metadata": {
    "id": "0OUqDr3ThQyJ",
    "vscode": {
     "languageId": "r"
    }
   },
   "outputs": [
    {
     "name": "stdout",
     "output_type": "stream",
     "text": [
      "                 Generalized Linear Model Regression Results                  \n",
      "==============================================================================\n",
      "Dep. Variable:                      p   No. Observations:                   32\n",
      "Model:                            GLM   Df Residuals:                       24\n",
      "Model Family:                Binomial   Df Model:                            7\n",
      "Link Function:                  Logit   Scale:                          1.0000\n",
      "Method:                          IRLS   Log-Likelihood:                -406.73\n",
      "Date:                Mon, 05 Sep 2022   Deviance:                       287.02\n",
      "Time:                        21:06:57   Pearson chi2:                     267.\n",
      "No. Iterations:                     4   Pseudo R-squ. (CS):             0.9227\n",
      "Covariance Type:            nonrobust                                         \n",
      "==============================================================================================================================\n",
      "                                                                 coef    std err          z      P>|z|      [0.025      0.975]\n",
      "------------------------------------------------------------------------------------------------------------------------------\n",
      "Intercept                                                     -0.7577      0.221     -3.424      0.001      -1.191      -0.324\n",
      "fare_quantile2[T.Interval(7.75, 7.925, closed='right')]       -0.5606      0.340     -1.648      0.099      -1.227       0.106\n",
      "fare_quantile2[T.Interval(7.925, 10.462, closed='right')]     -0.7324      0.354     -2.067      0.039      -1.427      -0.038\n",
      "fare_quantile2[T.Interval(10.462, 14.5, closed='right')]       0.2205      0.290      0.760      0.447      -0.348       0.789\n",
      "fare_quantile2[T.Interval(14.5, 25.926, closed='right')]       0.7807      0.308      2.534      0.011       0.177       1.385\n",
      "fare_quantile2[T.Interval(25.926, 31.275, closed='right')]     0.4795      0.287      1.673      0.094      -0.082       1.041\n",
      "fare_quantile2[T.Interval(31.275, 69.55, closed='right')]      0.9145      0.290      3.156      0.002       0.347       1.482\n",
      "fare_quantile2[T.Interval(69.55, 512.329, closed='right')]     1.4255      0.295      4.839      0.000       0.848       2.003\n",
      "==============================================================================================================================\n",
      "Estimated Chi2 statistic is: 81.92135318308937 \n",
      "P-value is: 5.584702503272263e-15 \n",
      "\n",
      "Intercept                                                     0.468750\n",
      "fare_quantile2[T.Interval(7.75, 7.925, closed='right')]       0.570892\n",
      "fare_quantile2[T.Interval(7.925, 10.462, closed='right')]     0.480751\n",
      "fare_quantile2[T.Interval(10.462, 14.5, closed='right')]      1.246753\n",
      "fare_quantile2[T.Interval(14.5, 25.926, closed='right')]      2.182946\n",
      "fare_quantile2[T.Interval(25.926, 31.275, closed='right')]    1.615238\n",
      "fare_quantile2[T.Interval(31.275, 69.55, closed='right')]     2.495597\n",
      "fare_quantile2[T.Interval(69.55, 512.329, closed='right')]    4.160000\n",
      "dtype: float64\n"
     ]
    }
   ],
   "source": [
    "#mod_fare = sm.GLM(endog =data_HW_bin[['m', 'f']], exog=data_HW_bin[['const', 'fare_quantile2']],\n",
    "#                family=sm.families.Binomial(sm.families.links.Logit())).fit()\n",
    "\n",
    "#mod_fare = smf.glm('(m,f) ~ fare_quantile2', data=data_HW_bin,\n",
    "#                family=sm.families.Binomial(sm.families.links.Logit())).fit()\n",
    "\n",
    "# above are not working\n",
    "data_HW_bin['p'] = data_HW_bin['m'] / data_HW_bin['n']\n",
    "\n",
    "mod_fare = smf.glm('p ~ fare_quantile2', data=data_HW_bin, var_weights=data_HW_bin['n'],\n",
    "              family=sm.families.Binomial(sm.families.links.Logit())).fit()\n",
    "\n",
    "\n",
    "\n",
    "print(mod_fare.summary())\n",
    "#mod_fare.summary()\n",
    "#anova(mod_fare,mod_0,test=\"Chisq\") \n",
    "chisq(mod_0, mod_fare)\n",
    "# Fare price is highly significant in the model.\n",
    "print(np.exp(mod_fare.params))\n",
    "\n",
    "\n"
   ]
  },
  {
   "cell_type": "markdown",
   "metadata": {
    "id": "TALfAE7YM7Ei"
   },
   "source": [
    "Question: Assume you spent 25 pounds for a ticket. What is your chance to survive compare to someone who spent only 5 pounds?"
   ]
  },
  {
   "cell_type": "code",
   "execution_count": 133,
   "metadata": {
    "id": "a_Y18QCbMf7o",
    "vscode": {
     "languageId": "r"
    }
   },
   "outputs": [
    {
     "name": "stdout",
     "output_type": "stream",
     "text": [
      "0.31914893617021267\n"
     ]
    },
    {
     "data": {
      "text/plain": [
       "0.6610169491525419"
      ]
     },
     "execution_count": 133,
     "metadata": {},
     "output_type": "execute_result"
    }
   ],
   "source": [
    "# Compute probability of survival:\n",
    "print(invlogit(mod_fare.params[0]) )\n",
    "invlogit(mod_fare.params[0]+mod_fare.params[1:]) \n"
   ]
  },
  {
   "cell_type": "code",
   "execution_count": 135,
   "metadata": {
    "id": "fCwisWk0iOp1",
    "vscode": {
     "languageId": "r"
    }
   },
   "outputs": [
    {
     "name": "stdout",
     "output_type": "stream",
     "text": [
      "4.159999999999994\n"
     ]
    },
    {
     "data": {
      "text/plain": [
       "4.159999999999993"
      ]
     },
     "execution_count": 135,
     "metadata": {},
     "output_type": "execute_result"
    }
   ],
   "source": [
    "# Check: odds ratio computed by hands.\n",
    "Pr_1= invlogit(mod_fare.params[0])\n",
    "Pr_8 = invlogit(mod_fare.params[0] +mod_fare.params[7])\n",
    "\n",
    "OR_1 = Pr_1/(1-Pr_1)\n",
    "OR_8 = Pr_8/(1-Pr_8)\n",
    "print(OR_8/OR_1)\n",
    "\n",
    "np.exp(mod_fare.params[-1])"
   ]
  },
  {
   "cell_type": "markdown",
   "metadata": {
    "id": "KmSHzexSuPcQ"
   },
   "source": [
    "**Estimate saturated model**\n",
    "\n",
    "If we have  fixed number of parameters,  saturated model obtain every  \"observation\" and residual deviance of this saturated model is \"zero\". \n"
   ]
  },
  {
   "cell_type": "code",
   "execution_count": 136,
   "metadata": {
    "id": "-W1s8tr0Adyc",
    "vscode": {
     "languageId": "r"
    }
   },
   "outputs": [
    {
     "name": "stderr",
     "output_type": "stream",
     "text": [
      "/media/emanuel/data/miniconda3/lib/python3.9/site-packages/statsmodels/regression/_tools.py:121: RuntimeWarning: divide by zero encountered in double_scalars\n",
      "  scale = np.dot(wresid, wresid) / df_resid\n"
     ]
    },
    {
     "data": {
      "text/html": [
       "<table class=\"simpletable\">\n",
       "<caption>Generalized Linear Model Regression Results</caption>\n",
       "<tr>\n",
       "  <th>Dep. Variable:</th>           <td>p</td>        <th>  No. Observations:  </th>   <td>    32</td>  \n",
       "</tr>\n",
       "<tr>\n",
       "  <th>Model:</th>                  <td>GLM</td>       <th>  Df Residuals:      </th>   <td>     0</td>  \n",
       "</tr>\n",
       "<tr>\n",
       "  <th>Model Family:</th>        <td>Binomial</td>     <th>  Df Model:          </th>   <td>    31</td>  \n",
       "</tr>\n",
       "<tr>\n",
       "  <th>Link Function:</th>         <td>Logit</td>      <th>  Scale:             </th>  <td>  1.0000</td> \n",
       "</tr>\n",
       "<tr>\n",
       "  <th>Method:</th>                <td>IRLS</td>       <th>  Log-Likelihood:    </th>  <td> -263.22</td> \n",
       "</tr>\n",
       "<tr>\n",
       "  <th>Date:</th>            <td>Mon, 05 Sep 2022</td> <th>  Deviance:          </th> <td>3.8010e-09</td>\n",
       "</tr>\n",
       "<tr>\n",
       "  <th>Time:</th>                <td>21:17:44</td>     <th>  Pearson chi2:      </th>  <td>1.90e-09</td> \n",
       "</tr>\n",
       "<tr>\n",
       "  <th>No. Iterations:</th>         <td>21</td>        <th>  Pseudo R-squ. (CS):</th>   <td> 1.000</td>  \n",
       "</tr>\n",
       "<tr>\n",
       "  <th>Covariance Type:</th>     <td>nonrobust</td>    <th>                     </th>      <td> </td>    \n",
       "</tr>\n",
       "</table>\n",
       "<table class=\"simpletable\">\n",
       "<tr>\n",
       "                                           <td></td>                                              <th>coef</th>     <th>std err</th>      <th>z</th>      <th>P>|z|</th>  <th>[0.025</th>    <th>0.975]</th>  \n",
       "</tr>\n",
       "<tr>\n",
       "  <th>Intercept</th>                                                                           <td>   22.5661</td> <td> 2.16e+04</td> <td>    0.001</td> <td> 0.999</td> <td>-4.22e+04</td> <td> 4.23e+04</td>\n",
       "</tr>\n",
       "<tr>\n",
       "  <th>fare_quantile2[T.Interval(7.75, 7.925, closed='right')]</th>                             <td>  -45.1321</td> <td> 5.28e+04</td> <td>   -0.001</td> <td> 0.999</td> <td>-1.04e+05</td> <td> 1.03e+05</td>\n",
       "</tr>\n",
       "<tr>\n",
       "  <th>fare_quantile2[T.Interval(7.925, 10.462, closed='right')]</th>                           <td>  -22.5661</td> <td> 2.16e+04</td> <td>   -0.001</td> <td> 0.999</td> <td>-4.23e+04</td> <td> 4.22e+04</td>\n",
       "</tr>\n",
       "<tr>\n",
       "  <th>fare_quantile2[T.Interval(10.462, 14.5, closed='right')]</th>                            <td>  -21.8729</td> <td> 2.16e+04</td> <td>   -0.001</td> <td> 0.999</td> <td>-4.23e+04</td> <td> 4.22e+04</td>\n",
       "</tr>\n",
       "<tr>\n",
       "  <th>fare_quantile2[T.Interval(14.5, 25.926, closed='right')]</th>                            <td>  -21.6498</td> <td> 2.16e+04</td> <td>   -0.001</td> <td> 0.999</td> <td>-4.23e+04</td> <td> 4.22e+04</td>\n",
       "</tr>\n",
       "<tr>\n",
       "  <th>fare_quantile2[T.Interval(25.926, 31.275, closed='right')]</th>                          <td>  -22.5661</td> <td> 2.16e+04</td> <td>   -0.001</td> <td> 0.999</td> <td>-4.23e+04</td> <td> 4.22e+04</td>\n",
       "</tr>\n",
       "<tr>\n",
       "  <th>fare_quantile2[T.Interval(31.275, 69.55, closed='right')]</th>                           <td>  -20.4866</td> <td> 2.16e+04</td> <td>   -0.001</td> <td> 0.999</td> <td>-4.23e+04</td> <td> 4.22e+04</td>\n",
       "</tr>\n",
       "<tr>\n",
       "  <th>fare_quantile2[T.Interval(69.55, 512.329, closed='right')]</th>                          <td>  -21.8729</td> <td> 2.16e+04</td> <td>   -0.001</td> <td> 0.999</td> <td>-4.23e+04</td> <td> 4.22e+04</td>\n",
       "</tr>\n",
       "<tr>\n",
       "  <th>age[T.adult]</th>                                                                        <td>  -21.7929</td> <td> 2.16e+04</td> <td>   -0.001</td> <td> 0.999</td> <td>-4.23e+04</td> <td> 4.22e+04</td>\n",
       "</tr>\n",
       "<tr>\n",
       "  <th>sex[T.male]</th>                                                                         <td>-2.124e-09</td> <td> 5.28e+04</td> <td>-4.02e-14</td> <td> 1.000</td> <td>-1.03e+05</td> <td> 1.03e+05</td>\n",
       "</tr>\n",
       "<tr>\n",
       "  <th>fare_quantile2[T.Interval(7.75, 7.925, closed='right')]:age[T.adult]</th>                <td>   43.7399</td> <td> 5.28e+04</td> <td>    0.001</td> <td> 0.999</td> <td>-1.03e+05</td> <td> 1.04e+05</td>\n",
       "</tr>\n",
       "<tr>\n",
       "  <th>fare_quantile2[T.Interval(7.925, 10.462, closed='right')]:age[T.adult]</th>              <td>   20.9174</td> <td> 2.16e+04</td> <td>    0.001</td> <td> 0.999</td> <td>-4.22e+04</td> <td> 4.23e+04</td>\n",
       "</tr>\n",
       "<tr>\n",
       "  <th>fare_quantile2[T.Interval(10.462, 14.5, closed='right')]:age[T.adult]</th>               <td>   22.0340</td> <td> 2.16e+04</td> <td>    0.001</td> <td> 0.999</td> <td>-4.22e+04</td> <td> 4.23e+04</td>\n",
       "</tr>\n",
       "<tr>\n",
       "  <th>fare_quantile2[T.Interval(14.5, 25.926, closed='right')]:age[T.adult]</th>               <td>   22.0160</td> <td> 2.16e+04</td> <td>    0.001</td> <td> 0.999</td> <td>-4.22e+04</td> <td> 4.23e+04</td>\n",
       "</tr>\n",
       "<tr>\n",
       "  <th>fare_quantile2[T.Interval(25.926, 31.275, closed='right')]:age[T.adult]</th>             <td>   23.1792</td> <td> 2.16e+04</td> <td>    0.001</td> <td> 0.999</td> <td>-4.22e+04</td> <td> 4.23e+04</td>\n",
       "</tr>\n",
       "<tr>\n",
       "  <th>fare_quantile2[T.Interval(31.275, 69.55, closed='right')]:age[T.adult]</th>              <td>   21.9107</td> <td> 2.16e+04</td> <td>    0.001</td> <td> 0.999</td> <td>-4.22e+04</td> <td> 4.23e+04</td>\n",
       "</tr>\n",
       "<tr>\n",
       "  <th>fare_quantile2[T.Interval(69.55, 512.329, closed='right')]:age[T.adult]</th>             <td>   24.5337</td> <td> 2.16e+04</td> <td>    0.001</td> <td> 0.999</td> <td>-4.22e+04</td> <td> 4.23e+04</td>\n",
       "</tr>\n",
       "<tr>\n",
       "  <th>fare_quantile2[T.Interval(7.75, 7.925, closed='right')]:sex[T.male]</th>                 <td> 1.246e-09</td> <td> 8.62e+04</td> <td> 1.44e-14</td> <td> 1.000</td> <td>-1.69e+05</td> <td> 1.69e+05</td>\n",
       "</tr>\n",
       "<tr>\n",
       "  <th>fare_quantile2[T.Interval(7.925, 10.462, closed='right')]:sex[T.male]</th>               <td>    0.2877</td> <td> 5.28e+04</td> <td> 5.45e-06</td> <td> 1.000</td> <td>-1.03e+05</td> <td> 1.03e+05</td>\n",
       "</tr>\n",
       "<tr>\n",
       "  <th>fare_quantile2[T.Interval(10.462, 14.5, closed='right')]:sex[T.male]</th>                <td> 2.124e-09</td> <td> 5.28e+04</td> <td> 4.02e-14</td> <td> 1.000</td> <td>-1.03e+05</td> <td> 1.03e+05</td>\n",
       "</tr>\n",
       "<tr>\n",
       "  <th>fare_quantile2[T.Interval(14.5, 25.926, closed='right')]:sex[T.male]</th>                <td>   -0.7340</td> <td> 5.28e+04</td> <td>-1.39e-05</td> <td> 1.000</td> <td>-1.03e+05</td> <td> 1.03e+05</td>\n",
       "</tr>\n",
       "<tr>\n",
       "  <th>fare_quantile2[T.Interval(25.926, 31.275, closed='right')]:sex[T.male]</th>              <td>   -0.9808</td> <td> 5.28e+04</td> <td>-1.86e-05</td> <td> 1.000</td> <td>-1.03e+05</td> <td> 1.03e+05</td>\n",
       "</tr>\n",
       "<tr>\n",
       "  <th>fare_quantile2[T.Interval(31.275, 69.55, closed='right')]:sex[T.male]</th>               <td>   -3.3322</td> <td> 5.28e+04</td> <td>-6.31e-05</td> <td> 1.000</td> <td>-1.03e+05</td> <td> 1.03e+05</td>\n",
       "</tr>\n",
       "<tr>\n",
       "  <th>fare_quantile2[T.Interval(69.55, 512.329, closed='right')]:sex[T.male]</th>              <td>   21.8729</td> <td>  5.8e+04</td> <td>    0.000</td> <td> 1.000</td> <td>-1.14e+05</td> <td> 1.14e+05</td>\n",
       "</tr>\n",
       "<tr>\n",
       "  <th>age[T.adult]:sex[T.male]</th>                                                            <td>   -2.4357</td> <td> 5.28e+04</td> <td>-4.61e-05</td> <td> 1.000</td> <td>-1.03e+05</td> <td> 1.03e+05</td>\n",
       "</tr>\n",
       "<tr>\n",
       "  <th>fare_quantile2[T.Interval(7.75, 7.925, closed='right')]:age[T.adult]:sex[T.male]</th>    <td>    1.5143</td> <td> 8.62e+04</td> <td> 1.76e-05</td> <td> 1.000</td> <td>-1.69e+05</td> <td> 1.69e+05</td>\n",
       "</tr>\n",
       "<tr>\n",
       "  <th>fare_quantile2[T.Interval(7.925, 10.462, closed='right')]:age[T.adult]:sex[T.male]</th>  <td>    0.8080</td> <td> 5.28e+04</td> <td> 1.53e-05</td> <td> 1.000</td> <td>-1.03e+05</td> <td> 1.03e+05</td>\n",
       "</tr>\n",
       "<tr>\n",
       "  <th>fare_quantile2[T.Interval(10.462, 14.5, closed='right')]:age[T.adult]:sex[T.male]</th>   <td>   -0.4285</td> <td> 5.28e+04</td> <td>-8.12e-06</td> <td> 1.000</td> <td>-1.03e+05</td> <td> 1.03e+05</td>\n",
       "</tr>\n",
       "<tr>\n",
       "  <th>fare_quantile2[T.Interval(14.5, 25.926, closed='right')]:age[T.adult]:sex[T.male]</th>   <td>   -0.1292</td> <td> 5.28e+04</td> <td>-2.45e-06</td> <td> 1.000</td> <td>-1.03e+05</td> <td> 1.03e+05</td>\n",
       "</tr>\n",
       "<tr>\n",
       "  <th>fare_quantile2[T.Interval(25.926, 31.275, closed='right')]:age[T.adult]:sex[T.male]</th> <td>    0.9110</td> <td> 5.28e+04</td> <td> 1.73e-05</td> <td> 1.000</td> <td>-1.03e+05</td> <td> 1.03e+05</td>\n",
       "</tr>\n",
       "<tr>\n",
       "  <th>fare_quantile2[T.Interval(31.275, 69.55, closed='right')]:age[T.adult]:sex[T.male]</th>  <td>    2.6834</td> <td> 5.28e+04</td> <td> 5.08e-05</td> <td> 1.000</td> <td>-1.03e+05</td> <td> 1.03e+05</td>\n",
       "</tr>\n",
       "<tr>\n",
       "  <th>fare_quantile2[T.Interval(69.55, 512.329, closed='right')]:age[T.adult]:sex[T.male]</th> <td>  -24.1795</td> <td>  5.8e+04</td> <td>   -0.000</td> <td> 1.000</td> <td>-1.14e+05</td> <td> 1.14e+05</td>\n",
       "</tr>\n",
       "</table>"
      ],
      "text/plain": [
       "<class 'statsmodels.iolib.summary.Summary'>\n",
       "\"\"\"\n",
       "                 Generalized Linear Model Regression Results                  \n",
       "==============================================================================\n",
       "Dep. Variable:                      p   No. Observations:                   32\n",
       "Model:                            GLM   Df Residuals:                        0\n",
       "Model Family:                Binomial   Df Model:                           31\n",
       "Link Function:                  Logit   Scale:                          1.0000\n",
       "Method:                          IRLS   Log-Likelihood:                -263.22\n",
       "Date:                Mon, 05 Sep 2022   Deviance:                   3.8010e-09\n",
       "Time:                        21:17:44   Pearson chi2:                 1.90e-09\n",
       "No. Iterations:                    21   Pseudo R-squ. (CS):              1.000\n",
       "Covariance Type:            nonrobust                                         \n",
       "=======================================================================================================================================================\n",
       "                                                                                          coef    std err          z      P>|z|      [0.025      0.975]\n",
       "-------------------------------------------------------------------------------------------------------------------------------------------------------\n",
       "Intercept                                                                              22.5661   2.16e+04      0.001      0.999   -4.22e+04    4.23e+04\n",
       "fare_quantile2[T.Interval(7.75, 7.925, closed='right')]                               -45.1321   5.28e+04     -0.001      0.999   -1.04e+05    1.03e+05\n",
       "fare_quantile2[T.Interval(7.925, 10.462, closed='right')]                             -22.5661   2.16e+04     -0.001      0.999   -4.23e+04    4.22e+04\n",
       "fare_quantile2[T.Interval(10.462, 14.5, closed='right')]                              -21.8729   2.16e+04     -0.001      0.999   -4.23e+04    4.22e+04\n",
       "fare_quantile2[T.Interval(14.5, 25.926, closed='right')]                              -21.6498   2.16e+04     -0.001      0.999   -4.23e+04    4.22e+04\n",
       "fare_quantile2[T.Interval(25.926, 31.275, closed='right')]                            -22.5661   2.16e+04     -0.001      0.999   -4.23e+04    4.22e+04\n",
       "fare_quantile2[T.Interval(31.275, 69.55, closed='right')]                             -20.4866   2.16e+04     -0.001      0.999   -4.23e+04    4.22e+04\n",
       "fare_quantile2[T.Interval(69.55, 512.329, closed='right')]                            -21.8729   2.16e+04     -0.001      0.999   -4.23e+04    4.22e+04\n",
       "age[T.adult]                                                                          -21.7929   2.16e+04     -0.001      0.999   -4.23e+04    4.22e+04\n",
       "sex[T.male]                                                                         -2.124e-09   5.28e+04  -4.02e-14      1.000   -1.03e+05    1.03e+05\n",
       "fare_quantile2[T.Interval(7.75, 7.925, closed='right')]:age[T.adult]                   43.7399   5.28e+04      0.001      0.999   -1.03e+05    1.04e+05\n",
       "fare_quantile2[T.Interval(7.925, 10.462, closed='right')]:age[T.adult]                 20.9174   2.16e+04      0.001      0.999   -4.22e+04    4.23e+04\n",
       "fare_quantile2[T.Interval(10.462, 14.5, closed='right')]:age[T.adult]                  22.0340   2.16e+04      0.001      0.999   -4.22e+04    4.23e+04\n",
       "fare_quantile2[T.Interval(14.5, 25.926, closed='right')]:age[T.adult]                  22.0160   2.16e+04      0.001      0.999   -4.22e+04    4.23e+04\n",
       "fare_quantile2[T.Interval(25.926, 31.275, closed='right')]:age[T.adult]                23.1792   2.16e+04      0.001      0.999   -4.22e+04    4.23e+04\n",
       "fare_quantile2[T.Interval(31.275, 69.55, closed='right')]:age[T.adult]                 21.9107   2.16e+04      0.001      0.999   -4.22e+04    4.23e+04\n",
       "fare_quantile2[T.Interval(69.55, 512.329, closed='right')]:age[T.adult]                24.5337   2.16e+04      0.001      0.999   -4.22e+04    4.23e+04\n",
       "fare_quantile2[T.Interval(7.75, 7.925, closed='right')]:sex[T.male]                  1.246e-09   8.62e+04   1.44e-14      1.000   -1.69e+05    1.69e+05\n",
       "fare_quantile2[T.Interval(7.925, 10.462, closed='right')]:sex[T.male]                   0.2877   5.28e+04   5.45e-06      1.000   -1.03e+05    1.03e+05\n",
       "fare_quantile2[T.Interval(10.462, 14.5, closed='right')]:sex[T.male]                 2.124e-09   5.28e+04   4.02e-14      1.000   -1.03e+05    1.03e+05\n",
       "fare_quantile2[T.Interval(14.5, 25.926, closed='right')]:sex[T.male]                   -0.7340   5.28e+04  -1.39e-05      1.000   -1.03e+05    1.03e+05\n",
       "fare_quantile2[T.Interval(25.926, 31.275, closed='right')]:sex[T.male]                 -0.9808   5.28e+04  -1.86e-05      1.000   -1.03e+05    1.03e+05\n",
       "fare_quantile2[T.Interval(31.275, 69.55, closed='right')]:sex[T.male]                  -3.3322   5.28e+04  -6.31e-05      1.000   -1.03e+05    1.03e+05\n",
       "fare_quantile2[T.Interval(69.55, 512.329, closed='right')]:sex[T.male]                 21.8729    5.8e+04      0.000      1.000   -1.14e+05    1.14e+05\n",
       "age[T.adult]:sex[T.male]                                                               -2.4357   5.28e+04  -4.61e-05      1.000   -1.03e+05    1.03e+05\n",
       "fare_quantile2[T.Interval(7.75, 7.925, closed='right')]:age[T.adult]:sex[T.male]        1.5143   8.62e+04   1.76e-05      1.000   -1.69e+05    1.69e+05\n",
       "fare_quantile2[T.Interval(7.925, 10.462, closed='right')]:age[T.adult]:sex[T.male]      0.8080   5.28e+04   1.53e-05      1.000   -1.03e+05    1.03e+05\n",
       "fare_quantile2[T.Interval(10.462, 14.5, closed='right')]:age[T.adult]:sex[T.male]      -0.4285   5.28e+04  -8.12e-06      1.000   -1.03e+05    1.03e+05\n",
       "fare_quantile2[T.Interval(14.5, 25.926, closed='right')]:age[T.adult]:sex[T.male]      -0.1292   5.28e+04  -2.45e-06      1.000   -1.03e+05    1.03e+05\n",
       "fare_quantile2[T.Interval(25.926, 31.275, closed='right')]:age[T.adult]:sex[T.male]     0.9110   5.28e+04   1.73e-05      1.000   -1.03e+05    1.03e+05\n",
       "fare_quantile2[T.Interval(31.275, 69.55, closed='right')]:age[T.adult]:sex[T.male]      2.6834   5.28e+04   5.08e-05      1.000   -1.03e+05    1.03e+05\n",
       "fare_quantile2[T.Interval(69.55, 512.329, closed='right')]:age[T.adult]:sex[T.male]   -24.1795    5.8e+04     -0.000      1.000   -1.14e+05    1.14e+05\n",
       "=======================================================================================================================================================\n",
       "\"\"\""
      ]
     },
     "execution_count": 136,
     "metadata": {},
     "output_type": "execute_result"
    }
   ],
   "source": [
    "\n",
    "\n",
    "mod_HW_sat = smf.glm('p ~ fare_quantile2*age*sex', data=data_HW_bin, var_weights=data_HW_bin['n'],\n",
    "              family=sm.families.Binomial(sm.families.links.Logit())).fit()\n",
    "\n",
    "\n",
    "mod_HW_sat.summary()"
   ]
  },
  {
   "cell_type": "markdown",
   "metadata": {
    "id": "CchPO_1oFoij"
   },
   "source": [
    "\n",
    "We can test other models against saturated one."
   ]
  },
  {
   "cell_type": "code",
   "execution_count": 137,
   "metadata": {
    "id": "2G4T-YwJFnHd",
    "vscode": {
     "languageId": "r"
    }
   },
   "outputs": [
    {
     "data": {
      "text/html": [
       "<table class=\"simpletable\">\n",
       "<caption>Generalized Linear Model Regression Results</caption>\n",
       "<tr>\n",
       "  <th>Dep. Variable:</th>           <td>p</td>        <th>  No. Observations:  </th>  <td>    32</td> \n",
       "</tr>\n",
       "<tr>\n",
       "  <th>Model:</th>                  <td>GLM</td>       <th>  Df Residuals:      </th>  <td>    22</td> \n",
       "</tr>\n",
       "<tr>\n",
       "  <th>Model Family:</th>        <td>Binomial</td>     <th>  Df Model:          </th>  <td>     9</td> \n",
       "</tr>\n",
       "<tr>\n",
       "  <th>Link Function:</th>         <td>Logit</td>      <th>  Scale:             </th> <td>  1.0000</td>\n",
       "</tr>\n",
       "<tr>\n",
       "  <th>Method:</th>                <td>IRLS</td>       <th>  Log-Likelihood:    </th> <td> -298.60</td>\n",
       "</tr>\n",
       "<tr>\n",
       "  <th>Date:</th>            <td>Mon, 05 Sep 2022</td> <th>  Deviance:          </th> <td>  70.769</td>\n",
       "</tr>\n",
       "<tr>\n",
       "  <th>Time:</th>                <td>21:18:48</td>     <th>  Pearson chi2:      </th>  <td>  73.4</td> \n",
       "</tr>\n",
       "<tr>\n",
       "  <th>No. Iterations:</th>          <td>5</td>        <th>  Pseudo R-squ. (CS):</th>  <td>0.9999</td> \n",
       "</tr>\n",
       "<tr>\n",
       "  <th>Covariance Type:</th>     <td>nonrobust</td>    <th>                     </th>     <td> </td>   \n",
       "</tr>\n",
       "</table>\n",
       "<table class=\"simpletable\">\n",
       "<tr>\n",
       "                               <td></td>                                 <th>coef</th>     <th>std err</th>      <th>z</th>      <th>P>|z|</th>  <th>[0.025</th>    <th>0.975]</th>  \n",
       "</tr>\n",
       "<tr>\n",
       "  <th>Intercept</th>                                                  <td>    1.3964</td> <td>    0.371</td> <td>    3.762</td> <td> 0.000</td> <td>    0.669</td> <td>    2.124</td>\n",
       "</tr>\n",
       "<tr>\n",
       "  <th>fare_quantile2[T.Interval(7.75, 7.925, closed='right')]</th>    <td>   -0.6346</td> <td>    0.390</td> <td>   -1.625</td> <td> 0.104</td> <td>   -1.400</td> <td>    0.131</td>\n",
       "</tr>\n",
       "<tr>\n",
       "  <th>fare_quantile2[T.Interval(7.925, 10.462, closed='right')]</th>  <td>   -0.8467</td> <td>    0.404</td> <td>   -2.094</td> <td> 0.036</td> <td>   -1.639</td> <td>   -0.054</td>\n",
       "</tr>\n",
       "<tr>\n",
       "  <th>fare_quantile2[T.Interval(10.462, 14.5, closed='right')]</th>   <td>   -0.0746</td> <td>    0.340</td> <td>   -0.220</td> <td> 0.826</td> <td>   -0.740</td> <td>    0.591</td>\n",
       "</tr>\n",
       "<tr>\n",
       "  <th>fare_quantile2[T.Interval(14.5, 25.926, closed='right')]</th>   <td>    0.0914</td> <td>    0.368</td> <td>    0.249</td> <td> 0.804</td> <td>   -0.629</td> <td>    0.812</td>\n",
       "</tr>\n",
       "<tr>\n",
       "  <th>fare_quantile2[T.Interval(25.926, 31.275, closed='right')]</th> <td>    0.1948</td> <td>    0.337</td> <td>    0.578</td> <td> 0.563</td> <td>   -0.465</td> <td>    0.855</td>\n",
       "</tr>\n",
       "<tr>\n",
       "  <th>fare_quantile2[T.Interval(31.275, 69.55, closed='right')]</th>  <td>    0.6294</td> <td>    0.339</td> <td>    1.855</td> <td> 0.064</td> <td>   -0.036</td> <td>    1.294</td>\n",
       "</tr>\n",
       "<tr>\n",
       "  <th>fare_quantile2[T.Interval(69.55, 512.329, closed='right')]</th> <td>    1.0188</td> <td>    0.342</td> <td>    2.979</td> <td> 0.003</td> <td>    0.349</td> <td>    1.689</td>\n",
       "</tr>\n",
       "<tr>\n",
       "  <th>age[T.adult]</th>                                               <td>   -0.5473</td> <td>    0.251</td> <td>   -2.182</td> <td> 0.029</td> <td>   -1.039</td> <td>   -0.056</td>\n",
       "</tr>\n",
       "<tr>\n",
       "  <th>sex[T.male]</th>                                                <td>   -2.3664</td> <td>    0.176</td> <td>  -13.407</td> <td> 0.000</td> <td>   -2.712</td> <td>   -2.020</td>\n",
       "</tr>\n",
       "</table>"
      ],
      "text/plain": [
       "<class 'statsmodels.iolib.summary.Summary'>\n",
       "\"\"\"\n",
       "                 Generalized Linear Model Regression Results                  \n",
       "==============================================================================\n",
       "Dep. Variable:                      p   No. Observations:                   32\n",
       "Model:                            GLM   Df Residuals:                       22\n",
       "Model Family:                Binomial   Df Model:                            9\n",
       "Link Function:                  Logit   Scale:                          1.0000\n",
       "Method:                          IRLS   Log-Likelihood:                -298.60\n",
       "Date:                Mon, 05 Sep 2022   Deviance:                       70.769\n",
       "Time:                        21:18:48   Pearson chi2:                     73.4\n",
       "No. Iterations:                     5   Pseudo R-squ. (CS):             0.9999\n",
       "Covariance Type:            nonrobust                                         \n",
       "==============================================================================================================================\n",
       "                                                                 coef    std err          z      P>|z|      [0.025      0.975]\n",
       "------------------------------------------------------------------------------------------------------------------------------\n",
       "Intercept                                                      1.3964      0.371      3.762      0.000       0.669       2.124\n",
       "fare_quantile2[T.Interval(7.75, 7.925, closed='right')]       -0.6346      0.390     -1.625      0.104      -1.400       0.131\n",
       "fare_quantile2[T.Interval(7.925, 10.462, closed='right')]     -0.8467      0.404     -2.094      0.036      -1.639      -0.054\n",
       "fare_quantile2[T.Interval(10.462, 14.5, closed='right')]      -0.0746      0.340     -0.220      0.826      -0.740       0.591\n",
       "fare_quantile2[T.Interval(14.5, 25.926, closed='right')]       0.0914      0.368      0.249      0.804      -0.629       0.812\n",
       "fare_quantile2[T.Interval(25.926, 31.275, closed='right')]     0.1948      0.337      0.578      0.563      -0.465       0.855\n",
       "fare_quantile2[T.Interval(31.275, 69.55, closed='right')]      0.6294      0.339      1.855      0.064      -0.036       1.294\n",
       "fare_quantile2[T.Interval(69.55, 512.329, closed='right')]     1.0188      0.342      2.979      0.003       0.349       1.689\n",
       "age[T.adult]                                                  -0.5473      0.251     -2.182      0.029      -1.039      -0.056\n",
       "sex[T.male]                                                   -2.3664      0.176    -13.407      0.000      -2.712      -2.020\n",
       "==============================================================================================================================\n",
       "\"\"\""
      ]
     },
     "execution_count": 137,
     "metadata": {},
     "output_type": "execute_result"
    }
   ],
   "source": [
    "\n",
    "\n",
    "mod_HW_bin1 = smf.glm('p ~ fare_quantile2+age+sex', data=data_HW_bin, var_weights=data_HW_bin['n'],\n",
    "              family=sm.families.Binomial(sm.families.links.Logit())).fit()\n",
    "\n",
    "\n",
    "mod_HW_bin1.summary()"
   ]
  },
  {
   "cell_type": "code",
   "execution_count": 138,
   "metadata": {
    "id": "XsqLCkGnGSj6",
    "vscode": {
     "languageId": "r"
    }
   },
   "outputs": [
    {
     "name": "stdout",
     "output_type": "stream",
     "text": [
      "Estimated Chi2 statistic is: 70.76903279142763 \n",
      "P-value is: 5.003135125154948e-07 \n",
      "\n"
     ]
    }
   ],
   "source": [
    "#drop1(mod_HW_sat, test=\"Chisq\")\n",
    "#anova(mod_HW_sat,mod_HW_bin1, test=\"Chisq\")\n",
    "chisq(mod_HW_bin1, mod_HW_sat)\n"
   ]
  },
  {
   "cell_type": "markdown",
   "metadata": {
    "id": "_redlhPCHH0J"
   },
   "source": [
    "## Question:\n",
    "* How do you interpret previous result?\n",
    "* Is simplier aditive model without interactions good enough?"
   ]
  },
  {
   "cell_type": "code",
   "execution_count": null,
   "metadata": {
    "id": "qmEvNZN5HG69",
    "vscode": {
     "languageId": "r"
    }
   },
   "outputs": [],
   "source": []
  },
  {
   "cell_type": "markdown",
   "metadata": {
    "id": "EnmxNtfiu2lK"
   },
   "source": [
    "## Residual analysis"
   ]
  },
  {
   "cell_type": "code",
   "execution_count": 140,
   "metadata": {
    "id": "XgUrBZH4v5dJ",
    "vscode": {
     "languageId": "r"
    }
   },
   "outputs": [
    {
     "data": {
      "text/html": [
       "<table class=\"simpletable\">\n",
       "<caption>Generalized Linear Model Regression Results</caption>\n",
       "<tr>\n",
       "  <th>Dep. Variable:</th>     <td>survived_num</td>   <th>  No. Observations:  </th>  <td>   836</td> \n",
       "</tr>\n",
       "<tr>\n",
       "  <th>Model:</th>                  <td>GLM</td>       <th>  Df Residuals:      </th>  <td>   831</td> \n",
       "</tr>\n",
       "<tr>\n",
       "  <th>Model Family:</th>        <td>Binomial</td>     <th>  Df Model:          </th>  <td>     4</td> \n",
       "</tr>\n",
       "<tr>\n",
       "  <th>Link Function:</th>         <td>Logit</td>      <th>  Scale:             </th> <td>  1.0000</td>\n",
       "</tr>\n",
       "<tr>\n",
       "  <th>Method:</th>                <td>IRLS</td>       <th>  Log-Likelihood:    </th> <td> -395.24</td>\n",
       "</tr>\n",
       "<tr>\n",
       "  <th>Date:</th>            <td>Mon, 05 Sep 2022</td> <th>  Deviance:          </th> <td>  790.48</td>\n",
       "</tr>\n",
       "<tr>\n",
       "  <th>Time:</th>                <td>21:21:29</td>     <th>  Pearson chi2:      </th>  <td>  869.</td> \n",
       "</tr>\n",
       "<tr>\n",
       "  <th>No. Iterations:</th>          <td>5</td>        <th>  Pseudo R-squ. (CS):</th>  <td>0.3375</td> \n",
       "</tr>\n",
       "<tr>\n",
       "  <th>Covariance Type:</th>     <td>nonrobust</td>    <th>                     </th>     <td> </td>   \n",
       "</tr>\n",
       "</table>\n",
       "<table class=\"simpletable\">\n",
       "<tr>\n",
       "        <td></td>           <th>coef</th>     <th>std err</th>      <th>z</th>      <th>P>|z|</th>  <th>[0.025</th>    <th>0.975]</th>  \n",
       "</tr>\n",
       "<tr>\n",
       "  <th>Intercept</th>     <td>    3.5696</td> <td>    0.365</td> <td>    9.787</td> <td> 0.000</td> <td>    2.855</td> <td>    4.284</td>\n",
       "</tr>\n",
       "<tr>\n",
       "  <th>sex[T.male]</th>   <td>   -2.5088</td> <td>    0.185</td> <td>  -13.548</td> <td> 0.000</td> <td>   -2.872</td> <td>   -2.146</td>\n",
       "</tr>\n",
       "<tr>\n",
       "  <th>class_[T.2.0]</th> <td>   -1.1589</td> <td>    0.251</td> <td>   -4.609</td> <td> 0.000</td> <td>   -1.652</td> <td>   -0.666</td>\n",
       "</tr>\n",
       "<tr>\n",
       "  <th>class_[T.3.0]</th> <td>   -2.2293</td> <td>    0.251</td> <td>   -8.877</td> <td> 0.000</td> <td>   -2.722</td> <td>   -1.737</td>\n",
       "</tr>\n",
       "<tr>\n",
       "  <th>age_num</th>       <td>   -0.0375</td> <td>    0.007</td> <td>   -5.319</td> <td> 0.000</td> <td>   -0.051</td> <td>   -0.024</td>\n",
       "</tr>\n",
       "</table>"
      ],
      "text/plain": [
       "<class 'statsmodels.iolib.summary.Summary'>\n",
       "\"\"\"\n",
       "                 Generalized Linear Model Regression Results                  \n",
       "==============================================================================\n",
       "Dep. Variable:           survived_num   No. Observations:                  836\n",
       "Model:                            GLM   Df Residuals:                      831\n",
       "Model Family:                Binomial   Df Model:                            4\n",
       "Link Function:                  Logit   Scale:                          1.0000\n",
       "Method:                          IRLS   Log-Likelihood:                -395.24\n",
       "Date:                Mon, 05 Sep 2022   Deviance:                       790.48\n",
       "Time:                        21:21:29   Pearson chi2:                     869.\n",
       "No. Iterations:                     5   Pseudo R-squ. (CS):             0.3375\n",
       "Covariance Type:            nonrobust                                         \n",
       "=================================================================================\n",
       "                    coef    std err          z      P>|z|      [0.025      0.975]\n",
       "---------------------------------------------------------------------------------\n",
       "Intercept         3.5696      0.365      9.787      0.000       2.855       4.284\n",
       "sex[T.male]      -2.5088      0.185    -13.548      0.000      -2.872      -2.146\n",
       "class_[T.2.0]    -1.1589      0.251     -4.609      0.000      -1.652      -0.666\n",
       "class_[T.3.0]    -2.2293      0.251     -8.877      0.000      -2.722      -1.737\n",
       "age_num          -0.0375      0.007     -5.319      0.000      -0.051      -0.024\n",
       "=================================================================================\n",
       "\"\"\""
      ]
     },
     "execution_count": 140,
     "metadata": {},
     "output_type": "execute_result"
    }
   ],
   "source": [
    "# start with simple model\n",
    "\n",
    "\n",
    "mod_1 = smf.glm('survived_num ~ age_num+sex+class_', data=data_HW, \n",
    "              family=sm.families.Binomial(sm.families.links.Logit())).fit()\n",
    "\n",
    "\n",
    "mod_1.summary()\n",
    "\n",
    "#mod_1 = smf.glm('survived_num ~dare+sex+', data=data_HW_bin, \n",
    "#              family=sm.families.Binomial(sm.families.links.Logit())).fit()\n",
    "#mod_1.summary()\n",
    "\n",
    "\n"
   ]
  },
  {
   "cell_type": "code",
   "execution_count": 142,
   "metadata": {
    "id": "bCWKf4lfwas4",
    "vscode": {
     "languageId": "r"
    }
   },
   "outputs": [
    {
     "name": "stdout",
     "output_type": "stream",
     "text": [
      "175    -0.383304\n",
      "655    -0.085673\n",
      "278     0.534522\n",
      "1158   -0.451133\n",
      "139     0.198413\n",
      "          ...   \n",
      "481     0.169901\n",
      "87      0.487741\n",
      "965    -0.112257\n",
      "252    -0.227064\n",
      "215    -0.247395\n",
      "Length: 836, dtype: float64 175    -1.621545\n",
      "655    -1.093700\n",
      "278     2.148331\n",
      "1158   -1.821935\n",
      "139     1.247525\n",
      "          ...   \n",
      "481     1.204676\n",
      "87      1.952138\n",
      "965    -1.126453\n",
      "252    -1.293768\n",
      "215    -1.328719\n",
      "Length: 836, dtype: float64 175    -0.788381\n",
      "655    -0.306105\n",
      "278     1.071602\n",
      "1158   -0.906606\n",
      "139     0.497518\n",
      "          ...   \n",
      "481     0.452411\n",
      "87      0.975776\n",
      "965    -0.355602\n",
      "252    -0.542004\n",
      "215    -0.573340\n",
      "Length: 836, dtype: float64 175    -0.983239\n",
      "655    -0.423242\n",
      "278     1.236682\n",
      "1158   -1.095353\n",
      "139     0.665073\n",
      "          ...   \n",
      "481     0.610263\n",
      "87      1.156655\n",
      "965    -0.488003\n",
      "252    -0.717717\n",
      "215    -0.753943\n",
      "Length: 836, dtype: float64\n"
     ]
    }
   ],
   "source": [
    "res_resp = mod_1.resid_response \n",
    "res_work = mod_1.resid_working \n",
    "res_pear = mod_1.resid_pearson \n",
    "res_deviance = mod_1.resid_deviance\n",
    "\n",
    "#print(res_resp,res_work,res_pear, res_deviance)"
   ]
  },
  {
   "cell_type": "markdown",
   "metadata": {
    "id": "mBrkKrII_aa_"
   },
   "source": [
    "A perfect fit of a datapoint (which never occurs) gives a deviance of zero as \"log(1) =0\". A poorly fitting point has a large residual deviance."
   ]
  },
  {
   "cell_type": "code",
   "execution_count": 143,
   "metadata": {
    "id": "h7JWKBk4yuRF",
    "vscode": {
     "languageId": "r"
    }
   },
   "outputs": [
    {
     "data": {
      "image/png": "[encoded data removed]",
      "text/plain": [
       "<Figure size 720x720 with 4 Axes>"
      ]
     },
     "metadata": {
      "needs_background": "light"
     },
     "output_type": "display_data"
    },
    {
     "name": "stdout",
     "output_type": "stream",
     "text": [
      "        Features  VIF Factor\n",
      "1    sex[T.male]        1.04\n",
      "4        age_num        1.23\n",
      "2  class_[T.2.0]        1.52\n",
      "3  class_[T.3.0]        1.77\n",
      "0      Intercept       12.91\n"
     ]
    }
   ],
   "source": [
    "cls = DiagnosticPlots(mod_1)\n",
    "fig, ax = cls()"
   ]
  },
  {
   "cell_type": "markdown",
   "metadata": {
    "id": "tYsJUO9wAb1E"
   },
   "source": [
    "All plots look funny. What do you think, is there any problem in the model?"
   ]
  },
  {
   "cell_type": "markdown",
   "metadata": {
    "id": "pfM3W9zGA_0p"
   },
   "source": [
    "\n",
    "* The **Residuals vs Fitted** plot can help you see, for example, if there are curvilinear trends that you missed. But the fit of a logistic regression is curvilinear by nature, so you can have odd looking trends in the residuals with nothing amiss.\n",
    "* The **Normal Q-Q** plot helps you detect if your residuals are normally distributed. But the deviance residuals don't have to be normally distributed for the model to be valid, so the normality / non-normality of the residuals doesn't necessarily tell you anything.\n",
    "* The **Scale-Location** plot can help you identify heteroscedasticity. But logistic regression models are pretty much heteroscedastic by nature.\n",
    "* The **Residuals vs Leverage** can help you identify possible outliers. But outliers in logistic regression don't necessarily manifest in the same way as in linear regression, so this plot may or may not be helpful in identifying them.\n",
    "\n",
    "source:https://stats.stackexchange.com/questions/121490/interpretation-of-plot-glm-model\n"
   ]
  },
  {
   "cell_type": "code",
   "execution_count": 144,
   "metadata": {
    "id": "j7BG0M8YyuUJ",
    "vscode": {
     "languageId": "r"
    }
   },
   "outputs": [
    {
     "data": {
      "text/plain": [
       "<AxesSubplot:title={'center':'Residuals vs Fitted'}, xlabel='Fitted values', ylabel='Residuals'>"
      ]
     },
     "execution_count": 144,
     "metadata": {},
     "output_type": "execute_result"
    },
    {
     "data": {
      "image/png": "[encoded data removed]",
      "text/plain": [
       "<Figure size 432x288 with 1 Axes>"
      ]
     },
     "metadata": {
      "needs_background": "light"
     },
     "output_type": "display_data"
    }
   ],
   "source": [
    "cls.residual_plot()"
   ]
  },
  {
   "cell_type": "code",
   "execution_count": null,
   "metadata": {
    "id": "gD6A7ebJyuW7",
    "vscode": {
     "languageId": "r"
    }
   },
   "outputs": [],
   "source": [
    "plot(data_HW$age_num,residuals(mod_1),col=c(\"blue\",\"red\")[1+data_HW$survived_num])\n",
    "lines(lowess(data_HW$age_num,residuals(mod_1)),col=\"black\",lwd=2)\n",
    "lines(lowess(data_HW$age_num[data_HW$survived_num==0],residuals(mod_1)[data_HW$survived_num==0]),col=\"blue\")\n",
    "lines(lowess(data_HW$age_num[data_HW$survived_num==1],residuals(mod_1)[data_HW$survived_num==1]),col=\"red\")\n",
    "abline(h=0,lty=2,col=\"grey\")"
   ]
  },
  {
   "cell_type": "code",
   "execution_count": null,
   "metadata": {
    "id": "8gEexODqyuZw",
    "vscode": {
     "languageId": "r"
    }
   },
   "outputs": [],
   "source": []
  },
  {
   "cell_type": "code",
   "execution_count": null,
   "metadata": {
    "id": "699nkaZ2yucr",
    "vscode": {
     "languageId": "r"
    }
   },
   "outputs": [],
   "source": [
    "data_HW_mod = data_HW %>%\n",
    "  mutate(fitted = mod_1$fitted.values,\n",
    "         #fitted = predict(mod_1, newdata = data_HW, type = \"response\"),\n",
    "         predict = as.factor(ifelse(fitted > 0.5, \"1\", \"0\")),\n",
    "         r_deviance_std =rstandard(mod_1, type = \"deviance\"),\n",
    "         r_pearson_std = rstandard(mod_1, type = \"pearson\") )\n",
    "head(data_HW_mod)"
   ]
  },
  {
   "cell_type": "code",
   "execution_count": null,
   "metadata": {
    "id": "LdOeCOC-Puzf",
    "vscode": {
     "languageId": "r"
    }
   },
   "outputs": [],
   "source": []
  },
  {
   "cell_type": "code",
   "execution_count": null,
   "metadata": {
    "id": "MvxzoUKoyuia",
    "vscode": {
     "languageId": "r"
    }
   },
   "outputs": [],
   "source": [
    "library(ggplot2)\n",
    "install.packages(\"gridExtra\")\n",
    "library(gridExtra)\n",
    "\n",
    "p1 = ggplot(data_HW_mod, aes(x = age_num,y = fitted, color = sex, shape = class)) + \n",
    "      geom_point() \n",
    "p2 = ggplot(data_HW_mod, aes(x = age_num,y = r_deviance_std, color = sex, shape = class)) + \n",
    "      geom_point() \n",
    "grid.arrange(p1, p2, nrow = 1)"
   ]
  },
  {
   "cell_type": "code",
   "execution_count": null,
   "metadata": {
    "id": "4MVktHiqyuk9",
    "vscode": {
     "languageId": "r"
    }
   },
   "outputs": [],
   "source": [
    "p1 = ggplot(data_HW_mod, aes(x = age_num,y = fitted, color = survived)) + \n",
    "      geom_point() \n",
    "p2 = ggplot(data_HW_mod, aes(x = age_num,y = r_deviance_std, color = survived)) + \n",
    "      geom_point() \n",
    "grid.arrange(p1, p2, nrow = 1)"
   ]
  },
  {
   "cell_type": "code",
   "execution_count": null,
   "metadata": {
    "id": "7Uydx4Gbyuou",
    "vscode": {
     "languageId": "r"
    }
   },
   "outputs": [],
   "source": []
  },
  {
   "cell_type": "code",
   "execution_count": null,
   "metadata": {
    "id": "FvbwSkYS9jIQ",
    "vscode": {
     "languageId": "r"
    }
   },
   "outputs": [],
   "source": []
  },
  {
   "cell_type": "markdown",
   "metadata": {
    "id": "B8A_m1M7GHfc"
   },
   "source": [
    "## Post hoc analysis by quality of fitted values"
   ]
  },
  {
   "cell_type": "code",
   "execution_count": null,
   "metadata": {
    "id": "B1y5b5Sc9jLe",
    "vscode": {
     "languageId": "r"
    }
   },
   "outputs": [],
   "source": [
    "# Fit a  model\n",
    "table(data_HW_mod$predict, data_HW$survived)"
   ]
  },
  {
   "cell_type": "code",
   "execution_count": null,
   "metadata": {
    "id": "ipcId_Ol9jOY",
    "vscode": {
     "languageId": "r"
    }
   },
   "outputs": [],
   "source": [
    "install.packages(\"caret\")\n",
    "library(caret)\n",
    "install.packages(\"e1071\")\n",
    "library(e1071)\n",
    "install.packages(\"tidymodels\")\n",
    "library(tidymodels)\n",
    " "
   ]
  },
  {
   "cell_type": "code",
   "execution_count": null,
   "metadata": {
    "id": "f0VMvxaaCIkV",
    "vscode": {
     "languageId": "r"
    }
   },
   "outputs": [],
   "source": [
    "confusionMatrix(data_HW_mod$predict, data_HW_mod$survived, positive = \"1\")"
   ]
  },
  {
   "cell_type": "code",
   "execution_count": null,
   "metadata": {
    "id": "JbXyE9byGQ13",
    "vscode": {
     "languageId": "r"
    }
   },
   "outputs": [],
   "source": [
    "ggplot(data_HW_mod, aes(x=fitted, color=survived)) +\n",
    "  geom_histogram(fill=\"white\",aes(y=..density..), alpha=0.1, position=\"identity\") +\n",
    "   geom_density(aes(y=..density..))\n",
    "\n",
    "# Overlaid histograms\n",
    "#ggplot(df, aes(x=weight, color=sex)) +\n",
    "#  geom_histogram(fill=\"white\", alpha=0.5, position=\"identity\")"
   ]
  },
  {
   "cell_type": "code",
   "execution_count": null,
   "metadata": {
    "id": "82ROBD5ICInN",
    "vscode": {
     "languageId": "r"
    }
   },
   "outputs": [],
   "source": [
    "data_HW_mod = data_HW_mod %>%\n",
    "  mutate(predict_04 = as.factor(ifelse(fitted > 0.4, \"1\", \"0\")) )\n",
    "head(data_HW_mod)\n",
    "confusionMatrix(data_HW_mod$predict_04, data_HW_mod$survived, positive = \"1\")"
   ]
  },
  {
   "cell_type": "code",
   "execution_count": null,
   "metadata": {
    "id": "rcvHrJ61CIqv",
    "vscode": {
     "languageId": "r"
    }
   },
   "outputs": [],
   "source": [
    "(332+232)/(332 + 55 + + 86 + 232) # Accuracy from Confusion Matrix"
   ]
  },
  {
   "cell_type": "code",
   "execution_count": null,
   "metadata": {
    "id": "AbXPDa5L9jTc",
    "vscode": {
     "languageId": "r"
    }
   },
   "outputs": [],
   "source": []
  },
  {
   "cell_type": "markdown",
   "metadata": {
    "id": "8HDo1IxQLGxd"
   },
   "source": [
    "## Use test data"
   ]
  },
  {
   "cell_type": "code",
   "execution_count": null,
   "metadata": {
    "id": "DPguRPRVLpIw",
    "vscode": {
     "languageId": "r"
    }
   },
   "outputs": [],
   "source": [
    "titanic_test.head()"
   ]
  },
  {
   "cell_type": "code",
   "execution_count": null,
   "metadata": {
    "id": "AumkO643J2nz",
    "vscode": {
     "languageId": "r"
    }
   },
   "outputs": [],
   "source": [
    "data_test = titanic_test %>%\n",
    "  dplyr::select(Age,Fare,Pclass,Sex,Embarked) %>%\n",
    "  filter(Embarked %in% c(\"C\",\"Q\",\"S\")) %>%\n",
    "  drop_na %>%\n",
    "  transmute(age  = cut(Age, breaks=c(-Inf, 16, Inf), labels=c(\"child\",\"adult\")),\n",
    "            age_num = Age,\n",
    "            fare = Fare,\n",
    "            fare_quantile = ntile(Fare, 8),\n",
    "            fare_quantile2 = cut(Fare, quantile(Fare, prob = seq(0,1,length = 9), type = 8)), \n",
    "            class = as.factor(Pclass),\n",
    "            sex = as.factor(Sex),\n",
    "            embarked = as.factor(Embarked)) %>%\n",
    "  drop_na \n",
    "  summary(data_test)"
   ]
  },
  {
   "cell_type": "code",
   "execution_count": null,
   "metadata": {
    "id": "eyl9UkO3J2tU",
    "vscode": {
     "languageId": "r"
    }
   },
   "outputs": [],
   "source": []
  },
  {
   "cell_type": "code",
   "execution_count": null,
   "metadata": {
    "id": "WjptemJqJ2qp",
    "vscode": {
     "languageId": "r"
    }
   },
   "outputs": [],
   "source": [
    "## Plot train\n",
    "\n",
    "data_test = data_test %>%\n",
    "  mutate(fitted = predict(mod_1, newdata = data_test, type = \"response\"),\n",
    "         predict = as.factor(ifelse(fitted > 0.5, \"1\", \"0\")) ) %>%\n",
    "         arrange(age_num)\n",
    "head(data_test)\n",
    "\n",
    "\n",
    "plt = ggplot(data_test, aes(x = age_num, y = fitted, colour = sex:class)) +\n",
    "    geom_line() +\n",
    "    geom_rug(aes(y = survived_num, colour = survived), data = data_HW_mod) +\n",
    "    #scale_colour_discrete(name = 'Survived') +\n",
    "    labs(x = 'Age', y = 'Probability of survived')\n",
    "plt\n",
    "\n"
   ]
  },
  {
   "cell_type": "code",
   "execution_count": null,
   "metadata": {
    "id": "6fsoPecdQRVj",
    "vscode": {
     "languageId": "r"
    }
   },
   "outputs": [],
   "source": [
    "data_test_select = data_test %>%\n",
    "  dplyr::filter(sex == \"male\",\n",
    "               class == \"2\")\n",
    "\n",
    "plt = ggplot(data_test_select, aes(x = age_num, y = fitted)) +\n",
    "    geom_line() +\n",
    "    geom_rug(aes(y = survived_num, colour = survived), data = data_HW_mod) +\n",
    "    #scale_colour_discrete(name = 'Survived') +\n",
    "    labs(x = 'Age', y = 'Probability of survived')\n",
    "plt\n"
   ]
  },
  {
   "cell_type": "markdown",
   "metadata": {
    "id": "Y9jQj8n4Qs3G"
   },
   "source": [
    "Wrong way to plot confidence interval"
   ]
  },
  {
   "cell_type": "code",
   "execution_count": null,
   "metadata": {
    "id": "uuy1Yd6jVYKI",
    "vscode": {
     "languageId": "r"
    }
   },
   "outputs": [],
   "source": [
    "#plt = ggplot(data_test, aes(x = age_num, y = fitted, colour = sex:class)) +\n",
    "#    geom_line() +\n",
    "#    geom_rug(aes(y = survived_num, colour = survived), data = data_HW_mod) +\n",
    "#    #scale_colour_discrete(name = 'Survived') +\n",
    "#    labs(x = 'Age', y = 'Probability of survived')\n",
    "#plt"
   ]
  },
  {
   "cell_type": "code",
   "execution_count": null,
   "metadata": {
    "id": "eTmmVknMJ2v-",
    "vscode": {
     "languageId": "r"
    }
   },
   "outputs": [],
   "source": [
    "## add standard errors and compute a 95% interval the wrong way\n",
    "data_test_select = data_test_select %>%\n",
    "  mutate(wrong_se = predict(mod_1, newdata = data_test_select, type = 'response',se.fit = TRUE)$se.fit,\n",
    "         wrong_upr = fitted + (2 * wrong_se),\n",
    "         wrong_lwr = fitted - (2 * wrong_se))\n",
    "\n",
    "plt + geom_ribbon(data = data_test_select, aes(ymin = wrong_lwr, ymax = wrong_upr),\n",
    "                  alpha = 0.1)\n",
    "\n",
    "\n"
   ]
  },
  {
   "cell_type": "code",
   "execution_count": null,
   "metadata": {
    "id": "7shmtwpQJ2yc",
    "vscode": {
     "languageId": "r"
    }
   },
   "outputs": [],
   "source": []
  },
  {
   "cell_type": "markdown",
   "metadata": {
    "id": "kKOeZKUDR_2T"
   },
   "source": [
    "Right way"
   ]
  },
  {
   "cell_type": "code",
   "execution_count": null,
   "metadata": {
    "id": "wAQ0XDOiSpVk",
    "vscode": {
     "languageId": "r"
    }
   },
   "outputs": [],
   "source": [
    "#predict(mod_1, data_test_select, se.fit = TRUE)\n"
   ]
  },
  {
   "cell_type": "code",
   "execution_count": null,
   "metadata": {
    "id": "Ocg3o-RhJ21V",
    "vscode": {
     "languageId": "r"
    }
   },
   "outputs": [],
   "source": [
    "ilink = family(mod_1)$linkinv\n",
    "quant_t = qt(0.025, df = df.residual(mod_1), lower.tail = FALSE)\n",
    "quant_n = qnorm(0.005, lower.tail = FALSE)\n",
    "## add fit and se.fit on the **link** scale\n",
    "data_test_select = data_test_select %>%\n",
    "   mutate(fit_link = predict(mod_1, data_test_select, se.fit = TRUE)$fit,\n",
    "          se_link  = predict(mod_1, data_test_select, se.fit = TRUE)$se.fit,\n",
    "          fit  = ilink(fit_link),\n",
    "          fit_ul = ilink(fit_link + (quant_n * se_link)),\n",
    "          fit_ll = ilink(fit_link - (quant_n * se_link)))\n",
    "## show\n",
    "head(data_test_select)\n",
    "\n",
    "plt + geom_ribbon(data = data_test_select,\n",
    "                  aes(ymin = fit_ll, ymax = fit_ul),\n",
    "                  alpha = 0.1)\n",
    "\n"
   ]
  },
  {
   "cell_type": "markdown",
   "metadata": {
    "id": "btwAWoSYZOUX"
   },
   "source": [
    "Binary classification"
   ]
  },
  {
   "cell_type": "markdown",
   "metadata": {
    "id": "87o4YqSPZSOc"
   },
   "source": [
    "https://en.wikipedia.org/wiki/Binary_classification\n",
    "\n",
    "https://en.wikipedia.org/wiki/Sensitivity_and_specificity\n",
    "\n",
    "https://en.wikipedia.org/wiki/Receiver_operating_characteristic\n",
    "\n"
   ]
  },
  {
   "cell_type": "markdown",
   "metadata": {
    "id": "M2qBbWteZdBj"
   },
   "source": [
    "In R many different packages:  /TODO prepare for Python/\n",
    "\n",
    "https://rviews.rstudio.com/2019/03/01/some-r-packages-for-roc-curves/\n",
    "\n",
    "https://cran.r-project.org/web/packages/ROCit/index.html\n",
    "\n",
    "https://cran.r-project.org/web/packages/pROC/index.html\n",
    "\n",
    "https://cran.r-project.org/web/packages/ROCR/"
   ]
  },
  {
   "cell_type": "code",
   "execution_count": null,
   "metadata": {
    "id": "bKZ3Ug3HSCNq",
    "vscode": {
     "languageId": "r"
    }
   },
   "outputs": [],
   "source": [
    "install.packages(\"pROC\")\n",
    "library(pROC)"
   ]
  },
  {
   "cell_type": "markdown",
   "metadata": {
    "id": "Li1Kkmp5cUm5"
   },
   "source": [
    "Intro with pROC: https://rpubs.com/Wangzf/pROC"
   ]
  },
  {
   "cell_type": "code",
   "execution_count": null,
   "metadata": {
    "id": "XLe_aF7_SCQp",
    "vscode": {
     "languageId": "r"
    }
   },
   "outputs": [],
   "source": [
    "plot.roc(data_HW_mod$survived, data_HW_mod$fitted,          # data\n",
    "         percent = TRUE,                    # show all values in percent\n",
    "         #partial.auc=c(100, 90), \n",
    "         #partial.auc.correct=True,          # define a partial AUC (pAUC)\n",
    "         print.auc=TRUE,                    \n",
    "         #display pAUC value on the plot with following options:\n",
    "         #print.auc.pattern = \"Corrected pAUC (100-90%% SP):\\n%.1f%%\",\n",
    "         #print.auc.col = \"#1c61b6\",\n",
    "         #auc.polygon = TRUE, \n",
    "         #auc.polygon.col = \"#1c61b6\",       # show pAUC as a polygon\n",
    "         #max.auc.polygon = TRUE, \n",
    "         #max.auc.polygon.col = \"#1c61b622\", # also show the 100% polygon\n",
    "         main = \"Partial AUC (pAUC)\")\n",
    "\n"
   ]
  },
  {
   "cell_type": "code",
   "execution_count": null,
   "metadata": {
    "id": "ZqVP5s9DbnqN",
    "vscode": {
     "languageId": "r"
    }
   },
   "outputs": [],
   "source": [
    "plot.roc(data_HW_mod$survived, data_HW_mod$fitted,          # data\n",
    "         percent = TRUE,                    # show all values in percent\n",
    "         partial.auc=c(100, 90), \n",
    "         partial.auc.correct=TRUE,          # define a partial AUC (pAUC)\n",
    "         print.auc=TRUE,                    \n",
    "         #display pAUC value on the plot with following options:\n",
    "         print.auc.pattern = \"Corrected pAUC (100-90%% SP):\\n%.1f%%\",\n",
    "         print.auc.col = \"#1c61b6\",\n",
    "         auc.polygon = TRUE, \n",
    "         auc.polygon.col = \"#1c61b6\",       # show pAUC as a polygon\n",
    "         max.auc.polygon = TRUE, \n",
    "         max.auc.polygon.col = \"#1c61b622\", # also show the 100% polygon\n",
    "         main = \"Partial AUC (pAUC)\")\n",
    "plot.roc(data_HW_mod$survived, data_HW_mod$fitted,\n",
    "         percent = TRUE, \n",
    "         add = TRUE, \n",
    "         type = \"n\",                        # add to plot, but don't re-add the ROC itself (useless)\n",
    "         partial.auc = c(100, 90), \n",
    "         partial.auc.correct = TRUE,\n",
    "         partial.auc.focus = \"se\",          # focus pAUC on the sensitivity\n",
    "         print.auc = TRUE, \n",
    "         print.auc.pattern = \"Corrected pAUC (100-90%% SE):\\n%.1f%%\", \n",
    "         print.auc.col = \"#008600\",\n",
    "         print.auc.y = 40,                  # do not print auc over the previous one\n",
    "         auc.polygon = TRUE, \n",
    "         auc.polygon.col = \"#008600\",\n",
    "         max.auc.polygon = TRUE, \n",
    "         max.auc.polygon.col = \"#00860022\")"
   ]
  },
  {
   "cell_type": "code",
   "execution_count": null,
   "metadata": {
    "id": "Z6qGXKSpvLFH",
    "vscode": {
     "languageId": "r"
    }
   },
   "outputs": [],
   "source": [
    "install.packages(\"ROCR\")\n",
    "library(ROCR)\n",
    "pr = prediction(data_HW_mod$fitted, data_HW_mod$survived)\n",
    "prf = performance(pr, measure = \"tpr\", x.measure = \"fpr\")\n",
    "plot(prf)\n",
    "#? performance\n",
    "auc = performance(pr, measure = \"auc\")\n",
    "auc = auc@y.values[[1]]\n",
    "auc"
   ]
  },
  {
   "cell_type": "code",
   "execution_count": null,
   "metadata": {
    "id": "5FEIj8REhxZt",
    "vscode": {
     "languageId": "r"
    }
   },
   "outputs": [],
   "source": []
  },
  {
   "cell_type": "markdown",
   "metadata": {
    "id": "76UBUNIMcthh"
   },
   "source": [
    "## Your Turn :\n",
    "\n",
    "* Compute a new variable `nrelatives = sibsp + parch`\n",
    "* Fit model with this new variable (you can try use it as continuous or as factor (change levels)) and `sex, age, fare, class, embarked`\n",
    "* Try to use `step` function to find the \"best\" model.\n",
    "* Validate the model. Are all variables significant? If you have any numerical variable, does it need any transformation?\n",
    "* Plot densities of fitted probabilities for survived/not survived and choose optimal threshold.\n",
    "* Compute the confusion matrix and basic statistics and compare results of your model with model mod_1\n",
    "* Plot ROC curve of your model together with ROC curve of mod_1. Which one has larger AUC."
   ]
  },
  {
   "cell_type": "code",
   "execution_count": null,
   "metadata": {
    "id": "xCn9FM42tc2P",
    "vscode": {
     "languageId": "r"
    }
   },
   "outputs": [],
   "source": []
  }
 ],
 "metadata": {
  "colab": {
   "authorship_tag": "ABX9TyOS6EtqeFrFULJJ+5TG1tiq",
   "collapsed_sections": [],
   "include_colab_link": true,
   "name": "01ZLMA_ex08_Binary_Data_2.ipynb",
   "private_outputs": true,
   "provenance": []
  },
  "kernelspec": {
   "display_name": "Python 3",
   "language": "python",
   "name": "python3"
  },
  "language_info": {
   "codemirror_mode": {
    "name": "ipython",
    "version": 3
   },
   "file_extension": ".py",
   "mimetype": "text/x-python",
   "name": "python",
   "nbconvert_exporter": "python",
   "pygments_lexer": "ipython3",
   "version": "3.9.1"
  }
 },
 "nbformat": 4,
 "nbformat_minor": 1
}
