{
  "nbformat": 4,
  "nbformat_minor": 0,
  "metadata": {
    "colab": {
      "name": "11ZLMA.ipynb",
      "provenance": []
    },
    "kernelspec": {
      "name": "python3",
      "display_name": "Python 3"
    },
    "language_info": {
      "name": "python"
    }
  },
  "cells": [
    {
      "cell_type": "markdown",
      "source": [
        "# 01ZLMA - Exercise 11\n",
        "Exercise 11 of the course 01ZLMA. \n",
        "\n",
        "## Contents\n",
        "\n",
        "* Log-linear models with Poisson distributed data\n",
        " ---\n"
      ],
      "metadata": {
        "id": "-gYyG6ndIzQo"
      }
    },
    {
      "cell_type": "markdown",
      "source": [
        "Dataset and example from Chapter 10\n",
        "\n",
        "Peter K. Dunn • Gordon K. Smyth, Generalized Linear ModelsWith Examples in R\n",
        "\n",
        "https://link.springer.com/content/pdf/10.1007%2F978-1-4419-0118-7.pdf"
      ],
      "metadata": {
        "id": "ch0YiiIJI1H_"
      }
    },
    {
      "cell_type": "markdown",
      "source": [
        "Example 10.1.: As a numerical example, consider the number of incidents of\n",
        "lung cancer from 1968 to 1971 in four Danish cities. The number of cases of lung cancer in each age group is remarkably similar for Fredericia. However, using the number of cases does not accurately reflect the information in the data, because five times as many people are in the 40–54 age group than in the\n",
        "over-75 age group. Understanding the data is enhanced by considering the\n",
        "rate of lung cancer, such as the number of lung cancer cases per unit of population."
      ],
      "metadata": {
        "id": "TthZjnvWI3Yo"
      }
    },
    {
      "cell_type": "code",
      "source": [
        "# import data from R to xlsx -> downloaded in files in google colab\n",
        "'''\n",
        "install.packages(\"writexl\")\n",
        "library(\"writexl\")\n",
        "write_xlsx(danishlc, \"danishlc.xlsx\")\n",
        "'''"
      ],
      "metadata": {
        "id": "mEQFEFJmLH6J",
        "outputId": "ee7acc24-67d0-4f0b-db36-c72bc4b55b73",
        "colab": {
          "base_uri": "https://localhost:8080/",
          "height": 35
        }
      },
      "execution_count": 4,
      "outputs": [
        {
          "output_type": "execute_result",
          "data": {
            "text/plain": [
              "'\\ninstall.packages(\"writexl\")\\nlibrary(\"writexl\")\\nwrite_xlsx(danishlc, \"danishlc.xlsx\")\\n'"
            ],
            "application/vnd.google.colaboratory.intrinsic+json": {
              "type": "string"
            }
          },
          "metadata": {},
          "execution_count": 4
        }
      ]
    },
    {
      "cell_type": "code",
      "execution_count": 5,
      "metadata": {
        "id": "ni0xt2ZFImT9"
      },
      "outputs": [],
      "source": [
        "import pandas as pd\n",
        "import numpy as np\n",
        "import math\n",
        "import matplotlib.pyplot as plt\n",
        "import seaborn as sns\n",
        "from sklearn.linear_model import LinearRegression\n",
        "from statsmodels.graphics.regressionplots import plot_partregress_grid\n",
        "import statsmodels.formula.api as smf\n",
        "import statsmodels.api as sm\n",
        "from scipy import stats"
      ]
    },
    {
      "cell_type": "code",
      "source": [
        "# import dataset -> put dataset in files in google colab\n",
        "danishhlc = pd.read_excel('/content/danishlc.xlsx')\n",
        "danishhlc"
      ],
      "metadata": {
        "colab": {
          "base_uri": "https://localhost:8080/",
          "height": 802
        },
        "id": "vQhCrAfMI8mA",
        "outputId": "ff0348c0-9a88-4f90-c3bb-4ba2bfee2948"
      },
      "execution_count": 6,
      "outputs": [
        {
          "output_type": "execute_result",
          "data": {
            "text/plain": [
              "    Cases   Pop    Age        City       Rate  AgeNum\n",
              "0      11  3059  40-54  Fredericia   3.595946      40\n",
              "1      11   800  55-59  Fredericia  13.750000      55\n",
              "2      11   710  60-64  Fredericia  15.492958      60\n",
              "3      10   581  65-69  Fredericia  17.211704      65\n",
              "4      11   509  70-74  Fredericia  21.611002      70\n",
              "5      10   605    >74  Fredericia  16.528926      75\n",
              "6      13  2879  40-54     Horsens   4.515457      40\n",
              "7       6  1083  55-59     Horsens   5.540166      55\n",
              "8      15   923  60-64     Horsens  16.251354      60\n",
              "9      10   834  65-69     Horsens  11.990408      65\n",
              "10     12   634  70-74     Horsens  18.927445      70\n",
              "11      2   782    >74     Horsens   2.557545      75\n",
              "12      4  3142  40-54     Kolding   1.273074      40\n",
              "13      8  1050  55-59     Kolding   7.619048      55\n",
              "14      7   895  60-64     Kolding   7.821229      60\n",
              "15     11   702  65-69     Kolding  15.669516      65\n",
              "16      9   535  70-74     Kolding  16.822430      70\n",
              "17     12   659    >74     Kolding  18.209408      75\n",
              "18      5  2520  40-54       Vejle   1.984127      40\n",
              "19      7   878  55-59       Vejle   7.972665      55\n",
              "20     10   839  60-64       Vejle  11.918951      60\n",
              "21     14   631  65-69       Vejle  22.187005      65\n",
              "22      8   539  70-74       Vejle  14.842301      70\n",
              "23      7   619    >74       Vejle  11.308562      75"
            ],
            "text/html": [
              "\n",
              "  <div id=\"df-5a72b712-72e0-4e68-8515-8e112ea499af\">\n",
              "    <div class=\"colab-df-container\">\n",
              "      <div>\n",
              "<style scoped>\n",
              "    .dataframe tbody tr th:only-of-type {\n",
              "        vertical-align: middle;\n",
              "    }\n",
              "\n",
              "    .dataframe tbody tr th {\n",
              "        vertical-align: top;\n",
              "    }\n",
              "\n",
              "    .dataframe thead th {\n",
              "        text-align: right;\n",
              "    }\n",
              "</style>\n",
              "<table border=\"1\" class=\"dataframe\">\n",
              "  <thead>\n",
              "    <tr style=\"text-align: right;\">\n",
              "      <th></th>\n",
              "      <th>Cases</th>\n",
              "      <th>Pop</th>\n",
              "      <th>Age</th>\n",
              "      <th>City</th>\n",
              "      <th>Rate</th>\n",
              "      <th>AgeNum</th>\n",
              "    </tr>\n",
              "  </thead>\n",
              "  <tbody>\n",
              "    <tr>\n",
              "      <th>0</th>\n",
              "      <td>11</td>\n",
              "      <td>3059</td>\n",
              "      <td>40-54</td>\n",
              "      <td>Fredericia</td>\n",
              "      <td>3.595946</td>\n",
              "      <td>40</td>\n",
              "    </tr>\n",
              "    <tr>\n",
              "      <th>1</th>\n",
              "      <td>11</td>\n",
              "      <td>800</td>\n",
              "      <td>55-59</td>\n",
              "      <td>Fredericia</td>\n",
              "      <td>13.750000</td>\n",
              "      <td>55</td>\n",
              "    </tr>\n",
              "    <tr>\n",
              "      <th>2</th>\n",
              "      <td>11</td>\n",
              "      <td>710</td>\n",
              "      <td>60-64</td>\n",
              "      <td>Fredericia</td>\n",
              "      <td>15.492958</td>\n",
              "      <td>60</td>\n",
              "    </tr>\n",
              "    <tr>\n",
              "      <th>3</th>\n",
              "      <td>10</td>\n",
              "      <td>581</td>\n",
              "      <td>65-69</td>\n",
              "      <td>Fredericia</td>\n",
              "      <td>17.211704</td>\n",
              "      <td>65</td>\n",
              "    </tr>\n",
              "    <tr>\n",
              "      <th>4</th>\n",
              "      <td>11</td>\n",
              "      <td>509</td>\n",
              "      <td>70-74</td>\n",
              "      <td>Fredericia</td>\n",
              "      <td>21.611002</td>\n",
              "      <td>70</td>\n",
              "    </tr>\n",
              "    <tr>\n",
              "      <th>5</th>\n",
              "      <td>10</td>\n",
              "      <td>605</td>\n",
              "      <td>&gt;74</td>\n",
              "      <td>Fredericia</td>\n",
              "      <td>16.528926</td>\n",
              "      <td>75</td>\n",
              "    </tr>\n",
              "    <tr>\n",
              "      <th>6</th>\n",
              "      <td>13</td>\n",
              "      <td>2879</td>\n",
              "      <td>40-54</td>\n",
              "      <td>Horsens</td>\n",
              "      <td>4.515457</td>\n",
              "      <td>40</td>\n",
              "    </tr>\n",
              "    <tr>\n",
              "      <th>7</th>\n",
              "      <td>6</td>\n",
              "      <td>1083</td>\n",
              "      <td>55-59</td>\n",
              "      <td>Horsens</td>\n",
              "      <td>5.540166</td>\n",
              "      <td>55</td>\n",
              "    </tr>\n",
              "    <tr>\n",
              "      <th>8</th>\n",
              "      <td>15</td>\n",
              "      <td>923</td>\n",
              "      <td>60-64</td>\n",
              "      <td>Horsens</td>\n",
              "      <td>16.251354</td>\n",
              "      <td>60</td>\n",
              "    </tr>\n",
              "    <tr>\n",
              "      <th>9</th>\n",
              "      <td>10</td>\n",
              "      <td>834</td>\n",
              "      <td>65-69</td>\n",
              "      <td>Horsens</td>\n",
              "      <td>11.990408</td>\n",
              "      <td>65</td>\n",
              "    </tr>\n",
              "    <tr>\n",
              "      <th>10</th>\n",
              "      <td>12</td>\n",
              "      <td>634</td>\n",
              "      <td>70-74</td>\n",
              "      <td>Horsens</td>\n",
              "      <td>18.927445</td>\n",
              "      <td>70</td>\n",
              "    </tr>\n",
              "    <tr>\n",
              "      <th>11</th>\n",
              "      <td>2</td>\n",
              "      <td>782</td>\n",
              "      <td>&gt;74</td>\n",
              "      <td>Horsens</td>\n",
              "      <td>2.557545</td>\n",
              "      <td>75</td>\n",
              "    </tr>\n",
              "    <tr>\n",
              "      <th>12</th>\n",
              "      <td>4</td>\n",
              "      <td>3142</td>\n",
              "      <td>40-54</td>\n",
              "      <td>Kolding</td>\n",
              "      <td>1.273074</td>\n",
              "      <td>40</td>\n",
              "    </tr>\n",
              "    <tr>\n",
              "      <th>13</th>\n",
              "      <td>8</td>\n",
              "      <td>1050</td>\n",
              "      <td>55-59</td>\n",
              "      <td>Kolding</td>\n",
              "      <td>7.619048</td>\n",
              "      <td>55</td>\n",
              "    </tr>\n",
              "    <tr>\n",
              "      <th>14</th>\n",
              "      <td>7</td>\n",
              "      <td>895</td>\n",
              "      <td>60-64</td>\n",
              "      <td>Kolding</td>\n",
              "      <td>7.821229</td>\n",
              "      <td>60</td>\n",
              "    </tr>\n",
              "    <tr>\n",
              "      <th>15</th>\n",
              "      <td>11</td>\n",
              "      <td>702</td>\n",
              "      <td>65-69</td>\n",
              "      <td>Kolding</td>\n",
              "      <td>15.669516</td>\n",
              "      <td>65</td>\n",
              "    </tr>\n",
              "    <tr>\n",
              "      <th>16</th>\n",
              "      <td>9</td>\n",
              "      <td>535</td>\n",
              "      <td>70-74</td>\n",
              "      <td>Kolding</td>\n",
              "      <td>16.822430</td>\n",
              "      <td>70</td>\n",
              "    </tr>\n",
              "    <tr>\n",
              "      <th>17</th>\n",
              "      <td>12</td>\n",
              "      <td>659</td>\n",
              "      <td>&gt;74</td>\n",
              "      <td>Kolding</td>\n",
              "      <td>18.209408</td>\n",
              "      <td>75</td>\n",
              "    </tr>\n",
              "    <tr>\n",
              "      <th>18</th>\n",
              "      <td>5</td>\n",
              "      <td>2520</td>\n",
              "      <td>40-54</td>\n",
              "      <td>Vejle</td>\n",
              "      <td>1.984127</td>\n",
              "      <td>40</td>\n",
              "    </tr>\n",
              "    <tr>\n",
              "      <th>19</th>\n",
              "      <td>7</td>\n",
              "      <td>878</td>\n",
              "      <td>55-59</td>\n",
              "      <td>Vejle</td>\n",
              "      <td>7.972665</td>\n",
              "      <td>55</td>\n",
              "    </tr>\n",
              "    <tr>\n",
              "      <th>20</th>\n",
              "      <td>10</td>\n",
              "      <td>839</td>\n",
              "      <td>60-64</td>\n",
              "      <td>Vejle</td>\n",
              "      <td>11.918951</td>\n",
              "      <td>60</td>\n",
              "    </tr>\n",
              "    <tr>\n",
              "      <th>21</th>\n",
              "      <td>14</td>\n",
              "      <td>631</td>\n",
              "      <td>65-69</td>\n",
              "      <td>Vejle</td>\n",
              "      <td>22.187005</td>\n",
              "      <td>65</td>\n",
              "    </tr>\n",
              "    <tr>\n",
              "      <th>22</th>\n",
              "      <td>8</td>\n",
              "      <td>539</td>\n",
              "      <td>70-74</td>\n",
              "      <td>Vejle</td>\n",
              "      <td>14.842301</td>\n",
              "      <td>70</td>\n",
              "    </tr>\n",
              "    <tr>\n",
              "      <th>23</th>\n",
              "      <td>7</td>\n",
              "      <td>619</td>\n",
              "      <td>&gt;74</td>\n",
              "      <td>Vejle</td>\n",
              "      <td>11.308562</td>\n",
              "      <td>75</td>\n",
              "    </tr>\n",
              "  </tbody>\n",
              "</table>\n",
              "</div>\n",
              "      <button class=\"colab-df-convert\" onclick=\"convertToInteractive('df-5a72b712-72e0-4e68-8515-8e112ea499af')\"\n",
              "              title=\"Convert this dataframe to an interactive table.\"\n",
              "              style=\"display:none;\">\n",
              "        \n",
              "  <svg xmlns=\"http://www.w3.org/2000/svg\" height=\"24px\"viewBox=\"0 0 24 24\"\n",
              "       width=\"24px\">\n",
              "    <path d=\"M0 0h24v24H0V0z\" fill=\"none\"/>\n",
              "    <path d=\"M18.56 5.44l.94 2.06.94-2.06 2.06-.94-2.06-.94-.94-2.06-.94 2.06-2.06.94zm-11 1L8.5 8.5l.94-2.06 2.06-.94-2.06-.94L8.5 2.5l-.94 2.06-2.06.94zm10 10l.94 2.06.94-2.06 2.06-.94-2.06-.94-.94-2.06-.94 2.06-2.06.94z\"/><path d=\"M17.41 7.96l-1.37-1.37c-.4-.4-.92-.59-1.43-.59-.52 0-1.04.2-1.43.59L10.3 9.45l-7.72 7.72c-.78.78-.78 2.05 0 2.83L4 21.41c.39.39.9.59 1.41.59.51 0 1.02-.2 1.41-.59l7.78-7.78 2.81-2.81c.8-.78.8-2.07 0-2.86zM5.41 20L4 18.59l7.72-7.72 1.47 1.35L5.41 20z\"/>\n",
              "  </svg>\n",
              "      </button>\n",
              "      \n",
              "  <style>\n",
              "    .colab-df-container {\n",
              "      display:flex;\n",
              "      flex-wrap:wrap;\n",
              "      gap: 12px;\n",
              "    }\n",
              "\n",
              "    .colab-df-convert {\n",
              "      background-color: #E8F0FE;\n",
              "      border: none;\n",
              "      border-radius: 50%;\n",
              "      cursor: pointer;\n",
              "      display: none;\n",
              "      fill: #1967D2;\n",
              "      height: 32px;\n",
              "      padding: 0 0 0 0;\n",
              "      width: 32px;\n",
              "    }\n",
              "\n",
              "    .colab-df-convert:hover {\n",
              "      background-color: #E2EBFA;\n",
              "      box-shadow: 0px 1px 2px rgba(60, 64, 67, 0.3), 0px 1px 3px 1px rgba(60, 64, 67, 0.15);\n",
              "      fill: #174EA6;\n",
              "    }\n",
              "\n",
              "    [theme=dark] .colab-df-convert {\n",
              "      background-color: #3B4455;\n",
              "      fill: #D2E3FC;\n",
              "    }\n",
              "\n",
              "    [theme=dark] .colab-df-convert:hover {\n",
              "      background-color: #434B5C;\n",
              "      box-shadow: 0px 1px 3px 1px rgba(0, 0, 0, 0.15);\n",
              "      filter: drop-shadow(0px 1px 2px rgba(0, 0, 0, 0.3));\n",
              "      fill: #FFFFFF;\n",
              "    }\n",
              "  </style>\n",
              "\n",
              "      <script>\n",
              "        const buttonEl =\n",
              "          document.querySelector('#df-5a72b712-72e0-4e68-8515-8e112ea499af button.colab-df-convert');\n",
              "        buttonEl.style.display =\n",
              "          google.colab.kernel.accessAllowed ? 'block' : 'none';\n",
              "\n",
              "        async function convertToInteractive(key) {\n",
              "          const element = document.querySelector('#df-5a72b712-72e0-4e68-8515-8e112ea499af');\n",
              "          const dataTable =\n",
              "            await google.colab.kernel.invokeFunction('convertToInteractive',\n",
              "                                                     [key], {});\n",
              "          if (!dataTable) return;\n",
              "\n",
              "          const docLinkHtml = 'Like what you see? Visit the ' +\n",
              "            '<a target=\"_blank\" href=https://colab.research.google.com/notebooks/data_table.ipynb>data table notebook</a>'\n",
              "            + ' to learn more about interactive tables.';\n",
              "          element.innerHTML = '';\n",
              "          dataTable['output_type'] = 'display_data';\n",
              "          await google.colab.output.renderOutput(dataTable, element);\n",
              "          const docLink = document.createElement('div');\n",
              "          docLink.innerHTML = docLinkHtml;\n",
              "          element.appendChild(docLink);\n",
              "        }\n",
              "      </script>\n",
              "    </div>\n",
              "  </div>\n",
              "  "
            ]
          },
          "metadata": {},
          "execution_count": 6
        }
      ]
    },
    {
      "cell_type": "code",
      "source": [
        "sns.relplot(x=danishhlc['Age'], y=danishhlc['Cases'], aspect=2, hue = danishhlc['City'], kind=\"line\")\n",
        "plt.grid()"
      ],
      "metadata": {
        "colab": {
          "base_uri": "https://localhost:8080/",
          "height": 369
        },
        "id": "whIzQ336Ml-A",
        "outputId": "46ffebb2-233c-4fd8-acfd-772b0af30956"
      },
      "execution_count": 7,
      "outputs": [
        {
          "output_type": "display_data",
          "data": {
            "text/plain": [
              "<Figure size 805x360 with 1 Axes>"
            ],
            "image/png": "[encoded data removed]"
          },
          "metadata": {
            "needs_background": "light"
          }
        }
      ]
    },
    {
      "cell_type": "markdown",
      "source": [
        "The plots show no clear pattern by city, but the\n",
        "lung cancer rate appears to grow steadily for older age groups for each city,\n",
        "then falls away for the `>74` age group. The lung cancer rate for Horsens in\n",
        "the `>74` age group seems very low."
      ],
      "metadata": {
        "id": "0hcZ_uFzNtTC"
      }
    },
    {
      "cell_type": "markdown",
      "source": [
        "### Poission regression recap:\n",
        "\n",
        "We assume:\n",
        "\n",
        "$Y_i \\sim Po(\\lambda_i s_i)$\n",
        "\n",
        "$log(\\lambda_i) = x_i^T \\beta$\n",
        "\n",
        "$E[Y_i] = \\lambda_i s_i = s_i exp(x_i^T \\beta) = exp(ln(s_i) + x_i^T \\beta)$ \n",
        "\n",
        "$\\lambda_i = \\frac{E[Y_i]}{s_i}$\n",
        "\n",
        "We will estimate coefficients $β_j$'s, but we don't have to estimate parameters for an offset term $ln(si)$.\n",
        "\n"
      ],
      "metadata": {
        "id": "oGfDb4vXNu_Q"
      }
    },
    {
      "cell_type": "code",
      "source": [
        "log_pop = np.log(danishhlc['Pop'])"
      ],
      "metadata": {
        "id": "ts891HvzRXL4"
      },
      "execution_count": 8,
      "outputs": []
    },
    {
      "cell_type": "code",
      "source": [
        "mdl = smf.glm('Cases ~  City + Age', data=danishhlc, family=sm.families.Poisson(link=sm.families.links.log), offset = log_pop).fit()\n",
        "print(mdl.summary())\n",
        "# missing interaction Cases ~  City + Age + City:Age -> error: Perfect separation detected, results not available"
      ],
      "metadata": {
        "colab": {
          "base_uri": "https://localhost:8080/"
        },
        "id": "jUBHLAkfN1QQ",
        "outputId": "f4071a81-203f-40ed-edd9-62a6cb1bc2f9"
      },
      "execution_count": 9,
      "outputs": [
        {
          "output_type": "stream",
          "name": "stdout",
          "text": [
            "                 Generalized Linear Model Regression Results                  \n",
            "==============================================================================\n",
            "Dep. Variable:                  Cases   No. Observations:                   24\n",
            "Model:                            GLM   Df Residuals:                       15\n",
            "Model Family:                 Poisson   Df Model:                            8\n",
            "Link Function:                    log   Scale:                          1.0000\n",
            "Method:                          IRLS   Log-Likelihood:                -59.918\n",
            "Date:                Tue, 27 Sep 2022   Deviance:                       23.447\n",
            "Time:                        13:19:42   Pearson chi2:                     22.6\n",
            "No. Iterations:                     4                                         \n",
            "Covariance Type:            nonrobust                                         \n",
            "===================================================================================\n",
            "                      coef    std err          z      P>|z|      [0.025      0.975]\n",
            "-----------------------------------------------------------------------------------\n",
            "Intercept          -5.6321      0.200    -28.125      0.000      -6.025      -5.240\n",
            "City[T.Horsens]    -0.3301      0.182     -1.818      0.069      -0.686       0.026\n",
            "City[T.Kolding]    -0.3715      0.188     -1.978      0.048      -0.740      -0.003\n",
            "City[T.Vejle]      -0.2723      0.188     -1.450      0.147      -0.641       0.096\n",
            "Age[T.55-59]        1.1010      0.248      4.434      0.000       0.614       1.588\n",
            "Age[T.60-64]        1.5186      0.232      6.556      0.000       1.065       1.973\n",
            "Age[T.65-69]        1.7677      0.229      7.704      0.000       1.318       2.217\n",
            "Age[T.70-74]        1.8569      0.235      7.891      0.000       1.396       2.318\n",
            "Age[T.>74]          1.4197      0.250      5.672      0.000       0.929       1.910\n",
            "===================================================================================\n"
          ]
        },
        {
          "output_type": "stream",
          "name": "stderr",
          "text": [
            "/usr/local/lib/python3.7/dist-packages/ipykernel_launcher.py:1: DeprecationWarning: Calling Family(..) with a link class as argument is deprecated.\n",
            "Use an instance of a link class instead.\n",
            "  \"\"\"Entry point for launching an IPython kernel.\n"
          ]
        }
      ]
    },
    {
      "cell_type": "markdown",
      "source": [
        "Question: Compare previous model with saturated one."
      ],
      "metadata": {
        "id": "9x4D4ULVS1Zr"
      }
    },
    {
      "cell_type": "code",
      "source": [
        "# mdl_2 = saturated model -> error: Perfect separation detected, results not available"
      ],
      "metadata": {
        "id": "4BYw1BGSMUmR"
      },
      "execution_count": 10,
      "outputs": []
    },
    {
      "cell_type": "code",
      "source": [
        "# missing -> anova"
      ],
      "metadata": {
        "id": "6Rx059O0Taqp"
      },
      "execution_count": 11,
      "outputs": []
    },
    {
      "cell_type": "markdown",
      "source": [
        "Keep only `Age`"
      ],
      "metadata": {
        "id": "is1pWO8UTde6"
      }
    },
    {
      "cell_type": "code",
      "source": [
        "# Drop City\n",
        "mdl_3 = smf.glm('Cases ~  Age', data=danishhlc, family=sm.families.Poisson(link=sm.families.links.log), offset = log_pop).fit()\n",
        "print(mdl_3.summary())"
      ],
      "metadata": {
        "colab": {
          "base_uri": "https://localhost:8080/"
        },
        "id": "QuXYGBPMTfTR",
        "outputId": "95b930e1-736b-4ec6-f0cb-dc26fe0ac3d6"
      },
      "execution_count": 12,
      "outputs": [
        {
          "output_type": "stream",
          "name": "stdout",
          "text": [
            "                 Generalized Linear Model Regression Results                  \n",
            "==============================================================================\n",
            "Dep. Variable:                  Cases   No. Observations:                   24\n",
            "Model:                            GLM   Df Residuals:                       18\n",
            "Model Family:                 Poisson   Df Model:                            5\n",
            "Link Function:                    log   Scale:                          1.0000\n",
            "Method:                          IRLS   Log-Likelihood:                -62.347\n",
            "Date:                Tue, 27 Sep 2022   Deviance:                       28.307\n",
            "Time:                        13:19:42   Pearson chi2:                     26.0\n",
            "No. Iterations:                     4                                         \n",
            "Covariance Type:            nonrobust                                         \n",
            "================================================================================\n",
            "                   coef    std err          z      P>|z|      [0.025      0.975]\n",
            "--------------------------------------------------------------------------------\n",
            "Intercept       -5.8623      0.174    -33.676      0.000      -6.203      -5.521\n",
            "Age[T.55-59]     1.0823      0.248      4.363      0.000       0.596       1.569\n",
            "Age[T.60-64]     1.5017      0.231      6.489      0.000       1.048       1.955\n",
            "Age[T.65-69]     1.7503      0.229      7.637      0.000       1.301       2.199\n",
            "Age[T.70-74]     1.8472      0.235      7.855      0.000       1.386       2.308\n",
            "Age[T.>74]       1.4083      0.250      5.630      0.000       0.918       1.899\n",
            "================================================================================\n"
          ]
        },
        {
          "output_type": "stream",
          "name": "stderr",
          "text": [
            "/usr/local/lib/python3.7/dist-packages/ipykernel_launcher.py:2: DeprecationWarning: Calling Family(..) with a link class as argument is deprecated.\n",
            "Use an instance of a link class instead.\n",
            "  \n"
          ]
        }
      ]
    },
    {
      "cell_type": "markdown",
      "source": [
        "Mutate dataset to have Age as quantitative. Using the lower class boundary of each class, since all classes have a lower\n",
        "boundary."
      ],
      "metadata": {
        "id": "-nXdWOw2UI4y"
      }
    },
    {
      "cell_type": "code",
      "source": [
        "danishhlc['AgeNum'] = [40, 55, 60, 65, 70, 75,40, 55, 60, 65, 70, 75,40, 55, 60, 65, 70, 75,40, 55, 60, 65, 70, 75]\n",
        "danishhlc.head()"
      ],
      "metadata": {
        "colab": {
          "base_uri": "https://localhost:8080/",
          "height": 206
        },
        "id": "fDdeSZrNUT_o",
        "outputId": "ba5baa1d-e57b-44ad-eb16-eda696629504"
      },
      "execution_count": 13,
      "outputs": [
        {
          "output_type": "execute_result",
          "data": {
            "text/plain": [
              "   Cases   Pop    Age        City       Rate  AgeNum\n",
              "0     11  3059  40-54  Fredericia   3.595946      40\n",
              "1     11   800  55-59  Fredericia  13.750000      55\n",
              "2     11   710  60-64  Fredericia  15.492958      60\n",
              "3     10   581  65-69  Fredericia  17.211704      65\n",
              "4     11   509  70-74  Fredericia  21.611002      70"
            ],
            "text/html": [
              "\n",
              "  <div id=\"df-8fc0b40b-1c95-46e9-b568-00f3026d4586\">\n",
              "    <div class=\"colab-df-container\">\n",
              "      <div>\n",
              "<style scoped>\n",
              "    .dataframe tbody tr th:only-of-type {\n",
              "        vertical-align: middle;\n",
              "    }\n",
              "\n",
              "    .dataframe tbody tr th {\n",
              "        vertical-align: top;\n",
              "    }\n",
              "\n",
              "    .dataframe thead th {\n",
              "        text-align: right;\n",
              "    }\n",
              "</style>\n",
              "<table border=\"1\" class=\"dataframe\">\n",
              "  <thead>\n",
              "    <tr style=\"text-align: right;\">\n",
              "      <th></th>\n",
              "      <th>Cases</th>\n",
              "      <th>Pop</th>\n",
              "      <th>Age</th>\n",
              "      <th>City</th>\n",
              "      <th>Rate</th>\n",
              "      <th>AgeNum</th>\n",
              "    </tr>\n",
              "  </thead>\n",
              "  <tbody>\n",
              "    <tr>\n",
              "      <th>0</th>\n",
              "      <td>11</td>\n",
              "      <td>3059</td>\n",
              "      <td>40-54</td>\n",
              "      <td>Fredericia</td>\n",
              "      <td>3.595946</td>\n",
              "      <td>40</td>\n",
              "    </tr>\n",
              "    <tr>\n",
              "      <th>1</th>\n",
              "      <td>11</td>\n",
              "      <td>800</td>\n",
              "      <td>55-59</td>\n",
              "      <td>Fredericia</td>\n",
              "      <td>13.750000</td>\n",
              "      <td>55</td>\n",
              "    </tr>\n",
              "    <tr>\n",
              "      <th>2</th>\n",
              "      <td>11</td>\n",
              "      <td>710</td>\n",
              "      <td>60-64</td>\n",
              "      <td>Fredericia</td>\n",
              "      <td>15.492958</td>\n",
              "      <td>60</td>\n",
              "    </tr>\n",
              "    <tr>\n",
              "      <th>3</th>\n",
              "      <td>10</td>\n",
              "      <td>581</td>\n",
              "      <td>65-69</td>\n",
              "      <td>Fredericia</td>\n",
              "      <td>17.211704</td>\n",
              "      <td>65</td>\n",
              "    </tr>\n",
              "    <tr>\n",
              "      <th>4</th>\n",
              "      <td>11</td>\n",
              "      <td>509</td>\n",
              "      <td>70-74</td>\n",
              "      <td>Fredericia</td>\n",
              "      <td>21.611002</td>\n",
              "      <td>70</td>\n",
              "    </tr>\n",
              "  </tbody>\n",
              "</table>\n",
              "</div>\n",
              "      <button class=\"colab-df-convert\" onclick=\"convertToInteractive('df-8fc0b40b-1c95-46e9-b568-00f3026d4586')\"\n",
              "              title=\"Convert this dataframe to an interactive table.\"\n",
              "              style=\"display:none;\">\n",
              "        \n",
              "  <svg xmlns=\"http://www.w3.org/2000/svg\" height=\"24px\"viewBox=\"0 0 24 24\"\n",
              "       width=\"24px\">\n",
              "    <path d=\"M0 0h24v24H0V0z\" fill=\"none\"/>\n",
              "    <path d=\"M18.56 5.44l.94 2.06.94-2.06 2.06-.94-2.06-.94-.94-2.06-.94 2.06-2.06.94zm-11 1L8.5 8.5l.94-2.06 2.06-.94-2.06-.94L8.5 2.5l-.94 2.06-2.06.94zm10 10l.94 2.06.94-2.06 2.06-.94-2.06-.94-.94-2.06-.94 2.06-2.06.94z\"/><path d=\"M17.41 7.96l-1.37-1.37c-.4-.4-.92-.59-1.43-.59-.52 0-1.04.2-1.43.59L10.3 9.45l-7.72 7.72c-.78.78-.78 2.05 0 2.83L4 21.41c.39.39.9.59 1.41.59.51 0 1.02-.2 1.41-.59l7.78-7.78 2.81-2.81c.8-.78.8-2.07 0-2.86zM5.41 20L4 18.59l7.72-7.72 1.47 1.35L5.41 20z\"/>\n",
              "  </svg>\n",
              "      </button>\n",
              "      \n",
              "  <style>\n",
              "    .colab-df-container {\n",
              "      display:flex;\n",
              "      flex-wrap:wrap;\n",
              "      gap: 12px;\n",
              "    }\n",
              "\n",
              "    .colab-df-convert {\n",
              "      background-color: #E8F0FE;\n",
              "      border: none;\n",
              "      border-radius: 50%;\n",
              "      cursor: pointer;\n",
              "      display: none;\n",
              "      fill: #1967D2;\n",
              "      height: 32px;\n",
              "      padding: 0 0 0 0;\n",
              "      width: 32px;\n",
              "    }\n",
              "\n",
              "    .colab-df-convert:hover {\n",
              "      background-color: #E2EBFA;\n",
              "      box-shadow: 0px 1px 2px rgba(60, 64, 67, 0.3), 0px 1px 3px 1px rgba(60, 64, 67, 0.15);\n",
              "      fill: #174EA6;\n",
              "    }\n",
              "\n",
              "    [theme=dark] .colab-df-convert {\n",
              "      background-color: #3B4455;\n",
              "      fill: #D2E3FC;\n",
              "    }\n",
              "\n",
              "    [theme=dark] .colab-df-convert:hover {\n",
              "      background-color: #434B5C;\n",
              "      box-shadow: 0px 1px 3px 1px rgba(0, 0, 0, 0.15);\n",
              "      filter: drop-shadow(0px 1px 2px rgba(0, 0, 0, 0.3));\n",
              "      fill: #FFFFFF;\n",
              "    }\n",
              "  </style>\n",
              "\n",
              "      <script>\n",
              "        const buttonEl =\n",
              "          document.querySelector('#df-8fc0b40b-1c95-46e9-b568-00f3026d4586 button.colab-df-convert');\n",
              "        buttonEl.style.display =\n",
              "          google.colab.kernel.accessAllowed ? 'block' : 'none';\n",
              "\n",
              "        async function convertToInteractive(key) {\n",
              "          const element = document.querySelector('#df-8fc0b40b-1c95-46e9-b568-00f3026d4586');\n",
              "          const dataTable =\n",
              "            await google.colab.kernel.invokeFunction('convertToInteractive',\n",
              "                                                     [key], {});\n",
              "          if (!dataTable) return;\n",
              "\n",
              "          const docLinkHtml = 'Like what you see? Visit the ' +\n",
              "            '<a target=\"_blank\" href=https://colab.research.google.com/notebooks/data_table.ipynb>data table notebook</a>'\n",
              "            + ' to learn more about interactive tables.';\n",
              "          element.innerHTML = '';\n",
              "          dataTable['output_type'] = 'display_data';\n",
              "          await google.colab.output.renderOutput(dataTable, element);\n",
              "          const docLink = document.createElement('div');\n",
              "          docLink.innerHTML = docLinkHtml;\n",
              "          element.appendChild(docLink);\n",
              "        }\n",
              "      </script>\n",
              "    </div>\n",
              "  </div>\n",
              "  "
            ]
          },
          "metadata": {},
          "execution_count": 13
        }
      ]
    },
    {
      "cell_type": "markdown",
      "source": [
        "Question: Discuss the application of different boundaries: lower, midpoint, upper."
      ],
      "metadata": {
        "id": "v9IUOzb9UloR"
      }
    },
    {
      "cell_type": "code",
      "source": [
        "mdl_4 = smf.glm('Cases ~ AgeNum', data=danishhlc, family=sm.families.Poisson(link=sm.families.links.log), offset = log_pop).fit()\n",
        "print(mdl_4.summary())"
      ],
      "metadata": {
        "colab": {
          "base_uri": "https://localhost:8080/"
        },
        "id": "6mIvC8LIUnaq",
        "outputId": "0e7ce873-3cbf-4c02-fff0-8a0bcb5c216b"
      },
      "execution_count": 14,
      "outputs": [
        {
          "output_type": "stream",
          "name": "stdout",
          "text": [
            "                 Generalized Linear Model Regression Results                  \n",
            "==============================================================================\n",
            "Dep. Variable:                  Cases   No. Observations:                   24\n",
            "Model:                            GLM   Df Residuals:                       22\n",
            "Model Family:                 Poisson   Df Model:                            1\n",
            "Link Function:                    log   Scale:                          1.0000\n",
            "Method:                          IRLS   Log-Likelihood:                -72.678\n",
            "Date:                Tue, 27 Sep 2022   Deviance:                       48.968\n",
            "Time:                        13:19:42   Pearson chi2:                     42.9\n",
            "No. Iterations:                     4                                         \n",
            "Covariance Type:            nonrobust                                         \n",
            "==============================================================================\n",
            "                 coef    std err          z      P>|z|      [0.025      0.975]\n",
            "------------------------------------------------------------------------------\n",
            "Intercept     -7.4667      0.340    -21.956      0.000      -8.133      -6.800\n",
            "AgeNum         0.0470      0.005      8.630      0.000       0.036       0.058\n",
            "==============================================================================\n"
          ]
        },
        {
          "output_type": "stream",
          "name": "stderr",
          "text": [
            "/usr/local/lib/python3.7/dist-packages/ipykernel_launcher.py:1: DeprecationWarning: Calling Family(..) with a link class as argument is deprecated.\n",
            "Use an instance of a link class instead.\n",
            "  \"\"\"Entry point for launching an IPython kernel.\n"
          ]
        }
      ]
    },
    {
      "cell_type": "code",
      "source": [
        "# missing ANOVA"
      ],
      "metadata": {
        "id": "1zBMlxmBVNhr"
      },
      "execution_count": 15,
      "outputs": []
    },
    {
      "cell_type": "code",
      "source": [
        "mdl_5 = smf.glm('Cases ~ AgeNum^2 + AgeNum', data=danishhlc, family=sm.families.Poisson(link=sm.families.links.log), offset = log_pop).fit()\n",
        "print(mdl_5.summary())"
      ],
      "metadata": {
        "colab": {
          "base_uri": "https://localhost:8080/"
        },
        "id": "4dzndnEiVRLA",
        "outputId": "c2770545-1a9a-4d3d-bfdc-28988210752a"
      },
      "execution_count": 16,
      "outputs": [
        {
          "output_type": "stream",
          "name": "stdout",
          "text": [
            "                 Generalized Linear Model Regression Results                  \n",
            "==============================================================================\n",
            "Dep. Variable:                  Cases   No. Observations:                   24\n",
            "Model:                            GLM   Df Residuals:                       21\n",
            "Model Family:                 Poisson   Df Model:                            2\n",
            "Link Function:                    log   Scale:                          1.0000\n",
            "Method:                          IRLS   Log-Likelihood:                -70.720\n",
            "Date:                Tue, 27 Sep 2022   Deviance:                       45.052\n",
            "Time:                        13:19:42   Pearson chi2:                     39.7\n",
            "No. Iterations:                     4                                         \n",
            "Covariance Type:            nonrobust                                         \n",
            "==============================================================================\n",
            "                 coef    std err          z      P>|z|      [0.025      0.975]\n",
            "------------------------------------------------------------------------------\n",
            "Intercept     -7.9725      0.432    -18.457      0.000      -8.819      -7.126\n",
            "AgeNum ^ 2     0.0828      0.042      1.982      0.047       0.001       0.165\n",
            "AgeNum        -0.0276      0.038     -0.725      0.469      -0.102       0.047\n",
            "==============================================================================\n"
          ]
        },
        {
          "output_type": "stream",
          "name": "stderr",
          "text": [
            "/usr/local/lib/python3.7/dist-packages/ipykernel_launcher.py:1: DeprecationWarning: Calling Family(..) with a link class as argument is deprecated.\n",
            "Use an instance of a link class instead.\n",
            "  \"\"\"Entry point for launching an IPython kernel.\n"
          ]
        }
      ]
    },
    {
      "cell_type": "code",
      "source": [
        "def ANOVA(small_model, big_model):\n",
        "    \"\"\"Given two fitted GLMs, the larger of which contains the parameter space of the smaller, return the F Stat and P value corresponding to the larger model adding explanatory power\"\"\"\n",
        "    addtl_params = big_model.df_model - small_model.df_model\n",
        "    f_stat = (small_model.deviance - big_model.deviance) / (addtl_params * big_model.scale)\n",
        "    df_numerator = addtl_params\n",
        "    # use fitted values to obtain n_obs from model object:\n",
        "    df_denom = (big_model.fittedvalues.shape[0] - big_model.df_model)\n",
        "    p_value = stats.f.sf(f_stat, df_numerator, df_denom)\n",
        "    return (f_stat, p_value)"
      ],
      "metadata": {
        "id": "UIyuLkzsVm5C"
      },
      "execution_count": 17,
      "outputs": []
    },
    {
      "cell_type": "code",
      "source": [
        "ANOVA(mdl_4,mdl_5)"
      ],
      "metadata": {
        "colab": {
          "base_uri": "https://localhost:8080/"
        },
        "id": "5gwLa_sKVndg",
        "outputId": "ae363246-a1a0-414f-ed9d-eddbb2bb7053"
      },
      "execution_count": 18,
      "outputs": [
        {
          "output_type": "execute_result",
          "data": {
            "text/plain": [
              "(3.9154394062098703, 0.06049757910967295)"
            ]
          },
          "metadata": {},
          "execution_count": 18
        }
      ]
    },
    {
      "cell_type": "markdown",
      "source": [
        "The quadratic model is significant improvement compare to linear one."
      ],
      "metadata": {
        "id": "kGpFXSr3V2kN"
      }
    },
    {
      "cell_type": "markdown",
      "source": [
        "Just for academic purpose: Check the deviance by hand computation"
      ],
      "metadata": {
        "id": "CDvBgDCFV1Yb"
      }
    },
    {
      "cell_type": "code",
      "source": [
        "y = danishhlc['Cases']\n",
        "mu_hat5 = mdl_5.fittedvalues\n",
        "dev_stat_m5 = 2*sum(y*np.log(y/mu_hat5) - (y - mu_hat5))\n",
        "print(dev_stat_m5)\n",
        "print(mdl_5.deviance)"
      ],
      "metadata": {
        "colab": {
          "base_uri": "https://localhost:8080/"
        },
        "id": "h0D5e-N_V8Kb",
        "outputId": "3c8561e1-64f5-4c7f-e519-4ee51684ef1c"
      },
      "execution_count": 19,
      "outputs": [
        {
          "output_type": "stream",
          "name": "stdout",
          "text": [
            "45.052079338328745\n",
            "45.052079338328745\n"
          ]
        }
      ]
    },
    {
      "cell_type": "markdown",
      "source": [
        "### *Results*\n",
        "\n",
        "Compare models with numerical `AgeNum` and with categorical `Age` variable by AIC and create summary table of outputs from all models"
      ],
      "metadata": {
        "id": "722F_sQaV5nB"
      }
    },
    {
      "cell_type": "markdown",
      "source": [
        "Both models, with factor varialbe `Age` and with quadratic `AgeNum` are reasonably adequate."
      ],
      "metadata": {
        "id": "g1q7KghRWj-h"
      }
    },
    {
      "cell_type": "markdown",
      "source": [
        "Plot deviance residuals against fitted values"
      ],
      "metadata": {
        "id": "Lu0iXqaiWlVx"
      }
    },
    {
      "cell_type": "code",
      "source": [
        "rds_3 = mdl_3.resid_deviance\n",
        "fitted_3 = mdl_3.fittedvalues"
      ],
      "metadata": {
        "id": "wFAZxU7TVyqJ"
      },
      "execution_count": 20,
      "outputs": []
    },
    {
      "cell_type": "code",
      "source": [
        "plt.plot(fitted_3, rds_3, 'b.')\n",
        "plt.grid()"
      ],
      "metadata": {
        "colab": {
          "base_uri": "https://localhost:8080/",
          "height": 265
        },
        "id": "YaLTsgh1W2pQ",
        "outputId": "ceafbc9a-3633-4c31-8670-e153c1f5a428"
      },
      "execution_count": 21,
      "outputs": [
        {
          "output_type": "display_data",
          "data": {
            "text/plain": [
              "<Figure size 432x288 with 1 Axes>"
            ],
            "image/png": "[encoded data removed]"
          },
          "metadata": {
            "needs_background": "light"
          }
        }
      ]
    },
    {
      "cell_type": "code",
      "source": [
        "plt.plot(np.sqrt(fitted_3), rds_3, 'b.')\n",
        "plt.grid()"
      ],
      "metadata": {
        "colab": {
          "base_uri": "https://localhost:8080/",
          "height": 265
        },
        "id": "kHE1sL9SXAqo",
        "outputId": "f3f81e00-3bff-43c2-dd94-17bfb97c7015"
      },
      "execution_count": 22,
      "outputs": [
        {
          "output_type": "display_data",
          "data": {
            "text/plain": [
              "<Figure size 432x288 with 1 Axes>"
            ],
            "image/png": "[encoded data removed]"
          },
          "metadata": {
            "needs_background": "light"
          }
        }
      ]
    },
    {
      "cell_type": "code",
      "source": [
        "rds_5 = mdl_5.resid_deviance\n",
        "fitted_5 = mdl_5.fittedvalues"
      ],
      "metadata": {
        "id": "LORqnejaWxkI"
      },
      "execution_count": 23,
      "outputs": []
    },
    {
      "cell_type": "code",
      "source": [
        "plt.plot(fitted_5, rds_5, 'b.')\n",
        "plt.grid()"
      ],
      "metadata": {
        "colab": {
          "base_uri": "https://localhost:8080/",
          "height": 265
        },
        "id": "prQkXnMDW3AJ",
        "outputId": "84d2eade-7451-4d67-bb02-da4b6945b605"
      },
      "execution_count": 24,
      "outputs": [
        {
          "output_type": "display_data",
          "data": {
            "text/plain": [
              "<Figure size 432x288 with 1 Axes>"
            ],
            "image/png": "[encoded data removed]"
          },
          "metadata": {
            "needs_background": "light"
          }
        }
      ]
    },
    {
      "cell_type": "code",
      "source": [
        "plt.plot(np.sqrt(fitted_5), rds_5, 'b.')\n",
        "plt.grid()"
      ],
      "metadata": {
        "colab": {
          "base_uri": "https://localhost:8080/",
          "height": 265
        },
        "id": "xfJFMVkwXcyJ",
        "outputId": "20ec69e5-f562-4b10-9302-590513653f86"
      },
      "execution_count": 25,
      "outputs": [
        {
          "output_type": "display_data",
          "data": {
            "text/plain": [
              "<Figure size 432x288 with 1 Axes>"
            ],
            "image/png": "[encoded data removed]"
          },
          "metadata": {
            "needs_background": "light"
          }
        }
      ]
    },
    {
      "cell_type": "markdown",
      "source": [
        "Question: why to plot sqrt of fitted values istead of fitted values only?"
      ],
      "metadata": {
        "id": "ZUIsn52yWnuw"
      }
    },
    {
      "cell_type": "markdown",
      "source": [
        "Plot residuals against predictors\n",
        "\n"
      ],
      "metadata": {
        "id": "-qZPnweiXiAT"
      }
    },
    {
      "cell_type": "code",
      "source": [
        "sns.boxplot(x=danishhlc['Age'], y=rds_3)\n",
        "plt.grid()"
      ],
      "metadata": {
        "colab": {
          "base_uri": "https://localhost:8080/",
          "height": 279
        },
        "id": "M5OPezeUYGXq",
        "outputId": "25658c55-e770-4435-9ec6-87132244ba7a"
      },
      "execution_count": 26,
      "outputs": [
        {
          "output_type": "display_data",
          "data": {
            "text/plain": [
              "<Figure size 432x288 with 1 Axes>"
            ],
            "image/png": "[encoded data removed]"
          },
          "metadata": {
            "needs_background": "light"
          }
        }
      ]
    },
    {
      "cell_type": "code",
      "source": [
        "plt.plot(danishhlc['Age'], rds_3, 'b.')\n",
        "plt.grid()"
      ],
      "metadata": {
        "colab": {
          "base_uri": "https://localhost:8080/",
          "height": 265
        },
        "id": "9roNgdObXwDP",
        "outputId": "7167334f-2d78-4af7-8c1e-4deacf16cf02"
      },
      "execution_count": 27,
      "outputs": [
        {
          "output_type": "display_data",
          "data": {
            "text/plain": [
              "<Figure size 432x288 with 1 Axes>"
            ],
            "image/png": "[encoded data removed]"
          },
          "metadata": {
            "needs_background": "light"
          }
        }
      ]
    },
    {
      "cell_type": "code",
      "source": [
        "# missing\n",
        "'''\n",
        "scatter.smooth(danishlc$AgeNum,  rstandard(dlc_m2, type='deviance'), col='gray')\n",
        "scatter.smooth(danishlc$Age, rstandard(dlc_m4, type='deviance'), col='gray')\n",
        "scatter.smooth(danishlc$AgeNum, rstandard(dlc_m4, type='deviance'), col='gray')\n",
        "scatter.smooth(danishlc$AgeNum^2, rstandard(dlc_m4, type='deviance'), col='gray') \n",
        "'''"
      ],
      "metadata": {
        "colab": {
          "base_uri": "https://localhost:8080/",
          "height": 70
        },
        "id": "6Rz8WmIDZvEo",
        "outputId": "cdcd1844-7e1b-4c66-9cf8-3a887bdc1dae"
      },
      "execution_count": 28,
      "outputs": [
        {
          "output_type": "execute_result",
          "data": {
            "text/plain": [
              "\"\\nscatter.smooth(danishlc$AgeNum,  rstandard(dlc_m2, type='deviance'), col='gray')\\nscatter.smooth(danishlc$Age, rstandard(dlc_m4, type='deviance'), col='gray')\\nscatter.smooth(danishlc$AgeNum, rstandard(dlc_m4, type='deviance'), col='gray')\\nscatter.smooth(danishlc$AgeNum^2, rstandard(dlc_m4, type='deviance'), col='gray') \\n\""
            ],
            "application/vnd.google.colaboratory.intrinsic+json": {
              "type": "string"
            }
          },
          "metadata": {},
          "execution_count": 28
        }
      ]
    },
    {
      "cell_type": "markdown",
      "source": [
        "Checking the link function"
      ],
      "metadata": {
        "id": "HLwxDvtGZyKo"
      }
    },
    {
      "cell_type": "code",
      "source": [
        "work_3 = mdl_3.resid_working\n",
        "work_5 = mdl_5.resid_working"
      ],
      "metadata": {
        "id": "4uCW33-EgpCZ"
      },
      "execution_count": 29,
      "outputs": []
    },
    {
      "cell_type": "code",
      "source": [
        "plt.plot(fitted_3, work_3, 'b.')\n",
        "plt.grid()"
      ],
      "metadata": {
        "colab": {
          "base_uri": "https://localhost:8080/",
          "height": 265
        },
        "id": "_Xx7Xhk1gQvN",
        "outputId": "4c488a0a-fcc9-4878-a032-236390247ec3"
      },
      "execution_count": 30,
      "outputs": [
        {
          "output_type": "display_data",
          "data": {
            "text/plain": [
              "<Figure size 432x288 with 1 Axes>"
            ],
            "image/png": "[encoded data removed]"
          },
          "metadata": {
            "needs_background": "light"
          }
        }
      ]
    },
    {
      "cell_type": "code",
      "source": [
        "plt.plot(fitted_5, work_5, 'b.')\n",
        "plt.grid()"
      ],
      "metadata": {
        "colab": {
          "base_uri": "https://localhost:8080/",
          "height": 265
        },
        "id": "xahYhZYbg7XY",
        "outputId": "8c4100fd-07a2-44b4-9d7e-f88b81bb659d"
      },
      "execution_count": 31,
      "outputs": [
        {
          "output_type": "display_data",
          "data": {
            "text/plain": [
              "<Figure size 432x288 with 1 Axes>"
            ],
            "image/png": "[encoded data removed]"
          },
          "metadata": {
            "needs_background": "light"
          }
        }
      ]
    },
    {
      "cell_type": "markdown",
      "source": [
        "Checking if Poisson regression is appropriate"
      ],
      "metadata": {
        "id": "pQWZ-hSXhSvC"
      }
    },
    {
      "cell_type": "markdown",
      "source": [
        "Quantile residuals: \n",
        "\n",
        "Dunn and Gordon (2018) introduce quantile residuals for discrete response variables. Their primary benefits are they do not show weird patterns (due to variable’s discreteness)."
      ],
      "metadata": {
        "id": "gZ2aRu4VhUZJ"
      }
    },
    {
      "cell_type": "code",
      "source": [
        "# missing QQ plots -> fig = sm.qqplot(res, stats.t, fit=True, line=\"45\")"
      ],
      "metadata": {
        "id": "AUc98nvjhUB6"
      },
      "execution_count": 32,
      "outputs": []
    },
    {
      "cell_type": "markdown",
      "source": [
        "Outliers and influential observations\n",
        "\n"
      ],
      "metadata": {
        "id": "ePnbEysOh8Gb"
      }
    },
    {
      "cell_type": "code",
      "source": [
        "influence = mdl_3.get_influence()\n",
        "cooks = influence.cooks_distance\n",
        "print(cooks)"
      ],
      "metadata": {
        "colab": {
          "base_uri": "https://localhost:8080/"
        },
        "id": "HL6G71YAiC0C",
        "outputId": "513379d4-87b1-439e-b7fc-a99048110697"
      },
      "execution_count": 33,
      "outputs": [
        {
          "output_type": "stream",
          "name": "stdout",
          "text": [
            "(array([4.91823827e-02, 1.53027960e-01, 2.32465655e-02, 1.40566213e-03,\n",
            "       2.31620121e-02, 7.89690446e-02, 2.06710085e-01, 9.72831556e-02,\n",
            "       7.59121424e-02, 1.02113813e-01, 2.57316532e-03, 5.42327134e-01,\n",
            "       2.31684215e-01, 6.61675623e-03, 1.41119851e-01, 1.64126683e-03,\n",
            "       3.08371219e-03, 1.78264295e-01, 3.87779089e-02, 1.21910029e-03,\n",
            "       3.51381049e-03, 8.39183695e-02, 2.16391707e-02, 3.66233705e-04]), array([0.99937166, 0.98594076, 0.99992837, 0.99999998, 0.99992913,\n",
            "       0.9976151 , 0.97012152, 0.99577033, 0.99786265, 0.99517566,\n",
            "       0.9999999 , 0.76935072, 0.96068618, 0.99999826, 0.98859989,\n",
            "       0.99999997, 0.99999982, 0.97928034, 0.99968246, 0.99999999,\n",
            "       0.99999974, 0.99717862, 0.99994195, 1.        ]))\n"
          ]
        }
      ]
    },
    {
      "cell_type": "code",
      "source": [
        "hatvalues = mdl_3.get_hat_matrix_diag()\n",
        "print(hatvalues)"
      ],
      "metadata": {
        "colab": {
          "base_uri": "https://localhost:8080/"
        },
        "id": "B_iHX_IoiRQg",
        "outputId": "da5aa9dd-1696-43b4-ee9f-d0b7f22b560b"
      },
      "execution_count": 34,
      "outputs": [
        {
          "output_type": "stream",
          "name": "stdout",
          "text": [
            "[0.2637069  0.20991866 0.21087021 0.21142649 0.22958954 0.22701689\n",
            " 0.24818966 0.28417738 0.27413127 0.30349345 0.28597203 0.2934334\n",
            " 0.27086207 0.27551824 0.26581527 0.25545852 0.2413171  0.24727955\n",
            " 0.21724138 0.23038573 0.24918325 0.22962154 0.24312134 0.23227017]\n"
          ]
        }
      ]
    },
    {
      "cell_type": "code",
      "source": [
        "def abline(slope, intercept):\n",
        "    \"\"\"Plot a line from slope and intercept\"\"\"\n",
        "    axes = plt.gca()\n",
        "    x_vals = np.array(axes.get_xlim())\n",
        "    y_vals = intercept + slope * x_vals\n",
        "    plt.plot(x_vals, y_vals, '--')"
      ],
      "metadata": {
        "id": "flaYm7a8iTfJ"
      },
      "execution_count": 35,
      "outputs": []
    },
    {
      "cell_type": "code",
      "source": [
        "n, npar = danishhlc.shape\n",
        "line = 8/(n-2*npar)\n",
        "line_2 = 2*npar/n"
      ],
      "metadata": {
        "id": "PN9u1VyniVMI"
      },
      "execution_count": 36,
      "outputs": []
    },
    {
      "cell_type": "code",
      "source": [
        "plt.scatter(danishhlc.index, hatvalues)\n",
        "abline(0, line_2)\n",
        "plt.xlabel('index')\n",
        "plt.ylabel('Hat values')\n",
        "plt.show()"
      ],
      "metadata": {
        "colab": {
          "base_uri": "https://localhost:8080/",
          "height": 279
        },
        "id": "UPS7IaFSig6j",
        "outputId": "e13849fe-fef9-403b-e786-bedad5833202"
      },
      "execution_count": 37,
      "outputs": [
        {
          "output_type": "display_data",
          "data": {
            "text/plain": [
              "<Figure size 432x288 with 1 Axes>"
            ],
            "image/png": "[encoded data removed]"
          },
          "metadata": {
            "needs_background": "light"
          }
        }
      ]
    },
    {
      "cell_type": "code",
      "source": [
        "influence = mdl_3.get_influence()\n",
        "inf_sum = influence.summary_frame()\n",
        "print(inf_sum)"
      ],
      "metadata": {
        "colab": {
          "base_uri": "https://localhost:8080/"
        },
        "id": "ggx2HrJvkIS-",
        "outputId": "1fe78582-6c12-469e-e365-4d2209717f4e"
      },
      "execution_count": 38,
      "outputs": [
        {
          "output_type": "stream",
          "name": "stdout",
          "text": [
            "    dfb_Intercept  dfb_Age[T.55-59]  dfb_Age[T.60-64]  dfb_Age[T.65-69]  \\\n",
            "0    5.432258e-01     -3.811525e-01     -4.086089e-01     -4.126096e-01   \n",
            "1   -1.980872e-17      6.827494e-01      6.918138e-18     -5.233373e-16   \n",
            "2   -4.405057e-16     -2.393892e-16      2.460964e-01     -4.144762e-16   \n",
            "3    2.642489e-16     -1.586264e-17     -4.750733e-18      5.973457e-02   \n",
            "4   -5.540481e-17     -1.693544e-16     -1.003580e-16     -1.562714e-16   \n",
            "5   -3.352417e-16      3.914970e-16      1.370252e-16      6.206507e-17   \n",
            "6    1.113670e+00     -7.814025e-01     -8.376911e-01     -8.458930e-01   \n",
            "7    2.232524e-16     -5.443707e-01     -1.904151e-16      2.047677e-16   \n",
            "8   -1.314625e-15     -1.009249e-16      4.447146e-01     -3.083655e-16   \n",
            "9   -2.117501e-15      3.111523e-17     -3.502737e-17     -5.091287e-01   \n",
            "10  -6.260651e-17     -2.331601e-17      4.895632e-18     -1.257459e-17   \n",
            "11   6.389390e-16     -9.260571e-16     -2.512562e-16      2.773578e-18   \n",
            "12  -1.179027e+00      8.272603e-01      8.868523e-01      8.955355e-01   \n",
            "13   4.981955e-17     -1.419706e-01     -4.517277e-17      6.137370e-17   \n",
            "14   1.785533e-15      1.716040e-16     -6.063451e-01      4.935464e-16   \n",
            "15  -2.689618e-16      4.705290e-18     -9.205817e-18     -6.454683e-02   \n",
            "16   6.651501e-17      2.925491e-17     -5.730886e-18      1.525744e-17   \n",
            "17  -3.464320e-16      4.865320e-16      7.649059e-17     -1.146844e-17   \n",
            "18  -4.823562e-01      3.384435e-01      3.628234e-01      3.663758e-01   \n",
            "19   2.219074e-17     -6.093905e-02     -1.820929e-17      2.625589e-17   \n",
            "20   2.686506e-16      3.194738e-17     -9.567864e-02      6.929170e-17   \n",
            "21   1.965076e-15     -3.676360e-17      5.620283e-17      4.615448e-01   \n",
            "22   9.416738e-17      1.398470e-16      5.967295e-17      1.102328e-16   \n",
            "23   1.606542e-17     -2.460872e-17     -7.980095e-18     -1.185459e-18   \n",
            "\n",
            "    dfb_Age[T.70-74]  dfb_Age[T.>74]   cooks_d  standard_resid  hat_diag  \\\n",
            "0      -4.021138e-01   -3.780693e-01  0.049182        0.907706  0.263707   \n",
            "1      -1.336617e-16   -2.970800e-16  0.153028        1.858966  0.209919   \n",
            "2      -2.944403e-16   -3.761913e-16  0.023247        0.722473  0.210870   \n",
            "3       1.071938e-17   -2.224379e-18  0.001406        0.177361  0.211426   \n",
            "4       2.506452e-01   -1.361323e-16  0.023162        0.682887  0.229590   \n",
            "5      -2.462464e-17    4.942779e-01  0.078969        1.270165  0.227017   \n",
            "6      -8.243754e-01   -7.750816e-01  0.206710        1.938290  0.248190   \n",
            "7      -1.358733e-16    9.818393e-17  0.097283       -1.212558  0.284177   \n",
            "8      -6.993070e-17   -3.061934e-16  0.075912        1.098199  0.274131   \n",
            "9      -2.547246e-16   -1.245745e-16  0.102114       -1.185785  0.303493   \n",
            "10      8.354203e-02   -4.638756e-18  0.002573        0.196338  0.285972   \n",
            "11      1.095660e-16   -1.295309e+00  0.542327       -2.799162  0.293433   \n",
            "12      8.727552e-01    8.205684e-01  0.231684       -1.934437  0.270862   \n",
            "13     -3.416589e-17    2.767515e-17  0.006617       -0.323100  0.275518   \n",
            "14      1.469039e-16    4.488027e-16  0.141120       -1.529264  0.265815   \n",
            "15     -3.093278e-17   -2.168174e-17  0.001641       -0.169414  0.255459   \n",
            "16     -9.145513e-02   -3.773482e-18  0.003084       -0.241184  0.241317   \n",
            "17     -1.086247e-16    7.426341e-01  0.178264        1.804391  0.247280   \n",
            "18      3.570560e-01    3.357058e-01  0.038778       -0.915610  0.217241   \n",
            "19     -8.839846e-18    1.082251e-17  0.001219       -0.156316  0.230386   \n",
            "20      3.272809e-17    7.664631e-17  0.003514       -0.252042  0.249183   \n",
            "21      2.609443e-16    1.210961e-16  0.083918        1.299720  0.229622   \n",
            "22     -2.422654e-01    6.515403e-17  0.021639       -0.635766  0.243121   \n",
            "23      5.205097e-18   -3.366060e-02  0.000366       -0.085224  0.232270   \n",
            "\n",
            "    dffits_internal  \n",
            "0       1661.727844  \n",
            "1        766.568591  \n",
            "2        265.163275  \n",
            "3         53.357102  \n",
            "4        189.749897  \n",
            "5        416.446898  \n",
            "6       3206.255556  \n",
            "7       -827.414105  \n",
            "8        622.920971  \n",
            "9       -652.805682  \n",
            "10        78.776871  \n",
            "11     -1410.630387  \n",
            "12     -3704.503770  \n",
            "13      -209.212440  \n",
            "14      -823.555207  \n",
            "15       -69.663026  \n",
            "16       -72.772338  \n",
            "17       681.543237  \n",
            "18     -1215.537528  \n",
            "19       -75.091343  \n",
            "20      -121.822289  \n",
            "21       447.747848  \n",
            "22      -194.215862  \n",
            "23       -29.016540  \n"
          ]
        }
      ]
    },
    {
      "cell_type": "markdown",
      "source": [
        "# YOUR TURN\n",
        "Tasks:\n",
        "\n",
        " * Plot predictions and realization of cases from previous model.\n",
        " * What is the suitable saddlepoint approximation for Poisson models? If it's violated, select similar groups and merge them.\n",
        " * Re-run the analysis again with such a newly grouped dataset.\n",
        "\n",
        "\n",
        " * Transform data frame into the long format by `pivot_longer` with new variable `cancer` with levels `yes` and `no`.\n",
        " * Run the analysis with new contingency table, where columns are `cancer`, `age`, `city`, `number` (number of population in the group). "
      ],
      "metadata": {
        "id": "Y481F6NEkNaY"
      }
    }
  ]
}