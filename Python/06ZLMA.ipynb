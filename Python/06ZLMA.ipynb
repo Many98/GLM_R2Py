{
  "nbformat": 4,
  "nbformat_minor": 0,
  "metadata": {
    "colab": {
      "name": "06ZLMA.ipynb",
      "provenance": []
    },
    "kernelspec": {
      "name": "python3",
      "display_name": "Python 3"
    },
    "language_info": {
      "name": "python"
    }
  },
  "cells": [
    {
      "cell_type": "markdown",
      "source": [
        "## Analyse data of car accidents in Sweeden."
      ],
      "metadata": {
        "id": "ha3xbKnih6Gt"
      }
    },
    {
      "cell_type": "code",
      "execution_count": null,
      "metadata": {
        "id": "kPMBm6YghTZr"
      },
      "outputs": [],
      "source": [
        "import pandas as pd\n",
        "import numpy as np\n",
        "import math\n",
        "import matplotlib.pyplot as plt\n",
        "import seaborn as sns\n",
        "from sklearn.linear_model import LinearRegression\n",
        "from statsmodels.graphics.regressionplots import plot_partregress_grid\n",
        "import statsmodels.formula.api as smf\n",
        "import statsmodels.api as sm\n",
        "from scipy import stats"
      ]
    },
    {
      "cell_type": "code",
      "source": [
        "# import dataset\n",
        "url = \"https://raw.githubusercontent.com/francji1/01ZLMA/main/data/sweden.csv\"\n",
        "cars = pd.read_csv(url, sep = ',', header=[0])\n",
        "cars"
      ],
      "metadata": {
        "colab": {
          "base_uri": "https://localhost:8080/",
          "height": 1000
        },
        "id": "mB599tsRh8Sh",
        "outputId": "e70a4843-64a6-4108-8b5b-9a582b3172c7"
      },
      "execution_count": null,
      "outputs": [
        {
          "output_type": "execute_result",
          "data": {
            "text/plain": [
              "    Year  Deaths  Cars  Fuel\n",
              "0   1955     902   755  1531\n",
              "1   1956     889   855  1657\n",
              "2   1957     946   987  1738\n",
              "3   1958     941  1098  1893\n",
              "4   1959    1000  1216  2011\n",
              "5   1960    1036  1324  2127\n",
              "6   1961    1083  1439  2318\n",
              "7   1962    1123  1562  2394\n",
              "8   1963    1217  1697  2609\n",
              "9   1964    1308  1810  2857\n",
              "10  1965    1313  1934  3043\n",
              "11  1966    1313  2033  3165\n",
              "12  1967    1077  2126  3292\n",
              "13  1968    1262  2223  3451\n",
              "14  1969    1275  2350  3635\n",
              "15  1970    1307  2446  3781\n",
              "16  1971    1213  2513  3870\n",
              "17  1972    1194  2618  4025\n",
              "18  1973    1177  2667  4251\n",
              "19  1974    1197  2809  3921\n",
              "20  1975    1172  2931  4383\n",
              "21  1976    1168  3060  4624\n",
              "22  1977    1031  3039  4811\n",
              "23  1978    1034  3042  4945\n",
              "24  1979     928  3059  4913\n",
              "25  1980     848  3077  4751\n",
              "26  1981     784  3093  4679\n",
              "27  1982     758  3143  4712\n",
              "28  1983     779  3222  4834\n",
              "29  1984     801  3305  5028\n",
              "30  1985     808  3383  5067\n",
              "31  1986     844  3497  5328\n",
              "32  1987     787  3626  5534\n",
              "33  1988     813  3764  5739\n",
              "34  1989     904  3887  5910\n",
              "35  1990     772  3925  5630\n",
              "36  1991     745  3945  5751\n",
              "37  1992     759  3906  5879\n",
              "38  1993     632  3882  5590\n",
              "39  1994     589  3912  5655\n",
              "40  1995     572  3953  5761\n",
              "41  1996     537  3981  5683\n",
              "42  1997     541  4053  5577\n",
              "43  1998     531  4145  5427\n",
              "44  1999     580  4259  5464\n",
              "45  2000     591  4388  5361\n",
              "46  2001     583  4428  5422\n",
              "47  2002     560  4468  5515\n",
              "48  2003     529  4511  5547\n",
              "49  2004     480  4570  5546\n",
              "50  2005     440  4633  5506\n",
              "51  2006     445  4701  5363\n",
              "52  2007     471  4782  5253\n",
              "53  2008     397  4809  4930\n",
              "54  2009     358  4837  4845\n",
              "55  2010     266  4884  4550"
            ],
            "text/html": [
              "\n",
              "  <div id=\"df-19b6f4d6-4f75-48a9-8d48-bf93aab8d509\">\n",
              "    <div class=\"colab-df-container\">\n",
              "      <div>\n",
              "<style scoped>\n",
              "    .dataframe tbody tr th:only-of-type {\n",
              "        vertical-align: middle;\n",
              "    }\n",
              "\n",
              "    .dataframe tbody tr th {\n",
              "        vertical-align: top;\n",
              "    }\n",
              "\n",
              "    .dataframe thead th {\n",
              "        text-align: right;\n",
              "    }\n",
              "</style>\n",
              "<table border=\"1\" class=\"dataframe\">\n",
              "  <thead>\n",
              "    <tr style=\"text-align: right;\">\n",
              "      <th></th>\n",
              "      <th>Year</th>\n",
              "      <th>Deaths</th>\n",
              "      <th>Cars</th>\n",
              "      <th>Fuel</th>\n",
              "    </tr>\n",
              "  </thead>\n",
              "  <tbody>\n",
              "    <tr>\n",
              "      <th>0</th>\n",
              "      <td>1955</td>\n",
              "      <td>902</td>\n",
              "      <td>755</td>\n",
              "      <td>1531</td>\n",
              "    </tr>\n",
              "    <tr>\n",
              "      <th>1</th>\n",
              "      <td>1956</td>\n",
              "      <td>889</td>\n",
              "      <td>855</td>\n",
              "      <td>1657</td>\n",
              "    </tr>\n",
              "    <tr>\n",
              "      <th>2</th>\n",
              "      <td>1957</td>\n",
              "      <td>946</td>\n",
              "      <td>987</td>\n",
              "      <td>1738</td>\n",
              "    </tr>\n",
              "    <tr>\n",
              "      <th>3</th>\n",
              "      <td>1958</td>\n",
              "      <td>941</td>\n",
              "      <td>1098</td>\n",
              "      <td>1893</td>\n",
              "    </tr>\n",
              "    <tr>\n",
              "      <th>4</th>\n",
              "      <td>1959</td>\n",
              "      <td>1000</td>\n",
              "      <td>1216</td>\n",
              "      <td>2011</td>\n",
              "    </tr>\n",
              "    <tr>\n",
              "      <th>5</th>\n",
              "      <td>1960</td>\n",
              "      <td>1036</td>\n",
              "      <td>1324</td>\n",
              "      <td>2127</td>\n",
              "    </tr>\n",
              "    <tr>\n",
              "      <th>6</th>\n",
              "      <td>1961</td>\n",
              "      <td>1083</td>\n",
              "      <td>1439</td>\n",
              "      <td>2318</td>\n",
              "    </tr>\n",
              "    <tr>\n",
              "      <th>7</th>\n",
              "      <td>1962</td>\n",
              "      <td>1123</td>\n",
              "      <td>1562</td>\n",
              "      <td>2394</td>\n",
              "    </tr>\n",
              "    <tr>\n",
              "      <th>8</th>\n",
              "      <td>1963</td>\n",
              "      <td>1217</td>\n",
              "      <td>1697</td>\n",
              "      <td>2609</td>\n",
              "    </tr>\n",
              "    <tr>\n",
              "      <th>9</th>\n",
              "      <td>1964</td>\n",
              "      <td>1308</td>\n",
              "      <td>1810</td>\n",
              "      <td>2857</td>\n",
              "    </tr>\n",
              "    <tr>\n",
              "      <th>10</th>\n",
              "      <td>1965</td>\n",
              "      <td>1313</td>\n",
              "      <td>1934</td>\n",
              "      <td>3043</td>\n",
              "    </tr>\n",
              "    <tr>\n",
              "      <th>11</th>\n",
              "      <td>1966</td>\n",
              "      <td>1313</td>\n",
              "      <td>2033</td>\n",
              "      <td>3165</td>\n",
              "    </tr>\n",
              "    <tr>\n",
              "      <th>12</th>\n",
              "      <td>1967</td>\n",
              "      <td>1077</td>\n",
              "      <td>2126</td>\n",
              "      <td>3292</td>\n",
              "    </tr>\n",
              "    <tr>\n",
              "      <th>13</th>\n",
              "      <td>1968</td>\n",
              "      <td>1262</td>\n",
              "      <td>2223</td>\n",
              "      <td>3451</td>\n",
              "    </tr>\n",
              "    <tr>\n",
              "      <th>14</th>\n",
              "      <td>1969</td>\n",
              "      <td>1275</td>\n",
              "      <td>2350</td>\n",
              "      <td>3635</td>\n",
              "    </tr>\n",
              "    <tr>\n",
              "      <th>15</th>\n",
              "      <td>1970</td>\n",
              "      <td>1307</td>\n",
              "      <td>2446</td>\n",
              "      <td>3781</td>\n",
              "    </tr>\n",
              "    <tr>\n",
              "      <th>16</th>\n",
              "      <td>1971</td>\n",
              "      <td>1213</td>\n",
              "      <td>2513</td>\n",
              "      <td>3870</td>\n",
              "    </tr>\n",
              "    <tr>\n",
              "      <th>17</th>\n",
              "      <td>1972</td>\n",
              "      <td>1194</td>\n",
              "      <td>2618</td>\n",
              "      <td>4025</td>\n",
              "    </tr>\n",
              "    <tr>\n",
              "      <th>18</th>\n",
              "      <td>1973</td>\n",
              "      <td>1177</td>\n",
              "      <td>2667</td>\n",
              "      <td>4251</td>\n",
              "    </tr>\n",
              "    <tr>\n",
              "      <th>19</th>\n",
              "      <td>1974</td>\n",
              "      <td>1197</td>\n",
              "      <td>2809</td>\n",
              "      <td>3921</td>\n",
              "    </tr>\n",
              "    <tr>\n",
              "      <th>20</th>\n",
              "      <td>1975</td>\n",
              "      <td>1172</td>\n",
              "      <td>2931</td>\n",
              "      <td>4383</td>\n",
              "    </tr>\n",
              "    <tr>\n",
              "      <th>21</th>\n",
              "      <td>1976</td>\n",
              "      <td>1168</td>\n",
              "      <td>3060</td>\n",
              "      <td>4624</td>\n",
              "    </tr>\n",
              "    <tr>\n",
              "      <th>22</th>\n",
              "      <td>1977</td>\n",
              "      <td>1031</td>\n",
              "      <td>3039</td>\n",
              "      <td>4811</td>\n",
              "    </tr>\n",
              "    <tr>\n",
              "      <th>23</th>\n",
              "      <td>1978</td>\n",
              "      <td>1034</td>\n",
              "      <td>3042</td>\n",
              "      <td>4945</td>\n",
              "    </tr>\n",
              "    <tr>\n",
              "      <th>24</th>\n",
              "      <td>1979</td>\n",
              "      <td>928</td>\n",
              "      <td>3059</td>\n",
              "      <td>4913</td>\n",
              "    </tr>\n",
              "    <tr>\n",
              "      <th>25</th>\n",
              "      <td>1980</td>\n",
              "      <td>848</td>\n",
              "      <td>3077</td>\n",
              "      <td>4751</td>\n",
              "    </tr>\n",
              "    <tr>\n",
              "      <th>26</th>\n",
              "      <td>1981</td>\n",
              "      <td>784</td>\n",
              "      <td>3093</td>\n",
              "      <td>4679</td>\n",
              "    </tr>\n",
              "    <tr>\n",
              "      <th>27</th>\n",
              "      <td>1982</td>\n",
              "      <td>758</td>\n",
              "      <td>3143</td>\n",
              "      <td>4712</td>\n",
              "    </tr>\n",
              "    <tr>\n",
              "      <th>28</th>\n",
              "      <td>1983</td>\n",
              "      <td>779</td>\n",
              "      <td>3222</td>\n",
              "      <td>4834</td>\n",
              "    </tr>\n",
              "    <tr>\n",
              "      <th>29</th>\n",
              "      <td>1984</td>\n",
              "      <td>801</td>\n",
              "      <td>3305</td>\n",
              "      <td>5028</td>\n",
              "    </tr>\n",
              "    <tr>\n",
              "      <th>30</th>\n",
              "      <td>1985</td>\n",
              "      <td>808</td>\n",
              "      <td>3383</td>\n",
              "      <td>5067</td>\n",
              "    </tr>\n",
              "    <tr>\n",
              "      <th>31</th>\n",
              "      <td>1986</td>\n",
              "      <td>844</td>\n",
              "      <td>3497</td>\n",
              "      <td>5328</td>\n",
              "    </tr>\n",
              "    <tr>\n",
              "      <th>32</th>\n",
              "      <td>1987</td>\n",
              "      <td>787</td>\n",
              "      <td>3626</td>\n",
              "      <td>5534</td>\n",
              "    </tr>\n",
              "    <tr>\n",
              "      <th>33</th>\n",
              "      <td>1988</td>\n",
              "      <td>813</td>\n",
              "      <td>3764</td>\n",
              "      <td>5739</td>\n",
              "    </tr>\n",
              "    <tr>\n",
              "      <th>34</th>\n",
              "      <td>1989</td>\n",
              "      <td>904</td>\n",
              "      <td>3887</td>\n",
              "      <td>5910</td>\n",
              "    </tr>\n",
              "    <tr>\n",
              "      <th>35</th>\n",
              "      <td>1990</td>\n",
              "      <td>772</td>\n",
              "      <td>3925</td>\n",
              "      <td>5630</td>\n",
              "    </tr>\n",
              "    <tr>\n",
              "      <th>36</th>\n",
              "      <td>1991</td>\n",
              "      <td>745</td>\n",
              "      <td>3945</td>\n",
              "      <td>5751</td>\n",
              "    </tr>\n",
              "    <tr>\n",
              "      <th>37</th>\n",
              "      <td>1992</td>\n",
              "      <td>759</td>\n",
              "      <td>3906</td>\n",
              "      <td>5879</td>\n",
              "    </tr>\n",
              "    <tr>\n",
              "      <th>38</th>\n",
              "      <td>1993</td>\n",
              "      <td>632</td>\n",
              "      <td>3882</td>\n",
              "      <td>5590</td>\n",
              "    </tr>\n",
              "    <tr>\n",
              "      <th>39</th>\n",
              "      <td>1994</td>\n",
              "      <td>589</td>\n",
              "      <td>3912</td>\n",
              "      <td>5655</td>\n",
              "    </tr>\n",
              "    <tr>\n",
              "      <th>40</th>\n",
              "      <td>1995</td>\n",
              "      <td>572</td>\n",
              "      <td>3953</td>\n",
              "      <td>5761</td>\n",
              "    </tr>\n",
              "    <tr>\n",
              "      <th>41</th>\n",
              "      <td>1996</td>\n",
              "      <td>537</td>\n",
              "      <td>3981</td>\n",
              "      <td>5683</td>\n",
              "    </tr>\n",
              "    <tr>\n",
              "      <th>42</th>\n",
              "      <td>1997</td>\n",
              "      <td>541</td>\n",
              "      <td>4053</td>\n",
              "      <td>5577</td>\n",
              "    </tr>\n",
              "    <tr>\n",
              "      <th>43</th>\n",
              "      <td>1998</td>\n",
              "      <td>531</td>\n",
              "      <td>4145</td>\n",
              "      <td>5427</td>\n",
              "    </tr>\n",
              "    <tr>\n",
              "      <th>44</th>\n",
              "      <td>1999</td>\n",
              "      <td>580</td>\n",
              "      <td>4259</td>\n",
              "      <td>5464</td>\n",
              "    </tr>\n",
              "    <tr>\n",
              "      <th>45</th>\n",
              "      <td>2000</td>\n",
              "      <td>591</td>\n",
              "      <td>4388</td>\n",
              "      <td>5361</td>\n",
              "    </tr>\n",
              "    <tr>\n",
              "      <th>46</th>\n",
              "      <td>2001</td>\n",
              "      <td>583</td>\n",
              "      <td>4428</td>\n",
              "      <td>5422</td>\n",
              "    </tr>\n",
              "    <tr>\n",
              "      <th>47</th>\n",
              "      <td>2002</td>\n",
              "      <td>560</td>\n",
              "      <td>4468</td>\n",
              "      <td>5515</td>\n",
              "    </tr>\n",
              "    <tr>\n",
              "      <th>48</th>\n",
              "      <td>2003</td>\n",
              "      <td>529</td>\n",
              "      <td>4511</td>\n",
              "      <td>5547</td>\n",
              "    </tr>\n",
              "    <tr>\n",
              "      <th>49</th>\n",
              "      <td>2004</td>\n",
              "      <td>480</td>\n",
              "      <td>4570</td>\n",
              "      <td>5546</td>\n",
              "    </tr>\n",
              "    <tr>\n",
              "      <th>50</th>\n",
              "      <td>2005</td>\n",
              "      <td>440</td>\n",
              "      <td>4633</td>\n",
              "      <td>5506</td>\n",
              "    </tr>\n",
              "    <tr>\n",
              "      <th>51</th>\n",
              "      <td>2006</td>\n",
              "      <td>445</td>\n",
              "      <td>4701</td>\n",
              "      <td>5363</td>\n",
              "    </tr>\n",
              "    <tr>\n",
              "      <th>52</th>\n",
              "      <td>2007</td>\n",
              "      <td>471</td>\n",
              "      <td>4782</td>\n",
              "      <td>5253</td>\n",
              "    </tr>\n",
              "    <tr>\n",
              "      <th>53</th>\n",
              "      <td>2008</td>\n",
              "      <td>397</td>\n",
              "      <td>4809</td>\n",
              "      <td>4930</td>\n",
              "    </tr>\n",
              "    <tr>\n",
              "      <th>54</th>\n",
              "      <td>2009</td>\n",
              "      <td>358</td>\n",
              "      <td>4837</td>\n",
              "      <td>4845</td>\n",
              "    </tr>\n",
              "    <tr>\n",
              "      <th>55</th>\n",
              "      <td>2010</td>\n",
              "      <td>266</td>\n",
              "      <td>4884</td>\n",
              "      <td>4550</td>\n",
              "    </tr>\n",
              "  </tbody>\n",
              "</table>\n",
              "</div>\n",
              "      <button class=\"colab-df-convert\" onclick=\"convertToInteractive('df-19b6f4d6-4f75-48a9-8d48-bf93aab8d509')\"\n",
              "              title=\"Convert this dataframe to an interactive table.\"\n",
              "              style=\"display:none;\">\n",
              "        \n",
              "  <svg xmlns=\"http://www.w3.org/2000/svg\" height=\"24px\"viewBox=\"0 0 24 24\"\n",
              "       width=\"24px\">\n",
              "    <path d=\"M0 0h24v24H0V0z\" fill=\"none\"/>\n",
              "    <path d=\"M18.56 5.44l.94 2.06.94-2.06 2.06-.94-2.06-.94-.94-2.06-.94 2.06-2.06.94zm-11 1L8.5 8.5l.94-2.06 2.06-.94-2.06-.94L8.5 2.5l-.94 2.06-2.06.94zm10 10l.94 2.06.94-2.06 2.06-.94-2.06-.94-.94-2.06-.94 2.06-2.06.94z\"/><path d=\"M17.41 7.96l-1.37-1.37c-.4-.4-.92-.59-1.43-.59-.52 0-1.04.2-1.43.59L10.3 9.45l-7.72 7.72c-.78.78-.78 2.05 0 2.83L4 21.41c.39.39.9.59 1.41.59.51 0 1.02-.2 1.41-.59l7.78-7.78 2.81-2.81c.8-.78.8-2.07 0-2.86zM5.41 20L4 18.59l7.72-7.72 1.47 1.35L5.41 20z\"/>\n",
              "  </svg>\n",
              "      </button>\n",
              "      \n",
              "  <style>\n",
              "    .colab-df-container {\n",
              "      display:flex;\n",
              "      flex-wrap:wrap;\n",
              "      gap: 12px;\n",
              "    }\n",
              "\n",
              "    .colab-df-convert {\n",
              "      background-color: #E8F0FE;\n",
              "      border: none;\n",
              "      border-radius: 50%;\n",
              "      cursor: pointer;\n",
              "      display: none;\n",
              "      fill: #1967D2;\n",
              "      height: 32px;\n",
              "      padding: 0 0 0 0;\n",
              "      width: 32px;\n",
              "    }\n",
              "\n",
              "    .colab-df-convert:hover {\n",
              "      background-color: #E2EBFA;\n",
              "      box-shadow: 0px 1px 2px rgba(60, 64, 67, 0.3), 0px 1px 3px 1px rgba(60, 64, 67, 0.15);\n",
              "      fill: #174EA6;\n",
              "    }\n",
              "\n",
              "    [theme=dark] .colab-df-convert {\n",
              "      background-color: #3B4455;\n",
              "      fill: #D2E3FC;\n",
              "    }\n",
              "\n",
              "    [theme=dark] .colab-df-convert:hover {\n",
              "      background-color: #434B5C;\n",
              "      box-shadow: 0px 1px 3px 1px rgba(0, 0, 0, 0.15);\n",
              "      filter: drop-shadow(0px 1px 2px rgba(0, 0, 0, 0.3));\n",
              "      fill: #FFFFFF;\n",
              "    }\n",
              "  </style>\n",
              "\n",
              "      <script>\n",
              "        const buttonEl =\n",
              "          document.querySelector('#df-19b6f4d6-4f75-48a9-8d48-bf93aab8d509 button.colab-df-convert');\n",
              "        buttonEl.style.display =\n",
              "          google.colab.kernel.accessAllowed ? 'block' : 'none';\n",
              "\n",
              "        async function convertToInteractive(key) {\n",
              "          const element = document.querySelector('#df-19b6f4d6-4f75-48a9-8d48-bf93aab8d509');\n",
              "          const dataTable =\n",
              "            await google.colab.kernel.invokeFunction('convertToInteractive',\n",
              "                                                     [key], {});\n",
              "          if (!dataTable) return;\n",
              "\n",
              "          const docLinkHtml = 'Like what you see? Visit the ' +\n",
              "            '<a target=\"_blank\" href=https://colab.research.google.com/notebooks/data_table.ipynb>data table notebook</a>'\n",
              "            + ' to learn more about interactive tables.';\n",
              "          element.innerHTML = '';\n",
              "          dataTable['output_type'] = 'display_data';\n",
              "          await google.colab.output.renderOutput(dataTable, element);\n",
              "          const docLink = document.createElement('div');\n",
              "          docLink.innerHTML = docLinkHtml;\n",
              "          element.appendChild(docLink);\n",
              "        }\n",
              "      </script>\n",
              "    </div>\n",
              "  </div>\n",
              "  "
            ]
          },
          "metadata": {},
          "execution_count": 160
        }
      ]
    },
    {
      "cell_type": "code",
      "source": [
        "cars.describe()"
      ],
      "metadata": {
        "colab": {
          "base_uri": "https://localhost:8080/",
          "height": 300
        },
        "id": "1JGn4B_LiH8l",
        "outputId": "0ec17fb7-514d-4d92-b039-98eb61b2c503"
      },
      "execution_count": null,
      "outputs": [
        {
          "output_type": "execute_result",
          "data": {
            "text/plain": [
              "              Year       Deaths         Cars         Fuel\n",
              "count    56.000000    56.000000    56.000000    56.000000\n",
              "mean   1982.500000   850.178571  3152.892857  4412.178571\n",
              "std      16.309506   292.008101  1179.482347  1308.771875\n",
              "min    1955.000000   266.000000   755.000000  1531.000000\n",
              "25%    1968.750000   582.250000  2318.250000  3589.000000\n",
              "50%    1982.500000   828.500000  3182.500000  4839.500000\n",
              "75%    1996.250000  1093.000000  3999.000000  5508.250000\n",
              "max    2010.000000  1313.000000  4884.000000  5910.000000"
            ],
            "text/html": [
              "\n",
              "  <div id=\"df-d8f257f0-1aeb-46fb-8447-80a2f1d62f56\">\n",
              "    <div class=\"colab-df-container\">\n",
              "      <div>\n",
              "<style scoped>\n",
              "    .dataframe tbody tr th:only-of-type {\n",
              "        vertical-align: middle;\n",
              "    }\n",
              "\n",
              "    .dataframe tbody tr th {\n",
              "        vertical-align: top;\n",
              "    }\n",
              "\n",
              "    .dataframe thead th {\n",
              "        text-align: right;\n",
              "    }\n",
              "</style>\n",
              "<table border=\"1\" class=\"dataframe\">\n",
              "  <thead>\n",
              "    <tr style=\"text-align: right;\">\n",
              "      <th></th>\n",
              "      <th>Year</th>\n",
              "      <th>Deaths</th>\n",
              "      <th>Cars</th>\n",
              "      <th>Fuel</th>\n",
              "    </tr>\n",
              "  </thead>\n",
              "  <tbody>\n",
              "    <tr>\n",
              "      <th>count</th>\n",
              "      <td>56.000000</td>\n",
              "      <td>56.000000</td>\n",
              "      <td>56.000000</td>\n",
              "      <td>56.000000</td>\n",
              "    </tr>\n",
              "    <tr>\n",
              "      <th>mean</th>\n",
              "      <td>1982.500000</td>\n",
              "      <td>850.178571</td>\n",
              "      <td>3152.892857</td>\n",
              "      <td>4412.178571</td>\n",
              "    </tr>\n",
              "    <tr>\n",
              "      <th>std</th>\n",
              "      <td>16.309506</td>\n",
              "      <td>292.008101</td>\n",
              "      <td>1179.482347</td>\n",
              "      <td>1308.771875</td>\n",
              "    </tr>\n",
              "    <tr>\n",
              "      <th>min</th>\n",
              "      <td>1955.000000</td>\n",
              "      <td>266.000000</td>\n",
              "      <td>755.000000</td>\n",
              "      <td>1531.000000</td>\n",
              "    </tr>\n",
              "    <tr>\n",
              "      <th>25%</th>\n",
              "      <td>1968.750000</td>\n",
              "      <td>582.250000</td>\n",
              "      <td>2318.250000</td>\n",
              "      <td>3589.000000</td>\n",
              "    </tr>\n",
              "    <tr>\n",
              "      <th>50%</th>\n",
              "      <td>1982.500000</td>\n",
              "      <td>828.500000</td>\n",
              "      <td>3182.500000</td>\n",
              "      <td>4839.500000</td>\n",
              "    </tr>\n",
              "    <tr>\n",
              "      <th>75%</th>\n",
              "      <td>1996.250000</td>\n",
              "      <td>1093.000000</td>\n",
              "      <td>3999.000000</td>\n",
              "      <td>5508.250000</td>\n",
              "    </tr>\n",
              "    <tr>\n",
              "      <th>max</th>\n",
              "      <td>2010.000000</td>\n",
              "      <td>1313.000000</td>\n",
              "      <td>4884.000000</td>\n",
              "      <td>5910.000000</td>\n",
              "    </tr>\n",
              "  </tbody>\n",
              "</table>\n",
              "</div>\n",
              "      <button class=\"colab-df-convert\" onclick=\"convertToInteractive('df-d8f257f0-1aeb-46fb-8447-80a2f1d62f56')\"\n",
              "              title=\"Convert this dataframe to an interactive table.\"\n",
              "              style=\"display:none;\">\n",
              "        \n",
              "  <svg xmlns=\"http://www.w3.org/2000/svg\" height=\"24px\"viewBox=\"0 0 24 24\"\n",
              "       width=\"24px\">\n",
              "    <path d=\"M0 0h24v24H0V0z\" fill=\"none\"/>\n",
              "    <path d=\"M18.56 5.44l.94 2.06.94-2.06 2.06-.94-2.06-.94-.94-2.06-.94 2.06-2.06.94zm-11 1L8.5 8.5l.94-2.06 2.06-.94-2.06-.94L8.5 2.5l-.94 2.06-2.06.94zm10 10l.94 2.06.94-2.06 2.06-.94-2.06-.94-.94-2.06-.94 2.06-2.06.94z\"/><path d=\"M17.41 7.96l-1.37-1.37c-.4-.4-.92-.59-1.43-.59-.52 0-1.04.2-1.43.59L10.3 9.45l-7.72 7.72c-.78.78-.78 2.05 0 2.83L4 21.41c.39.39.9.59 1.41.59.51 0 1.02-.2 1.41-.59l7.78-7.78 2.81-2.81c.8-.78.8-2.07 0-2.86zM5.41 20L4 18.59l7.72-7.72 1.47 1.35L5.41 20z\"/>\n",
              "  </svg>\n",
              "      </button>\n",
              "      \n",
              "  <style>\n",
              "    .colab-df-container {\n",
              "      display:flex;\n",
              "      flex-wrap:wrap;\n",
              "      gap: 12px;\n",
              "    }\n",
              "\n",
              "    .colab-df-convert {\n",
              "      background-color: #E8F0FE;\n",
              "      border: none;\n",
              "      border-radius: 50%;\n",
              "      cursor: pointer;\n",
              "      display: none;\n",
              "      fill: #1967D2;\n",
              "      height: 32px;\n",
              "      padding: 0 0 0 0;\n",
              "      width: 32px;\n",
              "    }\n",
              "\n",
              "    .colab-df-convert:hover {\n",
              "      background-color: #E2EBFA;\n",
              "      box-shadow: 0px 1px 2px rgba(60, 64, 67, 0.3), 0px 1px 3px 1px rgba(60, 64, 67, 0.15);\n",
              "      fill: #174EA6;\n",
              "    }\n",
              "\n",
              "    [theme=dark] .colab-df-convert {\n",
              "      background-color: #3B4455;\n",
              "      fill: #D2E3FC;\n",
              "    }\n",
              "\n",
              "    [theme=dark] .colab-df-convert:hover {\n",
              "      background-color: #434B5C;\n",
              "      box-shadow: 0px 1px 3px 1px rgba(0, 0, 0, 0.15);\n",
              "      filter: drop-shadow(0px 1px 2px rgba(0, 0, 0, 0.3));\n",
              "      fill: #FFFFFF;\n",
              "    }\n",
              "  </style>\n",
              "\n",
              "      <script>\n",
              "        const buttonEl =\n",
              "          document.querySelector('#df-d8f257f0-1aeb-46fb-8447-80a2f1d62f56 button.colab-df-convert');\n",
              "        buttonEl.style.display =\n",
              "          google.colab.kernel.accessAllowed ? 'block' : 'none';\n",
              "\n",
              "        async function convertToInteractive(key) {\n",
              "          const element = document.querySelector('#df-d8f257f0-1aeb-46fb-8447-80a2f1d62f56');\n",
              "          const dataTable =\n",
              "            await google.colab.kernel.invokeFunction('convertToInteractive',\n",
              "                                                     [key], {});\n",
              "          if (!dataTable) return;\n",
              "\n",
              "          const docLinkHtml = 'Like what you see? Visit the ' +\n",
              "            '<a target=\"_blank\" href=https://colab.research.google.com/notebooks/data_table.ipynb>data table notebook</a>'\n",
              "            + ' to learn more about interactive tables.';\n",
              "          element.innerHTML = '';\n",
              "          dataTable['output_type'] = 'display_data';\n",
              "          await google.colab.output.renderOutput(dataTable, element);\n",
              "          const docLink = document.createElement('div');\n",
              "          docLink.innerHTML = docLinkHtml;\n",
              "          element.appendChild(docLink);\n",
              "        }\n",
              "      </script>\n",
              "    </div>\n",
              "  </div>\n",
              "  "
            ]
          },
          "metadata": {},
          "execution_count": 161
        }
      ]
    },
    {
      "cell_type": "markdown",
      "source": [
        "Dataset contains the number of deaths, he number of registered cars, the annual volume of sold fuels, the number of registered vehicles and the year. Our goal will be to create the best possible model for death rates. Since these are the number of events per unit time, we use the Poisson distribution with the *canonical link function*  $g (\\mu) = log(\\mu) $.\n",
        "\n",
        "Because the observed period is relatively long and there have been significant changes in transport, we will only consider data from 1975."
      ],
      "metadata": {
        "id": "zIMth1vwiOVa"
      }
    },
    {
      "cell_type": "code",
      "source": [
        "sns.relplot(x=cars['Year'], y=cars['Deaths'], kind='scatter', aspect=2)\n",
        "plt.grid()"
      ],
      "metadata": {
        "colab": {
          "base_uri": "https://localhost:8080/",
          "height": 369
        },
        "id": "HP1ynHNfiX8L",
        "outputId": "1e944858-6bab-403b-fb00-42927e0ca5a9"
      },
      "execution_count": null,
      "outputs": [
        {
          "output_type": "display_data",
          "data": {
            "text/plain": [
              "<Figure size 720x360 with 1 Axes>"
            ],
            "image/png": "[encoded data removed]"
          },
          "metadata": {
            "needs_background": "light"
          }
        }
      ]
    },
    {
      "cell_type": "code",
      "source": [
        "cars = cars[cars.Year > 1974]\n",
        "sns.relplot(x=cars['Year'], y=cars['Deaths'], kind='scatter', aspect=2)\n",
        "plt.grid()"
      ],
      "metadata": {
        "colab": {
          "base_uri": "https://localhost:8080/",
          "height": 369
        },
        "id": "xyHzxhKYiYMM",
        "outputId": "708a1f7e-4065-4557-8340-a681c9835743"
      },
      "execution_count": null,
      "outputs": [
        {
          "output_type": "display_data",
          "data": {
            "text/plain": [
              "<Figure size 720x360 with 1 Axes>"
            ],
            "image/png": "[encoded data removed]"
          },
          "metadata": {
            "needs_background": "light"
          }
        }
      ]
    },
    {
      "cell_type": "code",
      "source": [
        "# basic graphs of dataset\n",
        "g = sns.PairGrid(cars, hue=\"Deaths\")\n",
        "g.map_diag(sns.histplot)\n",
        "g.map_offdiag(sns.scatterplot)\n",
        "g.add_legend()"
      ],
      "metadata": {
        "colab": {
          "base_uri": "https://localhost:8080/",
          "height": 563
        },
        "id": "LwKiWyYDiZFC",
        "outputId": "a3f9b848-403d-4d7a-ae52-c710838d11bd"
      },
      "execution_count": null,
      "outputs": [
        {
          "output_type": "execute_result",
          "data": {
            "text/plain": [
              "<seaborn.axisgrid.PairGrid at 0x7f8efb8b4ed0>"
            ]
          },
          "metadata": {},
          "execution_count": 164
        },
        {
          "output_type": "display_data",
          "data": {
            "text/plain": [
              "<Figure size 601.125x540 with 12 Axes>"
            ],
            "image/png": "[encoded data removed]"
          },
          "metadata": {
            "needs_background": "light"
          }
        }
      ]
    },
    {
      "cell_type": "code",
      "source": [
        "Var_Corr = cars.corr()\n",
        "# plot the heatmap and annotation on it\n",
        "sns.heatmap(Var_Corr, xticklabels=Var_Corr.columns, yticklabels=Var_Corr.columns, annot=True)"
      ],
      "metadata": {
        "colab": {
          "base_uri": "https://localhost:8080/",
          "height": 286
        },
        "id": "KarIkRVCjvYy",
        "outputId": "e36c5488-d4de-44a0-a0c9-226cad9e8d48"
      },
      "execution_count": null,
      "outputs": [
        {
          "output_type": "execute_result",
          "data": {
            "text/plain": [
              "<matplotlib.axes._subplots.AxesSubplot at 0x7f8efb82d550>"
            ]
          },
          "metadata": {},
          "execution_count": 165
        },
        {
          "output_type": "display_data",
          "data": {
            "text/plain": [
              "<Figure size 432x288 with 2 Axes>"
            ],
            "image/png": "[encoded data removed]"
          },
          "metadata": {
            "needs_background": "light"
          }
        }
      ]
    },
    {
      "cell_type": "markdown",
      "source": [
        "# Tasks \n",
        "\n",
        "* Find the best posssible model. Try add all varariables up to the second order interactions. You can use `step()` function based on `AIC`.\n",
        "* Analyse residuals and check systematic components. \n",
        "* If incorrect linear predictor appears, try to transform corresponding variable. Hint: `Fuel_transformed <- log(abs(Fuel-mean(Fuel)))`\n",
        "* Run post hoc analysis of your final model again\n",
        "* Find influence observations and decide how to cope with them (if any)\n",
        "* Hide last 5 observations, train the model using remaining and try to predict response for the 5 hidden latest observations. Plot predictiions together with true observations.\n"
      ],
      "metadata": {
        "id": "-LE_N2iBjZQ-"
      }
    },
    {
      "cell_type": "markdown",
      "source": [
        "## Solution from the Lecture book: section 4.6."
      ],
      "metadata": {
        "id": "BmyZjAdBj_Ub"
      }
    },
    {
      "cell_type": "code",
      "source": [
        "cars.head()"
      ],
      "metadata": {
        "colab": {
          "base_uri": "https://localhost:8080/",
          "height": 206
        },
        "id": "ChA6XTUFkPVF",
        "outputId": "f2e2786d-92a9-4a92-cc3a-eb2b154e65d0"
      },
      "execution_count": null,
      "outputs": [
        {
          "output_type": "execute_result",
          "data": {
            "text/plain": [
              "    Year  Deaths  Cars  Fuel\n",
              "20  1975    1172  2931  4383\n",
              "21  1976    1168  3060  4624\n",
              "22  1977    1031  3039  4811\n",
              "23  1978    1034  3042  4945\n",
              "24  1979     928  3059  4913"
            ],
            "text/html": [
              "\n",
              "  <div id=\"df-459cb7f5-c4d3-46a1-b579-75e2a750c335\">\n",
              "    <div class=\"colab-df-container\">\n",
              "      <div>\n",
              "<style scoped>\n",
              "    .dataframe tbody tr th:only-of-type {\n",
              "        vertical-align: middle;\n",
              "    }\n",
              "\n",
              "    .dataframe tbody tr th {\n",
              "        vertical-align: top;\n",
              "    }\n",
              "\n",
              "    .dataframe thead th {\n",
              "        text-align: right;\n",
              "    }\n",
              "</style>\n",
              "<table border=\"1\" class=\"dataframe\">\n",
              "  <thead>\n",
              "    <tr style=\"text-align: right;\">\n",
              "      <th></th>\n",
              "      <th>Year</th>\n",
              "      <th>Deaths</th>\n",
              "      <th>Cars</th>\n",
              "      <th>Fuel</th>\n",
              "    </tr>\n",
              "  </thead>\n",
              "  <tbody>\n",
              "    <tr>\n",
              "      <th>20</th>\n",
              "      <td>1975</td>\n",
              "      <td>1172</td>\n",
              "      <td>2931</td>\n",
              "      <td>4383</td>\n",
              "    </tr>\n",
              "    <tr>\n",
              "      <th>21</th>\n",
              "      <td>1976</td>\n",
              "      <td>1168</td>\n",
              "      <td>3060</td>\n",
              "      <td>4624</td>\n",
              "    </tr>\n",
              "    <tr>\n",
              "      <th>22</th>\n",
              "      <td>1977</td>\n",
              "      <td>1031</td>\n",
              "      <td>3039</td>\n",
              "      <td>4811</td>\n",
              "    </tr>\n",
              "    <tr>\n",
              "      <th>23</th>\n",
              "      <td>1978</td>\n",
              "      <td>1034</td>\n",
              "      <td>3042</td>\n",
              "      <td>4945</td>\n",
              "    </tr>\n",
              "    <tr>\n",
              "      <th>24</th>\n",
              "      <td>1979</td>\n",
              "      <td>928</td>\n",
              "      <td>3059</td>\n",
              "      <td>4913</td>\n",
              "    </tr>\n",
              "  </tbody>\n",
              "</table>\n",
              "</div>\n",
              "      <button class=\"colab-df-convert\" onclick=\"convertToInteractive('df-459cb7f5-c4d3-46a1-b579-75e2a750c335')\"\n",
              "              title=\"Convert this dataframe to an interactive table.\"\n",
              "              style=\"display:none;\">\n",
              "        \n",
              "  <svg xmlns=\"http://www.w3.org/2000/svg\" height=\"24px\"viewBox=\"0 0 24 24\"\n",
              "       width=\"24px\">\n",
              "    <path d=\"M0 0h24v24H0V0z\" fill=\"none\"/>\n",
              "    <path d=\"M18.56 5.44l.94 2.06.94-2.06 2.06-.94-2.06-.94-.94-2.06-.94 2.06-2.06.94zm-11 1L8.5 8.5l.94-2.06 2.06-.94-2.06-.94L8.5 2.5l-.94 2.06-2.06.94zm10 10l.94 2.06.94-2.06 2.06-.94-2.06-.94-.94-2.06-.94 2.06-2.06.94z\"/><path d=\"M17.41 7.96l-1.37-1.37c-.4-.4-.92-.59-1.43-.59-.52 0-1.04.2-1.43.59L10.3 9.45l-7.72 7.72c-.78.78-.78 2.05 0 2.83L4 21.41c.39.39.9.59 1.41.59.51 0 1.02-.2 1.41-.59l7.78-7.78 2.81-2.81c.8-.78.8-2.07 0-2.86zM5.41 20L4 18.59l7.72-7.72 1.47 1.35L5.41 20z\"/>\n",
              "  </svg>\n",
              "      </button>\n",
              "      \n",
              "  <style>\n",
              "    .colab-df-container {\n",
              "      display:flex;\n",
              "      flex-wrap:wrap;\n",
              "      gap: 12px;\n",
              "    }\n",
              "\n",
              "    .colab-df-convert {\n",
              "      background-color: #E8F0FE;\n",
              "      border: none;\n",
              "      border-radius: 50%;\n",
              "      cursor: pointer;\n",
              "      display: none;\n",
              "      fill: #1967D2;\n",
              "      height: 32px;\n",
              "      padding: 0 0 0 0;\n",
              "      width: 32px;\n",
              "    }\n",
              "\n",
              "    .colab-df-convert:hover {\n",
              "      background-color: #E2EBFA;\n",
              "      box-shadow: 0px 1px 2px rgba(60, 64, 67, 0.3), 0px 1px 3px 1px rgba(60, 64, 67, 0.15);\n",
              "      fill: #174EA6;\n",
              "    }\n",
              "\n",
              "    [theme=dark] .colab-df-convert {\n",
              "      background-color: #3B4455;\n",
              "      fill: #D2E3FC;\n",
              "    }\n",
              "\n",
              "    [theme=dark] .colab-df-convert:hover {\n",
              "      background-color: #434B5C;\n",
              "      box-shadow: 0px 1px 3px 1px rgba(0, 0, 0, 0.15);\n",
              "      filter: drop-shadow(0px 1px 2px rgba(0, 0, 0, 0.3));\n",
              "      fill: #FFFFFF;\n",
              "    }\n",
              "  </style>\n",
              "\n",
              "      <script>\n",
              "        const buttonEl =\n",
              "          document.querySelector('#df-459cb7f5-c4d3-46a1-b579-75e2a750c335 button.colab-df-convert');\n",
              "        buttonEl.style.display =\n",
              "          google.colab.kernel.accessAllowed ? 'block' : 'none';\n",
              "\n",
              "        async function convertToInteractive(key) {\n",
              "          const element = document.querySelector('#df-459cb7f5-c4d3-46a1-b579-75e2a750c335');\n",
              "          const dataTable =\n",
              "            await google.colab.kernel.invokeFunction('convertToInteractive',\n",
              "                                                     [key], {});\n",
              "          if (!dataTable) return;\n",
              "\n",
              "          const docLinkHtml = 'Like what you see? Visit the ' +\n",
              "            '<a target=\"_blank\" href=https://colab.research.google.com/notebooks/data_table.ipynb>data table notebook</a>'\n",
              "            + ' to learn more about interactive tables.';\n",
              "          element.innerHTML = '';\n",
              "          dataTable['output_type'] = 'display_data';\n",
              "          await google.colab.output.renderOutput(dataTable, element);\n",
              "          const docLink = document.createElement('div');\n",
              "          docLink.innerHTML = docLinkHtml;\n",
              "          element.appendChild(docLink);\n",
              "        }\n",
              "      </script>\n",
              "    </div>\n",
              "  </div>\n",
              "  "
            ]
          },
          "metadata": {},
          "execution_count": 166
        }
      ]
    },
    {
      "cell_type": "markdown",
      "source": [
        "##  Model with only one independent variable: Year"
      ],
      "metadata": {
        "id": "7xoDFP5TkWPD"
      }
    },
    {
      "cell_type": "code",
      "source": [
        "mdl_0 = smf.glm('Deaths ~ Year', data=cars, family=sm.families.Poisson(link=sm.families.links.log)).fit()\n",
        "print(mdl_0.summary())\n",
        "mdl_0.params"
      ],
      "metadata": {
        "colab": {
          "base_uri": "https://localhost:8080/"
        },
        "id": "MGQ2wT7ikXwV",
        "outputId": "2b4dc556-3d84-467c-a17f-79acb075f9ff"
      },
      "execution_count": null,
      "outputs": [
        {
          "output_type": "stream",
          "name": "stdout",
          "text": [
            "                 Generalized Linear Model Regression Results                  \n",
            "==============================================================================\n",
            "Dep. Variable:                 Deaths   No. Observations:                   36\n",
            "Model:                            GLM   Df Residuals:                       34\n",
            "Model Family:                 Poisson   Df Model:                            1\n",
            "Link Function:                    log   Scale:                          1.0000\n",
            "Method:                          IRLS   Log-Likelihood:                -278.53\n",
            "Date:                Thu, 04 Aug 2022   Deviance:                       257.45\n",
            "Time:                        11:04:58   Pearson chi2:                     254.\n",
            "No. Iterations:                     4                                         \n",
            "Covariance Type:            nonrobust                                         \n",
            "==============================================================================\n",
            "                 coef    std err          z      P>|z|      [0.025      0.975]\n",
            "------------------------------------------------------------------------------\n",
            "Intercept     64.5643      1.249     51.711      0.000      62.117      67.011\n",
            "Year          -0.0291      0.001    -46.441      0.000      -0.030      -0.028\n",
            "==============================================================================\n"
          ]
        },
        {
          "output_type": "stream",
          "name": "stderr",
          "text": [
            "/usr/local/lib/python3.7/dist-packages/ipykernel_launcher.py:1: DeprecationWarning: Calling Family(..) with a link class as argument is deprecated.\n",
            "Use an instance of a link class instead.\n",
            "  \"\"\"Entry point for launching an IPython kernel.\n"
          ]
        },
        {
          "output_type": "execute_result",
          "data": {
            "text/plain": [
              "Intercept    64.564283\n",
              "Year         -0.029146\n",
              "dtype: float64"
            ]
          },
          "metadata": {},
          "execution_count": 167
        }
      ]
    },
    {
      "cell_type": "code",
      "source": [
        "fit_0 = mdl_0.predict()"
      ],
      "metadata": {
        "id": "O7ZLYCeglmoD"
      },
      "execution_count": null,
      "outputs": []
    },
    {
      "cell_type": "markdown",
      "source": [
        "##  Model with all available independent variables, but without interactions"
      ],
      "metadata": {
        "id": "ibDRt_1AlsaL"
      }
    },
    {
      "cell_type": "code",
      "source": [
        "mdl_1 = smf.glm('Deaths ~ Year+Cars+Fuel', data=cars, family=sm.families.Poisson(link=sm.families.links.log)).fit()\n",
        "print(mdl_1.summary())\n",
        "mdl_1.params"
      ],
      "metadata": {
        "colab": {
          "base_uri": "https://localhost:8080/"
        },
        "id": "1kJ4jIG1kzeN",
        "outputId": "807d3304-4cbb-4370-a85d-3b910c93a776"
      },
      "execution_count": null,
      "outputs": [
        {
          "output_type": "stream",
          "name": "stdout",
          "text": [
            "                 Generalized Linear Model Regression Results                  \n",
            "==============================================================================\n",
            "Dep. Variable:                 Deaths   No. Observations:                   36\n",
            "Model:                            GLM   Df Residuals:                       32\n",
            "Model Family:                 Poisson   Df Model:                            3\n",
            "Link Function:                    log   Scale:                          1.0000\n",
            "Method:                          IRLS   Log-Likelihood:                -190.75\n",
            "Date:                Thu, 04 Aug 2022   Deviance:                       81.904\n",
            "Time:                        11:04:58   Pearson chi2:                     80.4\n",
            "No. Iterations:                     4                                         \n",
            "Covariance Type:            nonrobust                                         \n",
            "==============================================================================\n",
            "                 coef    std err          z      P>|z|      [0.025      0.975]\n",
            "------------------------------------------------------------------------------\n",
            "Intercept    153.9859      8.178     18.830      0.000     137.958     170.014\n",
            "Year          -0.0757      0.004    -17.885      0.000      -0.084      -0.067\n",
            "Cars           0.0008   7.42e-05     10.341      0.000       0.001       0.001\n",
            "Fuel        7.665e-05   1.83e-05      4.192      0.000    4.08e-05       0.000\n",
            "==============================================================================\n"
          ]
        },
        {
          "output_type": "stream",
          "name": "stderr",
          "text": [
            "/usr/local/lib/python3.7/dist-packages/ipykernel_launcher.py:1: DeprecationWarning: Calling Family(..) with a link class as argument is deprecated.\n",
            "Use an instance of a link class instead.\n",
            "  \"\"\"Entry point for launching an IPython kernel.\n"
          ]
        },
        {
          "output_type": "execute_result",
          "data": {
            "text/plain": [
              "Intercept    153.985880\n",
              "Year          -0.075728\n",
              "Cars           0.000767\n",
              "Fuel           0.000077\n",
              "dtype: float64"
            ]
          },
          "metadata": {},
          "execution_count": 169
        }
      ]
    },
    {
      "cell_type": "code",
      "source": [
        "fit_1 = mdl_1.fittedvalues\n",
        "print(fit_1)"
      ],
      "metadata": {
        "colab": {
          "base_uri": "https://localhost:8080/"
        },
        "id": "dkRqXWEol1d-",
        "outputId": "80c1ee49-bc52-495d-db96-fa64159eace3"
      },
      "execution_count": null,
      "outputs": [
        {
          "output_type": "stream",
          "name": "stdout",
          "text": [
            "20    1105.108251\n",
            "21    1152.174402\n",
            "22    1066.249163\n",
            "23    1000.992567\n",
            "24     937.866904\n",
            "25     870.676916\n",
            "26     812.648276\n",
            "27     784.822393\n",
            "28     780.305830\n",
            "29     782.506357\n",
            "30     772.476182\n",
            "31     797.382635\n",
            "32     829.115478\n",
            "33     868.017532\n",
            "34     896.009437\n",
            "35     837.073407\n",
            "36     795.365568\n",
            "37     722.680145\n",
            "38     643.340711\n",
            "39     613.354727\n",
            "40     591.578175\n",
            "41     557.001046\n",
            "42     541.286463\n",
            "43     532.349594\n",
            "44     540.159019\n",
            "45     548.508364\n",
            "46     526.808120\n",
            "47     507.208996\n",
            "48     487.180893\n",
            "49     472.525955\n",
            "50     458.348117\n",
            "51     442.794484\n",
            "52     433.150392\n",
            "53     399.938625\n",
            "54     376.360630\n",
            "55     353.634244\n",
            "dtype: float64\n"
          ]
        }
      ]
    },
    {
      "cell_type": "code",
      "source": [
        "sns.relplot(x=cars['Year'], y=cars['Deaths'], kind='scatter', aspect=2)\n",
        "plt.grid()\n",
        "sns.relplot(x=cars['Year'], y=fit_0, kind='line', aspect=2)\n",
        "plt.grid()\n",
        "sns.relplot(x=cars['Year'], y=fit_1, kind='line', aspect=2)\n",
        "plt.grid()"
      ],
      "metadata": {
        "colab": {
          "base_uri": "https://localhost:8080/"
        },
        "id": "iJvDwEZ9lt_s",
        "outputId": "710cdd58-39e9-4d6b-a25c-491a3ff0801b"
      },
      "execution_count": null,
      "outputs": [
        {
          "output_type": "display_data",
          "data": {
            "text/plain": [
              "<Figure size 720x360 with 1 Axes>"
            ],
            "image/png": "[encoded data removed]"
          },
          "metadata": {
            "needs_background": "light"
          }
        },
        {
          "output_type": "display_data",
          "data": {
            "text/plain": [
              "<Figure size 720x360 with 1 Axes>"
            ],
            "image/png": "[encoded data removed]"
          },
          "metadata": {
            "needs_background": "light"
          }
        },
        {
          "output_type": "display_data",
          "data": {
            "text/plain": [
              "<Figure size 720x360 with 1 Axes>"
            ],
            "image/png": "[encoded data removed]"
          },
          "metadata": {
            "needs_background": "light"
          }
        }
      ]
    },
    {
      "cell_type": "code",
      "source": [
        "plt.plot(cars['Year'], cars['Deaths'], 'b.')\n",
        "plt.plot(cars['Year'], fit_0, 'y--')\n",
        "plt.plot(cars['Year'], fit_1, 'g--')\n",
        "plt.grid()\n",
        "plt.show()"
      ],
      "metadata": {
        "colab": {
          "base_uri": "https://localhost:8080/"
        },
        "id": "W_fe_40ZmDS7",
        "outputId": "575b37eb-a628-4d86-c43a-0fb58f7d35c6"
      },
      "execution_count": null,
      "outputs": [
        {
          "output_type": "display_data",
          "data": {
            "text/plain": [
              "<Figure size 432x288 with 1 Axes>"
            ],
            "image/png": "[encoded data removed]"
          },
          "metadata": {
            "needs_background": "light"
          }
        }
      ]
    },
    {
      "cell_type": "code",
      "source": [
        "AIC_0 = mdl_0.aic\n",
        "AIC_1 = mdl_1.aic\n",
        "print(AIC_0)\n",
        "print(AIC_1)"
      ],
      "metadata": {
        "colab": {
          "base_uri": "https://localhost:8080/"
        },
        "id": "VTyV8ctqoNMd",
        "outputId": "688bdd29-8ba1-4d03-b060-d569cea7ae79"
      },
      "execution_count": null,
      "outputs": [
        {
          "output_type": "stream",
          "name": "stdout",
          "text": [
            "561.0501379353746\n",
            "389.5079221515389\n"
          ]
        }
      ]
    },
    {
      "cell_type": "markdown",
      "source": [
        "## Model with all second order interactions"
      ],
      "metadata": {
        "id": "MCtqXqSCoZ3s"
      }
    },
    {
      "cell_type": "code",
      "source": [
        "mdl_2 = smf.glm('Deaths ~ (Year+Cars+Fuel)**2', data=cars, family=sm.families.Poisson(link=sm.families.links.log)).fit()\n",
        "print(mdl_2.summary())\n",
        "mdl_2.params"
      ],
      "metadata": {
        "colab": {
          "base_uri": "https://localhost:8080/"
        },
        "id": "4p_RQz8eoZpE",
        "outputId": "e5f04a8c-74d7-4e73-a916-3451dd14377d"
      },
      "execution_count": null,
      "outputs": [
        {
          "output_type": "stream",
          "name": "stdout",
          "text": [
            "                 Generalized Linear Model Regression Results                  \n",
            "==============================================================================\n",
            "Dep. Variable:                 Deaths   No. Observations:                   36\n",
            "Model:                            GLM   Df Residuals:                       29\n",
            "Model Family:                 Poisson   Df Model:                            6\n",
            "Link Function:                    log   Scale:                          1.0000\n",
            "Method:                          IRLS   Log-Likelihood:                -178.85\n",
            "Date:                Thu, 04 Aug 2022   Deviance:                       58.102\n",
            "Time:                        11:04:59   Pearson chi2:                     58.1\n",
            "No. Iterations:                     4                                         \n",
            "Covariance Type:            nonrobust                                         \n",
            "==============================================================================\n",
            "                 coef    std err          z      P>|z|      [0.025      0.975]\n",
            "------------------------------------------------------------------------------\n",
            "Intercept    266.3051     90.421      2.945      0.003      89.083     443.527\n",
            "Year          -0.1326      0.047     -2.817      0.005      -0.225      -0.040\n",
            "Cars           0.0036      0.007      0.548      0.583      -0.009       0.016\n",
            "Fuel          -0.0238      0.017     -1.373      0.170      -0.058       0.010\n",
            "Year:Cars  -1.297e-06   3.15e-06     -0.412      0.681   -7.47e-06    4.88e-06\n",
            "Year:Fuel   1.209e-05   9.03e-06      1.339      0.180    -5.6e-06    2.98e-05\n",
            "Cars:Fuel  -3.944e-08   1.68e-07     -0.235      0.814   -3.69e-07     2.9e-07\n",
            "==============================================================================\n"
          ]
        },
        {
          "output_type": "stream",
          "name": "stderr",
          "text": [
            "/usr/local/lib/python3.7/dist-packages/ipykernel_launcher.py:1: DeprecationWarning: Calling Family(..) with a link class as argument is deprecated.\n",
            "Use an instance of a link class instead.\n",
            "  \"\"\"Entry point for launching an IPython kernel.\n"
          ]
        },
        {
          "output_type": "execute_result",
          "data": {
            "text/plain": [
              "Intercept    2.663051e+02\n",
              "Year        -1.325924e-01\n",
              "Cars         3.570719e-03\n",
              "Fuel        -2.383679e-02\n",
              "Year:Cars   -1.296810e-06\n",
              "Year:Fuel    1.209025e-05\n",
              "Cars:Fuel   -3.944318e-08\n",
              "dtype: float64"
            ]
          },
          "metadata": {},
          "execution_count": 174
        }
      ]
    },
    {
      "cell_type": "code",
      "source": [
        "AIC_2 = mdl_2.aic\n",
        "print(AIC_2)"
      ],
      "metadata": {
        "colab": {
          "base_uri": "https://localhost:8080/"
        },
        "id": "8vPiyq2Zobs0",
        "outputId": "620ec386-a417-4f45-e3a0-2bc7c614d264"
      },
      "execution_count": null,
      "outputs": [
        {
          "output_type": "stream",
          "name": "stdout",
          "text": [
            "371.70587240887335\n"
          ]
        }
      ]
    },
    {
      "cell_type": "markdown",
      "source": [
        "Vidíme, že hodnota AIC se opět snížila, i když interakce se v modelu zdají nevýznamné. Odstraníme tu nejméně významnou dle p-hodnoty, tedy `Cars:Fuel`.  Další možnost, jak se rozhodnout, kterou proměnnou z modelu vypustit nabízí použití funkce `drop1()`, která je v R-ku. Ale v pythonu určitě bude taková podobná funkce existovat také. Vynecháme interakci s největší p-hodnotou a to je: Cars:Fuel"
      ],
      "metadata": {
        "id": "6bw3kFm9ozLG"
      }
    },
    {
      "cell_type": "code",
      "source": [
        "mdl_3 = smf.glm('Deaths ~ (Year+Cars+Fuel)**2- Cars:Fuel', data=cars, family=sm.families.Poisson(link=sm.families.links.log)).fit()\n",
        "print(mdl_3.summary())\n",
        "coef_3 = mdl_3.params\n",
        "print(coef_3)\n",
        "AIC_3 = mdl_3.aic\n",
        "print(AIC_3)"
      ],
      "metadata": {
        "colab": {
          "base_uri": "https://localhost:8080/"
        },
        "id": "yRzC_MHdphWG",
        "outputId": "15c6acc4-3f18-4317-e477-0a33bf1d7360"
      },
      "execution_count": null,
      "outputs": [
        {
          "output_type": "stream",
          "name": "stdout",
          "text": [
            "                 Generalized Linear Model Regression Results                  \n",
            "==============================================================================\n",
            "Dep. Variable:                 Deaths   No. Observations:                   36\n",
            "Model:                            GLM   Df Residuals:                       30\n",
            "Model Family:                 Poisson   Df Model:                            5\n",
            "Link Function:                    log   Scale:                          1.0000\n",
            "Method:                          IRLS   Log-Likelihood:                -178.88\n",
            "Date:                Thu, 04 Aug 2022   Deviance:                       58.157\n",
            "Time:                        11:04:59   Pearson chi2:                     58.1\n",
            "No. Iterations:                     4                                         \n",
            "Covariance Type:            nonrobust                                         \n",
            "==============================================================================\n",
            "                 coef    std err          z      P>|z|      [0.025      0.975]\n",
            "------------------------------------------------------------------------------\n",
            "Intercept    245.9437     25.484      9.651      0.000     195.995     295.892\n",
            "Year          -0.1220      0.013     -9.485      0.000      -0.147      -0.097\n",
            "Cars           0.0032      0.006      0.504      0.615      -0.009       0.015\n",
            "Fuel          -0.0199      0.004     -4.726      0.000      -0.028      -0.012\n",
            "Year:Cars  -1.194e-06   3.12e-06     -0.383      0.702   -7.31e-06    4.92e-06\n",
            "Year:Fuel   1.003e-05   2.11e-06      4.754      0.000    5.89e-06    1.42e-05\n",
            "==============================================================================\n",
            "Intercept    245.943654\n",
            "Year          -0.121967\n",
            "Cars           0.003156\n",
            "Fuel          -0.019885\n",
            "Year:Cars     -0.000001\n",
            "Year:Fuel      0.000010\n",
            "dtype: float64\n",
            "369.7609657044286\n"
          ]
        },
        {
          "output_type": "stream",
          "name": "stderr",
          "text": [
            "/usr/local/lib/python3.7/dist-packages/ipykernel_launcher.py:1: DeprecationWarning: Calling Family(..) with a link class as argument is deprecated.\n",
            "Use an instance of a link class instead.\n",
            "  \"\"\"Entry point for launching an IPython kernel.\n"
          ]
        }
      ]
    },
    {
      "cell_type": "markdown",
      "source": [
        "Hodnota AIC se opět snížila, vynecháme další nevýznamnou interakci `Year:Cars`"
      ],
      "metadata": {
        "id": "qdSyK3xlpvJu"
      }
    },
    {
      "cell_type": "code",
      "source": [
        "mdl_4 = smf.glm('Deaths ~ (Year+Cars+Fuel)**2- Cars:Fuel - Year:Cars', data=cars, family=sm.families.Poisson(link=sm.families.links.log)).fit()\n",
        "print(mdl_4.summary())\n",
        "coef_4 = mdl_4.params\n",
        "print(coef_4)\n",
        "AIC_4 = mdl_4.aic\n",
        "print(AIC_4)"
      ],
      "metadata": {
        "colab": {
          "base_uri": "https://localhost:8080/"
        },
        "id": "jVrJf1Lopx2l",
        "outputId": "515288dd-8ecc-44f2-96a4-883bf1b2925f"
      },
      "execution_count": null,
      "outputs": [
        {
          "output_type": "stream",
          "name": "stdout",
          "text": [
            "                 Generalized Linear Model Regression Results                  \n",
            "==============================================================================\n",
            "Dep. Variable:                 Deaths   No. Observations:                   36\n",
            "Model:                            GLM   Df Residuals:                       31\n",
            "Model Family:                 Poisson   Df Model:                            4\n",
            "Link Function:                    log   Scale:                          1.0000\n",
            "Method:                          IRLS   Log-Likelihood:                -178.95\n",
            "Date:                Thu, 04 Aug 2022   Deviance:                       58.303\n",
            "Time:                        11:04:59   Pearson chi2:                     58.3\n",
            "No. Iterations:                     4                                         \n",
            "Covariance Type:            nonrobust                                         \n",
            "==============================================================================\n",
            "                 coef    std err          z      P>|z|      [0.025      0.975]\n",
            "------------------------------------------------------------------------------\n",
            "Intercept    251.1065     21.622     11.614      0.000     208.728     293.485\n",
            "Year          -0.1246      0.011    -11.408      0.000      -0.146      -0.103\n",
            "Cars           0.0008   7.42e-05     10.219      0.000       0.001       0.001\n",
            "Fuel          -0.0194      0.004     -4.823      0.000      -0.027      -0.012\n",
            "Year:Fuel   9.804e-06   2.02e-06      4.842      0.000    5.84e-06    1.38e-05\n",
            "==============================================================================\n",
            "Intercept    251.106495\n",
            "Year          -0.124566\n",
            "Cars           0.000758\n",
            "Fuel          -0.019417\n",
            "Year:Fuel      0.000010\n",
            "dtype: float64\n",
            "367.9075080897669\n"
          ]
        },
        {
          "output_type": "stream",
          "name": "stderr",
          "text": [
            "/usr/local/lib/python3.7/dist-packages/ipykernel_launcher.py:1: DeprecationWarning: Calling Family(..) with a link class as argument is deprecated.\n",
            "Use an instance of a link class instead.\n",
            "  \"\"\"Entry point for launching an IPython kernel.\n"
          ]
        }
      ]
    },
    {
      "cell_type": "markdown",
      "source": [
        "Opět došlo ke snížení AIC a všechny proměnné a interakce už jsou v modelu významné.\n",
        "\n",
        "Porovnejme ještě modely mezi sebou. Nejdříve Model 4 a Model 3"
      ],
      "metadata": {
        "id": "CjbuQ69YqDhN"
      }
    },
    {
      "cell_type": "code",
      "source": [
        "# viz další info: https://www.statsmodels.org/dev/generated/statsmodels.stats.anova.anova_lm.html\n",
        "from scipy import stats\n",
        "\n",
        "def calculate_nested_f_statistic(small_model, big_model):\n",
        "    \"\"\"Given two fitted GLMs, the larger of which contains the parameter space of the smaller, return the F Stat and P value corresponding to the larger model adding explanatory power\"\"\"\n",
        "    addtl_params = big_model.df_model - small_model.df_model\n",
        "    f_stat = (small_model.deviance - big_model.deviance) / (addtl_params * big_model.scale)\n",
        "    df_numerator = addtl_params\n",
        "    # use fitted values to obtain n_obs from model object:\n",
        "    df_denom = (big_model.fittedvalues.shape[0] - big_model.df_model)\n",
        "    p_value = stats.f.sf(f_stat, df_numerator, df_denom)\n",
        "    return (f_stat, p_value)"
      ],
      "metadata": {
        "id": "779ufhbLricm"
      },
      "execution_count": null,
      "outputs": []
    },
    {
      "cell_type": "code",
      "source": [
        "calculate_nested_f_statistic(mdl_4,mdl_3)"
      ],
      "metadata": {
        "colab": {
          "base_uri": "https://localhost:8080/"
        },
        "id": "YyMPWMn_pe2P",
        "outputId": "371f6da4-f5e6-49d3-b5fd-d3c68417c0b8"
      },
      "execution_count": null,
      "outputs": [
        {
          "output_type": "execute_result",
          "data": {
            "text/plain": [
              "(0.14654238533386632, 0.7044740633850033)"
            ]
          },
          "metadata": {},
          "execution_count": 179
        }
      ]
    },
    {
      "cell_type": "markdown",
      "source": [
        "Vidíme, že mezi nimi není významný rozdíl, jako lepší tedy bereme Model 4, který má méně parametrů (tomu odpovídá i hodnota AIC). Ještě porovnáme Model 1 bez interakcí s Modelem 4 s jednou interakcí"
      ],
      "metadata": {
        "id": "n_9VslflsD_O"
      }
    },
    {
      "cell_type": "code",
      "source": [
        "calculate_nested_f_statistic(mdl_1,mdl_4)"
      ],
      "metadata": {
        "colab": {
          "base_uri": "https://localhost:8080/"
        },
        "id": "X_JZaWXnsG9_",
        "outputId": "5863b33d-2599-42f6-dff5-eb6e0c91eb45"
      },
      "execution_count": null,
      "outputs": [
        {
          "output_type": "execute_result",
          "data": {
            "text/plain": [
              "(23.60041406178351, 3.001009359083922e-05)"
            ]
          },
          "metadata": {},
          "execution_count": 180
        }
      ]
    },
    {
      "cell_type": "markdown",
      "source": [
        "Tenokráte je rozdíl významný, jako prozatím finální model tedy budeme uvažovat Model 4."
      ],
      "metadata": {
        "id": "EIcdZYOBsMGG"
      }
    },
    {
      "cell_type": "code",
      "source": [
        "fit_4 = mdl_4.predict()\n",
        "plt.plot(cars[\"Year\"], cars[\"Deaths\"], 'b.')\n",
        "plt.plot(cars[\"Year\"], fit_4, 'g-')\n",
        "plt.grid()"
      ],
      "metadata": {
        "colab": {
          "base_uri": "https://localhost:8080/"
        },
        "id": "bLYc05b3sNj-",
        "outputId": "65a07b31-6087-48bf-c7b8-6b0ea136258a"
      },
      "execution_count": null,
      "outputs": [
        {
          "output_type": "display_data",
          "data": {
            "text/plain": [
              "<Figure size 432x288 with 1 Axes>"
            ],
            "image/png": "[encoded data removed]"
          },
          "metadata": {
            "needs_background": "light"
          }
        }
      ]
    },
    {
      "cell_type": "markdown",
      "source": [
        "K výběru vhodných proměnných lze použít i automatickou proceduru zpětného výběru pomocí funkce `step()`, viz. 1. cvičení. Tento model by nám vrátil stejný model jako mdl_4."
      ],
      "metadata": {
        "id": "_m-FqoFZs4W2"
      }
    },
    {
      "cell_type": "code",
      "source": [
        "plt.plot(cars[\"Year\"], cars[\"Deaths\"], 'b.')\n",
        "plt.plot(cars[\"Year\"], fit_4, 'g-')\n",
        "plt.plot(cars['Year'], fit_0, 'y--')\n",
        "plt.plot(cars['Year'], fit_1, 'r--')\n",
        "plt.grid()"
      ],
      "metadata": {
        "id": "zLmdfsUwY9WJ",
        "outputId": "f7df79cf-9327-4991-acfa-268fe9afa4c2",
        "colab": {
          "base_uri": "https://localhost:8080/"
        }
      },
      "execution_count": null,
      "outputs": [
        {
          "output_type": "display_data",
          "data": {
            "text/plain": [
              "<Figure size 432x288 with 1 Axes>"
            ],
            "image/png": "[encoded data removed]"
          },
          "metadata": {
            "needs_background": "light"
          }
        }
      ]
    },
    {
      "cell_type": "code",
      "source": [
        "# step \"backward\" missing"
      ],
      "metadata": {
        "id": "ruTT0eCzZNO5"
      },
      "execution_count": null,
      "outputs": []
    },
    {
      "cell_type": "markdown",
      "source": [
        "## Analysis of residuals and influential observations\n"
      ],
      "metadata": {
        "id": "3BsO06Gws8ef"
      }
    },
    {
      "cell_type": "code",
      "source": [
        "# https://www.statsmodels.org/dev/generated/statsmodels.genmod.generalized_linear_model.GLMResults.html\n",
        "rds = mdl_4.resid_deviance\n",
        "fitted = mdl_4.fittedvalues"
      ],
      "metadata": {
        "id": "gU1q0cjOsilw"
      },
      "execution_count": null,
      "outputs": []
    },
    {
      "cell_type": "markdown",
      "source": [
        "missing: scatter smooth"
      ],
      "metadata": {
        "id": "TqBXlButcXna"
      }
    },
    {
      "cell_type": "code",
      "source": [
        "plt.plot(fitted, rds, 'b.')\n",
        "plt.grid()"
      ],
      "metadata": {
        "id": "u2PUA4u5tq53",
        "outputId": "cdc42561-ee8d-43f9-f00e-2805f05d22be",
        "colab": {
          "base_uri": "https://localhost:8080/",
          "height": 265
        }
      },
      "execution_count": null,
      "outputs": [
        {
          "output_type": "display_data",
          "data": {
            "text/plain": [
              "<Figure size 432x288 with 1 Axes>"
            ],
            "image/png": "[encoded data removed]"
          },
          "metadata": {
            "needs_background": "light"
          }
        }
      ]
    },
    {
      "cell_type": "code",
      "source": [
        "plt.plot(cars[\"Year\"], rds, 'b.')\n",
        "plt.grid()"
      ],
      "metadata": {
        "id": "ma69atXvtrXu",
        "outputId": "a253006c-774a-44fe-acc0-f12097b9863e",
        "colab": {
          "base_uri": "https://localhost:8080/",
          "height": 265
        }
      },
      "execution_count": null,
      "outputs": [
        {
          "output_type": "display_data",
          "data": {
            "text/plain": [
              "<Figure size 432x288 with 1 Axes>"
            ],
            "image/png": "[encoded data removed]"
          },
          "metadata": {
            "needs_background": "light"
          }
        }
      ]
    },
    {
      "cell_type": "code",
      "source": [
        "plt.plot(cars[\"Cars\"], rds, 'b.')\n",
        "plt.grid()"
      ],
      "metadata": {
        "id": "FY8JuFikttIe",
        "outputId": "68208db9-3a25-4664-9215-b7c302ae9216",
        "colab": {
          "base_uri": "https://localhost:8080/",
          "height": 265
        }
      },
      "execution_count": null,
      "outputs": [
        {
          "output_type": "display_data",
          "data": {
            "text/plain": [
              "<Figure size 432x288 with 1 Axes>"
            ],
            "image/png": "[encoded data removed]"
          },
          "metadata": {
            "needs_background": "light"
          }
        }
      ]
    },
    {
      "cell_type": "code",
      "source": [
        "plt.plot(cars[\"Fuel\"], rds, 'b.')\n",
        "plt.grid()"
      ],
      "metadata": {
        "id": "q86YxNaAcAAQ",
        "outputId": "e567cac2-a601-4a09-f3bc-885b58e06ea3",
        "colab": {
          "base_uri": "https://localhost:8080/",
          "height": 265
        }
      },
      "execution_count": null,
      "outputs": [
        {
          "output_type": "display_data",
          "data": {
            "text/plain": [
              "<Figure size 432x288 with 1 Axes>"
            ],
            "image/png": "[encoded data removed]"
          },
          "metadata": {
            "needs_background": "light"
          }
        }
      ]
    },
    {
      "cell_type": "markdown",
      "source": [
        "Obrázky reziduí vypadají poměrně dobře až na obrázek vpravo dole pro proměnnou `Fuel`. To by mohlo značit, že není v modelu obsažena správně, např. může chybět nějaká její mocnina nebo jiná transformace. Malé a velké hodnoty `FUEL` mají za následek záporná rezidua, proměnnou tedy vystředujeme a najdeme vhodnou transformaci, kterou přidáme do modelu."
      ],
      "metadata": {
        "id": "smsba0X8cbtw"
      }
    },
    {
      "cell_type": "code",
      "source": [
        "fuel_2 = np.log(np.abs(cars[\"Fuel\"]-np.mean(cars[\"Fuel\"])))\n",
        "cars['Fuel_2'] = fuel_2\n",
        "cars.head()"
      ],
      "metadata": {
        "id": "dOSI9dHPcbgo",
        "outputId": "d677a5d4-2df3-432c-e577-cd70152793d4",
        "colab": {
          "base_uri": "https://localhost:8080/",
          "height": 310
        }
      },
      "execution_count": null,
      "outputs": [
        {
          "output_type": "stream",
          "name": "stderr",
          "text": [
            "/usr/local/lib/python3.7/dist-packages/ipykernel_launcher.py:2: SettingWithCopyWarning: \n",
            "A value is trying to be set on a copy of a slice from a DataFrame.\n",
            "Try using .loc[row_indexer,col_indexer] = value instead\n",
            "\n",
            "See the caveats in the documentation: https://pandas.pydata.org/pandas-docs/stable/user_guide/indexing.html#returning-a-view-versus-a-copy\n",
            "  \n"
          ]
        },
        {
          "output_type": "execute_result",
          "data": {
            "text/plain": [
              "    Year  Deaths  Cars  Fuel    Fuel_2\n",
              "20  1975    1172  2931  4383  6.781341\n",
              "21  1976    1168  3060  4624  6.461859\n",
              "22  1977    1031  3039  4811  6.116444\n",
              "23  1978    1034  3042  4945  5.765974\n",
              "24  1979     928  3059  4913  5.861498"
            ],
            "text/html": [
              "\n",
              "  <div id=\"df-76ea576e-d7e3-47d5-9abc-62c7869ab056\">\n",
              "    <div class=\"colab-df-container\">\n",
              "      <div>\n",
              "<style scoped>\n",
              "    .dataframe tbody tr th:only-of-type {\n",
              "        vertical-align: middle;\n",
              "    }\n",
              "\n",
              "    .dataframe tbody tr th {\n",
              "        vertical-align: top;\n",
              "    }\n",
              "\n",
              "    .dataframe thead th {\n",
              "        text-align: right;\n",
              "    }\n",
              "</style>\n",
              "<table border=\"1\" class=\"dataframe\">\n",
              "  <thead>\n",
              "    <tr style=\"text-align: right;\">\n",
              "      <th></th>\n",
              "      <th>Year</th>\n",
              "      <th>Deaths</th>\n",
              "      <th>Cars</th>\n",
              "      <th>Fuel</th>\n",
              "      <th>Fuel_2</th>\n",
              "    </tr>\n",
              "  </thead>\n",
              "  <tbody>\n",
              "    <tr>\n",
              "      <th>20</th>\n",
              "      <td>1975</td>\n",
              "      <td>1172</td>\n",
              "      <td>2931</td>\n",
              "      <td>4383</td>\n",
              "      <td>6.781341</td>\n",
              "    </tr>\n",
              "    <tr>\n",
              "      <th>21</th>\n",
              "      <td>1976</td>\n",
              "      <td>1168</td>\n",
              "      <td>3060</td>\n",
              "      <td>4624</td>\n",
              "      <td>6.461859</td>\n",
              "    </tr>\n",
              "    <tr>\n",
              "      <th>22</th>\n",
              "      <td>1977</td>\n",
              "      <td>1031</td>\n",
              "      <td>3039</td>\n",
              "      <td>4811</td>\n",
              "      <td>6.116444</td>\n",
              "    </tr>\n",
              "    <tr>\n",
              "      <th>23</th>\n",
              "      <td>1978</td>\n",
              "      <td>1034</td>\n",
              "      <td>3042</td>\n",
              "      <td>4945</td>\n",
              "      <td>5.765974</td>\n",
              "    </tr>\n",
              "    <tr>\n",
              "      <th>24</th>\n",
              "      <td>1979</td>\n",
              "      <td>928</td>\n",
              "      <td>3059</td>\n",
              "      <td>4913</td>\n",
              "      <td>5.861498</td>\n",
              "    </tr>\n",
              "  </tbody>\n",
              "</table>\n",
              "</div>\n",
              "      <button class=\"colab-df-convert\" onclick=\"convertToInteractive('df-76ea576e-d7e3-47d5-9abc-62c7869ab056')\"\n",
              "              title=\"Convert this dataframe to an interactive table.\"\n",
              "              style=\"display:none;\">\n",
              "        \n",
              "  <svg xmlns=\"http://www.w3.org/2000/svg\" height=\"24px\"viewBox=\"0 0 24 24\"\n",
              "       width=\"24px\">\n",
              "    <path d=\"M0 0h24v24H0V0z\" fill=\"none\"/>\n",
              "    <path d=\"M18.56 5.44l.94 2.06.94-2.06 2.06-.94-2.06-.94-.94-2.06-.94 2.06-2.06.94zm-11 1L8.5 8.5l.94-2.06 2.06-.94-2.06-.94L8.5 2.5l-.94 2.06-2.06.94zm10 10l.94 2.06.94-2.06 2.06-.94-2.06-.94-.94-2.06-.94 2.06-2.06.94z\"/><path d=\"M17.41 7.96l-1.37-1.37c-.4-.4-.92-.59-1.43-.59-.52 0-1.04.2-1.43.59L10.3 9.45l-7.72 7.72c-.78.78-.78 2.05 0 2.83L4 21.41c.39.39.9.59 1.41.59.51 0 1.02-.2 1.41-.59l7.78-7.78 2.81-2.81c.8-.78.8-2.07 0-2.86zM5.41 20L4 18.59l7.72-7.72 1.47 1.35L5.41 20z\"/>\n",
              "  </svg>\n",
              "      </button>\n",
              "      \n",
              "  <style>\n",
              "    .colab-df-container {\n",
              "      display:flex;\n",
              "      flex-wrap:wrap;\n",
              "      gap: 12px;\n",
              "    }\n",
              "\n",
              "    .colab-df-convert {\n",
              "      background-color: #E8F0FE;\n",
              "      border: none;\n",
              "      border-radius: 50%;\n",
              "      cursor: pointer;\n",
              "      display: none;\n",
              "      fill: #1967D2;\n",
              "      height: 32px;\n",
              "      padding: 0 0 0 0;\n",
              "      width: 32px;\n",
              "    }\n",
              "\n",
              "    .colab-df-convert:hover {\n",
              "      background-color: #E2EBFA;\n",
              "      box-shadow: 0px 1px 2px rgba(60, 64, 67, 0.3), 0px 1px 3px 1px rgba(60, 64, 67, 0.15);\n",
              "      fill: #174EA6;\n",
              "    }\n",
              "\n",
              "    [theme=dark] .colab-df-convert {\n",
              "      background-color: #3B4455;\n",
              "      fill: #D2E3FC;\n",
              "    }\n",
              "\n",
              "    [theme=dark] .colab-df-convert:hover {\n",
              "      background-color: #434B5C;\n",
              "      box-shadow: 0px 1px 3px 1px rgba(0, 0, 0, 0.15);\n",
              "      filter: drop-shadow(0px 1px 2px rgba(0, 0, 0, 0.3));\n",
              "      fill: #FFFFFF;\n",
              "    }\n",
              "  </style>\n",
              "\n",
              "      <script>\n",
              "        const buttonEl =\n",
              "          document.querySelector('#df-76ea576e-d7e3-47d5-9abc-62c7869ab056 button.colab-df-convert');\n",
              "        buttonEl.style.display =\n",
              "          google.colab.kernel.accessAllowed ? 'block' : 'none';\n",
              "\n",
              "        async function convertToInteractive(key) {\n",
              "          const element = document.querySelector('#df-76ea576e-d7e3-47d5-9abc-62c7869ab056');\n",
              "          const dataTable =\n",
              "            await google.colab.kernel.invokeFunction('convertToInteractive',\n",
              "                                                     [key], {});\n",
              "          if (!dataTable) return;\n",
              "\n",
              "          const docLinkHtml = 'Like what you see? Visit the ' +\n",
              "            '<a target=\"_blank\" href=https://colab.research.google.com/notebooks/data_table.ipynb>data table notebook</a>'\n",
              "            + ' to learn more about interactive tables.';\n",
              "          element.innerHTML = '';\n",
              "          dataTable['output_type'] = 'display_data';\n",
              "          await google.colab.output.renderOutput(dataTable, element);\n",
              "          const docLink = document.createElement('div');\n",
              "          docLink.innerHTML = docLinkHtml;\n",
              "          element.appendChild(docLink);\n",
              "        }\n",
              "      </script>\n",
              "    </div>\n",
              "  </div>\n",
              "  "
            ]
          },
          "metadata": {},
          "execution_count": 189
        }
      ]
    },
    {
      "cell_type": "code",
      "source": [
        "mdl_5 = smf.glm('Deaths ~ (Year+Cars+Fuel)**2- Cars:Fuel - Year:Cars + Fuel_2', data=cars, family=sm.families.Poisson(link=sm.families.links.log)).fit()\n",
        "print(mdl_5.summary())\n",
        "fit_5 = mdl_5.predict()"
      ],
      "metadata": {
        "id": "AR1dptoec6rx",
        "outputId": "9fd8dfc0-c4fa-4cc0-a08e-8afe415d233e",
        "colab": {
          "base_uri": "https://localhost:8080/"
        }
      },
      "execution_count": null,
      "outputs": [
        {
          "output_type": "stream",
          "name": "stderr",
          "text": [
            "/usr/local/lib/python3.7/dist-packages/ipykernel_launcher.py:1: DeprecationWarning: Calling Family(..) with a link class as argument is deprecated.\n",
            "Use an instance of a link class instead.\n",
            "  \"\"\"Entry point for launching an IPython kernel.\n"
          ]
        },
        {
          "output_type": "stream",
          "name": "stdout",
          "text": [
            "                 Generalized Linear Model Regression Results                  \n",
            "==============================================================================\n",
            "Dep. Variable:                 Deaths   No. Observations:                   36\n",
            "Model:                            GLM   Df Residuals:                       30\n",
            "Model Family:                 Poisson   Df Model:                            5\n",
            "Link Function:                    log   Scale:                          1.0000\n",
            "Method:                          IRLS   Log-Likelihood:                -169.68\n",
            "Date:                Thu, 04 Aug 2022   Deviance:                       39.759\n",
            "Time:                        11:05:00   Pearson chi2:                     39.8\n",
            "No. Iterations:                     5                                         \n",
            "Covariance Type:            nonrobust                                         \n",
            "==============================================================================\n",
            "                 coef    std err          z      P>|z|      [0.025      0.975]\n",
            "------------------------------------------------------------------------------\n",
            "Intercept    260.1512     21.911     11.873      0.000     217.205     303.097\n",
            "Year          -0.1290      0.011    -11.665      0.000      -0.151      -0.107\n",
            "Cars           0.0008   7.47e-05     10.511      0.000       0.001       0.001\n",
            "Fuel          -0.0200      0.004     -4.909      0.000      -0.028      -0.012\n",
            "Year:Fuel   1.009e-05   2.05e-06      4.927      0.000    6.08e-06    1.41e-05\n",
            "Fuel_2        -0.0414      0.010     -4.340      0.000      -0.060      -0.023\n",
            "==============================================================================\n"
          ]
        }
      ]
    },
    {
      "cell_type": "markdown",
      "source": [
        "Všecny parametry jsou v modelu významné a navíc došlo kdalšímu poklesu hodnoty AIC. Porovnejme ještě modely 4 a 5 pomocí LRT testu"
      ],
      "metadata": {
        "id": "33g0srbtdLmT"
      }
    },
    {
      "cell_type": "code",
      "source": [
        "calculate_nested_f_statistic(mdl_4,mdl_5)"
      ],
      "metadata": {
        "id": "17NXdWPRdQQR",
        "outputId": "e1682b66-6706-4218-f27f-12465957ad23",
        "colab": {
          "base_uri": "https://localhost:8080/"
        }
      },
      "execution_count": null,
      "outputs": [
        {
          "output_type": "execute_result",
          "data": {
            "text/plain": [
              "(18.54452176720401, 0.00015487207280004235)"
            ]
          },
          "metadata": {},
          "execution_count": 191
        }
      ]
    },
    {
      "cell_type": "markdown",
      "source": [
        "Rozdíl je významný, lepší je tedy Model 5. Nelze tvrdit, že je to nejlepší možný model, jistě by šly najít i jiné transformace, případně transformace, které by se aplikovali na proměnnou `FUEL` už na začátku modelování. \n"
      ],
      "metadata": {
        "id": "kw3zkoL_dZJA"
      }
    },
    {
      "cell_type": "markdown",
      "source": [
        "Zkontrolujeme rezidua Modelu 5."
      ],
      "metadata": {
        "id": "FnLNqBVBdabj"
      }
    },
    {
      "cell_type": "code",
      "source": [
        "rds_5 = mdl_5.resid_deviance\n",
        "fitted_5 = mdl_5.fittedvalues"
      ],
      "metadata": {
        "id": "mb09ZzCydciB"
      },
      "execution_count": null,
      "outputs": []
    },
    {
      "cell_type": "code",
      "source": [
        "plt.plot(fitted_5, rds_5, 'b.')\n",
        "plt.grid()"
      ],
      "metadata": {
        "id": "Q5Lqt8QcdrvP",
        "outputId": "53f52bb3-fe78-4f08-e663-415776258642",
        "colab": {
          "base_uri": "https://localhost:8080/",
          "height": 265
        }
      },
      "execution_count": null,
      "outputs": [
        {
          "output_type": "display_data",
          "data": {
            "text/plain": [
              "<Figure size 432x288 with 1 Axes>"
            ],
            "image/png": "[encoded data removed]"
          },
          "metadata": {
            "needs_background": "light"
          }
        }
      ]
    },
    {
      "cell_type": "code",
      "source": [
        "plt.plot(cars[\"Year\"], rds_5, 'b.')\n",
        "plt.grid()"
      ],
      "metadata": {
        "id": "YdclqJridtww",
        "outputId": "6db72de3-f817-4430-9106-3280b4a48197",
        "colab": {
          "base_uri": "https://localhost:8080/",
          "height": 265
        }
      },
      "execution_count": null,
      "outputs": [
        {
          "output_type": "display_data",
          "data": {
            "text/plain": [
              "<Figure size 432x288 with 1 Axes>"
            ],
            "image/png": "[encoded data removed]"
          },
          "metadata": {
            "needs_background": "light"
          }
        }
      ]
    },
    {
      "cell_type": "code",
      "source": [
        "plt.plot(cars[\"Cars\"], rds_5, 'b.')\n",
        "plt.grid()"
      ],
      "metadata": {
        "id": "QgJlcEHNdvag",
        "outputId": "b8333e95-e81e-4f3b-f3cb-f19bdc0b0186",
        "colab": {
          "base_uri": "https://localhost:8080/",
          "height": 265
        }
      },
      "execution_count": null,
      "outputs": [
        {
          "output_type": "display_data",
          "data": {
            "text/plain": [
              "<Figure size 432x288 with 1 Axes>"
            ],
            "image/png": "[encoded data removed]"
          },
          "metadata": {
            "needs_background": "light"
          }
        }
      ]
    },
    {
      "cell_type": "code",
      "source": [
        "plt.plot(cars[\"Fuel\"], rds_5, 'b.')\n",
        "plt.grid()"
      ],
      "metadata": {
        "id": "ZbYad4IPdwzQ",
        "outputId": "62f54ffd-d3f2-43cb-db46-85e36bbba8ce",
        "colab": {
          "base_uri": "https://localhost:8080/",
          "height": 265
        }
      },
      "execution_count": null,
      "outputs": [
        {
          "output_type": "display_data",
          "data": {
            "text/plain": [
              "<Figure size 432x288 with 1 Axes>"
            ],
            "image/png": "[encoded data removed]"
          },
          "metadata": {
            "needs_background": "light"
          }
        }
      ]
    },
    {
      "cell_type": "code",
      "source": [
        "plt.plot(cars[\"Fuel_2\"], rds_5, 'b.')\n",
        "plt.grid()"
      ],
      "metadata": {
        "id": "9Eui2YacdxQi",
        "outputId": "8e729072-9490-4ea6-8aa3-437fd5e59593",
        "colab": {
          "base_uri": "https://localhost:8080/",
          "height": 265
        }
      },
      "execution_count": null,
      "outputs": [
        {
          "output_type": "display_data",
          "data": {
            "text/plain": [
              "<Figure size 432x288 with 1 Axes>"
            ],
            "image/png": "[encoded data removed]"
          },
          "metadata": {
            "needs_background": "light"
          }
        }
      ]
    },
    {
      "cell_type": "markdown",
      "source": [
        "Rezidua teď vypadají mnohem rovnoměrněji rozdělena.Podívejme se ješte na vhodnost použité spojovací funkce a normalitu reziduí"
      ],
      "metadata": {
        "id": "xcWefC2_d7Pb"
      }
    },
    {
      "cell_type": "code",
      "source": [
        "# missing\n",
        "'''par(mfrow=c(1,2))\n",
        "eta <- mdl_5$linear.predictor\n",
        "z <- resid(mdl_5, type=\"working\") + eta\n",
        "plot( z ~ eta, las=1,\n",
        "      xlab=\"Linear predictor, eta\", ylab=\"Working responses, z\")\n",
        "abline(0, 1, col=\"grey\")\n",
        "qqnorm(r.ds)\n",
        "qqline(r.ds)'''"
      ],
      "metadata": {
        "id": "eDHOs8nBeOVT",
        "outputId": "eb8f3de5-f31c-48d2-c379-38774c001cd8",
        "colab": {
          "base_uri": "https://localhost:8080/",
          "height": 53
        }
      },
      "execution_count": null,
      "outputs": [
        {
          "output_type": "execute_result",
          "data": {
            "text/plain": [
              "'par(mfrow=c(1,2))\\neta <- mdl_5$linear.predictor\\nz <- resid(mdl_5, type=\"working\") + eta\\nplot( z ~ eta, las=1,\\n      xlab=\"Linear predictor, eta\", ylab=\"Working responses, z\")\\nabline(0, 1, col=\"grey\")\\nqqnorm(r.ds)\\nqqline(r.ds)'"
            ],
            "application/vnd.google.colaboratory.intrinsic+json": {
              "type": "string"
            }
          },
          "metadata": {},
          "execution_count": 198
        }
      ]
    },
    {
      "cell_type": "markdown",
      "source": [
        "Co se týče spojovací funkce, zdá být vše v pořádku. Rezidua vykazují jistou odchylky od normality, ale připomeňme, že v poissonovské regresi by měla být rezidua \"přibližně\" normálně rozdělena.\n",
        "\n"
      ],
      "metadata": {
        "id": "gzggrLqHeSyY"
      }
    },
    {
      "cell_type": "markdown",
      "source": [
        "### Influential observations analysis by `inflence.measures()`"
      ],
      "metadata": {
        "id": "srFrFbvgeUPD"
      }
    },
    {
      "cell_type": "code",
      "source": [
        "influence = mdl_5.get_influence()\n",
        "cooks = influence.cooks_distance\n",
        "print(cooks)"
      ],
      "metadata": {
        "id": "G8G79MhzeVxC",
        "outputId": "a132c68c-8871-4cef-c46a-f09f5860716d",
        "colab": {
          "base_uri": "https://localhost:8080/"
        }
      },
      "execution_count": null,
      "outputs": [
        {
          "output_type": "stream",
          "name": "stdout",
          "text": [
            "(array([0.0918546 , 0.00355036, 0.04361811, 0.02692167, 0.00093712,\n",
            "       0.00569527, 0.01181869, 0.00570958, 0.00588998, 0.01672329,\n",
            "       0.03916254, 0.02995578, 0.01822312, 0.0227518 , 0.24347486,\n",
            "       0.12245646, 0.03943239, 0.1263725 , 0.00094981, 0.01269249,\n",
            "       0.01570497, 0.02478129, 0.00107418, 0.00532031, 0.01178922,\n",
            "       0.00969993, 0.03485378, 0.04298209, 0.02663106, 0.00661968,\n",
            "       0.07701394, 0.03036674, 0.25368121, 0.09830554, 0.08409154,\n",
            "       0.68384436]), array([0.99669736, 0.99999976, 0.99959837, 0.99990126, 1.        ,\n",
            "       0.99999901, 0.9999913 , 0.999999  , 0.99999891, 0.99997568,\n",
            "       0.99970583, 0.99986507, 0.99996866, 0.99993973, 0.95821385,\n",
            "       0.99277381, 0.99969993, 0.99213821, 1.        , 0.99998925,\n",
            "       0.9999798 , 0.99992255, 0.99999999, 0.99999919, 0.99999137,\n",
            "       0.99999516, 0.99979024, 0.99961503, 0.99990435, 0.99999845,\n",
            "       0.99797617, 0.9998596 , 0.95391644, 0.9960192 , 0.99741387,\n",
            "       0.66395833]))\n"
          ]
        }
      ]
    },
    {
      "cell_type": "code",
      "source": [
        "hatvalues = mdl_5.get_hat_matrix_diag()\n",
        "print(hatvalues)"
      ],
      "metadata": {
        "id": "SYZgHfQcfDUq",
        "outputId": "e3f34518-e119-45d7-dc53-c350ca0041f4",
        "colab": {
          "base_uri": "https://localhost:8080/"
        }
      },
      "execution_count": null,
      "outputs": [
        {
          "output_type": "stream",
          "name": "stdout",
          "text": [
            "[0.47508356 0.3251197  0.1313319  0.11816149 0.10272848 0.10833707\n",
            " 0.14363862 0.14003833 0.10830677 0.11010547 0.10660554 0.31037871\n",
            " 0.11277251 0.17670152 0.28528085 0.17101753 0.13680556 0.13668154\n",
            " 0.06230696 0.09302301 0.14657117 0.14209967 0.09798466 0.06294442\n",
            " 0.05227653 0.10617104 0.07310107 0.08606138 0.10741271 0.12072629\n",
            " 0.11854619 0.11732075 0.46363634 0.20210892 0.25196273 0.49665102]\n"
          ]
        }
      ]
    },
    {
      "cell_type": "code",
      "source": [
        "def abline(slope, intercept):\n",
        "    \"\"\"Plot a line from slope and intercept\"\"\"\n",
        "    axes = plt.gca()\n",
        "    x_vals = np.array(axes.get_xlim())\n",
        "    y_vals = intercept + slope * x_vals\n",
        "    plt.plot(x_vals, y_vals, '--')"
      ],
      "metadata": {
        "id": "7r6XHlw_imnc"
      },
      "execution_count": null,
      "outputs": []
    },
    {
      "cell_type": "code",
      "source": [
        "n, npar = cars.shape\n",
        "npar = npar - 1 # máme sloupec indexů\n",
        "line = 8/(n-2*npar)\n",
        "line_2 = 2*npar/(n)"
      ],
      "metadata": {
        "id": "esNsppQ8gwP5"
      },
      "execution_count": null,
      "outputs": []
    },
    {
      "cell_type": "code",
      "source": [
        "influence.plot_index()\n",
        "abline(0, line)\n",
        "plt.xlabel('index')\n",
        "plt.ylabel('Cooks Distance')\n",
        "plt.show()"
      ],
      "metadata": {
        "id": "uXKhN1-6fbS7",
        "outputId": "8db90104-73c2-4f7a-c871-4280291ae28c",
        "colab": {
          "base_uri": "https://localhost:8080/",
          "height": 302
        }
      },
      "execution_count": null,
      "outputs": [
        {
          "output_type": "display_data",
          "data": {
            "text/plain": [
              "<Figure size 432x288 with 1 Axes>"
            ],
            "image/png": "[encoded data removed]"
          },
          "metadata": {
            "needs_background": "light"
          }
        }
      ]
    },
    {
      "cell_type": "code",
      "source": [
        "plt.scatter(cars.index, hatvalues)\n",
        "abline(0, line_2)\n",
        "plt.xlabel('index')\n",
        "plt.ylabel('Hat values')\n",
        "plt.show()"
      ],
      "metadata": {
        "id": "_RwDwI4xi0PR",
        "outputId": "22a25176-1b79-41f0-8b61-cc62f48b6454",
        "colab": {
          "base_uri": "https://localhost:8080/",
          "height": 279
        }
      },
      "execution_count": null,
      "outputs": [
        {
          "output_type": "display_data",
          "data": {
            "text/plain": [
              "<Figure size 432x288 with 1 Axes>"
            ],
            "image/png": "[encoded data removed]"
          },
          "metadata": {
            "needs_background": "light"
          }
        }
      ]
    },
    {
      "cell_type": "markdown",
      "source": [
        "Pozorování 36 bylo označeno jako influenční. Pokud použijeme i funkci pro počítání influenčních měr"
      ],
      "metadata": {
        "id": "MLRtVmUzi-ox"
      }
    },
    {
      "cell_type": "code",
      "source": [
        "influence = mdl_5.get_influence()\n",
        "inf_sum = influence.summary_frame()\n",
        "print(inf_sum)"
      ],
      "metadata": {
        "id": "pWuF9X5_jL7q",
        "outputId": "fc3e89bd-2899-4a5c-db18-21ab21b38f9b",
        "colab": {
          "base_uri": "https://localhost:8080/"
        }
      },
      "execution_count": null,
      "outputs": [
        {
          "output_type": "stream",
          "name": "stdout",
          "text": [
            "    dfb_Intercept  dfb_Year  dfb_Cars  dfb_Fuel  dfb_Year:Fuel  dfb_Fuel_2  \\\n",
            "20       0.501802 -0.501422  0.225852 -0.444275       0.442526    0.148948   \n",
            "21      -0.075107  0.075671 -0.092776  0.041186      -0.040856   -0.010060   \n",
            "22      -0.083714  0.084845 -0.187434 -0.005054       0.005710    0.055077   \n",
            "23      -0.093208  0.093434 -0.014857  0.115229      -0.115162   -0.139770   \n",
            "24       0.023402 -0.023649  0.023143 -0.019090       0.019078    0.016287   \n",
            "25       0.035883 -0.036972  0.090077 -0.004909       0.005070   -0.031166   \n",
            "26       0.057064 -0.058953  0.161937  0.003838      -0.003577   -0.074537   \n",
            "27       0.057591 -0.058915  0.120085 -0.013110       0.013268   -0.049722   \n",
            "28      -0.086907  0.088126 -0.119814  0.046047      -0.046133    0.023648   \n",
            "29      -0.175390  0.176991 -0.167859  0.129509      -0.129336   -0.106755   \n",
            "30      -0.259498  0.261452 -0.197975  0.213094      -0.212867   -0.227067   \n",
            "31      -0.116152  0.116614 -0.027826  0.132160      -0.131722   -0.357513   \n",
            "32       0.146140 -0.144585 -0.048099 -0.187687       0.186960    0.076163   \n",
            "33       0.082844 -0.079805 -0.152733 -0.157485       0.156686   -0.061821   \n",
            "34      -0.044367  0.033382  0.634855  0.318149      -0.315761    0.344410   \n",
            "35      -0.026083  0.034248 -0.618036 -0.229575       0.228808   -0.018721   \n",
            "36      -0.026563  0.030592 -0.242226 -0.072713       0.071783   -0.128286   \n",
            "37       0.004982 -0.007370 -0.101236 -0.039533       0.042372    0.407574   \n",
            "38       0.015444 -0.015655  0.040127 -0.000800       0.000580   -0.011049   \n",
            "39       0.029052 -0.030178  0.175493  0.039648      -0.040439   -0.080390   \n",
            "40      -0.006799  0.005490  0.194256  0.086482      -0.087341   -0.120509   \n",
            "41      -0.000838 -0.001391  0.277640  0.115333      -0.116277   -0.123490   \n",
            "42      -0.001320  0.000807  0.056408  0.025158      -0.025317   -0.015897   \n",
            "43      -0.001729  0.000621  0.086922  0.039506      -0.039642    0.055085   \n",
            "44       0.073486 -0.072688 -0.037881 -0.101802       0.101870   -0.038858   \n",
            "45       0.066766 -0.067012  0.094297 -0.037532       0.037245   -0.147616   \n",
            "46       0.188658 -0.188740  0.127464 -0.166440       0.165992   -0.130631   \n",
            "47       0.270462 -0.269895  0.035927 -0.296108       0.295961    0.055729   \n",
            "48       0.219795 -0.218989 -0.013006 -0.256982       0.256944    0.079535   \n",
            "49      -0.113430  0.113022  0.004047  0.131518      -0.131471   -0.040323   \n",
            "50      -0.383436  0.382148 -0.023914  0.431874      -0.431457   -0.088761   \n",
            "51      -0.167695  0.167082 -0.085866  0.161651      -0.160991    0.161373   \n",
            "52      -0.228578  0.227328 -0.302517  0.124689      -0.123205    1.058105   \n",
            "53      -0.316822  0.315092  0.173728  0.355438      -0.357601    0.235953   \n",
            "54      -0.366828  0.365524  0.095647  0.382757      -0.384627    0.261423   \n",
            "55       1.324896 -1.319912 -0.243802 -1.397267       1.402086   -0.792150   \n",
            "\n",
            "     cooks_d  standard_resid  hat_diag  dffits_internal  \n",
            "20  0.091855        0.780344  0.475084         0.742380  \n",
            "21  0.003550       -0.210283  0.325120        -0.145953  \n",
            "22  0.043618       -1.315682  0.131332        -0.511575  \n",
            "23  0.026922        1.097952  0.118161         0.401908  \n",
            "24  0.000937       -0.221611  0.102728        -0.074985  \n",
            "25  0.005695       -0.530328  0.108337        -0.184856  \n",
            "26  0.011819       -0.650209  0.143639        -0.266293  \n",
            "27  0.005710       -0.458663  0.140038        -0.185088  \n",
            "28  0.005890        0.539402  0.108307         0.187989  \n",
            "29  0.016723        0.900536  0.110105         0.316764  \n",
            "30  0.039163        1.403275  0.106606         0.484742  \n",
            "31  0.029956        0.631939  0.310379         0.423951  \n",
            "32  0.018223       -0.927476  0.112773        -0.330664  \n",
            "33  0.022752       -0.797521  0.176702        -0.369474  \n",
            "34  0.243475        1.913084  0.285281         1.208656  \n",
            "35  0.122456       -1.887204  0.171018        -0.857169  \n",
            "36  0.039432       -1.221813  0.136806        -0.486410  \n",
            "37  0.126373        2.188429  0.136682         0.870767  \n",
            "38  0.000950       -0.292857  0.062307        -0.075491  \n",
            "39  0.012692       -0.861692  0.093023        -0.275962  \n",
            "40  0.015705       -0.740719  0.146571        -0.306969  \n",
            "41  0.024781       -0.947457  0.142100        -0.385600  \n",
            "42  0.001074       -0.243580  0.097985        -0.080281  \n",
            "43  0.005320       -0.689363  0.062944        -0.178667  \n",
            "44  0.011789        1.132415  0.052277         0.265961  \n",
            "45  0.009700        0.699977  0.106171         0.241246  \n",
            "46  0.034854        1.628377  0.073101         0.457299  \n",
            "47  0.042982        1.654908  0.086061         0.507831  \n",
            "48  0.026631        1.152305  0.107413         0.399733  \n",
            "49  0.006620       -0.537843  0.120726        -0.199294  \n",
            "50  0.077014       -1.853601  0.118546        -0.679767  \n",
            "51  0.030367       -1.170816  0.117321        -0.426849  \n",
            "52  0.253681       -1.326969  0.463636        -1.233729  \n",
            "53  0.098306        1.525962  0.202109         0.768006  \n",
            "54  0.084092        1.223898  0.251963         0.710316  \n",
            "55  0.683844       -2.039216  0.496651        -2.025603  \n"
          ]
        }
      ]
    },
    {
      "cell_type": "markdown",
      "source": [
        "dostaneme, že jedno pozorování bylo detekováno jako influenční pomocí Cookovy vzdálenosti a jedná se o pozorování 36. Naopak pomocí potenciálů `hat` žádné podezřelé pozorování označeno nebylo. Dojdeme-li k závěru, že pozorování 36 je \"špatné\", můžeme ho odstranit z modelu. Potom:\n",
        "\n"
      ],
      "metadata": {
        "id": "tzjAobNPjjuA"
      }
    },
    {
      "cell_type": "code",
      "source": [
        "mdl_5_out = smf.glm('Deaths ~ (Year+Cars+Fuel)**2- Cars:Fuel - Year:Cars + Fuel_2', data=cars, family=sm.families.Poisson(link=sm.families.links.log)).fit()\n",
        "print(mdl_5_out.summary())"
      ],
      "metadata": {
        "id": "9o4CcsVokUgw",
        "outputId": "8f511ad6-390b-4717-c03d-9d68a19a123b",
        "colab": {
          "base_uri": "https://localhost:8080/"
        }
      },
      "execution_count": null,
      "outputs": [
        {
          "output_type": "stream",
          "name": "stdout",
          "text": [
            "                 Generalized Linear Model Regression Results                  \n",
            "==============================================================================\n",
            "Dep. Variable:                 Deaths   No. Observations:                   36\n",
            "Model:                            GLM   Df Residuals:                       30\n",
            "Model Family:                 Poisson   Df Model:                            5\n",
            "Link Function:                    log   Scale:                          1.0000\n",
            "Method:                          IRLS   Log-Likelihood:                -169.68\n",
            "Date:                Thu, 04 Aug 2022   Deviance:                       39.759\n",
            "Time:                        11:05:02   Pearson chi2:                     39.8\n",
            "No. Iterations:                     5                                         \n",
            "Covariance Type:            nonrobust                                         \n",
            "==============================================================================\n",
            "                 coef    std err          z      P>|z|      [0.025      0.975]\n",
            "------------------------------------------------------------------------------\n",
            "Intercept    260.1512     21.911     11.873      0.000     217.205     303.097\n",
            "Year          -0.1290      0.011    -11.665      0.000      -0.151      -0.107\n",
            "Cars           0.0008   7.47e-05     10.511      0.000       0.001       0.001\n",
            "Fuel          -0.0200      0.004     -4.909      0.000      -0.028      -0.012\n",
            "Year:Fuel   1.009e-05   2.05e-06      4.927      0.000    6.08e-06    1.41e-05\n",
            "Fuel_2        -0.0414      0.010     -4.340      0.000      -0.060      -0.023\n",
            "==============================================================================\n"
          ]
        },
        {
          "output_type": "stream",
          "name": "stderr",
          "text": [
            "/usr/local/lib/python3.7/dist-packages/ipykernel_launcher.py:1: DeprecationWarning: Calling Family(..) with a link class as argument is deprecated.\n",
            "Use an instance of a link class instead.\n",
            "  \"\"\"Entry point for launching an IPython kernel.\n"
          ]
        }
      ]
    },
    {
      "cell_type": "code",
      "source": [
        "fit_5_out = mdl_5_out.predict()"
      ],
      "metadata": {
        "id": "9FegtYyqkpe7"
      },
      "execution_count": null,
      "outputs": []
    },
    {
      "cell_type": "markdown",
      "source": [
        "Vidíme, že došlo k mírné změně koeficientů. Rozdíl v odhadech."
      ],
      "metadata": {
        "id": "XWbN29uOkZqw"
      }
    },
    {
      "cell_type": "code",
      "source": [
        "plt.plot(cars[\"Year\"], cars[\"Deaths\"], 'b.')\n",
        "plt.plot(cars[\"Year\"], fit_5, 'g-')\n",
        "plt.plot(cars['Year'], fit_5_out, 'y--')\n",
        "plt.grid()"
      ],
      "metadata": {
        "id": "4AU5VwBfkZT_",
        "outputId": "636af264-c7ce-434a-d4ff-7a5a39f70f13",
        "colab": {
          "base_uri": "https://localhost:8080/",
          "height": 265
        }
      },
      "execution_count": null,
      "outputs": [
        {
          "output_type": "display_data",
          "data": {
            "text/plain": [
              "<Figure size 432x288 with 1 Axes>"
            ],
            "image/png": "[encoded data removed]"
          },
          "metadata": {
            "needs_background": "light"
          }
        }
      ]
    },
    {
      "cell_type": "markdown",
      "source": [
        "se však tato změna projeví jen nepatrně u posledního pozorování."
      ],
      "metadata": {
        "id": "OyHipJ85k4aA"
      }
    },
    {
      "cell_type": "markdown",
      "source": [
        "## ML approach: forecasting the future."
      ],
      "metadata": {
        "id": "Udm04aM6k6QB"
      }
    },
    {
      "cell_type": "markdown",
      "source": [
        "Last task: Hide last 5 observations, train the model using remaining and try to predict response for the 5 hidden latest observations. Plot predictiions together with true observations."
      ],
      "metadata": {
        "id": "HthVkN5ik8KR"
      }
    },
    {
      "cell_type": "code",
      "source": [
        "# missing"
      ],
      "metadata": {
        "id": "lpCWFpS2k7vX"
      },
      "execution_count": null,
      "outputs": []
    }
  ]
}