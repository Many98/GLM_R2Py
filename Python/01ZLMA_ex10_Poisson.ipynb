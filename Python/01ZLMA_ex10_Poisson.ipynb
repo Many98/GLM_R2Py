{
  "nbformat": 4,
  "nbformat_minor": 0,
  "metadata": {
    "colab": {
      "name": "10ZLMA.ipynb",
      "provenance": []
    },
    "kernelspec": {
      "name": "python3",
      "display_name": "Python 3"
    },
    "language_info": {
      "name": "python"
    }
  },
  "cells": [
    {
      "cell_type": "markdown",
      "source": [
        "# 01ZLMA - Exercise 10\n",
        "Exercise 10 of the course 01ZLMA. \n",
        "\n",
        "## Contents\n",
        "\n",
        "* Log-linear models with Poisson distributed data\n",
        "* Example from the Lecture 10 (Section 7.7. from lecture notes)\n",
        "\n"
      ],
      "metadata": {
        "id": "dxKokqhW0fz4"
      }
    },
    {
      "cell_type": "markdown",
      "source": [
        "## Poission regression\n",
        "\n",
        "Poission regression is good for modeling random variables expressing the number of occurs of independent events in given time period.  \n",
        "It also proves to be more suitable for binomial data if the number of repetitions is large and the probability of success low.\n",
        "\n",
        "\n",
        "*   $Y_1, \\ldots, Y_n$ $iid$ $Y_i \\sim Po(\\mu_i)$, where $\\mu_i = s_i λ_i$ and $s_i$ is known sample size.\n",
        "*   Canonical link function $g(x) = ln(x)$: $\\eta_i = g(\\mu_i) = ln(\\mu_i) = ln(s_i) + ln(\\lambda_i) = ln(s_i) + x_i^T \\beta$, where $i= 1,\\ldots, n$ and $\\mu_i = E[Y_i] = s_i\\lambda_i = s_i e^{x_i^T \\beta}$.\n",
        "\n",
        "\n"
      ],
      "metadata": {
        "id": "pguPrWzv0hqI"
      }
    },
    {
      "cell_type": "markdown",
      "source": [
        "Let us assume exercise 7.7 from lecture notes (Dobson 9.2.1) - British doctors' smoking and coronary death. (https://reneues.files.wordpress.com/2010/01/an-introduction-to-generalized-linear-models-second-edition-dobson.pdf)\n",
        "\n",
        "Data from the famous doctors study of smoking conducted by Sir Richard Doll and colleagues.\n",
        "\n",
        "---\n",
        "\n"
      ],
      "metadata": {
        "id": "fOLJFyfq0knf"
      }
    },
    {
      "cell_type": "code",
      "execution_count": null,
      "metadata": {
        "id": "e-CGPxtYxro4"
      },
      "outputs": [],
      "source": [
        "import pandas as pd\n",
        "import numpy as np\n",
        "import math\n",
        "import matplotlib.pyplot as plt\n",
        "import seaborn as sns\n",
        "from sklearn.linear_model import LinearRegression\n",
        "from statsmodels.graphics.regressionplots import plot_partregress_grid\n",
        "import statsmodels.formula.api as smf\n",
        "import statsmodels.api as sm\n",
        "from scipy import stats"
      ]
    },
    {
      "cell_type": "code",
      "source": [
        "# import dataset\n",
        "url = \"https://raw.githubusercontent.com/francji1/01ZLMA/main/data/smoke.csv\"\n",
        "data_poiss = pd.read_csv(url, sep = ';', header=[0])\n",
        "data_poiss"
      ],
      "metadata": {
        "colab": {
          "base_uri": "https://localhost:8080/",
          "height": 363
        },
        "id": "EJvMRcXl0msR",
        "outputId": "3612d4e8-faba-4c5f-896a-aad04b83edbb"
      },
      "execution_count": null,
      "outputs": [
        {
          "output_type": "execute_result",
          "data": {
            "text/plain": [
              "  age_group  deaths  person_years  smoke\n",
              "0  35 to 44      32         52407      1\n",
              "1  45 to 54     104         43248      1\n",
              "2  55 to 64     206         28612      1\n",
              "3  65 to 74     186         12663      1\n",
              "4  75 to 84     102          5317      1\n",
              "5  35 to 44       2         18790      0\n",
              "6  45 to 54      12         10673      0\n",
              "7  55 to 64      28          5710      0\n",
              "8  65 to 74      28          2585      0\n",
              "9  75 to 84      31          1462      0"
            ],
            "text/html": [
              "\n",
              "  <div id=\"df-8d2102e1-0f8c-4d5c-b3e7-1f90a6b4a11e\">\n",
              "    <div class=\"colab-df-container\">\n",
              "      <div>\n",
              "<style scoped>\n",
              "    .dataframe tbody tr th:only-of-type {\n",
              "        vertical-align: middle;\n",
              "    }\n",
              "\n",
              "    .dataframe tbody tr th {\n",
              "        vertical-align: top;\n",
              "    }\n",
              "\n",
              "    .dataframe thead th {\n",
              "        text-align: right;\n",
              "    }\n",
              "</style>\n",
              "<table border=\"1\" class=\"dataframe\">\n",
              "  <thead>\n",
              "    <tr style=\"text-align: right;\">\n",
              "      <th></th>\n",
              "      <th>age_group</th>\n",
              "      <th>deaths</th>\n",
              "      <th>person_years</th>\n",
              "      <th>smoke</th>\n",
              "    </tr>\n",
              "  </thead>\n",
              "  <tbody>\n",
              "    <tr>\n",
              "      <th>0</th>\n",
              "      <td>35 to 44</td>\n",
              "      <td>32</td>\n",
              "      <td>52407</td>\n",
              "      <td>1</td>\n",
              "    </tr>\n",
              "    <tr>\n",
              "      <th>1</th>\n",
              "      <td>45 to 54</td>\n",
              "      <td>104</td>\n",
              "      <td>43248</td>\n",
              "      <td>1</td>\n",
              "    </tr>\n",
              "    <tr>\n",
              "      <th>2</th>\n",
              "      <td>55 to 64</td>\n",
              "      <td>206</td>\n",
              "      <td>28612</td>\n",
              "      <td>1</td>\n",
              "    </tr>\n",
              "    <tr>\n",
              "      <th>3</th>\n",
              "      <td>65 to 74</td>\n",
              "      <td>186</td>\n",
              "      <td>12663</td>\n",
              "      <td>1</td>\n",
              "    </tr>\n",
              "    <tr>\n",
              "      <th>4</th>\n",
              "      <td>75 to 84</td>\n",
              "      <td>102</td>\n",
              "      <td>5317</td>\n",
              "      <td>1</td>\n",
              "    </tr>\n",
              "    <tr>\n",
              "      <th>5</th>\n",
              "      <td>35 to 44</td>\n",
              "      <td>2</td>\n",
              "      <td>18790</td>\n",
              "      <td>0</td>\n",
              "    </tr>\n",
              "    <tr>\n",
              "      <th>6</th>\n",
              "      <td>45 to 54</td>\n",
              "      <td>12</td>\n",
              "      <td>10673</td>\n",
              "      <td>0</td>\n",
              "    </tr>\n",
              "    <tr>\n",
              "      <th>7</th>\n",
              "      <td>55 to 64</td>\n",
              "      <td>28</td>\n",
              "      <td>5710</td>\n",
              "      <td>0</td>\n",
              "    </tr>\n",
              "    <tr>\n",
              "      <th>8</th>\n",
              "      <td>65 to 74</td>\n",
              "      <td>28</td>\n",
              "      <td>2585</td>\n",
              "      <td>0</td>\n",
              "    </tr>\n",
              "    <tr>\n",
              "      <th>9</th>\n",
              "      <td>75 to 84</td>\n",
              "      <td>31</td>\n",
              "      <td>1462</td>\n",
              "      <td>0</td>\n",
              "    </tr>\n",
              "  </tbody>\n",
              "</table>\n",
              "</div>\n",
              "      <button class=\"colab-df-convert\" onclick=\"convertToInteractive('df-8d2102e1-0f8c-4d5c-b3e7-1f90a6b4a11e')\"\n",
              "              title=\"Convert this dataframe to an interactive table.\"\n",
              "              style=\"display:none;\">\n",
              "        \n",
              "  <svg xmlns=\"http://www.w3.org/2000/svg\" height=\"24px\"viewBox=\"0 0 24 24\"\n",
              "       width=\"24px\">\n",
              "    <path d=\"M0 0h24v24H0V0z\" fill=\"none\"/>\n",
              "    <path d=\"M18.56 5.44l.94 2.06.94-2.06 2.06-.94-2.06-.94-.94-2.06-.94 2.06-2.06.94zm-11 1L8.5 8.5l.94-2.06 2.06-.94-2.06-.94L8.5 2.5l-.94 2.06-2.06.94zm10 10l.94 2.06.94-2.06 2.06-.94-2.06-.94-.94-2.06-.94 2.06-2.06.94z\"/><path d=\"M17.41 7.96l-1.37-1.37c-.4-.4-.92-.59-1.43-.59-.52 0-1.04.2-1.43.59L10.3 9.45l-7.72 7.72c-.78.78-.78 2.05 0 2.83L4 21.41c.39.39.9.59 1.41.59.51 0 1.02-.2 1.41-.59l7.78-7.78 2.81-2.81c.8-.78.8-2.07 0-2.86zM5.41 20L4 18.59l7.72-7.72 1.47 1.35L5.41 20z\"/>\n",
              "  </svg>\n",
              "      </button>\n",
              "      \n",
              "  <style>\n",
              "    .colab-df-container {\n",
              "      display:flex;\n",
              "      flex-wrap:wrap;\n",
              "      gap: 12px;\n",
              "    }\n",
              "\n",
              "    .colab-df-convert {\n",
              "      background-color: #E8F0FE;\n",
              "      border: none;\n",
              "      border-radius: 50%;\n",
              "      cursor: pointer;\n",
              "      display: none;\n",
              "      fill: #1967D2;\n",
              "      height: 32px;\n",
              "      padding: 0 0 0 0;\n",
              "      width: 32px;\n",
              "    }\n",
              "\n",
              "    .colab-df-convert:hover {\n",
              "      background-color: #E2EBFA;\n",
              "      box-shadow: 0px 1px 2px rgba(60, 64, 67, 0.3), 0px 1px 3px 1px rgba(60, 64, 67, 0.15);\n",
              "      fill: #174EA6;\n",
              "    }\n",
              "\n",
              "    [theme=dark] .colab-df-convert {\n",
              "      background-color: #3B4455;\n",
              "      fill: #D2E3FC;\n",
              "    }\n",
              "\n",
              "    [theme=dark] .colab-df-convert:hover {\n",
              "      background-color: #434B5C;\n",
              "      box-shadow: 0px 1px 3px 1px rgba(0, 0, 0, 0.15);\n",
              "      filter: drop-shadow(0px 1px 2px rgba(0, 0, 0, 0.3));\n",
              "      fill: #FFFFFF;\n",
              "    }\n",
              "  </style>\n",
              "\n",
              "      <script>\n",
              "        const buttonEl =\n",
              "          document.querySelector('#df-8d2102e1-0f8c-4d5c-b3e7-1f90a6b4a11e button.colab-df-convert');\n",
              "        buttonEl.style.display =\n",
              "          google.colab.kernel.accessAllowed ? 'block' : 'none';\n",
              "\n",
              "        async function convertToInteractive(key) {\n",
              "          const element = document.querySelector('#df-8d2102e1-0f8c-4d5c-b3e7-1f90a6b4a11e');\n",
              "          const dataTable =\n",
              "            await google.colab.kernel.invokeFunction('convertToInteractive',\n",
              "                                                     [key], {});\n",
              "          if (!dataTable) return;\n",
              "\n",
              "          const docLinkHtml = 'Like what you see? Visit the ' +\n",
              "            '<a target=\"_blank\" href=https://colab.research.google.com/notebooks/data_table.ipynb>data table notebook</a>'\n",
              "            + ' to learn more about interactive tables.';\n",
              "          element.innerHTML = '';\n",
              "          dataTable['output_type'] = 'display_data';\n",
              "          await google.colab.output.renderOutput(dataTable, element);\n",
              "          const docLink = document.createElement('div');\n",
              "          docLink.innerHTML = docLinkHtml;\n",
              "          element.appendChild(docLink);\n",
              "        }\n",
              "      </script>\n",
              "    </div>\n",
              "  </div>\n",
              "  "
            ]
          },
          "metadata": {},
          "execution_count": 12
        }
      ]
    },
    {
      "cell_type": "code",
      "source": [
        "print(data_poiss.describe())"
      ],
      "metadata": {
        "colab": {
          "base_uri": "https://localhost:8080/"
        },
        "id": "ZILSYIl91xkX",
        "outputId": "f856e7d7-2ebe-4248-c124-eadea1fbd06c"
      },
      "execution_count": null,
      "outputs": [
        {
          "output_type": "stream",
          "name": "stdout",
          "text": [
            "           deaths  person_years      smoke\n",
            "count   10.000000     10.000000  10.000000\n",
            "mean    73.100000  18146.700000   0.500000\n",
            "std     73.421841  17762.398937   0.527046\n",
            "min      2.000000   1462.000000   0.000000\n",
            "25%     28.000000   5415.250000   0.000000\n",
            "50%     31.500000  11668.000000   0.500000\n",
            "75%    103.500000  26156.500000   1.000000\n",
            "max    206.000000  52407.000000   1.000000\n"
          ]
        }
      ]
    },
    {
      "cell_type": "markdown",
      "source": [
        "Add a death rate: the number of deaths per 10,000 person years:\n",
        "$$ \\text{death_rate} = \\frac{deaths}{\\frac{\\text{person_years}}{10000}}$$\n"
      ],
      "metadata": {
        "id": "u41pm6lm9_26"
      }
    },
    {
      "cell_type": "code",
      "source": [
        "import math\n",
        "# add all columns\n",
        "age_avg = [40,50,60,70,80,40,50,60,70,80]\n",
        "age_min = [35,45,55,65,75,35,45,55,65,75]\n",
        "data_poiss = data_poiss.assign(age_avg = age_avg, age_min=age_min)\n",
        "\n",
        "n_min = np.ceil(data_poiss[\"person_years\"]/(data_poiss[\"age_min\"]-10))\n",
        "n_avg = np.ceil(data_poiss[\"person_years\"]/(data_poiss[\"age_avg\"]-10))\n",
        "living = n_min - data_poiss[\"deaths\"]\n",
        "death_rate = data_poiss[\"deaths\"]/(data_poiss[\"person_years\"]/10000)\n",
        "data_poiss = data_poiss.assign(n_min = n_min, n_avg = n_avg, living = living, death_rate = death_rate)\n",
        "data_poiss"
      ],
      "metadata": {
        "colab": {
          "base_uri": "https://localhost:8080/",
          "height": 363
        },
        "id": "x5oeFZzd2jQU",
        "outputId": "5a135104-1c65-4543-eac1-356c4a5c0bdd"
      },
      "execution_count": null,
      "outputs": [
        {
          "output_type": "execute_result",
          "data": {
            "text/plain": [
              "  age_group  deaths  person_years  smoke  age_avg  age_min   n_min   n_avg  \\\n",
              "0  35 to 44      32         52407      1       40       35  2097.0  1747.0   \n",
              "1  45 to 54     104         43248      1       50       45  1236.0  1082.0   \n",
              "2  55 to 64     206         28612      1       60       55   636.0   573.0   \n",
              "3  65 to 74     186         12663      1       70       65   231.0   212.0   \n",
              "4  75 to 84     102          5317      1       80       75    82.0    76.0   \n",
              "5  35 to 44       2         18790      0       40       35   752.0   627.0   \n",
              "6  45 to 54      12         10673      0       50       45   305.0   267.0   \n",
              "7  55 to 64      28          5710      0       60       55   127.0   115.0   \n",
              "8  65 to 74      28          2585      0       70       65    47.0    44.0   \n",
              "9  75 to 84      31          1462      0       80       75    23.0    21.0   \n",
              "\n",
              "   living  death_rate  \n",
              "0  2065.0    6.106055  \n",
              "1  1132.0   24.047355  \n",
              "2   430.0   71.997763  \n",
              "3    45.0  146.884624  \n",
              "4   -20.0  191.837502  \n",
              "5   750.0    1.064396  \n",
              "6   293.0   11.243324  \n",
              "7    99.0   49.036778  \n",
              "8    19.0  108.317215  \n",
              "9    -8.0  212.038304  "
            ],
            "text/html": [
              "\n",
              "  <div id=\"df-1f392701-c4c0-4a86-9ca1-3a9389cebb3c\">\n",
              "    <div class=\"colab-df-container\">\n",
              "      <div>\n",
              "<style scoped>\n",
              "    .dataframe tbody tr th:only-of-type {\n",
              "        vertical-align: middle;\n",
              "    }\n",
              "\n",
              "    .dataframe tbody tr th {\n",
              "        vertical-align: top;\n",
              "    }\n",
              "\n",
              "    .dataframe thead th {\n",
              "        text-align: right;\n",
              "    }\n",
              "</style>\n",
              "<table border=\"1\" class=\"dataframe\">\n",
              "  <thead>\n",
              "    <tr style=\"text-align: right;\">\n",
              "      <th></th>\n",
              "      <th>age_group</th>\n",
              "      <th>deaths</th>\n",
              "      <th>person_years</th>\n",
              "      <th>smoke</th>\n",
              "      <th>age_avg</th>\n",
              "      <th>age_min</th>\n",
              "      <th>n_min</th>\n",
              "      <th>n_avg</th>\n",
              "      <th>living</th>\n",
              "      <th>death_rate</th>\n",
              "    </tr>\n",
              "  </thead>\n",
              "  <tbody>\n",
              "    <tr>\n",
              "      <th>0</th>\n",
              "      <td>35 to 44</td>\n",
              "      <td>32</td>\n",
              "      <td>52407</td>\n",
              "      <td>1</td>\n",
              "      <td>40</td>\n",
              "      <td>35</td>\n",
              "      <td>2097.0</td>\n",
              "      <td>1747.0</td>\n",
              "      <td>2065.0</td>\n",
              "      <td>6.106055</td>\n",
              "    </tr>\n",
              "    <tr>\n",
              "      <th>1</th>\n",
              "      <td>45 to 54</td>\n",
              "      <td>104</td>\n",
              "      <td>43248</td>\n",
              "      <td>1</td>\n",
              "      <td>50</td>\n",
              "      <td>45</td>\n",
              "      <td>1236.0</td>\n",
              "      <td>1082.0</td>\n",
              "      <td>1132.0</td>\n",
              "      <td>24.047355</td>\n",
              "    </tr>\n",
              "    <tr>\n",
              "      <th>2</th>\n",
              "      <td>55 to 64</td>\n",
              "      <td>206</td>\n",
              "      <td>28612</td>\n",
              "      <td>1</td>\n",
              "      <td>60</td>\n",
              "      <td>55</td>\n",
              "      <td>636.0</td>\n",
              "      <td>573.0</td>\n",
              "      <td>430.0</td>\n",
              "      <td>71.997763</td>\n",
              "    </tr>\n",
              "    <tr>\n",
              "      <th>3</th>\n",
              "      <td>65 to 74</td>\n",
              "      <td>186</td>\n",
              "      <td>12663</td>\n",
              "      <td>1</td>\n",
              "      <td>70</td>\n",
              "      <td>65</td>\n",
              "      <td>231.0</td>\n",
              "      <td>212.0</td>\n",
              "      <td>45.0</td>\n",
              "      <td>146.884624</td>\n",
              "    </tr>\n",
              "    <tr>\n",
              "      <th>4</th>\n",
              "      <td>75 to 84</td>\n",
              "      <td>102</td>\n",
              "      <td>5317</td>\n",
              "      <td>1</td>\n",
              "      <td>80</td>\n",
              "      <td>75</td>\n",
              "      <td>82.0</td>\n",
              "      <td>76.0</td>\n",
              "      <td>-20.0</td>\n",
              "      <td>191.837502</td>\n",
              "    </tr>\n",
              "    <tr>\n",
              "      <th>5</th>\n",
              "      <td>35 to 44</td>\n",
              "      <td>2</td>\n",
              "      <td>18790</td>\n",
              "      <td>0</td>\n",
              "      <td>40</td>\n",
              "      <td>35</td>\n",
              "      <td>752.0</td>\n",
              "      <td>627.0</td>\n",
              "      <td>750.0</td>\n",
              "      <td>1.064396</td>\n",
              "    </tr>\n",
              "    <tr>\n",
              "      <th>6</th>\n",
              "      <td>45 to 54</td>\n",
              "      <td>12</td>\n",
              "      <td>10673</td>\n",
              "      <td>0</td>\n",
              "      <td>50</td>\n",
              "      <td>45</td>\n",
              "      <td>305.0</td>\n",
              "      <td>267.0</td>\n",
              "      <td>293.0</td>\n",
              "      <td>11.243324</td>\n",
              "    </tr>\n",
              "    <tr>\n",
              "      <th>7</th>\n",
              "      <td>55 to 64</td>\n",
              "      <td>28</td>\n",
              "      <td>5710</td>\n",
              "      <td>0</td>\n",
              "      <td>60</td>\n",
              "      <td>55</td>\n",
              "      <td>127.0</td>\n",
              "      <td>115.0</td>\n",
              "      <td>99.0</td>\n",
              "      <td>49.036778</td>\n",
              "    </tr>\n",
              "    <tr>\n",
              "      <th>8</th>\n",
              "      <td>65 to 74</td>\n",
              "      <td>28</td>\n",
              "      <td>2585</td>\n",
              "      <td>0</td>\n",
              "      <td>70</td>\n",
              "      <td>65</td>\n",
              "      <td>47.0</td>\n",
              "      <td>44.0</td>\n",
              "      <td>19.0</td>\n",
              "      <td>108.317215</td>\n",
              "    </tr>\n",
              "    <tr>\n",
              "      <th>9</th>\n",
              "      <td>75 to 84</td>\n",
              "      <td>31</td>\n",
              "      <td>1462</td>\n",
              "      <td>0</td>\n",
              "      <td>80</td>\n",
              "      <td>75</td>\n",
              "      <td>23.0</td>\n",
              "      <td>21.0</td>\n",
              "      <td>-8.0</td>\n",
              "      <td>212.038304</td>\n",
              "    </tr>\n",
              "  </tbody>\n",
              "</table>\n",
              "</div>\n",
              "      <button class=\"colab-df-convert\" onclick=\"convertToInteractive('df-1f392701-c4c0-4a86-9ca1-3a9389cebb3c')\"\n",
              "              title=\"Convert this dataframe to an interactive table.\"\n",
              "              style=\"display:none;\">\n",
              "        \n",
              "  <svg xmlns=\"http://www.w3.org/2000/svg\" height=\"24px\"viewBox=\"0 0 24 24\"\n",
              "       width=\"24px\">\n",
              "    <path d=\"M0 0h24v24H0V0z\" fill=\"none\"/>\n",
              "    <path d=\"M18.56 5.44l.94 2.06.94-2.06 2.06-.94-2.06-.94-.94-2.06-.94 2.06-2.06.94zm-11 1L8.5 8.5l.94-2.06 2.06-.94-2.06-.94L8.5 2.5l-.94 2.06-2.06.94zm10 10l.94 2.06.94-2.06 2.06-.94-2.06-.94-.94-2.06-.94 2.06-2.06.94z\"/><path d=\"M17.41 7.96l-1.37-1.37c-.4-.4-.92-.59-1.43-.59-.52 0-1.04.2-1.43.59L10.3 9.45l-7.72 7.72c-.78.78-.78 2.05 0 2.83L4 21.41c.39.39.9.59 1.41.59.51 0 1.02-.2 1.41-.59l7.78-7.78 2.81-2.81c.8-.78.8-2.07 0-2.86zM5.41 20L4 18.59l7.72-7.72 1.47 1.35L5.41 20z\"/>\n",
              "  </svg>\n",
              "      </button>\n",
              "      \n",
              "  <style>\n",
              "    .colab-df-container {\n",
              "      display:flex;\n",
              "      flex-wrap:wrap;\n",
              "      gap: 12px;\n",
              "    }\n",
              "\n",
              "    .colab-df-convert {\n",
              "      background-color: #E8F0FE;\n",
              "      border: none;\n",
              "      border-radius: 50%;\n",
              "      cursor: pointer;\n",
              "      display: none;\n",
              "      fill: #1967D2;\n",
              "      height: 32px;\n",
              "      padding: 0 0 0 0;\n",
              "      width: 32px;\n",
              "    }\n",
              "\n",
              "    .colab-df-convert:hover {\n",
              "      background-color: #E2EBFA;\n",
              "      box-shadow: 0px 1px 2px rgba(60, 64, 67, 0.3), 0px 1px 3px 1px rgba(60, 64, 67, 0.15);\n",
              "      fill: #174EA6;\n",
              "    }\n",
              "\n",
              "    [theme=dark] .colab-df-convert {\n",
              "      background-color: #3B4455;\n",
              "      fill: #D2E3FC;\n",
              "    }\n",
              "\n",
              "    [theme=dark] .colab-df-convert:hover {\n",
              "      background-color: #434B5C;\n",
              "      box-shadow: 0px 1px 3px 1px rgba(0, 0, 0, 0.15);\n",
              "      filter: drop-shadow(0px 1px 2px rgba(0, 0, 0, 0.3));\n",
              "      fill: #FFFFFF;\n",
              "    }\n",
              "  </style>\n",
              "\n",
              "      <script>\n",
              "        const buttonEl =\n",
              "          document.querySelector('#df-1f392701-c4c0-4a86-9ca1-3a9389cebb3c button.colab-df-convert');\n",
              "        buttonEl.style.display =\n",
              "          google.colab.kernel.accessAllowed ? 'block' : 'none';\n",
              "\n",
              "        async function convertToInteractive(key) {\n",
              "          const element = document.querySelector('#df-1f392701-c4c0-4a86-9ca1-3a9389cebb3c');\n",
              "          const dataTable =\n",
              "            await google.colab.kernel.invokeFunction('convertToInteractive',\n",
              "                                                     [key], {});\n",
              "          if (!dataTable) return;\n",
              "\n",
              "          const docLinkHtml = 'Like what you see? Visit the ' +\n",
              "            '<a target=\"_blank\" href=https://colab.research.google.com/notebooks/data_table.ipynb>data table notebook</a>'\n",
              "            + ' to learn more about interactive tables.';\n",
              "          element.innerHTML = '';\n",
              "          dataTable['output_type'] = 'display_data';\n",
              "          await google.colab.output.renderOutput(dataTable, element);\n",
              "          const docLink = document.createElement('div');\n",
              "          docLink.innerHTML = docLinkHtml;\n",
              "          element.appendChild(docLink);\n",
              "        }\n",
              "      </script>\n",
              "    </div>\n",
              "  </div>\n",
              "  "
            ]
          },
          "metadata": {},
          "execution_count": 14
        }
      ]
    },
    {
      "cell_type": "code",
      "source": [
        "# smoke as factor\n",
        "data_poiss['smoke'] = data_poiss['smoke'].astype(object)\n",
        "data_poiss"
      ],
      "metadata": {
        "colab": {
          "base_uri": "https://localhost:8080/",
          "height": 363
        },
        "id": "I_R-F_Rl9iBQ",
        "outputId": "934d2d2e-8c47-4273-c60e-ee5f0fceb45b"
      },
      "execution_count": null,
      "outputs": [
        {
          "output_type": "execute_result",
          "data": {
            "text/plain": [
              "  age_group  deaths  person_years smoke  age_avg  age_min   n_min   n_avg  \\\n",
              "0  35 to 44      32         52407     1       40       35  2097.0  1747.0   \n",
              "1  45 to 54     104         43248     1       50       45  1236.0  1082.0   \n",
              "2  55 to 64     206         28612     1       60       55   636.0   573.0   \n",
              "3  65 to 74     186         12663     1       70       65   231.0   212.0   \n",
              "4  75 to 84     102          5317     1       80       75    82.0    76.0   \n",
              "5  35 to 44       2         18790     0       40       35   752.0   627.0   \n",
              "6  45 to 54      12         10673     0       50       45   305.0   267.0   \n",
              "7  55 to 64      28          5710     0       60       55   127.0   115.0   \n",
              "8  65 to 74      28          2585     0       70       65    47.0    44.0   \n",
              "9  75 to 84      31          1462     0       80       75    23.0    21.0   \n",
              "\n",
              "   living  death_rate  \n",
              "0  2065.0    6.106055  \n",
              "1  1132.0   24.047355  \n",
              "2   430.0   71.997763  \n",
              "3    45.0  146.884624  \n",
              "4   -20.0  191.837502  \n",
              "5   750.0    1.064396  \n",
              "6   293.0   11.243324  \n",
              "7    99.0   49.036778  \n",
              "8    19.0  108.317215  \n",
              "9    -8.0  212.038304  "
            ],
            "text/html": [
              "\n",
              "  <div id=\"df-5cc7daa8-188d-473d-97ae-78e229769bb0\">\n",
              "    <div class=\"colab-df-container\">\n",
              "      <div>\n",
              "<style scoped>\n",
              "    .dataframe tbody tr th:only-of-type {\n",
              "        vertical-align: middle;\n",
              "    }\n",
              "\n",
              "    .dataframe tbody tr th {\n",
              "        vertical-align: top;\n",
              "    }\n",
              "\n",
              "    .dataframe thead th {\n",
              "        text-align: right;\n",
              "    }\n",
              "</style>\n",
              "<table border=\"1\" class=\"dataframe\">\n",
              "  <thead>\n",
              "    <tr style=\"text-align: right;\">\n",
              "      <th></th>\n",
              "      <th>age_group</th>\n",
              "      <th>deaths</th>\n",
              "      <th>person_years</th>\n",
              "      <th>smoke</th>\n",
              "      <th>age_avg</th>\n",
              "      <th>age_min</th>\n",
              "      <th>n_min</th>\n",
              "      <th>n_avg</th>\n",
              "      <th>living</th>\n",
              "      <th>death_rate</th>\n",
              "    </tr>\n",
              "  </thead>\n",
              "  <tbody>\n",
              "    <tr>\n",
              "      <th>0</th>\n",
              "      <td>35 to 44</td>\n",
              "      <td>32</td>\n",
              "      <td>52407</td>\n",
              "      <td>1</td>\n",
              "      <td>40</td>\n",
              "      <td>35</td>\n",
              "      <td>2097.0</td>\n",
              "      <td>1747.0</td>\n",
              "      <td>2065.0</td>\n",
              "      <td>6.106055</td>\n",
              "    </tr>\n",
              "    <tr>\n",
              "      <th>1</th>\n",
              "      <td>45 to 54</td>\n",
              "      <td>104</td>\n",
              "      <td>43248</td>\n",
              "      <td>1</td>\n",
              "      <td>50</td>\n",
              "      <td>45</td>\n",
              "      <td>1236.0</td>\n",
              "      <td>1082.0</td>\n",
              "      <td>1132.0</td>\n",
              "      <td>24.047355</td>\n",
              "    </tr>\n",
              "    <tr>\n",
              "      <th>2</th>\n",
              "      <td>55 to 64</td>\n",
              "      <td>206</td>\n",
              "      <td>28612</td>\n",
              "      <td>1</td>\n",
              "      <td>60</td>\n",
              "      <td>55</td>\n",
              "      <td>636.0</td>\n",
              "      <td>573.0</td>\n",
              "      <td>430.0</td>\n",
              "      <td>71.997763</td>\n",
              "    </tr>\n",
              "    <tr>\n",
              "      <th>3</th>\n",
              "      <td>65 to 74</td>\n",
              "      <td>186</td>\n",
              "      <td>12663</td>\n",
              "      <td>1</td>\n",
              "      <td>70</td>\n",
              "      <td>65</td>\n",
              "      <td>231.0</td>\n",
              "      <td>212.0</td>\n",
              "      <td>45.0</td>\n",
              "      <td>146.884624</td>\n",
              "    </tr>\n",
              "    <tr>\n",
              "      <th>4</th>\n",
              "      <td>75 to 84</td>\n",
              "      <td>102</td>\n",
              "      <td>5317</td>\n",
              "      <td>1</td>\n",
              "      <td>80</td>\n",
              "      <td>75</td>\n",
              "      <td>82.0</td>\n",
              "      <td>76.0</td>\n",
              "      <td>-20.0</td>\n",
              "      <td>191.837502</td>\n",
              "    </tr>\n",
              "    <tr>\n",
              "      <th>5</th>\n",
              "      <td>35 to 44</td>\n",
              "      <td>2</td>\n",
              "      <td>18790</td>\n",
              "      <td>0</td>\n",
              "      <td>40</td>\n",
              "      <td>35</td>\n",
              "      <td>752.0</td>\n",
              "      <td>627.0</td>\n",
              "      <td>750.0</td>\n",
              "      <td>1.064396</td>\n",
              "    </tr>\n",
              "    <tr>\n",
              "      <th>6</th>\n",
              "      <td>45 to 54</td>\n",
              "      <td>12</td>\n",
              "      <td>10673</td>\n",
              "      <td>0</td>\n",
              "      <td>50</td>\n",
              "      <td>45</td>\n",
              "      <td>305.0</td>\n",
              "      <td>267.0</td>\n",
              "      <td>293.0</td>\n",
              "      <td>11.243324</td>\n",
              "    </tr>\n",
              "    <tr>\n",
              "      <th>7</th>\n",
              "      <td>55 to 64</td>\n",
              "      <td>28</td>\n",
              "      <td>5710</td>\n",
              "      <td>0</td>\n",
              "      <td>60</td>\n",
              "      <td>55</td>\n",
              "      <td>127.0</td>\n",
              "      <td>115.0</td>\n",
              "      <td>99.0</td>\n",
              "      <td>49.036778</td>\n",
              "    </tr>\n",
              "    <tr>\n",
              "      <th>8</th>\n",
              "      <td>65 to 74</td>\n",
              "      <td>28</td>\n",
              "      <td>2585</td>\n",
              "      <td>0</td>\n",
              "      <td>70</td>\n",
              "      <td>65</td>\n",
              "      <td>47.0</td>\n",
              "      <td>44.0</td>\n",
              "      <td>19.0</td>\n",
              "      <td>108.317215</td>\n",
              "    </tr>\n",
              "    <tr>\n",
              "      <th>9</th>\n",
              "      <td>75 to 84</td>\n",
              "      <td>31</td>\n",
              "      <td>1462</td>\n",
              "      <td>0</td>\n",
              "      <td>80</td>\n",
              "      <td>75</td>\n",
              "      <td>23.0</td>\n",
              "      <td>21.0</td>\n",
              "      <td>-8.0</td>\n",
              "      <td>212.038304</td>\n",
              "    </tr>\n",
              "  </tbody>\n",
              "</table>\n",
              "</div>\n",
              "      <button class=\"colab-df-convert\" onclick=\"convertToInteractive('df-5cc7daa8-188d-473d-97ae-78e229769bb0')\"\n",
              "              title=\"Convert this dataframe to an interactive table.\"\n",
              "              style=\"display:none;\">\n",
              "        \n",
              "  <svg xmlns=\"http://www.w3.org/2000/svg\" height=\"24px\"viewBox=\"0 0 24 24\"\n",
              "       width=\"24px\">\n",
              "    <path d=\"M0 0h24v24H0V0z\" fill=\"none\"/>\n",
              "    <path d=\"M18.56 5.44l.94 2.06.94-2.06 2.06-.94-2.06-.94-.94-2.06-.94 2.06-2.06.94zm-11 1L8.5 8.5l.94-2.06 2.06-.94-2.06-.94L8.5 2.5l-.94 2.06-2.06.94zm10 10l.94 2.06.94-2.06 2.06-.94-2.06-.94-.94-2.06-.94 2.06-2.06.94z\"/><path d=\"M17.41 7.96l-1.37-1.37c-.4-.4-.92-.59-1.43-.59-.52 0-1.04.2-1.43.59L10.3 9.45l-7.72 7.72c-.78.78-.78 2.05 0 2.83L4 21.41c.39.39.9.59 1.41.59.51 0 1.02-.2 1.41-.59l7.78-7.78 2.81-2.81c.8-.78.8-2.07 0-2.86zM5.41 20L4 18.59l7.72-7.72 1.47 1.35L5.41 20z\"/>\n",
              "  </svg>\n",
              "      </button>\n",
              "      \n",
              "  <style>\n",
              "    .colab-df-container {\n",
              "      display:flex;\n",
              "      flex-wrap:wrap;\n",
              "      gap: 12px;\n",
              "    }\n",
              "\n",
              "    .colab-df-convert {\n",
              "      background-color: #E8F0FE;\n",
              "      border: none;\n",
              "      border-radius: 50%;\n",
              "      cursor: pointer;\n",
              "      display: none;\n",
              "      fill: #1967D2;\n",
              "      height: 32px;\n",
              "      padding: 0 0 0 0;\n",
              "      width: 32px;\n",
              "    }\n",
              "\n",
              "    .colab-df-convert:hover {\n",
              "      background-color: #E2EBFA;\n",
              "      box-shadow: 0px 1px 2px rgba(60, 64, 67, 0.3), 0px 1px 3px 1px rgba(60, 64, 67, 0.15);\n",
              "      fill: #174EA6;\n",
              "    }\n",
              "\n",
              "    [theme=dark] .colab-df-convert {\n",
              "      background-color: #3B4455;\n",
              "      fill: #D2E3FC;\n",
              "    }\n",
              "\n",
              "    [theme=dark] .colab-df-convert:hover {\n",
              "      background-color: #434B5C;\n",
              "      box-shadow: 0px 1px 3px 1px rgba(0, 0, 0, 0.15);\n",
              "      filter: drop-shadow(0px 1px 2px rgba(0, 0, 0, 0.3));\n",
              "      fill: #FFFFFF;\n",
              "    }\n",
              "  </style>\n",
              "\n",
              "      <script>\n",
              "        const buttonEl =\n",
              "          document.querySelector('#df-5cc7daa8-188d-473d-97ae-78e229769bb0 button.colab-df-convert');\n",
              "        buttonEl.style.display =\n",
              "          google.colab.kernel.accessAllowed ? 'block' : 'none';\n",
              "\n",
              "        async function convertToInteractive(key) {\n",
              "          const element = document.querySelector('#df-5cc7daa8-188d-473d-97ae-78e229769bb0');\n",
              "          const dataTable =\n",
              "            await google.colab.kernel.invokeFunction('convertToInteractive',\n",
              "                                                     [key], {});\n",
              "          if (!dataTable) return;\n",
              "\n",
              "          const docLinkHtml = 'Like what you see? Visit the ' +\n",
              "            '<a target=\"_blank\" href=https://colab.research.google.com/notebooks/data_table.ipynb>data table notebook</a>'\n",
              "            + ' to learn more about interactive tables.';\n",
              "          element.innerHTML = '';\n",
              "          dataTable['output_type'] = 'display_data';\n",
              "          await google.colab.output.renderOutput(dataTable, element);\n",
              "          const docLink = document.createElement('div');\n",
              "          docLink.innerHTML = docLinkHtml;\n",
              "          element.appendChild(docLink);\n",
              "        }\n",
              "      </script>\n",
              "    </div>\n",
              "  </div>\n",
              "  "
            ]
          },
          "metadata": {},
          "execution_count": 15
        }
      ]
    },
    {
      "cell_type": "code",
      "source": [
        "agecat = [1,2,3,4,5,1,2,3,4,5]\n",
        "# (?) in R\n",
        "# agecat <- as.numeric(as.factor(age_group))\n",
        "# agecat"
      ],
      "metadata": {
        "id": "Og6BDIjfJi9g"
      },
      "execution_count": null,
      "outputs": []
    },
    {
      "cell_type": "markdown",
      "source": [
        "## Nejjednodušší aditivní model \n",
        "Začneme nejjednodušším modelem s proměnnými `smoke` a `agecat`"
      ],
      "metadata": {
        "id": "fY2BJIlH_S7w"
      }
    },
    {
      "cell_type": "code",
      "source": [
        "# https://www.statsmodels.org/devel/glm.html\n",
        "print(sm.families.family.Poisson.links)\n",
        "mdl = smf.glm('deaths ~ smoke + agecat', data=data_poiss, family=sm.families.Poisson(link=sm.families.links.log)).fit()\n",
        "print(mdl.summary())\n",
        "mdl.pvalues[2]\n",
        "# mdl <- glm(deaths ~ offset(log(person_years)) + smoke + agecat, family=poisson(link=\"log\"))\n",
        "# summary(mdl)"
      ],
      "metadata": {
        "colab": {
          "base_uri": "https://localhost:8080/"
        },
        "id": "Qoc9O4TrNLxg",
        "outputId": "05638fb6-c4e1-42b2-acc9-a5a6f6ffa5aa"
      },
      "execution_count": null,
      "outputs": [
        {
          "output_type": "stream",
          "name": "stdout",
          "text": [
            "[<class 'statsmodels.genmod.families.links.log'>, <class 'statsmodels.genmod.families.links.identity'>, <class 'statsmodels.genmod.families.links.sqrt'>]\n",
            "                 Generalized Linear Model Regression Results                  \n",
            "==============================================================================\n",
            "Dep. Variable:                 deaths   No. Observations:                   10\n",
            "Model:                            GLM   Df Residuals:                        7\n",
            "Model Family:                 Poisson   Df Model:                            2\n",
            "Link Function:                    log   Scale:                          1.0000\n",
            "Method:                          IRLS   Log-Likelihood:                -106.33\n",
            "Date:                Sat, 14 May 2022   Deviance:                       157.59\n",
            "Time:                        13:46:39   Pearson chi2:                     149.\n",
            "No. Iterations:                     5                                         \n",
            "Covariance Type:            nonrobust                                         \n",
            "==============================================================================\n",
            "                 coef    std err          z      P>|z|      [0.025      0.975]\n",
            "------------------------------------------------------------------------------\n",
            "Intercept      2.3451      0.135     17.347      0.000       2.080       2.610\n",
            "smoke[T.1]     1.8306      0.107     17.079      0.000       1.621       2.041\n",
            "agecat         0.2062      0.027      7.671      0.000       0.153       0.259\n",
            "==============================================================================\n"
          ]
        },
        {
          "output_type": "stream",
          "name": "stderr",
          "text": [
            "/usr/local/lib/python3.7/dist-packages/ipykernel_launcher.py:3: DeprecationWarning: Calling Family(..) with a link class as argument is deprecated.\n",
            "Use an instance of a link class instead.\n",
            "  This is separate from the ipykernel package so we can avoid doing imports until\n"
          ]
        },
        {
          "output_type": "execute_result",
          "data": {
            "text/plain": [
              "1.7037369403791644e-14"
            ]
          },
          "metadata": {},
          "execution_count": 17
        }
      ]
    },
    {
      "cell_type": "code",
      "source": [
        "# https://www.statsmodels.org/devel/glm.html\n",
        "print(sm.families.family.Poisson.links)\n",
        "mdl = smf.glm('deaths ~ smoke + agecat', data=data_poiss, offset=np.log(data_poiss['person_years']), family=sm.families.Poisson(link=sm.families.links.log)).fit()\n",
        "print(mdl.summary())\n",
        "mdl.pvalues[2]\n",
        "# mdl <- glm(deaths ~ offset(log(person_years)) + smoke + agecat, family=poisson(link=\"log\"))\n",
        "# summary(mdl)"
      ],
      "metadata": {
        "colab": {
          "base_uri": "https://localhost:8080/"
        },
        "id": "wlo-JdjR_WPB",
        "outputId": "8699d00f-7252-47a8-eb0e-70fc3fd5ffbe"
      },
      "execution_count": null,
      "outputs": [
        {
          "output_type": "stream",
          "name": "stdout",
          "text": [
            "[<class 'statsmodels.genmod.families.links.log'>, <class 'statsmodels.genmod.families.links.identity'>, <class 'statsmodels.genmod.families.links.sqrt'>]\n",
            "                 Generalized Linear Model Regression Results                  \n",
            "==============================================================================\n",
            "Dep. Variable:                 deaths   No. Observations:                   10\n",
            "Model:                            GLM   Df Residuals:                        7\n",
            "Model Family:                 Poisson   Df Model:                            2\n",
            "Link Function:                    log   Scale:                          1.0000\n",
            "Method:                          IRLS   Log-Likelihood:                -62.125\n",
            "Date:                Sat, 14 May 2022   Deviance:                       69.182\n",
            "Time:                        13:46:39   Pearson chi2:                     61.7\n",
            "No. Iterations:                     5                                         \n",
            "Covariance Type:            nonrobust                                         \n",
            "==============================================================================\n",
            "                 coef    std err          z      P>|z|      [0.025      0.975]\n",
            "------------------------------------------------------------------------------\n",
            "Intercept     -8.1183      0.139    -58.282      0.000      -8.391      -7.845\n",
            "smoke[T.1]     0.4064      0.107      3.791      0.000       0.196       0.616\n",
            "agecat         0.8358      0.029     28.777      0.000       0.779       0.893\n",
            "==============================================================================\n"
          ]
        },
        {
          "output_type": "stream",
          "name": "stderr",
          "text": [
            "/usr/local/lib/python3.7/dist-packages/ipykernel_launcher.py:3: DeprecationWarning: Calling Family(..) with a link class as argument is deprecated.\n",
            "Use an instance of a link class instead.\n",
            "  This is separate from the ipykernel package so we can avoid doing imports until\n"
          ]
        },
        {
          "output_type": "execute_result",
          "data": {
            "text/plain": [
              "4.143937267679493e-182"
            ]
          },
          "metadata": {},
          "execution_count": 18
        }
      ]
    },
    {
      "cell_type": "markdown",
      "source": [
        "Deviační statistika má obrovskou hodnotu a model tak moc neodpovídá datům.\n",
        "Zobrazíme závislost logaritmu škálovaných hodnot Y na proměnné agecat"
      ],
      "metadata": {
        "id": "ZhbNjx5ANWLI"
      }
    },
    {
      "cell_type": "code",
      "source": [
        "y_scaled = data_poiss[\"deaths\"]/data_poiss[\"person_years\"]*100000\n",
        "plt.plot(agecat[1:5], np.log(y_scaled)[1:5], 'go', markersize=5)\n",
        "plt.plot(agecat[6:10], np.log(y_scaled)[6:10], 'bo', markersize=5)\n",
        "plt.xlabel('agecat')\n",
        "plt.ylabel('počty úmrtí')"
      ],
      "metadata": {
        "colab": {
          "base_uri": "https://localhost:8080/",
          "height": 296
        },
        "id": "Ha-0UBfMNUnY",
        "outputId": "586200d0-1225-415f-fbec-8ce446de5546"
      },
      "execution_count": null,
      "outputs": [
        {
          "output_type": "execute_result",
          "data": {
            "text/plain": [
              "Text(0, 0.5, 'počty úmrtí')"
            ]
          },
          "metadata": {},
          "execution_count": 19
        },
        {
          "output_type": "display_data",
          "data": {
            "text/plain": [
              "<Figure size 432x288 with 1 Axes>"
            ],
            "image/png": "[encoded data removed]"
          },
          "metadata": {
            "needs_background": "light"
          }
        }
      ]
    },
    {
      "cell_type": "markdown",
      "source": [
        "Je jasně vidět, že vztah není lineární, přidáme do modelu proměnnou `agecat^2`\n",
        "\n",
        "## Model s kvadratickou závislostí na věku - Model 0  "
      ],
      "metadata": {
        "id": "plaj8T3UQQAy"
      }
    },
    {
      "cell_type": "code",
      "source": [
        "agecat_2 = np.power(agecat, 2)\n",
        "mdl_0 = smf.glm('deaths ~ smoke + agecat + agecat_2', data=data_poiss, offset=np.log(data_poiss['person_years']), family=sm.families.Poisson(link=sm.families.links.log)).fit()\n",
        "print(mdl_0.summary())\n",
        "mdl_0.pvalues[2]"
      ],
      "metadata": {
        "colab": {
          "base_uri": "https://localhost:8080/"
        },
        "id": "7exQKEvdQRy7",
        "outputId": "95f896ba-1407-4a9d-ddd7-48e054ebc9f0"
      },
      "execution_count": null,
      "outputs": [
        {
          "output_type": "stream",
          "name": "stdout",
          "text": [
            "                 Generalized Linear Model Regression Results                  \n",
            "==============================================================================\n",
            "Dep. Variable:                 deaths   No. Observations:                   10\n",
            "Model:                            GLM   Df Residuals:                        6\n",
            "Model Family:                 Poisson   Df Model:                            3\n",
            "Link Function:                    log   Scale:                          1.0000\n",
            "Method:                          IRLS   Log-Likelihood:                -33.622\n",
            "Date:                Sat, 14 May 2022   Deviance:                       12.176\n",
            "Time:                        13:46:40   Pearson chi2:                     11.2\n",
            "No. Iterations:                     5                                         \n",
            "Covariance Type:            nonrobust                                         \n",
            "==============================================================================\n",
            "                 coef    std err          z      P>|z|      [0.025      0.975]\n",
            "------------------------------------------------------------------------------\n",
            "Intercept     -9.8340      0.295    -33.317      0.000     -10.412      -9.255\n",
            "smoke[T.1]     0.3545      0.107      3.302      0.001       0.144       0.565\n",
            "agecat         2.0947      0.181     11.561      0.000       1.740       2.450\n",
            "agecat_2      -0.1944      0.027     -7.159      0.000      -0.248      -0.141\n",
            "==============================================================================\n"
          ]
        },
        {
          "output_type": "stream",
          "name": "stderr",
          "text": [
            "/usr/local/lib/python3.7/dist-packages/ipykernel_launcher.py:2: DeprecationWarning: Calling Family(..) with a link class as argument is deprecated.\n",
            "Use an instance of a link class instead.\n",
            "  \n"
          ]
        },
        {
          "output_type": "execute_result",
          "data": {
            "text/plain": [
              "6.528149778755597e-31"
            ]
          },
          "metadata": {},
          "execution_count": 20
        }
      ]
    },
    {
      "cell_type": "markdown",
      "source": [
        "Všechny regresory jsou v modelu významné a hodnota deviační statistiky klesla na 12.176, porovnejme ji s kritickou hodnotou LRT testu"
      ],
      "metadata": {
        "id": "iAx4F68RRBIz"
      }
    },
    {
      "cell_type": "code",
      "source": [
        "from numpy.core.numeric import ones\n",
        "# matice modelu udělaná ručně\n",
        "intercept = ones(10)\n",
        "data_poiss_2 = data_poiss.assign(agecat = agecat, agecat_2 = agecat_2, intercept = intercept)\n",
        "X_m = data_poiss_2[['intercept', 'smoke', 'agecat', 'agecat_2']].values.astype(np.float)\n",
        "print(X_m)\n",
        "n, p = X_m.shape\n",
        "print(n)\n",
        "print(p)"
      ],
      "metadata": {
        "id": "L1JV15dSUTT7",
        "colab": {
          "base_uri": "https://localhost:8080/"
        },
        "outputId": "758b9eb0-c682-49b4-f553-e29ffd51d456"
      },
      "execution_count": null,
      "outputs": [
        {
          "output_type": "stream",
          "name": "stdout",
          "text": [
            "[[ 1.  1.  1.  1.]\n",
            " [ 1.  1.  2.  4.]\n",
            " [ 1.  1.  3.  9.]\n",
            " [ 1.  1.  4. 16.]\n",
            " [ 1.  1.  5. 25.]\n",
            " [ 1.  0.  1.  1.]\n",
            " [ 1.  0.  2.  4.]\n",
            " [ 1.  0.  3.  9.]\n",
            " [ 1.  0.  4. 16.]\n",
            " [ 1.  0.  5. 25.]]\n",
            "10\n",
            "4\n"
          ]
        },
        {
          "output_type": "stream",
          "name": "stderr",
          "text": [
            "/usr/local/lib/python3.7/dist-packages/ipykernel_launcher.py:5: DeprecationWarning: `np.float` is a deprecated alias for the builtin `float`. To silence this warning, use `float` by itself. Doing this will not modify any behavior and is safe. If you specifically wanted the numpy scalar type, use `np.float64` here.\n",
            "Deprecated in NumPy 1.20; for more details and guidance: https://numpy.org/devdocs/release/1.20.0-notes.html#deprecations\n",
            "  \"\"\"\n"
          ]
        }
      ]
    },
    {
      "cell_type": "code",
      "source": [
        "# kritická hodnota in R:\n",
        "print(f'quantile corresponding to the lower tail probability q: {stats.chi2.ppf(1-0.05, n-p)}')\n",
        "\n",
        "# p-hodnota testu \n",
        "p_2 = stats.chi2.cdf(mdl_0.deviance, n-p)\n",
        "p_val = 1 - p_2\n",
        "print(f'p hodnota testu: {p_val}')\n"
      ],
      "metadata": {
        "id": "-n3GcW14YxyY",
        "colab": {
          "base_uri": "https://localhost:8080/"
        },
        "outputId": "c310bc7e-feef-481f-bf7f-2a3eba923e90"
      },
      "execution_count": null,
      "outputs": [
        {
          "output_type": "stream",
          "name": "stdout",
          "text": [
            "quantile corresponding to the lower tail probability q: 12.591587243743977\n",
            "p hodnota testu: 0.05816524586351579\n"
          ]
        }
      ]
    },
    {
      "cell_type": "markdown",
      "source": [
        "Hypotézu, že model dobře popisuje data jsme na hladině významnosti 5% těsně nezamítli. Zkusíme ještě přidat do modelu interakci (na obrázku z přednášky byla vidět možná změna závislosti na kouření s rostoucím věkem)\n",
        "\n",
        "## Model s kvadratickou závislostí na věku a interakcí - Model 1 "
      ],
      "metadata": {
        "id": "BXUFmGVpXbwP"
      }
    },
    {
      "cell_type": "code",
      "source": [
        "mdl_1 = smf.glm('deaths ~ smoke + agecat + agecat_2 + smoke:agecat', data=data_poiss, offset=np.log(data_poiss['person_years']), family=sm.families.Poisson(link=sm.families.links.log)).fit()\n",
        "print(mdl_1.summary())"
      ],
      "metadata": {
        "id": "rixLyBJ2XedP",
        "colab": {
          "base_uri": "https://localhost:8080/"
        },
        "outputId": "55399b71-26af-4005-bca2-f403ef9964b4"
      },
      "execution_count": null,
      "outputs": [
        {
          "output_type": "stream",
          "name": "stdout",
          "text": [
            "                 Generalized Linear Model Regression Results                  \n",
            "==============================================================================\n",
            "Dep. Variable:                 deaths   No. Observations:                   10\n",
            "Model:                            GLM   Df Residuals:                        5\n",
            "Model Family:                 Poisson   Df Model:                            4\n",
            "Link Function:                    log   Scale:                          1.0000\n",
            "Method:                          IRLS   Log-Likelihood:                -28.352\n",
            "Date:                Sat, 14 May 2022   Deviance:                       1.6354\n",
            "Time:                        13:46:57   Pearson chi2:                     1.55\n",
            "No. Iterations:                     6                                         \n",
            "Covariance Type:            nonrobust                                         \n",
            "=====================================================================================\n",
            "                        coef    std err          z      P>|z|      [0.025      0.975]\n",
            "-------------------------------------------------------------------------------------\n",
            "Intercept           -10.7918      0.450    -23.978      0.000     -11.674      -9.910\n",
            "smoke[T.1]            1.4410      0.372      3.872      0.000       0.711       2.170\n",
            "agecat                2.3765      0.208     11.428      0.000       1.969       2.784\n",
            "smoke[T.1]:agecat    -0.3075      0.097     -3.169      0.002      -0.498      -0.117\n",
            "agecat_2             -0.1977      0.027     -7.223      0.000      -0.251      -0.144\n",
            "=====================================================================================\n"
          ]
        },
        {
          "output_type": "stream",
          "name": "stderr",
          "text": [
            "/usr/local/lib/python3.7/dist-packages/ipykernel_launcher.py:1: DeprecationWarning: Calling Family(..) with a link class as argument is deprecated.\n",
            "Use an instance of a link class instead.\n",
            "  \"\"\"Entry point for launching an IPython kernel.\n"
          ]
        }
      ]
    },
    {
      "cell_type": "markdown",
      "source": [
        "Všechny proměnné jsou v modelu významné a hodnota deviační statsitiky klesla na hodnotu 1.6354. Zkuste vypočítat LRT:"
      ],
      "metadata": {
        "id": "n5lWXGGMZFqY"
      }
    },
    {
      "cell_type": "code",
      "source": [],
      "metadata": {
        "id": "7jcPef9aZLyg"
      },
      "execution_count": null,
      "outputs": []
    },
    {
      "cell_type": "markdown",
      "source": [
        "a hypotézu vhodnosti modelu tedy nezamítáme s p-hodnotou 0.897. To indikuje, že model dobře popisuje data."
      ],
      "metadata": {
        "id": "4Os2H8pUZSg8"
      }
    },
    {
      "cell_type": "markdown",
      "source": [
        "Pro ilustraci ještě spočtěme hodnotu deviační statistiky pomocí vzorce z přednášky\n",
        "\n",
        "LRT Test for Poiison regression by Deviance sttistics:\n",
        "$$S = 2\\sum_{i=1}^n \\left[ y_i (ln(\\frac{y_i}{s_i}) - x_i^T \\hat{\\beta}) - s_i (\\frac{y_i}{s_i} - e^{x_i^T \\hat{\\beta}}) )\\right] = 2\\sum_{i=1}^n \\left[ y_i ln(\\frac{y_i}{\\hat{\\mu_i}}) - (y_i - \\hat{\\mu_i})\\right]\n",
        "$$"
      ],
      "metadata": {
        "id": "MNRS7ZGSZZX_"
      }
    },
    {
      "cell_type": "code",
      "source": [
        "print(mdl_1.deviance)\n",
        "print(mdl_0.deviance - mdl_1.deviance)\n",
        "dev = mdl_0.deviance - mdl_1.deviance"
      ],
      "metadata": {
        "id": "u-YHakhbZc_Q",
        "colab": {
          "base_uri": "https://localhost:8080/"
        },
        "outputId": "06fd6efb-afb0-4be4-a54b-c88ee877cfad"
      },
      "execution_count": null,
      "outputs": [
        {
          "output_type": "stream",
          "name": "stdout",
          "text": [
            "1.6353701314643632\n",
            "10.540175177950632\n"
          ]
        }
      ]
    },
    {
      "cell_type": "markdown",
      "source": [
        "pro kritickou hodnotu testu platí "
      ],
      "metadata": {
        "id": "o1iJWwIQZ25j"
      }
    },
    {
      "cell_type": "code",
      "source": [
        "# kritická hodnota in R:\n",
        "print(f'quantile corresponding to the lower tail probability q: {stats.chi2.ppf(1-0.05, 1)}')\n",
        "\n",
        "# p-hodnota testu \n",
        "p_2 = stats.chi2.cdf(dev, 1)\n",
        "p_val = 1 - p_2\n",
        "print(f'p hodnota testu: {p_val}')"
      ],
      "metadata": {
        "id": "VE_xWENPZ5u_",
        "colab": {
          "base_uri": "https://localhost:8080/"
        },
        "outputId": "d74ffcaf-f227-4162-c003-dad9013c3467"
      },
      "execution_count": null,
      "outputs": [
        {
          "output_type": "stream",
          "name": "stdout",
          "text": [
            "quantile corresponding to the lower tail probability q: 3.841458820694124\n",
            "p hodnota testu: 0.0011680734811497784\n"
          ]
        }
      ]
    },
    {
      "cell_type": "markdown",
      "source": [
        "interakce je tedy v modelu významná. Případně můžeme použít přímo funkci `anova()`"
      ],
      "metadata": {
        "id": "mrzE-WF6Z_Ap"
      }
    },
    {
      "cell_type": "code",
      "source": [
        "def anova(small_model, big_model):\n",
        "    \"\"\"Given two fitted GLMs, the larger of which contains the parameter space of the smaller, return the F Stat and P value corresponding to the larger model adding explanatory power\"\"\"\n",
        "    addtl_params = big_model.df_model - small_model.df_model\n",
        "    f_stat = (small_model.deviance - big_model.deviance) / (addtl_params * big_model.scale)\n",
        "    df_numerator = addtl_params\n",
        "    # use fitted values to obtain n_obs from model object:\n",
        "    df_denom = (big_model.fittedvalues.shape[0] - big_model.df_model)\n",
        "    p_value = stats.f.sf(f_stat, df_numerator, df_denom)\n",
        "    print(f'Deviance: {f_stat}')\n",
        "    print(f'P-value: {p_value}')\n",
        "    return (f_stat, p_value)\n",
        "\n",
        "A = anova(mdl_0, mdl_1)"
      ],
      "metadata": {
        "id": "i8nomfNOaBRf",
        "colab": {
          "base_uri": "https://localhost:8080/"
        },
        "outputId": "b39f1cff-8659-46cc-dd60-2620b93cec5c"
      },
      "execution_count": null,
      "outputs": [
        {
          "output_type": "stream",
          "name": "stdout",
          "text": [
            "Deviance: 10.540175177950632\n",
            "P-value: 0.017541789764504982\n"
          ]
        }
      ]
    },
    {
      "cell_type": "markdown",
      "source": [
        "která vrací stejný výsledek.\n"
      ],
      "metadata": {
        "id": "3PFOw8LAbhAR"
      }
    },
    {
      "cell_type": "markdown",
      "source": [
        "## Analýza Modelu 1\n",
        "\n",
        "Scatterplot pro pozorované a predikované hodnoty vysvětlované proměnné"
      ],
      "metadata": {
        "id": "Uzj4f705blrn"
      }
    },
    {
      "cell_type": "code",
      "source": [
        "y = data_poiss[\"deaths\"]\n",
        "plt.plot(y, mdl_1.mu, 'r.')\n",
        "plt.xlabel('y')\n",
        "plt.ylabel('mu_hat')\n",
        "def abline(slope, intercept):\n",
        "    axes = plt.gca()\n",
        "    x_vals = np.array(axes.get_xlim())\n",
        "    y_vals = intercept + slope * x_vals\n",
        "    plt.plot(x_vals, y_vals, 'b-')\n",
        "\n",
        "abline(1,1)"
      ],
      "metadata": {
        "id": "S-1yHAP0bnOa",
        "colab": {
          "base_uri": "https://localhost:8080/",
          "height": 279
        },
        "outputId": "c67c4300-2ce7-47d0-8825-c155987a82d8"
      },
      "execution_count": null,
      "outputs": [
        {
          "output_type": "display_data",
          "data": {
            "text/plain": [
              "<Figure size 432x288 with 1 Axes>"
            ],
            "image/png": "[encoded data removed]"
          },
          "metadata": {
            "needs_background": "light"
          }
        }
      ]
    },
    {
      "cell_type": "markdown",
      "source": [
        "Pozorované a predikované hodnoty velmi dobře odpovídají.\n",
        "\n",
        "**Obrázky reziduí**"
      ],
      "metadata": {
        "id": "tip9k4SGdqTv"
      }
    },
    {
      "cell_type": "code",
      "source": [
        "# rezidua vs. fitted values\n",
        "plt.plot(mdl_1.fittedvalues, mdl_1.resid_pearson, 'b.')\n",
        "abline(0,0)\n",
        "plt.xlabel('fittedvalues')\n",
        "plt.ylabel('resid_pearson')\n",
        "plt.show()\n",
        "# rezizua vs. agecat\n",
        "plt.plot(agecat,mdl_1.resid_pearson, 'b.')\n",
        "abline(0,0)\n",
        "plt.xlabel('agecat')\n",
        "plt.ylabel('resid_pearson')\n",
        "plt.show()\n",
        "# rezizua vs. smoke\n",
        "plt.plot(data_poiss[\"smoke\"], mdl_1.resid_pearson,'b.')\n",
        "abline(0,0)\n",
        "plt.xlabel('smoke')\n",
        "plt.ylabel('resid_pearson')\n",
        "\n",
        "plt.show()"
      ],
      "metadata": {
        "id": "Eez4VGIsd3bP",
        "colab": {
          "base_uri": "https://localhost:8080/",
          "height": 803
        },
        "outputId": "5e4864be-d29b-4a6d-8cfe-be777a7d86c0"
      },
      "execution_count": null,
      "outputs": [
        {
          "output_type": "display_data",
          "data": {
            "text/plain": [
              "<Figure size 432x288 with 1 Axes>"
            ],
            "image/png": "[encoded data removed]"
          },
          "metadata": {
            "needs_background": "light"
          }
        },
        {
          "output_type": "display_data",
          "data": {
            "text/plain": [
              "<Figure size 432x288 with 1 Axes>"
            ],
            "image/png": "[encoded data removed]"
          },
          "metadata": {
            "needs_background": "light"
          }
        },
        {
          "output_type": "display_data",
          "data": {
            "text/plain": [
              "<Figure size 432x288 with 1 Axes>"
            ],
            "image/png": "[encoded data removed]"
          },
          "metadata": {
            "needs_background": "light"
          }
        }
      ]
    },
    {
      "cell_type": "code",
      "source": [
        "f = sm.qqplot(mdl_1.resid_pearson, line ='45')\n",
        "plt.show(f)"
      ],
      "metadata": {
        "id": "kOPO88PPgBpP",
        "colab": {
          "base_uri": "https://localhost:8080/",
          "height": 279
        },
        "outputId": "84553fe7-45ed-45c0-8267-5bc44ea7575c"
      },
      "execution_count": null,
      "outputs": [
        {
          "output_type": "display_data",
          "data": {
            "text/plain": [
              "<Figure size 432x288 with 1 Axes>"
            ],
            "image/png": "[encoded data removed]"
          },
          "metadata": {
            "needs_background": "light"
          }
        }
      ]
    },
    {
      "cell_type": "markdown",
      "source": [
        "vzhledem k mlému počtu pozorování zde není vidět žádný zásadní problé. Otestujme ještě formálně normalitu rezidí"
      ],
      "metadata": {
        "id": "Cf4MVfR4gzTQ"
      }
    },
    {
      "cell_type": "code",
      "source": [
        "shapiro_test = stats.shapiro(mdl_1.resid_pearson)\n",
        "print(f'statistika testu: {shapiro_test[0]}')\n",
        "print(f'p-hodnota testu: {shapiro_test[1]}')\n"
      ],
      "metadata": {
        "id": "T_QhbE3Jg4kR",
        "colab": {
          "base_uri": "https://localhost:8080/"
        },
        "outputId": "e2bebf59-bbae-4230-fefe-fc95708891f2"
      },
      "execution_count": null,
      "outputs": [
        {
          "output_type": "stream",
          "name": "stdout",
          "text": [
            "statistika testu: 0.9942744374275208\n",
            "p-hodnota testu: 0.9996621012687683\n"
          ]
        }
      ]
    },
    {
      "cell_type": "markdown",
      "source": [
        "Hypotéza normality není zamítnuta.\n",
        "\n",
        "**Influenční pozorování a pákové body**"
      ],
      "metadata": {
        "id": "0KZPFSsHhuXK"
      }
    },
    {
      "cell_type": "code",
      "source": [
        "from pandas.core.indexes.base import Index\n",
        "from pandas._libs import index\n",
        "#create instance of influence\n",
        "influence = mdl_1.get_influence()\n",
        "#obtain Cook's distance for each observation\n",
        "cooks = influence.cooks_distance\n",
        "#display Cook's distances\n",
        "print(cooks)\n",
        "index = list(range(1, np.shape(cooks)[1]+1))\n",
        "\n",
        "plt.plot(index, cooks[0][0:10], 'b*')\n",
        "plt.xlabel('index')\n",
        "plt.ylabel('cookova vzdálenost')\n",
        "plt.ylim((-0.5,2.1))\n",
        "abline(8/(n-2*p),0) \n",
        "plt.show()"
      ],
      "metadata": {
        "id": "9ObCM_yVh7M4",
        "colab": {
          "base_uri": "https://localhost:8080/",
          "height": 331
        },
        "outputId": "6be21acf-b76c-4194-cec0-f204d802c7d3"
      },
      "execution_count": null,
      "outputs": [
        {
          "output_type": "stream",
          "name": "stdout",
          "text": [
            "(array([0.1500298 , 0.02139909, 0.01357645, 0.01610304, 0.0143573 ,\n",
            "       0.06770068, 0.00392443, 0.08240022, 0.02560098, 0.00033956]), array([0.97115297, 0.99966257, 0.99988881, 0.99983115, 0.99987248,\n",
            "       0.99486907, 0.99999483, 0.99201132, 0.99947943, 0.99999999]))\n"
          ]
        },
        {
          "output_type": "display_data",
          "data": {
            "text/plain": [
              "<Figure size 432x288 with 1 Axes>"
            ],
            "image/png": "[encoded data removed]"
          },
          "metadata": {
            "needs_background": "light"
          }
        }
      ]
    },
    {
      "cell_type": "code",
      "source": [
        "# in R (?)\n",
        "# lev <- hatvalues(mdl_1)       # diag. prvky projekční matice\n",
        "# plot(lev,col=\"red\", cex=1.3, lwd=2, ylim = c(0,1.2))\n",
        "# abline(2*p/n,0)"
      ],
      "metadata": {
        "id": "xlWUeyL7hwJB"
      },
      "execution_count": null,
      "outputs": []
    },
    {
      "cell_type": "markdown",
      "source": [
        "Ani v jednom případě nevidíme podezřele velké hodnoty\n",
        "\n",
        "## Interpretace parametrů\n",
        "\n",
        "Spočteme relativní rizika v Modelu 1"
      ],
      "metadata": {
        "id": "WwRUTMnfl7sL"
      }
    },
    {
      "cell_type": "code",
      "source": [
        "par_est_1 = mdl_1.params\n",
        "print(par_est_1)\n",
        "RR_1 = np.exp(par_est_1)\n",
        "print(RR_1)"
      ],
      "metadata": {
        "id": "_Vo62BxFmCLZ",
        "colab": {
          "base_uri": "https://localhost:8080/"
        },
        "outputId": "54bf09c1-07d7-46ca-e6d3-7affd363c460"
      },
      "execution_count": null,
      "outputs": [
        {
          "output_type": "stream",
          "name": "stdout",
          "text": [
            "Intercept           -10.791763\n",
            "smoke[T.1]            1.440972\n",
            "agecat                2.376478\n",
            "smoke[T.1]:agecat    -0.307548\n",
            "agecat_2             -0.197677\n",
            "dtype: float64\n",
            "Intercept             0.000021\n",
            "smoke[T.1]            4.224800\n",
            "agecat               10.766918\n",
            "smoke[T.1]:agecat     0.735248\n",
            "agecat_2              0.820635\n",
            "dtype: float64\n"
          ]
        }
      ]
    },
    {
      "cell_type": "markdown",
      "source": [
        "Diskuze obdržených hodnot a výpočet relativních rizik pro jednotlivé kategorie věku jsou v Sekci 7.7 materiálů k přednášce.\n",
        "\n",
        "Pro Model 0 bez interakcí je situace jednodušší a lze snado získat odhady RR a příslušné intervaly spolehlivosti"
      ],
      "metadata": {
        "id": "UTfXutCpmXGf"
      }
    },
    {
      "cell_type": "code",
      "source": [
        "print(np.exp(mdl_0.params))\n",
        "print(np.exp(mdl_0.conf_int()))"
      ],
      "metadata": {
        "id": "JUktYwujmeCg",
        "colab": {
          "base_uri": "https://localhost:8080/"
        },
        "outputId": "4c002827-da56-4395-9a08-c122900c853f"
      },
      "execution_count": null,
      "outputs": [
        {
          "output_type": "stream",
          "name": "stdout",
          "text": [
            "Intercept     0.000054\n",
            "smoke[T.1]    1.425497\n",
            "agecat        8.123048\n",
            "agecat_2      0.823345\n",
            "dtype: float64\n",
            "                   0          1\n",
            "Intercept   0.000030   0.000096\n",
            "smoke[T.1]  1.154970   1.759389\n",
            "agecat      5.694903  11.586485\n",
            "agecat_2    0.780673   0.868348\n"
          ]
        }
      ]
    },
    {
      "cell_type": "markdown",
      "source": [
        "### Task: \n",
        "* Try to model with and without offset. Compare results, why to use/ not use offset?\n",
        "* Try Poisson distribution with factor variables (contingency tables approach).\n",
        "\n"
      ],
      "metadata": {
        "id": "tngs9ALvnUH3"
      }
    }
  ]
}