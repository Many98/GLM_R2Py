{
  "nbformat": 4,
  "nbformat_minor": 0,
  "metadata": {
    "colab": {
      "name": "02ZLMA.ipynb",
      "provenance": []
    },
    "kernelspec": {
      "name": "python3",
      "display_name": "Python 3"
    },
    "language_info": {
      "name": "python"
    }
  },
  "cells": [
    {
      "cell_type": "markdown",
      "source": [
        "\n",
        "# 01ZLMA - Exercise 02\n",
        "Exercise 02 of the course 01ZLMA. \n",
        "\n",
        "## Contents\n",
        "\n",
        "* Fast and furious necessary theory recap from Lectures 01-03\n",
        " ---\n",
        "* Numeric methods of MLE calculations \n",
        " ---\n",
        "* Newton-Raphson\n",
        "* Fiher scoring - IWLS\n",
        "* SGD\n",
        "* ..\n",
        "\n"
      ],
      "metadata": {
        "id": "59lpZDby-IFQ"
      }
    },
    {
      "cell_type": "markdown",
      "source": [
        "#  Necessary theory recap from Lectures 01-03\n",
        "\n",
        "Let's consider (m1):\n",
        "  1. realization $(y_i,\\ldots,y_n)$ of $iid$ random variables $Y_1,\\ldots,Y_n$ with probability density function $f(y;\\theta;\\phi)$ from an exponential family of probability distributions\n",
        "  $$f(y;\\theta;\\phi) = exp\\left(\\frac{y \\theta - b(\\theta)}{a(\\phi)} - c(y,\\phi)\\right),$$\n",
        "  where conditions of regularity are fulfilled (one dimensional case, i.e. $y_i,\\theta_i \\in R, a(\\phi) >0, \\phi >0)$.\n",
        "  2. Regression matrix $X$ and vector of unknown parameters $\\beta$, linear predictor $η = X \\beta$\n",
        "  3. A link function $g(x)$\n",
        "  $$\\eta_i = g(\\mu_i) = x_i^T \\beta, \\ \\text{where} \\ \\mu_i = E[Y_i] \\ \\ i = 1,\\ldots,n$$\n",
        "\n",
        "The dispersion $a(\\phi)$ is typically known. If not, we take it as nuisance parameter.\n",
        "\n",
        "Link function satisfying $g(\\mu_i) = \\theta_i$ is called canonical."
      ],
      "metadata": {
        "id": "b9P5xw4X-KLP"
      }
    },
    {
      "cell_type": "markdown",
      "source": [
        "Relations:\n",
        "\n",
        "$$\n",
        "\\beta \\xrightarrow[]{\\eta_i = x_i^T\\beta} \\eta\n",
        "\\xrightarrow[]{\\mu_i = g^{-1}(\\eta_i)}  \\mu\n",
        "\\xrightarrow[]{\\theta_i = (b')^{-1}(\\mu_i)}  \\theta\n",
        "$$ \n",
        "\n",
        "Inverse relatiions\n",
        "$$\n",
        "\\eta_i \n",
        "\\xleftarrow[]{}  \\mu\n",
        "\\xleftarrow[]{}  \\theta\n",
        "$$ \n"
      ],
      "metadata": {
        "id": "8ZMN591i-MIZ"
      }
    },
    {
      "cell_type": "markdown",
      "source": [
        "## Exercise 0\n",
        "\n",
        "Compute $E[Y]$, $V[Y]$, and $v(Y)$ by the help of moment generating function theory for the following disributions:\n",
        "*  Normal: $N(\\mu,\\sigma^2)$\n",
        "*  Gamma: $\\Gamma[a,p]$\n",
        "* Inverse: Gaussian $IG[\\mu, \\lambda]$\n",
        "* Poisson: $Poi(\\lambda)$\n",
        "* Bernoulli: $Ber(p)$\n",
        "\n",
        "Questions:\n",
        "* Which distributions can fulfill homoscedasticity?\n",
        "* For which distribution the variance increases with the square of the mean value?\n",
        "* Does exists a distribution, where $V[Y] = k \\cdot \\mu$ ?\n"
      ],
      "metadata": {
        "id": "wEFFMrpg-OYf"
      }
    },
    {
      "cell_type": "markdown",
      "source": [
        "## Likelihood, Score function, Information matrix \n",
        "(Under conditions M1,M2 and regularity conditions R1-R3 from the lecture)\n",
        "\n",
        "* Likelihood function:\n",
        "$$L_n(\\Theta) = L_n(\\Theta|Y) = \\prod_{i=1}^{n} f(y_i|\\Theta) $$\n",
        "* log-likelihood function:\n",
        "$$l_n(\\Theta) = l_n(\\Theta|Y) = \\sum_{i=1}^{n} \\text{ln} f(y_i|\\Theta) $$\n",
        "* Score function:  ($R^m \\rightarrow R^m$):\n",
        "$$U = U(\\Theta|Y_i) = \\frac{\\partial \\text{ln} f(y_i|\\Theta)}{\\partial \\Theta} $$\n",
        "* Score vector (statistics):\n",
        "$$U_{n} = U_{n}(\\Theta|Y) = \\sum_{i=1}^{n} U(\\Theta|Y_i)= \\sum_{i=1}^{n} \\frac{\\partial l_i(\\Theta|y_i)}{\\partial \\Theta} $$\n",
        "* Fisher Information matrix\n",
        "$$ I_n (\\Theta) = E_{\\theta}[U_nU_n^T]$$\n",
        "with elements\n",
        "$$ I_{n,j,k} = E_{\\theta}[\\frac{\\partial l}{\\partial \\theta_j}\\frac{\\partial l}{\\partial \\theta_k}] = -E_{\\theta}[\\frac{\\partial^2 l}{\\theta_j \\theta_k}]$$\n",
        "\n",
        "\n",
        "**Questions:**\n",
        "* Interpret Score on Bernoulli process with N successes and M failures, where the probability of success is $\\theta$. What does it mean if Score is greater than zero?\n",
        "* Why is the second derivative called information (use again $E_{\\theta}[U] = 0$)?\n",
        "\n",
        "Note: The choice of the likelihood function is similar to choice of a prior in Bayesian analysis. (https://stats.stackexchange.com/questions/196576/what-kind-of-information-is-fisher-information?noredirect=1&lq=1)\n"
      ],
      "metadata": {
        "id": "iNIpJWNs-QrY"
      }
    },
    {
      "cell_type": "markdown",
      "source": [
        "Add previous question:\n",
        "\n",
        "Likelihood function of r.v. $X$ with Bernoulli distribution and parameter $p \\in (0,1)$:\n",
        "$$L_n(\\Theta) = L_n(\\Theta|X) = \\prod_{i=1}^{n} f(x_i|\\Theta) = \\prod_{i=1}^{n} p^{x_i}(1-p)^{1-x_i} \\ $$\n",
        "Log-likelihood function of Bernoulli distribution:\n",
        "$$l_n(\\Theta) = l_n(\\Theta|X) = \\sum_{i=1}^{n} \\text{ln} f(x_i|\\Theta) = \\sum_{i=1}^{n}  x_i log(p) + (1-x_i)log(1-p) = ylog(p) + (n-y)log(1-p), \\ where \\ Y = \\sum_{i=1}^{n}  X_i$$\n",
        "Score function of Bernoulli distribution: \n",
        "$$U = U(\\Theta|x_i) = \\frac{\\partial \\text{ln} f(x_i|\\Theta)}{\\partial \\Theta}  = \\frac{1}{p} \\sum_{i=1}^{n} x_i - \\frac{1}{1-p} (n - \\sum_{i=1}^{n}  x_i) = \\frac{1}{p} y - \\frac{1}{1-p} (n - y)$$\n",
        "MLE estimation of the parameter $p$:\n",
        "$$\\hat{p}_{MLE} = \\frac{y}{n} $$"
      ],
      "metadata": {
        "id": "iH0I6tgr-S-Z"
      }
    },
    {
      "cell_type": "code",
      "source": [
        "import matplotlib.pyplot as plt\n",
        "from plotnine import *\n",
        "# https://monashdatafluency.github.io/python-workshop-base/modules/plotting_with_ggplot/\n",
        "import numpy as np\n",
        "import seaborn as sns\n",
        "import pandas as pd\n",
        "from scipy.stats import bernoulli"
      ],
      "metadata": {
        "id": "IQyfS4B_ESi3"
      },
      "execution_count": null,
      "outputs": []
    },
    {
      "cell_type": "code",
      "execution_count": null,
      "metadata": {
        "colab": {
          "base_uri": "https://localhost:8080/",
          "height": 492
        },
        "id": "-i3ITqq4-DTl",
        "outputId": "ff715bd6-3b1e-49c9-ac0c-ad1b11e235e6"
      },
      "outputs": [
        {
          "output_type": "stream",
          "name": "stdout",
          "text": [
            "[1 0 0 1 0 1 1 0 1 0]\n",
            "5\n",
            "0.5\n",
            "0.0\n",
            "-6.931471805599453\n"
          ]
        },
        {
          "output_type": "display_data",
          "data": {
            "text/plain": [
              "<Figure size 1440x216 with 1 Axes>"
            ],
            "image/png": "[encoded data removed]"
          },
          "metadata": {
            "needs_background": "light"
          }
        },
        {
          "output_type": "display_data",
          "data": {
            "text/plain": [
              "<Figure size 1440x216 with 1 Axes>"
            ],
            "image/png": "[encoded data removed]"
          },
          "metadata": {
            "needs_background": "light"
          }
        }
      ],
      "source": [
        "p = 0.5\n",
        "n = 10\n",
        "x = bernoulli.rvs(p, size=n)\n",
        "print(x)\n",
        "y = sum(x)\n",
        "print(y)\n",
        "p_hat = y/n\n",
        "print(p_hat)\n",
        "U = (y/p) - ((n-y)/(1-p))\n",
        "print(U)\n",
        "l = (y*np.log(p))+(n-y)*(np.log(1-p))\n",
        "print(l)\n",
        "def U(y, n, p):\n",
        "  U = (y/p) - ((n-y)/(1-p))\n",
        "  return U\n",
        "def L(y, n, p):\n",
        "  L = (y*np.log(p))+(n-y)*(np.log(1-p))\n",
        "  return L\n",
        "\n",
        "x = np.linspace(0, 10, 1000)\n",
        "plt.plot(x, U(x, n, p))\n",
        "plt.axvline(x=n*p)\n",
        "plt.grid()\n",
        "plt.show()\n",
        "\n",
        "y = np.linspace(0, 10, 1000) # nevychází pro osu y (?)\n",
        "plt.plot(y, L(y, n, p)) \n",
        "plt.axvline(x=p_hat)\n",
        "plt.grid()\n",
        "plt.show()"
      ]
    },
    {
      "cell_type": "markdown",
      "source": [
        "**Exercise 01**\n",
        "\n",
        "Estimate parameters $\\beta$ by MLE for M1.\n",
        "\n",
        "log-likelihood function is\n",
        "$$ l(\\theta, \\phi, y) = \\sum_{i=1}^n \\frac{y_i \\theta_i - b(\\theta_i)}{a_i(\\phi)} + \\sum_{i=1}^n c(y_i,\\phi) $$\n",
        "and we want to estimate $\\beta = (\\beta_1, \\ldots, \\beta_n)^T$, i.e.\n",
        "$$ \\hat{\\beta} = argmax_{\\beta}(l(\\theta,\\phi,y))$$\n",
        "$$\\Rightarrow$$\n",
        "$$ U_n = \\sum_{i=1}^n \\frac{y_i - \\mu_i}{V[Y_i]  g'(\\mu_i)} x_i = X^T M^{-1}(y-\\mu) = 0$$\n",
        "where $M = diag(V[Y_i]g'(\\mu_i))$\n",
        "$$\\Rightarrow$$\n",
        "$$ U_n(\\beta) = X^T W(\\beta)^{-1}Z(\\beta),$$\\\n",
        "where $W(\\beta) = diag(V[Y_i]g'(\\mu_i)^2)$ and $Z(\\beta) = diag(g'(\\mu_i)(y-\\mu))$\n"
      ],
      "metadata": {
        "id": "xOmzEsW_CXKh"
      }
    },
    {
      "cell_type": "markdown",
      "source": [
        "## Newton Rapson\n",
        "\n",
        "For MLE using the score function, the estimating equation is\n",
        "$$\\hat{\\beta}^{(r+1)} = \\hat{\\beta}^{(r)} + \\frac{U(\\hat{\\beta}^{(r)})}{\\frac{d U(\\hat{\\beta}^{(r)})}{d \\theta}}$$\n",
        "\n",
        "Question: What are advantages and disadvantages of this method."
      ],
      "metadata": {
        "id": "8_G2AKgsCbnq"
      }
    },
    {
      "cell_type": "markdown",
      "source": [
        "## Fisher Scoring\n",
        "\n",
        "$$\\hat{\\beta}^{(r+1)} =  \\hat{\\beta}^{(r)} + \\frac{U(\\hat{\\beta}^{(r)})}{E [\\frac{d U(\\hat{\\beta}^{(r)})}{d \\theta} ]} = \\hat{\\beta}^{(r)} + \\frac{U(\\hat{\\beta}^{(r)})}{I(\\hat{\\beta}^{(r)})}$$\n",
        "\n",
        "Question: What are advantages and disadvantages of this method."
      ],
      "metadata": {
        "id": "7hB9XrBNCdfz"
      }
    },
    {
      "cell_type": "markdown",
      "source": [
        "# IWLS\n",
        "\n",
        "$$I(\\hat{\\beta}^{(r)}) \\hat{\\beta}^{(r+1)}  =  I(\\hat{\\beta}^{(r)}) \\hat{\\beta}^{(r)} + U(\\hat{\\beta}^{(r)})$$\n",
        "$$ \\Rightarrow$$\n",
        "$$(X^T W(\\hat{\\beta}^{(r)})^{-1} X) \\hat{\\beta}^{(r+1)}  = X^T W(\\hat{\\beta}^{(r)})^{-1} Z(\\hat{\\beta}^{(r)})  $$"
      ],
      "metadata": {
        "id": "dq92tJ6WCfFc"
      }
    },
    {
      "cell_type": "markdown",
      "source": [
        "## Poisson regression example\n",
        "\n"
      ],
      "metadata": {
        "id": "zc-bLxysCg2K"
      }
    },
    {
      "cell_type": "code",
      "source": [
        "# Generate and plot the Dataset\n",
        "X =[-1,-1,0,0,0,0,1,1,1]\n",
        "Y =[2,3,6,7,8,9,10,12,15]\n",
        "n = np.size(X)\n",
        "df = pd.DataFrame({\"X\": [X], \"Y\": [Y]})\n",
        "print(df)\n",
        "\n",
        "sns.relplot(x=X, y=Y, kind='scatter', aspect=2)\n",
        "plt.grid()\n"
      ],
      "metadata": {
        "id": "c3z8opVmCjZb",
        "outputId": "ac82f9ee-b98f-4751-9917-82e5b828ba99",
        "colab": {
          "base_uri": "https://localhost:8080/",
          "height": 404
        }
      },
      "execution_count": null,
      "outputs": [
        {
          "output_type": "stream",
          "name": "stdout",
          "text": [
            "                               X                               Y\n",
            "0  [-1, -1, 0, 0, 0, 0, 1, 1, 1]  [2, 3, 6, 7, 8, 9, 10, 12, 15]\n"
          ]
        },
        {
          "output_type": "display_data",
          "data": {
            "text/plain": [
              "<Figure size 720x360 with 1 Axes>"
            ],
            "image/png": "[encoded data removed]"
          },
          "metadata": {
            "needs_background": "light"
          }
        }
      ]
    },
    {
      "cell_type": "markdown",
      "source": [
        "Let us assume that the response $Y_i$ are Poisson random variables and model the relation ship between $Y_i$ and $x_i$ by the straight line, i.e.\n",
        "$$E[Y_i] = \\mu_i = \\beta_1 + \\beta_2 x_i = x_i^T \\beta \\  \\Rightarrow \\ q(\\mu_i) = \\mu_i =  x_i^T \\beta  = \\eta_i$$\n",
        "Therefore $\\frac{1}{g'(\\mu_i)} = 1 \\ \\Rightarrow \\ w_{ii} = \\frac{1}{V[Y]} = \\frac{1}{\\beta_1 + \\beta_2x_i}$ "
      ],
      "metadata": {
        "id": "nxmo5HoKE1CM"
      }
    },
    {
      "cell_type": "code",
      "source": [
        "# Function to calcualate weights\n",
        "def calc_W(X, beta):\n",
        "  n, p = X.shape\n",
        "  h=[]\n",
        "  for i in range(n):\n",
        "    h.append(1/np.dot(X[i,:],beta[:,:])) # to n ?\n",
        "  h = np.reshape(h, -1)\n",
        "  h.astype(int)\n",
        "  w = np.diag(h)\n",
        "  print(w)\n",
        "  return w"
      ],
      "metadata": {
        "id": "FV8dYF3yE4w1"
      },
      "execution_count": null,
      "outputs": []
    },
    {
      "cell_type": "code",
      "source": [
        "# Initial values\n",
        "A = [[1,1,1,1,1,1,1,1,1], [-1,-1,0,0,0,0,1,1,1]]\n",
        "X = np.transpose(A)\n",
        "print(X.shape)\n",
        "beta_0 = np.array([[7],[5]])\n",
        "print(beta_0.shape)\n",
        "z = np.array(Y)\n",
        "print(z)"
      ],
      "metadata": {
        "id": "9rsu95CuKjZU",
        "colab": {
          "base_uri": "https://localhost:8080/"
        },
        "outputId": "7f91534b-e8e7-4823-af51-814a0a598066"
      },
      "execution_count": null,
      "outputs": [
        {
          "output_type": "stream",
          "name": "stdout",
          "text": [
            "(9, 2)\n",
            "(2, 1)\n",
            "[ 2  3  6  7  8  9 10 12 15]\n"
          ]
        }
      ]
    },
    {
      "cell_type": "code",
      "source": [
        "# Compute Weight matrix\n",
        "W = calc_W(X, beta_0)"
      ],
      "metadata": {
        "colab": {
          "base_uri": "https://localhost:8080/"
        },
        "id": "61UlejaRZjhm",
        "outputId": "273181cc-985e-43cd-dbea-ba2a634fc6bd"
      },
      "execution_count": null,
      "outputs": [
        {
          "output_type": "stream",
          "name": "stdout",
          "text": [
            "[[0.5        0.         0.         0.         0.         0.\n",
            "  0.         0.         0.        ]\n",
            " [0.         0.5        0.         0.         0.         0.\n",
            "  0.         0.         0.        ]\n",
            " [0.         0.         0.14285714 0.         0.         0.\n",
            "  0.         0.         0.        ]\n",
            " [0.         0.         0.         0.14285714 0.         0.\n",
            "  0.         0.         0.        ]\n",
            " [0.         0.         0.         0.         0.14285714 0.\n",
            "  0.         0.         0.        ]\n",
            " [0.         0.         0.         0.         0.         0.14285714\n",
            "  0.         0.         0.        ]\n",
            " [0.         0.         0.         0.         0.         0.\n",
            "  0.08333333 0.         0.        ]\n",
            " [0.         0.         0.         0.         0.         0.\n",
            "  0.         0.08333333 0.        ]\n",
            " [0.         0.         0.         0.         0.         0.\n",
            "  0.         0.         0.08333333]]\n"
          ]
        }
      ]
    },
    {
      "cell_type": "code",
      "source": [
        "# Step from beta_0 to beta_1\n",
        "A = np.linalg.multi_dot([np.transpose(X), W, X])\n",
        "B = np.linalg.multi_dot([np.transpose(X), W, z])\n",
        "\n",
        "beta_1 = np.linalg.solve(A,B)\n",
        "beta_1 = beta_1.reshape((2,1))"
      ],
      "metadata": {
        "id": "lbwpzLTvgvar"
      },
      "execution_count": null,
      "outputs": []
    },
    {
      "cell_type": "code",
      "source": [
        "# variance-covariance matrix for estamtes beta_1\n",
        "W = calc_W(X, beta_1)\n",
        "C = np.linalg.multi_dot([np.transpose(X), W, X])\n",
        "n = X.shape[0]\n",
        "np.linalg.inv(C)"
      ],
      "metadata": {
        "colab": {
          "base_uri": "https://localhost:8080/"
        },
        "id": "5_Hg9bOpiPLk",
        "outputId": "184f599d-9030-464f-8ffd-efb3b529971a"
      },
      "execution_count": null,
      "outputs": [
        {
          "output_type": "stream",
          "name": "stdout",
          "text": [
            "[[0.39779006 0.         0.         0.         0.         0.\n",
            "  0.         0.         0.        ]\n",
            " [0.         0.39779006 0.         0.         0.         0.\n",
            "  0.         0.         0.        ]\n",
            " [0.         0.         0.13420317 0.         0.         0.\n",
            "  0.         0.         0.        ]\n",
            " [0.         0.         0.         0.13420317 0.         0.\n",
            "  0.         0.         0.        ]\n",
            " [0.         0.         0.         0.         0.13420317 0.\n",
            "  0.         0.         0.        ]\n",
            " [0.         0.         0.         0.         0.         0.13420317\n",
            "  0.         0.         0.        ]\n",
            " [0.         0.         0.         0.         0.         0.\n",
            "  0.08071749 0.         0.        ]\n",
            " [0.         0.         0.         0.         0.         0.\n",
            "  0.         0.08071749 0.        ]\n",
            " [0.         0.         0.         0.         0.         0.\n",
            "  0.         0.         0.08071749]]\n"
          ]
        },
        {
          "output_type": "execute_result",
          "data": {
            "text/plain": [
              "array([[0.78161657, 0.41683978],\n",
              "       [0.41683978, 1.18594201]])"
            ]
          },
          "metadata": {},
          "execution_count": 159
        }
      ]
    },
    {
      "cell_type": "markdown",
      "source": [
        "# Your turn:\n",
        "1. Write function to calculate IWLS for example 1 with following parameters\n",
        " * maximal number of iteration\n",
        " * accuracy\n",
        " * initial estimation\n",
        "2. Try different initialization (ols, random, lecture, ...). Plot convergence of parameters $\\beta_i$ depends on initial estimation.\n"
      ],
      "metadata": {
        "id": "sY84pzGHk3Iu"
      }
    },
    {
      "cell_type": "code",
      "source": [
        "# Set parameters\n",
        "maxiter = 10        # maximal number of iteration\n",
        "epsilon = 10**(-6)   # accuracy\n",
        "beta_init = np.array([[7],[5]])\n",
        "beta_all = beta_init"
      ],
      "metadata": {
        "id": "RpDLGTq1k5mc"
      },
      "execution_count": null,
      "outputs": []
    },
    {
      "cell_type": "code",
      "source": [
        "# https://github.com/aehaynes/IRLS\n",
        "from numpy import array, diag, dot, maximum, empty, repeat, ones, sum\n",
        "from numpy.linalg import inv\n",
        "\n",
        "def IRLS(y, X, maxiter, w_init = 1, d = 0.0001, tolerance = 0.001):\n",
        "\tn,p = X.shape\n",
        "\tdelta = array( repeat(d, n) ).reshape(1,n)\n",
        "\tw = repeat(1, n)\n",
        "\tW = diag( w )\n",
        "\tB = dot( inv( X.T.dot(W).dot(X) ), \n",
        "\t\t\t ( X.T.dot(W).dot(y) ) )\n",
        "\tfor _ in range(maxiter):\n",
        "\t\t_B = B\n",
        "\t\t_w = abs(y - X.dot(B)).T\n",
        "\t\tw = float(1)/maximum( delta, _w )\n",
        "\t\tW = diag( w[0] )\n",
        "\t\tB = dot( inv( X.T.dot(W).dot(X) ), \n",
        "\t\t\t\t ( X.T.dot(W).dot(y) ) )\n",
        "\t\ttol = sum( abs( B - _B ) ) \n",
        "\t\tprint(\"Tolerance = %s\" % tol)\n",
        "\t\tif tol < tolerance:\n",
        "\t\t\treturn B\n",
        "\treturn B\n"
      ],
      "metadata": {
        "id": "HOOqZPjalU2l"
      },
      "execution_count": null,
      "outputs": []
    },
    {
      "cell_type": "markdown",
      "source": [
        "# Example 2\n",
        "\n",
        "An example 4.1. from the book \"An Introduction to Generalized Linear Models\" by Dobson. The data in Table 4.5 show the numbers of cases of AIDS in Australia by date of diagnosis for successive 3-months periods from 1984 to 1988.\n",
        "\n",
        "* Plot the number of cases $y_i$ against time period (i = 1 ... 20).\n",
        "* Use the Poisson distribution with parameter $\\lambda_i = i^{\\theta}$ or equivalently $log(\\lambda_i) = \\theta log(i)$. Plot $log(y_i)$ against $log(i)$ to examne this model.\n",
        "* Fit a generalized linear model to these data using the Poisson distribution and the log-link function, ie \n",
        "$$ g(\\lambda_i) = log(\\lambda_i) = \\beta_1 + \\beta_2 x_i,$$\n",
        "where $x_i = log_i$."
      ],
      "metadata": {
        "id": "ePB86YO-mhGE"
      }
    },
    {
      "cell_type": "code",
      "source": [
        "# dataset from R, aids\n",
        "from datetime import timedelta\n",
        "data = {'year':  [1984,1984,1984,1984,1985,1985,1985,1985,1986,1986,1986,1986,1987,1987,1987,1987,1988,1988,1988,1988],\n",
        "        'quarter': [1,2,3,4,1,2,3,4,1,2,3,4,1,2,3,4,1,2,3,4],\n",
        "         'cases': [1,6,16,23,27,39,31,30,43,51,63,70,88,97,91,104,110,113,149,159],\n",
        "        'time':['1984-01-01','1984-04-01','1984-07-01','1984-10-01','1985-01-01','1985-04-01','1985-07-01','1985-10-01','1986-01-01','1986-04-01','1986-07-01','1986-10-01','1987-01-01','1987-04-01','1987-07-01','1987-10-01','1988-01-01','1988-04-01','1988-07-01','1988-10-01']}\n",
        "pd.to_datetime(data['time'])\n",
        "df = pd.DataFrame(data)\n",
        "\n",
        "print (df)"
      ],
      "metadata": {
        "colab": {
          "base_uri": "https://localhost:8080/"
        },
        "id": "W0uFkjT7UjrG",
        "outputId": "e121daed-64ea-485e-dedc-1d5cd2182738"
      },
      "execution_count": null,
      "outputs": [
        {
          "output_type": "stream",
          "name": "stdout",
          "text": [
            "    year  quarter  cases        time\n",
            "0   1984        1      1  1984-01-01\n",
            "1   1984        2      6  1984-04-01\n",
            "2   1984        3     16  1984-07-01\n",
            "3   1984        4     23  1984-10-01\n",
            "4   1985        1     27  1985-01-01\n",
            "5   1985        2     39  1985-04-01\n",
            "6   1985        3     31  1985-07-01\n",
            "7   1985        4     30  1985-10-01\n",
            "8   1986        1     43  1986-01-01\n",
            "9   1986        2     51  1986-04-01\n",
            "10  1986        3     63  1986-07-01\n",
            "11  1986        4     70  1986-10-01\n",
            "12  1987        1     88  1987-01-01\n",
            "13  1987        2     97  1987-04-01\n",
            "14  1987        3     91  1987-07-01\n",
            "15  1987        4    104  1987-10-01\n",
            "16  1988        1    110  1988-01-01\n",
            "17  1988        2    113  1988-04-01\n",
            "18  1988        3    149  1988-07-01\n",
            "19  1988        4    159  1988-10-01\n"
          ]
        }
      ]
    },
    {
      "cell_type": "code",
      "source": [
        "plt.plot(data['time'], data['cases']) \n",
        "plt.grid()\n",
        "def cm_to_inch(value):\n",
        "    return value/2.54\n",
        "plt.figure(figsize=(cm_to_inch(15),cm_to_inch(15)))\n",
        "plt.show()"
      ],
      "metadata": {
        "colab": {
          "base_uri": "https://localhost:8080/",
          "height": 228
        },
        "id": "cpfUgEYWnSLW",
        "outputId": "8f720507-33bc-4e3f-e66a-b7c2ec6d90a7"
      },
      "execution_count": null,
      "outputs": [
        {
          "output_type": "display_data",
          "data": {
            "text/plain": [
              "<Figure size 1440x216 with 1 Axes>"
            ],
            "image/png": "[encoded data removed]"
          },
          "metadata": {
            "needs_background": "light"
          }
        },
        {
          "output_type": "display_data",
          "data": {
            "text/plain": [
              "<Figure size 425.197x425.197 with 0 Axes>"
            ]
          },
          "metadata": {}
        }
      ]
    },
    {
      "cell_type": "code",
      "source": [
        "X = range(0, 20)\n",
        "Y = data['cases']\n",
        "sns.relplot(x=X, y=Y, kind='scatter', aspect=2)\n",
        "plt.grid()"
      ],
      "metadata": {
        "colab": {
          "base_uri": "https://localhost:8080/",
          "height": 369
        },
        "id": "EpHPPlHIn0vm",
        "outputId": "47677be3-0efc-441d-ac55-ccea42d878e6"
      },
      "execution_count": null,
      "outputs": [
        {
          "output_type": "display_data",
          "data": {
            "text/plain": [
              "<Figure size 720x360 with 1 Axes>"
            ],
            "image/png": "[encoded data removed]"
          },
          "metadata": {
            "needs_background": "light"
          }
        }
      ]
    },
    {
      "cell_type": "code",
      "source": [
        "sns.relplot(x=np.log(X), y=Y, kind='scatter', aspect=2)\n",
        "plt.grid()"
      ],
      "metadata": {
        "id": "2OcbANbSoIql",
        "colab": {
          "base_uri": "https://localhost:8080/",
          "height": 404
        },
        "outputId": "9ea7b384-f7dd-40f4-d21a-4de74348683a"
      },
      "execution_count": null,
      "outputs": [
        {
          "output_type": "stream",
          "name": "stderr",
          "text": [
            "/usr/local/lib/python3.7/dist-packages/ipykernel_launcher.py:1: RuntimeWarning: divide by zero encountered in log\n",
            "  \"\"\"Entry point for launching an IPython kernel.\n"
          ]
        },
        {
          "output_type": "display_data",
          "data": {
            "text/plain": [
              "<Figure size 720x360 with 1 Axes>"
            ],
            "image/png": "[encoded data removed]"
          },
          "metadata": {
            "needs_background": "light"
          }
        }
      ]
    },
    {
      "cell_type": "code",
      "source": [
        "sns.relplot(x=np.log(X), y=np.log(Y), kind='scatter', aspect=2)\n",
        "plt.grid()"
      ],
      "metadata": {
        "id": "wHpV47IeoI5D",
        "colab": {
          "base_uri": "https://localhost:8080/",
          "height": 404
        },
        "outputId": "583366d9-3813-41f2-aaf2-7142ac28655d"
      },
      "execution_count": null,
      "outputs": [
        {
          "output_type": "stream",
          "name": "stderr",
          "text": [
            "/usr/local/lib/python3.7/dist-packages/ipykernel_launcher.py:1: RuntimeWarning: divide by zero encountered in log\n",
            "  \"\"\"Entry point for launching an IPython kernel.\n"
          ]
        },
        {
          "output_type": "display_data",
          "data": {
            "text/plain": [
              "<Figure size 720x360 with 1 Axes>"
            ],
            "image/png": "[encoded data removed]"
          },
          "metadata": {
            "needs_background": "light"
          }
        }
      ]
    },
    {
      "cell_type": "markdown",
      "source": [
        "## Your turn:\n",
        "Write function to estimate coefficients by IWLS "
      ],
      "metadata": {
        "id": "lf-P8OS-n118"
      }
    }
  ]
}