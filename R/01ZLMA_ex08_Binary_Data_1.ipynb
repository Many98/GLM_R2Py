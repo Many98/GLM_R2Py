{
  "nbformat": 4,
  "nbformat_minor": 0,
  "metadata": {
    "colab": {
      "name": "01ZLMA_ex08_Binary_Data_1.ipynb",
      "private_outputs": true,
      "provenance": [],
      "collapsed_sections": [],
      "authorship_tag": "ABX9TyPrHYgNA+WwCQydy1WE5dl7",
      "include_colab_link": true
    },
    "kernelspec": {
      "name": "ir",
      "display_name": "R"
    },
    "language_info": {
      "name": "R"
    }
  },
  "cells": [
    {
      "cell_type": "markdown",
      "metadata": {
        "id": "view-in-github",
        "colab_type": "text"
      },
      "source": [
        "<a href=\"https://colab.research.google.com/github/francji1/01ZLMA/blob/main/R/01ZLMA_ex08_Binary_Data_1.ipynb\" target=\"_parent\"><img src=\"https://colab.research.google.com/assets/colab-badge.svg\" alt=\"Open In Colab\"/></a>"
      ]
    },
    {
      "cell_type": "markdown",
      "metadata": {
        "id": "oD47O_0VwUBm"
      },
      "source": [
        "01ZLMA - Exercise 08\n",
        "\n",
        "Exercise 08 of the course 01ZLMA. \n",
        "\n",
        "# GLM for Discrete response - Binary Data Analysis\n",
        "\n",
        "Alternative and Binomial responses"
      ]
    },
    {
      "cell_type": "markdown",
      "metadata": {
        "lines_to_next_cell": 0,
        "id": "l2EHCMAWUHT6"
      },
      "source": [
        "**Bernoulli (Alternative) Model**\n",
        "\n",
        "$$Y_{i,j} \\sim Be(\\pi_i) \\ i = 1,\\ldots,K \\ \\text{and} \\ j = 1,\\ldots, n_i.$$\n",
        "$K$ is number of groups, $n_i$ is number of observations in group $i$ and $\\sum_{i=1}^{K} = N$\n",
        "$$ E[Y_{i,j}] = \\pi_i \\ \\text{and} \\ g(\\pi_i) = \\eta_i =x_i^T \\beta $$\n",
        "\n",
        "\n",
        "**Binomial Model**\n",
        "$$Y_i = \\sum_{j=1}^{n_i} Y_{i,j} \\sim Bi(n_i, \\pi_i)$$"
      ]
    },
    {
      "cell_type": "markdown",
      "metadata": {
        "id": "urFC1XzcWd1t"
      },
      "source": [
        "**Without continuos covariate (only factor variables)**\n",
        "\n",
        "$K$ is constant and $n_i \\rightarrow \\infty $\n",
        "\n",
        "**With at least one continuos covariate**\n",
        "\n",
        "$n_i \\approx 1$ ( $n_i$ is small enough) and $K \\rightarrow \\infty$\n",
        "\n"
      ]
    },
    {
      "cell_type": "markdown",
      "metadata": {
        "id": "lSgD34dQW1cE"
      },
      "source": [
        "## Link functions for binary data\n",
        "\n",
        "**Logistic function:**\n",
        "\n",
        "The logistic function is the canonical link function for binary responses, and it is CDF of the standard logistic distribution.\n",
        "\n",
        "$$\\pi_i = \\frac{1}{1+e^{-x_i^T \\beta}} $$ \n",
        "\n",
        "\n",
        "**Probit function:**\n",
        "\n",
        "The CDF of the normal distribution. \n",
        "$$\\pi_i = \\Phi({x_i^T \\beta}) $$ \n",
        "\n",
        "\n",
        "**Cauchit function:**\n",
        "\n",
        "The CDF of the Cauchy distribution\n",
        "\n",
        "$$\\pi_i = \\frac{1}{\\pi}\\text{arctan}(x_i^T \\beta) + \\frac{1}{2} $$ \n",
        "\n",
        "\n",
        "**Complementary log-log (cloglog) function:**\n",
        "\n",
        "The inverse of the conditional log-log function (CDF of the Gumbel distribution)\n",
        "\n",
        "$$\\pi_i = 1 − e^{-e^{x_i^T \\beta}}$$\n",
        "\n",
        "The counter part of the cloglog function is log-log link function."
      ]
    },
    {
      "cell_type": "code",
      "metadata": {
        "id": "Jv5SOQ0TUHT7"
      },
      "source": [
        "library(tidyverse)\n",
        "#library(Matrix)\n",
        "#library(MASS)"
      ],
      "execution_count": null,
      "outputs": []
    },
    {
      "cell_type": "code",
      "metadata": {
        "id": "ZlQxn7uFmaGw"
      },
      "source": [
        "? make.link"
      ],
      "execution_count": null,
      "outputs": []
    },
    {
      "cell_type": "code",
      "metadata": {
        "id": "Kuwb1LB6l7XU"
      },
      "source": [
        "map(c(\"logit\", \"probit\", \"cauchit\", \"cloglog\"),  make.link) %>%\n",
        "map_df(\n",
        "  function(link) {\n",
        "    tibble(x = seq(-5, 5, length.out = 101),\n",
        "           y = link$linkinv(x),\n",
        "           link_name = link$name)\n",
        "  }\n",
        "  ) %>%\n",
        "  ggplot(aes(x = x, y = y, colour = link_name)) +\n",
        "  geom_line()"
      ],
      "execution_count": null,
      "outputs": []
    },
    {
      "cell_type": "markdown",
      "metadata": {
        "id": "dnlQ4vEGYGOH"
      },
      "source": [
        "## Logistic regression with Titanic dataset\n",
        "\n",
        "https://www.kaggle.com/c/titanic/data\n",
        "\n",
        "| Variable |                 Definition                 |                       Key                      |\n",
        "|:--------:|:------------------------------------------:|:----------------------------------------------:|\n",
        "| survival | Survival                                   | 0 = No, 1 = Yes                                |\n",
        "| pclass   | Ticket class                               | 1 = 1st, 2 = 2nd, 3 = 3rd                      |\n",
        "| sex      | Sex                                        |                                                |\n",
        "| Age      | Age in years                               |                                                |\n",
        "| sibsp    | # of siblings / spouses aboard the Titanic |                                                |\n",
        "| parch    | # of parents / children aboard the Titanic |                                                |\n",
        "| ticket   | Ticket number                              |                                                |\n",
        "| fare     | Passenger fare                             |                                                |\n",
        "| cabin    | Cabin number                               |                                                |\n",
        "| embarked | Port of Embarkation                        | C = Cherbourg, Q = Queenstown, S = Southampton |"
      ]
    },
    {
      "cell_type": "code",
      "metadata": {
        "id": "VxBIs-aDYMxd"
      },
      "source": [
        "install.packages(\"titanic\")\n",
        "library(titanic)\n",
        "knitr::kable(head(titanic_train))\n",
        "summary(titanic_train)\n",
        "summary(titanic_test)"
      ],
      "execution_count": null,
      "outputs": []
    },
    {
      "cell_type": "code",
      "metadata": {
        "id": "AfwAohjgfMvg"
      },
      "source": [
        "# Number of NA's\n",
        "colSums(is.na(titanic_train))\n",
        "colSums(is.na(titanic_test))"
      ],
      "execution_count": null,
      "outputs": []
    },
    {
      "cell_type": "markdown",
      "metadata": {
        "id": "TV0KbD9KZ_bz"
      },
      "source": [
        "We will modify dataset_train for our academic purpose :-)"
      ]
    },
    {
      "cell_type": "markdown",
      "metadata": {
        "id": "su9BUYSwb_HX"
      },
      "source": [
        "### Model where all covariates are discrete"
      ]
    },
    {
      "cell_type": "code",
      "metadata": {
        "id": "ZtEboSVjZ-wD"
      },
      "source": [
        "data_dis <- titanic_train %>%\n",
        "  dplyr::select(Survived,Pclass,Sex,Embarked)\n",
        "\n",
        "data_dis %>% mutate_if(is.character,as.factor) %>% summary()\n",
        "\n",
        "data_dis <- data_dis %>%\n",
        "  filter(Embarked %in% c(\"C\",\"Q\",\"S\")) %>%\n",
        "  transmute(survived = as.factor(Survived),\n",
        "            #survived = Survived,\n",
        "            class = as.factor(Pclass),\n",
        "            sex = as.factor(Sex),\n",
        "            embarked = as.factor(Embarked))\n",
        "\n",
        "summary(data_dis)           \n",
        "str(data_dis)\n"
      ],
      "execution_count": null,
      "outputs": []
    },
    {
      "cell_type": "code",
      "metadata": {
        "id": "UT2_FST2eRRX"
      },
      "source": [
        "install.packages(\"GGally\")\n",
        "library(GGally)\n",
        "ggpairs(data_dis)"
      ],
      "execution_count": null,
      "outputs": []
    },
    {
      "cell_type": "code",
      "metadata": {
        "id": "9pZhkMTXxZyW"
      },
      "source": [
        ""
      ],
      "execution_count": null,
      "outputs": []
    },
    {
      "cell_type": "code",
      "metadata": {
        "id": "5-BI4OLoxaBT"
      },
      "source": [
        ""
      ],
      "execution_count": null,
      "outputs": []
    },
    {
      "cell_type": "code",
      "metadata": {
        "id": "0hEzOim2hR6o"
      },
      "source": [
        "table_data_dis <- table(data_dis)\n",
        "table_data_dis"
      ],
      "execution_count": null,
      "outputs": []
    },
    {
      "cell_type": "code",
      "metadata": {
        "id": "I1cOK3w-hZM1"
      },
      "source": [
        "#prop.table(table_data_dis)\n",
        "#prop.table(table_data_dis,margin=2)*100\n",
        "table(data_dis$survived,data_dis$class)\n",
        "prop.table(table(data_dis$survived,data_dis$class),margin=1)*100\n",
        "prop.table(table(data_dis$survived,data_dis$class),margin=2)*100\n",
        "\n",
        "table(data_dis$survived,data_dis$sex)\n",
        "prop.table(table(data_dis$survived,data_dis$sex),margin=2)*100\n",
        "\n",
        "table(data_dis$survived,data_dis$embarked)\n",
        "prop.table(table(data_dis$survived,data_dis$embarked),margin=2)*100\n",
        "\n"
      ],
      "execution_count": null,
      "outputs": []
    },
    {
      "cell_type": "code",
      "metadata": {
        "id": "UzABdm6ZjI2C"
      },
      "source": [
        "# Odss ratio (empirický poměr šancí)\n",
        "OR        <- function(tab){tab[1,1]/tab[1,2]/(tab[2,1]/tab[2,2])}\n",
        "table_sex <- table(data_dis$survived,data_dis$sex)\n",
        "table_sex\n",
        "OR(table_sex)\n"
      ],
      "execution_count": null,
      "outputs": []
    },
    {
      "cell_type": "code",
      "metadata": {
        "id": "TQ1U0oesjI_2"
      },
      "source": [
        "#install.packages(\"mosaic\")\n",
        "#library(mosaic)\n",
        "oddsRatio(table_sex, verbose = TRUE)"
      ],
      "execution_count": null,
      "outputs": []
    },
    {
      "cell_type": "code",
      "metadata": {
        "id": "5cFgfp-n2_s_"
      },
      "source": [
        "#install.packages(\"epitools\")\n",
        "library(epitools)\n",
        "oddsratio.wald(table_sex, conf.level = 0.95)"
      ],
      "execution_count": null,
      "outputs": []
    },
    {
      "cell_type": "code",
      "metadata": {
        "id": "ndIG03AM3Z-T"
      },
      "source": [
        "chisq.test(table_sex)"
      ],
      "execution_count": null,
      "outputs": []
    },
    {
      "cell_type": "code",
      "metadata": {
        "id": "d8md4ksN3aBE"
      },
      "source": [
        ""
      ],
      "execution_count": null,
      "outputs": []
    },
    {
      "cell_type": "code",
      "metadata": {
        "id": "-KgtZYVo3aD-"
      },
      "source": [
        ""
      ],
      "execution_count": null,
      "outputs": []
    },
    {
      "cell_type": "markdown",
      "metadata": {
        "id": "flohDO_SBgVe"
      },
      "source": [
        "### Null model\n",
        "\n",
        "* Compute the null model (assume that the probability of survival was the same for all passangers)\n",
        "\n",
        "* How do we interpret estimated parameter?"
      ]
    },
    {
      "cell_type": "code",
      "metadata": {
        "id": "bta1ErSXBkn6"
      },
      "source": [
        "mod0=glm(survived~1,family=binomial(link = \"logit\"),data_dis) #\n",
        "summary(mod0)"
      ],
      "execution_count": null,
      "outputs": []
    },
    {
      "cell_type": "code",
      "metadata": {
        "id": "7D8nzeEG3aHO"
      },
      "source": [
        "# The chances of survival according to training data.\n",
        "exp(coef(mod0))\n",
        "\n",
        "# The probability of survival.\n",
        "exp(coef(mod0))/(1+exp(coef(mod0)))\n"
      ],
      "execution_count": null,
      "outputs": []
    },
    {
      "cell_type": "code",
      "metadata": {
        "id": "cMdgRk3JBigz"
      },
      "source": [
        ""
      ],
      "execution_count": null,
      "outputs": []
    },
    {
      "cell_type": "markdown",
      "metadata": {
        "id": "UPWeZk4NEviZ"
      },
      "source": [
        "### Model with varaible: sex\n",
        "\n",
        "* Compute the model with one covariate sex. \n",
        "\n",
        "* How can we interpret estiamted coefficients? \n",
        "\n",
        "* Did survival depend on gender (`sex`) ?\n",
        "\n",
        "* Perform an appropriate tests.\n",
        "\n",
        "* Did women have a better chance of survival? \n"
      ]
    },
    {
      "cell_type": "code",
      "metadata": {
        "id": "MiggAEKCBijv"
      },
      "source": [
        "mod_sex=glm(survived~sex,family=binomial(link = \"logit\"),data_dis) #\n",
        "summary(mod_sex)"
      ],
      "execution_count": null,
      "outputs": []
    },
    {
      "cell_type": "markdown",
      "metadata": {
        "id": "8KKuANNV193i"
      },
      "source": [
        "Use deviance to test submodels `anova(model_1,model_2,test=\"Chisq\")`."
      ]
    },
    {
      "cell_type": "code",
      "metadata": {
        "id": "uHBHuBiGE1HC"
      },
      "source": [
        "# The chances of survival according to training data.\n",
        "exp(coef(mod_sex))\n",
        "#sexmale:    0.081668331668578\n",
        "anova(mod_sex,mod0,test=\"Chisq\")\n"
      ],
      "execution_count": null,
      "outputs": []
    },
    {
      "cell_type": "code",
      "metadata": {
        "id": "rkW40xpk6Ysr"
      },
      "source": [
        "#Function to estimate OR with lower and upper limit of 95% CI for OR\n",
        "OR_coef <- function(variable,model,CI){\n",
        "  param <- coef(model)\n",
        "  where <- grep(variable,names(param))[1]\n",
        "  beta  <- param[where]\n",
        "  se <- summary(model)$coef[where,2]\n",
        "  or <- exp(beta)\n",
        "  ci <- exp(beta+c(-1,1)*qnorm(CI/2+0.5)*se)\n",
        "  out <- data.frame(or,ci[1],ci[2])\n",
        "  names(out) <- c(\"OR\",\"LCL\",\"UCL\")\n",
        "  out\n",
        "}\n",
        "OR_coef(\"sex\",mod_sex,0.95)"
      ],
      "execution_count": null,
      "outputs": []
    },
    {
      "cell_type": "markdown",
      "metadata": {
        "id": "QCuc-DIJ9UGZ"
      },
      "source": [
        "Compare with results obtained from contingency table."
      ]
    },
    {
      "cell_type": "code",
      "metadata": {
        "id": "Aw3--fpl9fSs"
      },
      "source": [
        ""
      ],
      "execution_count": null,
      "outputs": []
    },
    {
      "cell_type": "markdown",
      "metadata": {
        "id": "-kIqGZEQFp-D"
      },
      "source": [
        "### Your turn:\n",
        "\n",
        "Estimate model with one covariate `class` and compute: \n",
        "\n",
        "* Did survival depend on (`class`) ?\n",
        "\n",
        "* Perform an appropriate tests.\n",
        "\n",
        "* Compute odds ratios between classes.\n",
        "\n",
        "* Did passangers in second class have a better chance of survival than in third? \n"
      ]
    },
    {
      "cell_type": "code",
      "metadata": {
        "id": "j9YO4TYCF_4J"
      },
      "source": [
        ""
      ],
      "execution_count": null,
      "outputs": []
    },
    {
      "cell_type": "code",
      "metadata": {
        "id": "djCunqa_GAJ8"
      },
      "source": [
        ""
      ],
      "execution_count": null,
      "outputs": []
    },
    {
      "cell_type": "code",
      "metadata": {
        "id": "MBN8U9pfGAOp"
      },
      "source": [
        ""
      ],
      "execution_count": null,
      "outputs": []
    },
    {
      "cell_type": "markdown",
      "metadata": {
        "id": "42sCjLq-FkV5"
      },
      "source": [
        "### Model with all discrete covariates without interactions"
      ]
    },
    {
      "cell_type": "code",
      "metadata": {
        "id": "pWKH73g5jJDj"
      },
      "source": [
        "# Simple Logistic Regression model with all discrete covariates without interactions\n",
        "mod1=glm(survived~.,family=binomial(link = \"logit\"),data_dis) #\n",
        "summary(mod1)"
      ],
      "execution_count": null,
      "outputs": []
    },
    {
      "cell_type": "markdown",
      "metadata": {
        "id": "qkXZwWVG3rED"
      },
      "source": [
        "Deviance tests to add/drop independent variables.\n",
        "\n",
        "`drop1(model,test=\"Chisq\")`\n",
        "\n",
        "`add1(model,terms.to.add,test=\"Chisq\")`"
      ]
    },
    {
      "cell_type": "code",
      "metadata": {
        "id": "Mu3VGgYDjJGt"
      },
      "source": [
        "drop1(mod1,test=\"Chisq\")\n"
      ],
      "execution_count": null,
      "outputs": []
    },
    {
      "cell_type": "code",
      "metadata": {
        "id": "-wTFLd1T4GAY"
      },
      "source": [
        "add1(mod0,survived~sex+class+embarked, test=\"Chisq\")\n"
      ],
      "execution_count": null,
      "outputs": []
    },
    {
      "cell_type": "code",
      "metadata": {
        "id": "bVIXmCWb5AZO"
      },
      "source": [
        ""
      ],
      "execution_count": null,
      "outputs": []
    },
    {
      "cell_type": "code",
      "metadata": {
        "id": "F2xccox0vK_e"
      },
      "source": [
        "data_dis2 <- mutate(data_dis, embarked = fct_recode(embarked, \"Q\" = \"C\"))\n",
        "str(data_dis2)\n",
        "\n",
        "mod1=glm(survived~.,family=binomial(link = \"logit\"),data_dis2) #\n",
        "summary(mod1)"
      ],
      "execution_count": null,
      "outputs": []
    },
    {
      "cell_type": "code",
      "metadata": {
        "id": "dkfQCaGSvLCi"
      },
      "source": [
        "#mod1=glm(survived~relevel(factor(sex),ref=\"male\")+class+embarked,family=binomial(link = \"logit\"),data_dis2) \n",
        "#summary(mod1)\n",
        "\n"
      ],
      "execution_count": null,
      "outputs": []
    },
    {
      "cell_type": "code",
      "metadata": {
        "id": "ZhrNnbuS8rjk"
      },
      "source": [
        "OR_coef(\"sex\",mod1,0.95)"
      ],
      "execution_count": null,
      "outputs": []
    },
    {
      "cell_type": "markdown",
      "metadata": {
        "id": "5jkf4N0EHHb0"
      },
      "source": [
        "Interpret previous result:\n",
        "\n",
        "* By how many percentage is the chance of survival lower for  men? \n",
        "\n",
        "* Interpret confidence intrval and its significance.\n"
      ]
    },
    {
      "cell_type": "markdown",
      "metadata": {
        "id": "VirGNE8J9kWA"
      },
      "source": [
        "Lets try model with second order interactions.\n"
      ]
    },
    {
      "cell_type": "code",
      "metadata": {
        "id": "uT7yNEgH8ruU"
      },
      "source": [
        "add1(mod1,~.^2,test=\"Chisq\")"
      ],
      "execution_count": null,
      "outputs": []
    },
    {
      "cell_type": "code",
      "metadata": {
        "id": "CmX8KMnk9G6y"
      },
      "source": [
        "mod2_all <- glm(survived~(.)^2,family=binomial(link = \"logit\"),data_dis) #\n",
        "summary(mod2_all)\n"
      ],
      "execution_count": null,
      "outputs": []
    },
    {
      "cell_type": "code",
      "metadata": {
        "id": "1bKbLLgZ-xN-"
      },
      "source": [
        "step(mod2)"
      ],
      "execution_count": null,
      "outputs": []
    },
    {
      "cell_type": "code",
      "metadata": {
        "id": "_rdGvZUe9G-x"
      },
      "source": [
        "mod2 <- glm(survived~ class + sex + embarked + class:sex + sex:embarked,family=binomial(link = \"logit\"),data_dis) #\n",
        "summary(mod2)"
      ],
      "execution_count": null,
      "outputs": []
    },
    {
      "cell_type": "code",
      "metadata": {
        "id": "7gSz2aqQFVBG"
      },
      "source": [
        "anova(mod2_all,mod2,test=\"Chisq\")"
      ],
      "execution_count": null,
      "outputs": []
    },
    {
      "cell_type": "markdown",
      "metadata": {
        "id": "iVLJsFVyGN-N"
      },
      "source": [
        "Interpretation by OR in models with interactions is more complitacated, see Lecture notes."
      ]
    },
    {
      "cell_type": "markdown",
      "metadata": {
        "id": "dgUfzZq4Gks5"
      },
      "source": [
        "Lets try model with merged factor levels.\n",
        "\n",
        "\n"
      ]
    },
    {
      "cell_type": "code",
      "metadata": {
        "id": "vppHkWQD9HJV"
      },
      "source": [
        "data_dis3 <- mutate(data_dis2, class = fct_recode(class, \"2\" = \"1\"))\n",
        "str(data_dis3)"
      ],
      "execution_count": null,
      "outputs": []
    },
    {
      "cell_type": "code",
      "metadata": {
        "id": "7PJi1BUh_ww7"
      },
      "source": [
        "mod2 <- glm(survived~ class + sex + embarked + class:sex + sex:embarked,family=binomial(link = \"logit\"),data_dis3) #\n",
        "summary(mod2)"
      ],
      "execution_count": null,
      "outputs": []
    },
    {
      "cell_type": "code",
      "metadata": {
        "id": "iEbWdTcY_wz9"
      },
      "source": [
        "mod3 <- glm(survived~ (.)^2,family=binomial(link = \"logit\"),data_dis3) #\n",
        "anova(mod2,mod3,test=\"Chisq\")\n"
      ],
      "execution_count": null,
      "outputs": []
    },
    {
      "cell_type": "code",
      "metadata": {
        "id": "Ci6TaxOW_w2y"
      },
      "source": [
        ""
      ],
      "execution_count": null,
      "outputs": []
    },
    {
      "cell_type": "markdown",
      "metadata": {
        "id": "PJSz8gifGy1p"
      },
      "source": [
        "## Model with continuous independent variable.\n"
      ]
    },
    {
      "cell_type": "code",
      "metadata": {
        "id": "yI6EhBMzJSmz"
      },
      "source": [
        "str(titanic_train)"
      ],
      "execution_count": null,
      "outputs": []
    },
    {
      "cell_type": "code",
      "metadata": {
        "id": "2LoARzISGzJ0"
      },
      "source": [
        "data_con <- titanic_train %>%\n",
        "  dplyr::select(Survived,Pclass,Sex,Embarked,Age,Fare)\n",
        "\n",
        "data_con %>% mutate_if(is.character,as.factor) %>% summary()\n",
        "\n",
        "data_con <- data_con %>%\n",
        "  filter(Embarked %in% c(\"C\",\"Q\",\"S\")) %>%\n",
        "  transmute(survived = as.factor(Survived),\n",
        "            #survived = Survived,\n",
        "            class = as.factor(Pclass),\n",
        "            sex = as.factor(Sex),\n",
        "            embarked = as.factor(Embarked),\n",
        "            age = Age,\n",
        "            fare = Fare) %>%\n",
        "  drop_na()          \n",
        "\n",
        "summary(data_con)           \n",
        "str(data_con)"
      ],
      "execution_count": null,
      "outputs": []
    },
    {
      "cell_type": "code",
      "metadata": {
        "id": "9YIZsc2vQT_k"
      },
      "source": [
        "ggpairs(data_con  %>% dplyr::select(survived,age,fare,class))"
      ],
      "execution_count": null,
      "outputs": []
    },
    {
      "cell_type": "code",
      "metadata": {
        "id": "_SZbeK-FQUJk"
      },
      "source": [
        "ggplot(data_con, aes(x=sex, y=age, fill = survived)) + \n",
        "  geom_boxplot()+\n",
        "  labs(title=\"Gender boxplot\",x=\"Gender\", y = \"Age\")+\n",
        "  #geom_jitter(shape=16, position=position_jitter(0.2)) +\n",
        "  stat_summary(fun=mean, geom=\"point\", shape=23, size=3) +\n",
        "  theme_classic()"
      ],
      "execution_count": null,
      "outputs": []
    },
    {
      "cell_type": "code",
      "metadata": {
        "id": "NrL-2GL1zDtb"
      },
      "source": [
        "ggplot(data_con, aes(x=class, y=fare, fill = survived)) + \n",
        "  geom_boxplot()+\n",
        "  labs(title=\"Class x Fare\",x=\"Class\", y = \"Fare\")+\n",
        "  #geom_jitter(shape=16, position=position_jitter(0.2)) +\n",
        "  stat_summary(fun=mean, geom=\"point\", shape=23, size=3) +\n",
        "  theme_classic()"
      ],
      "execution_count": null,
      "outputs": []
    },
    {
      "cell_type": "markdown",
      "metadata": {
        "id": "gN0UJs4PSjcY"
      },
      "source": [
        "Continuous variable as factor"
      ]
    },
    {
      "cell_type": "code",
      "metadata": {
        "id": "NN70zHIpQUMz"
      },
      "source": [
        "data_con_fac <- data_con %>%\n",
        "  mutate(age = cut(age,\n",
        "                    breaks=c(-Inf, 15, 50, Inf), \n",
        "                    labels=c(\"child\",\"adult\",\"senior\")))\n",
        "ggpairs(data_con_fac)"
      ],
      "execution_count": null,
      "outputs": []
    },
    {
      "cell_type": "code",
      "metadata": {
        "id": "QouMFb1LXVvl"
      },
      "source": [
        "mod_0 <- glm(survived ~ 1, family = binomial,data = data_con_fac )"
      ],
      "execution_count": null,
      "outputs": []
    },
    {
      "cell_type": "code",
      "metadata": {
        "id": "hyHUUA3iIzqy"
      },
      "source": [
        "mod_age_fac <- glm(survived ~ age, family = binomial,data = data_con_fac )\n",
        "summary(mod_age_fac)\n",
        "exp(coef(mod_age_fac))"
      ],
      "execution_count": null,
      "outputs": []
    },
    {
      "cell_type": "markdown",
      "metadata": {
        "id": "mD47uutFW7fq"
      },
      "source": [
        "Is the chance decreasing with increasing age?"
      ]
    },
    {
      "cell_type": "code",
      "metadata": {
        "id": "glFlpkE7WY5E"
      },
      "source": [
        "anova(mod_age_fac,mod_0,test=\"Chisq\")"
      ],
      "execution_count": null,
      "outputs": []
    },
    {
      "cell_type": "code",
      "metadata": {
        "id": "K1-4oyxDIztp"
      },
      "source": [
        "mod_age <- glm(survived ~ I(age/10), family = binomial,data = data_con )\n",
        "summary(mod_age)\n",
        "exp(coef(mod_age))"
      ],
      "execution_count": null,
      "outputs": []
    },
    {
      "cell_type": "markdown",
      "metadata": {
        "id": "fL0gYJp4YNbG"
      },
      "source": [
        "Question:\n",
        "\n",
        "* With increasing age by 10 years, chance to survive decreased by 11%. \n",
        "\n",
        "* What do you think about causality in this result?"
      ]
    },
    {
      "cell_type": "code",
      "metadata": {
        "id": "I-xGC5yNIzwd"
      },
      "source": [
        "anova(mod_age,mod_0,test=\"Chisq\")"
      ],
      "execution_count": null,
      "outputs": []
    },
    {
      "cell_type": "markdown",
      "metadata": {
        "id": "yGWlCERLZoxl"
      },
      "source": [
        "Question:\n",
        "\n",
        "* Can we compare by deviance test models `mod_age` and `mod_age_fac`?\n",
        "* Which model do you prefere and why?\n",
        "* For which approach (factorized or continuous) saturated model is useful and why?\n"
      ]
    },
    {
      "cell_type": "code",
      "metadata": {
        "id": "eM2WYaTyIzzD"
      },
      "source": [
        "#mod_sat_fac <- glm(survived ~ sex*age*embarked*class, family = binomial,data = (data_con %>% mutate(age= as.factor(age), fare = as.factor(fare)) ))\n",
        "#summary(mod_sat_fac)"
      ],
      "execution_count": null,
      "outputs": []
    },
    {
      "cell_type": "code",
      "metadata": {
        "id": "sNhOXHGsIz1w"
      },
      "source": [
        ""
      ],
      "execution_count": null,
      "outputs": []
    },
    {
      "cell_type": "code",
      "metadata": {
        "id": "BjhoEQb7Iz4i"
      },
      "source": [
        ""
      ],
      "execution_count": null,
      "outputs": []
    },
    {
      "cell_type": "markdown",
      "metadata": {
        "id": "aHoKBY8sbD2i"
      },
      "source": [
        "Your turn:\n",
        "\n",
        "Consider a model with continuos variables `age`, `fare`, and any factor variable. \n",
        "\n",
        "* Create factor `child`, which takes values 1 (child) and 0 (adult).\n",
        "* Create factor from varaible `fare`, where each level break is by 10 pounds.\n",
        "* Estimate a model, where the chance of survival depends on factorized `fare` and `sex` and `child`.\n",
        "* What percentage is the chance of survival lower for adult compare to child? \n",
        "* Depends the probability of survival on fare? Test it.\n",
        "* Assume that the chance of survival increases with exponential increasig fare. How the chance of survival increased if the person spent an extra 10 pound for a ticket? \n",
        "* Build a model where the probabilty of survival depends on both `age` and `fare`. Are both covariates significant?\n",
        "* "
      ]
    },
    {
      "cell_type": "code",
      "metadata": {
        "id": "piHSJCMXmD_b"
      },
      "source": [
        ""
      ],
      "execution_count": null,
      "outputs": []
    },
    {
      "cell_type": "code",
      "metadata": {
        "id": "aJdoeBs6mECT"
      },
      "source": [
        ""
      ],
      "execution_count": null,
      "outputs": []
    },
    {
      "cell_type": "code",
      "metadata": {
        "id": "OUJpeS9hmEFJ"
      },
      "source": [
        ""
      ],
      "execution_count": null,
      "outputs": []
    },
    {
      "cell_type": "markdown",
      "metadata": {
        "id": "Ajs79iDemE_F"
      },
      "source": [
        "Next lessons (9,10):\n",
        "\n",
        "* Logistic regression and binary classification (ROC, accuracy, ...)\n",
        "* Residual analysis\n",
        "* Prediction and confidence intervals\n",
        "* Logistic regression and ML approach\n",
        "\n"
      ]
    },
    {
      "cell_type": "code",
      "metadata": {
        "id": "4cZJroCQmEIu"
      },
      "source": [
        ""
      ],
      "execution_count": null,
      "outputs": []
    },
    {
      "cell_type": "code",
      "metadata": {
        "id": "GXNhXacMmEVG"
      },
      "source": [
        ""
      ],
      "execution_count": null,
      "outputs": []
    },
    {
      "cell_type": "code",
      "metadata": {
        "id": "DjQjXFEe6lfG"
      },
      "source": [
        "#install.packages(\"epiDisplay\")\n",
        "#library(epiDisplay)\n",
        "lroc(mod1)"
      ],
      "execution_count": null,
      "outputs": []
    },
    {
      "cell_type": "code",
      "metadata": {
        "id": "Z6qGXKSpvLFH"
      },
      "source": [
        ""
      ],
      "execution_count": null,
      "outputs": []
    },
    {
      "cell_type": "code",
      "metadata": {
        "id": "TMK2CINjzYho"
      },
      "source": [
        ""
      ],
      "execution_count": null,
      "outputs": []
    },
    {
      "cell_type": "code",
      "metadata": {
        "id": "gtqgK9mM1OyG"
      },
      "source": [
        "ggplot(data, aes(x=x, y=y, color = group, shape = group)) + \n",
        "  geom_point()+\n",
        "  labs(title=\"Achievement score scatterplot\",x=\"Aptitude scores\", y = \"Achievement score\")+\n",
        "  theme_classic()"
      ],
      "execution_count": null,
      "outputs": []
    },
    {
      "cell_type": "markdown",
      "metadata": {
        "id": "P7Pu9fYuUHT8"
      },
      "source": [
        "Úkolem je zjistit, zda se jednotlivé metody mezi sebou liší. Nejdříve provedeme analýzu pomocí odvozených vzorců, poté využijeme funkce implementované v `R`.\n",
        "\n",
        "## ANCOVA - pomocí odvozených vzorců  (Viz přednáška 07)\n",
        "\n",
        "###  Saturovaný model\n",
        "\n",
        "Odhadneme parametry a spočteme deviační statistiku obecného modelu:"
      ]
    },
    {
      "cell_type": "code",
      "metadata": {
        "lines_to_next_cell": 2,
        "id": "Oxkx5QjeUHT8"
      },
      "source": [
        "one <- rep(1,7)\n",
        "zero <- rep(0,7)\n",
        "\n",
        "Z <- matrix(c(one,zero,zero,zero,one,zero,zero,zero,one),ncol=3)\n",
        "G <- diag(c(1/7,1/7,1/7))\n",
        "P <- diag(rep(1,21)) - Z %*% G %*% t(Z)\n",
        "A <- x %*% P %*% x\n",
        "A1 <- solve(A)\n",
        "\n",
        "beta <- as.numeric(A1 %*% x %*% P %*% y)\n",
        "beta\n",
        "ednáška \n",
        "u1 <- G %*% t(Z) %*% y\n",
        "u2 <- G %*% t(Z) %*% x %*% beta\n",
        "u <- u1 - u2\n",
        "u\n",
        "\n",
        "y.hat <- beta*x + Z%*%u\n",
        "D <- crossprod(y-y.hat)\n",
        "D\n"
      ],
      "execution_count": null,
      "outputs": []
    },
    {
      "cell_type": "code",
      "metadata": {
        "id": "Q3nC0VvpR0as"
      },
      "source": [
        ""
      ],
      "execution_count": null,
      "outputs": []
    },
    {
      "cell_type": "markdown",
      "metadata": {
        "lines_to_next_cell": 0,
        "id": "2vCE2zDJUHT9"
      },
      "source": [
        "###  Zúžený model \n",
        "\n",
        "\n",
        "Odhadneme parametry a spočteme deviační statistiku modelu za platnosti $H_0$:"
      ]
    },
    {
      "cell_type": "code",
      "metadata": {
        "id": "bBglU8h9UHT9"
      },
      "source": [
        "Z0 <- rep(1,21)\n",
        "G0 <- 1/21\n",
        "P0 <- diag(rep(1,21)) - 1/21 * matrix(1,21,21)\n",
        "A <- x %*% P0 %*% x\n",
        "A1 <- solve(A)\n",
        "\n",
        "beta0 <- as.numeric(A1 %*% x %*% P0 %*% y)\n",
        "beta0\n",
        "\n",
        "u0 <- mean(y) - mean(x)*beta0\n",
        "u0\n",
        "\n",
        "y.hat0 <- beta0*x + Z0*u0\n",
        "D0 <- crossprod(y-y.hat0)\n",
        "D0\n"
      ],
      "execution_count": null,
      "outputs": []
    },
    {
      "cell_type": "markdown",
      "metadata": {
        "id": "nK4qqxMGUHT9"
      },
      "source": [
        "### Porovnání modelů pomocí F statistiky"
      ]
    },
    {
      "cell_type": "code",
      "metadata": {
        "lines_to_next_cell": 0,
        "id": "ER-hVjeMUHT-"
      },
      "source": [
        "F <- (D0-D)/2/(D/(21-3-1))\n",
        "F\n",
        "CV <- qf(0.95,2,17)\n",
        "CV\n",
        "p.val <- 1 - pf(F,2,17)\n",
        "p.val"
      ],
      "execution_count": null,
      "outputs": []
    },
    {
      "cell_type": "markdown",
      "metadata": {
        "lines_to_next_cell": 0,
        "id": "3tT6AWDgUHT_"
      },
      "source": [
        "Hypotézu, že mezi metodami není rozdíl zamítáme.\n",
        "\n",
        "### Test významnosti vysvětlujíí proměnné $x$ \n",
        "\n",
        "\n",
        "Otestujme hypotézu $H_0: \\beta = 0$ pomocí porovnání obecného modelu s modelem za platnosti $H_0$"
      ]
    },
    {
      "cell_type": "code",
      "metadata": {
        "lines_to_next_cell": 0,
        "id": "-dcGlpfpUHT_"
      },
      "source": [
        "mod.x <- lm(y~group-1)\n",
        "summary(mod.x)"
      ],
      "execution_count": null,
      "outputs": []
    },
    {
      "cell_type": "markdown",
      "metadata": {
        "lines_to_next_cell": 0,
        "id": "FV3QFcEpUHT_"
      },
      "source": [
        "jehož deviace je"
      ]
    },
    {
      "cell_type": "code",
      "metadata": {
        "lines_to_next_cell": 0,
        "id": "zWig1J2mUHT_"
      },
      "source": [
        "Dx <- crossprod(y-fitted(mod.x))\n",
        "Dx"
      ],
      "execution_count": null,
      "outputs": []
    },
    {
      "cell_type": "markdown",
      "metadata": {
        "lines_to_next_cell": 0,
        "id": "91ZK_j9KUHUA"
      },
      "source": [
        "Pro $F$-statistiku porovnávající oba modely platí"
      ]
    },
    {
      "cell_type": "code",
      "metadata": {
        "lines_to_next_cell": 0,
        "id": "52MzYvE0UHUA"
      },
      "source": [
        "F <- (Dx-D)/1/(D/(21-3-1)); F\n",
        "CV <- qf(0.95,1,17); CV\n",
        "p.val <- 1 - pf(F,1,17); p.val"
      ],
      "execution_count": null,
      "outputs": []
    },
    {
      "cell_type": "markdown",
      "metadata": {
        "lines_to_next_cell": 0,
        "id": "qXNCVzvYUHUA"
      },
      "source": [
        "a hypotézu tedy zamítáme, tzn. proměnná $x$ je v modelu významná. Srovnání provedeme pro ilustraci ještě pomocí funkce `anova`"
      ]
    },
    {
      "cell_type": "code",
      "metadata": {
        "lines_to_next_cell": 2,
        "id": "2m3ML3XmUHUA"
      },
      "source": [
        "modAOC <- lm(y~x+group-1)  # obecný model\n",
        "anova(mod.x, modAOC, test = \"F\")"
      ],
      "execution_count": null,
      "outputs": []
    },
    {
      "cell_type": "markdown",
      "metadata": {
        "lines_to_next_cell": 0,
        "id": "qnJRF2-lUHUB"
      },
      "source": [
        "### Vícenádobné porovnávání (Bonferroni) \n",
        "\n",
        "Vraťme se k obecnému modelu, a protože byla zamítnuta hypotéza rovnosti efektů jednotlivých metod, proveďme vícenásobné porovnávání s cílem zjistit, které dvojice se významně liší.\n",
        "\n",
        "Hodnoty pevných efektů pro jednotlivé metody jsou"
      ]
    },
    {
      "cell_type": "code",
      "metadata": {
        "lines_to_next_cell": 0,
        "id": "JQnkiqf5UHUC"
      },
      "source": [
        "u.1 <- u[1]; u.2 <- u[2]; u.3 <- u[3]"
      ],
      "execution_count": null,
      "outputs": []
    },
    {
      "cell_type": "markdown",
      "metadata": {
        "lines_to_next_cell": 0,
        "id": "hc7v-7-QUHUD"
      },
      "source": [
        "a tabulka jejich rozdílů je"
      ]
    },
    {
      "cell_type": "code",
      "metadata": {
        "lines_to_next_cell": 0,
        "id": "ka_gS0VxUHUD"
      },
      "source": [
        "difu1<-c(u.1-u.2,u.1-u.3); difu1<-abs(difu1)\n",
        "difu2<-c(0,u.2-u.3); difu2<-abs(difu2)\n",
        "meanabs<-rbind(difu1,difu2)\n",
        "c.names<-c(\"mean.g.B\",\"mean.g.C\")\n",
        "r.names<-c(\"mean.g.A\",\"mean.g.B\")\n",
        "dimnames(meanabs)<-list(r.names,c.names)\n",
        "meanabs"
      ],
      "execution_count": null,
      "outputs": []
    },
    {
      "cell_type": "markdown",
      "metadata": {
        "lines_to_next_cell": 0,
        "id": "z4oRhUzMUHUD"
      },
      "source": [
        "Spočteme kritické hodnoty pro Bonferoniho metodu vícenásobného porovnávání"
      ]
    },
    {
      "cell_type": "code",
      "metadata": {
        "lines_to_next_cell": 0,
        "id": "j53nIYQYUHUE"
      },
      "source": [
        "sigma.hat <- D/(21-3-1); sigma.hat\n",
        "t.val <- qt(1-0.05/6,17); t.val\n",
        "\n",
        "x.m1 <- mean(x[group==\"A\"])\n",
        "x.m2 <- mean(x[group==\"B\"])\n",
        "x.m3 <- mean(x[group==\"C\"])\n",
        "\n",
        "n<-tapply(y, group, length)   # počet pozorování v jednotlivých kategoriích \"group\"\n",
        "\n",
        "x.m <- c(rep(x.m1,n[1]),rep(x.m2,n[2]),rep(x.m3,n[3]))\n",
        "\n",
        "Exx <- crossprod(x-x.m); Exx\n",
        "\n",
        "BF.12 <- sqrt(sigma.hat)*t.val*sqrt(1/n[1] + 1/n[2] + 1/Exx*(x.m1-x.m2)^2)\n",
        "BF.13 <- sqrt(sigma.hat)*t.val*sqrt(1/n[1] + 1/n[3] + 1/Exx*(x.m1-x.m3)^2)\n",
        "BF.23 <- sqrt(sigma.hat)*t.val*sqrt(1/n[2] + 1/n[3] + 1/Exx*(x.m2-x.m3)^2)\n",
        "\n",
        "#tabulka hodnot BF\n",
        "BF1<-c(BF.12,BF.13)\n",
        "BF2<-c(0,BF.23)\n",
        "BF<-rbind(BF1,BF2)\n",
        "dimnames(BF)<-list(r.names,c.names)\n",
        "BF"
      ],
      "execution_count": null,
      "outputs": []
    },
    {
      "cell_type": "markdown",
      "metadata": {
        "lines_to_next_cell": 0,
        "id": "58w7MLS_UHUE"
      },
      "source": [
        "Porovnáním hodnot v obou tabulkách zjistíme, které dvojice se významně liší"
      ]
    },
    {
      "cell_type": "code",
      "metadata": {
        "id": "yvuxAJORUHUF"
      },
      "source": [
        "SIGNIF<-meanabs>BF; SIGNIF\n"
      ],
      "execution_count": null,
      "outputs": []
    },
    {
      "cell_type": "markdown",
      "metadata": {
        "lines_to_next_cell": 0,
        "id": "VFxpqtkYUHUF"
      },
      "source": [
        "Významně se liší metoda $A$ od $B$ a metoda  $A$ od $C$.\n",
        "\n",
        "Obrázek dat proložených modelem"
      ]
    },
    {
      "cell_type": "code",
      "metadata": {
        "fig.align": "center",
        "fig.height": 4,
        "fig.width": 4.5,
        "lines_to_next_cell": 0,
        "results": "asis",
        "id": "lLl1Hq-yUHUF"
      },
      "source": [
        "plot(x, y, pch = c(15:17)[group], col = c(\"red\",\"blue\",\"black\")[group], \n",
        "     xlab = \"Před tréninkem\", ylab = \"Po tréninku\")\n",
        "legend(\"topleft\",inset = .01, bty=\"n\", legend = c(\"metoda A\", \"metoda B\", \"metoda C\"), \n",
        "       pch = c(15:17), col = c(\"red\",\"blue\",\"black\"), cex=0.9)\n",
        "abline(coef = c(u[1],beta),col = \"red\")\n",
        "abline(coef = c(u[2],beta),col = \"blue\")\n",
        "abline(coef = c(u[3],beta),col = \"black\")"
      ],
      "execution_count": null,
      "outputs": []
    },
    {
      "cell_type": "markdown",
      "metadata": {
        "id": "4gI1jkcmUHUF"
      },
      "source": [
        ""
      ]
    },
    {
      "cell_type": "markdown",
      "metadata": {
        "lines_to_next_cell": 0,
        "id": "_CD3fIWdUHUF"
      },
      "source": [
        "## ANOVA - pomocí funkcí `R` \n",
        "<!-- ######################## -->\n",
        "\n",
        "Pro ilustraci proveďme i analýzu rozptylu ANOVA, tzn. nebudeme uvažovat proměnnou x."
      ]
    },
    {
      "cell_type": "code",
      "metadata": {
        "lines_to_next_cell": 0,
        "id": "l_1tf1XcUHUF"
      },
      "source": [
        "is.factor(group)  #ověření, že se jedná o faktorovou proměnnou"
      ],
      "execution_count": null,
      "outputs": []
    },
    {
      "cell_type": "code",
      "metadata": {
        "id": "6CLY4JQXW2Ez"
      },
      "source": [
        "group = as.factor(group)"
      ],
      "execution_count": null,
      "outputs": []
    },
    {
      "cell_type": "markdown",
      "metadata": {
        "lines_to_next_cell": 0,
        "id": "pKqFk6y0UHUG"
      },
      "source": [
        "Dvě možnosti, jak získat tabulku analýzy rozptylu jsou "
      ]
    },
    {
      "cell_type": "code",
      "metadata": {
        "lines_to_next_cell": 0,
        "id": "HYfvVfhEUHUG"
      },
      "source": [
        "aov_m1 <- aov(y~group)\n",
        "summary(aov_m1)"
      ],
      "execution_count": null,
      "outputs": []
    },
    {
      "cell_type": "code",
      "metadata": {
        "lines_to_next_cell": 0,
        "id": "w0Z7aTY9UHUG"
      },
      "source": [
        "lm_m1 <- lm(y~group)\n",
        "anova(lm_m1)"
      ],
      "execution_count": null,
      "outputs": []
    },
    {
      "cell_type": "code",
      "metadata": {
        "id": "rQS7Y1SeiJOy"
      },
      "source": [
        "opar <- par(mfrow=c(2,2))\n",
        "plot(aov(y~group))\n",
        "#plot(lm_m1)\n",
        "par(opar)"
      ],
      "execution_count": null,
      "outputs": []
    },
    {
      "cell_type": "markdown",
      "metadata": {
        "lines_to_next_cell": 0,
        "id": "aiQG7XLkUHUG"
      },
      "source": [
        "Závěr: proměnná group je významná, neboli jednotlivé metody tréninku se mezi sebou liší i bez započtení efektu proměnné $x$.\n",
        "\n",
        "Spočteme průměry pro jednotlivé skupiny tréninku "
      ]
    },
    {
      "cell_type": "code",
      "metadata": {
        "lines_to_next_cell": 0,
        "id": "gbJ05RSYUHUG"
      },
      "source": [
        "model.tables(aov(y~group), type=\"means\")"
      ],
      "execution_count": null,
      "outputs": []
    },
    {
      "cell_type": "markdown",
      "metadata": {
        "lines_to_next_cell": 0,
        "id": "LUwNvhjdUHUG"
      },
      "source": [
        "nebo přímo"
      ]
    },
    {
      "cell_type": "code",
      "metadata": {
        "lines_to_next_cell": 0,
        "id": "7XZqDVtnUHUH"
      },
      "source": [
        "tapply(y,group,mean)"
      ],
      "execution_count": null,
      "outputs": []
    },
    {
      "cell_type": "markdown",
      "metadata": {
        "lines_to_next_cell": 0,
        "id": "eyLNsZHXUHUH"
      },
      "source": [
        "a provedeme vícenásobné porovnávání. Tentokráte Tukeyovo HSD."
      ]
    },
    {
      "cell_type": "code",
      "metadata": {
        "id": "QDOUvHXTj-cv"
      },
      "source": [
        "Tukey_CI <- TukeyHSD(aov_m1, c(\"group\"), ordered = FALSE, conf.level = 0.95)\n",
        "Tukey_CI\n"
      ],
      "execution_count": null,
      "outputs": []
    },
    {
      "cell_type": "markdown",
      "metadata": {
        "lines_to_next_cell": 0,
        "id": "x1HStYs1UHUH"
      },
      "source": [
        "Výstupem jsou 95% intervaly spolehlivosti pro rozdíl průměrů a p-hodnoty testu hypotéz, že je daný rozdíl nulový. Opět vidíme rozdílnost mezi skupinami $A$, $B$ a $A$,$C$. Na obrázku to vypadá následovně"
      ]
    },
    {
      "cell_type": "code",
      "metadata": {
        "fig.align": "center",
        "fig.height": 3.5,
        "fig.width": 4,
        "lines_to_next_cell": 0,
        "results": "asis",
        "id": "egVMPblVUHUH"
      },
      "source": [
        "plot(Tukey_CI)"
      ],
      "execution_count": null,
      "outputs": []
    },
    {
      "cell_type": "markdown",
      "metadata": {
        "lines_to_next_cell": 0,
        "id": "37jCEAebUHUI"
      },
      "source": [
        "Pokud zobrazený interval spolehlivosti neobsahuje 0, příslušný rozdíl je statisticky významný.\n",
        "\n",
        "Další možnost je použít balík `multcomp`, který bude fungovat i pro model ANCOVA."
      ]
    },
    {
      "cell_type": "code",
      "metadata": {
        "lines_to_next_cell": 0,
        "message": false,
        "id": "b1lYVDZnUHUI"
      },
      "source": [
        "install.packages(\"multcomp\")\n",
        "library(multcomp)"
      ],
      "execution_count": null,
      "outputs": []
    },
    {
      "cell_type": "code",
      "metadata": {
        "lines_to_next_cell": 0,
        "id": "b9DB1nw4UHUI"
      },
      "source": [
        "amod<-aov(y~group) # vytvoříme model\n",
        "# vícenásobné porovnávání Tukey\n",
        "Tukey <- glht(amod, linfct = mcp(group = \"Tukey\"))\n",
        "summary(Tukey)"
      ],
      "execution_count": null,
      "outputs": []
    },
    {
      "cell_type": "markdown",
      "metadata": {
        "lines_to_next_cell": 0,
        "id": "9ftwWA2OUHUI"
      },
      "source": [
        "Případně zobrazíme krabicové diagramy pro vícenásobné porovnávání"
      ]
    },
    {
      "cell_type": "code",
      "metadata": {
        "fig.align": "center",
        "fig.height": 3.5,
        "fig.width": 4,
        "lines_to_next_cell": 0,
        "results": "asis",
        "id": "4VINGjv4UHUJ"
      },
      "source": [
        "install.packages(\"multcompView\")\n",
        "library(multcompView)\n",
        "multcompBoxplot(y~group, data=data,compFn=\"TukeyHSD\",sortFn=\"mean\", decreasing=TRUE)"
      ],
      "execution_count": null,
      "outputs": []
    },
    {
      "cell_type": "markdown",
      "metadata": {
        "lines_to_next_cell": 0,
        "id": "VABzTtz7UHUJ"
      },
      "source": [
        "Opět vidíme, že metoda $A$ se liší od $B$ a $C$.\n",
        "\n",
        "Pro ilustraci ještě porovnejme Bonferroniho metodu a klasický dvouvýběrový t-test"
      ]
    },
    {
      "cell_type": "code",
      "metadata": {
        "lines_to_next_cell": 0,
        "id": "x93azzHfUHUJ"
      },
      "source": [
        "pairwise.t.test(y, group, p.adjust.method=\"bonferroni\")\n",
        "pairwise.t.test(y, group, \"none\")\n"
      ],
      "execution_count": null,
      "outputs": []
    },
    {
      "cell_type": "markdown",
      "metadata": {
        "id": "hzbT_U8YlpFa"
      },
      "source": [
        "Vidíme poměrně významný rozdíl v p-hodnotách."
      ]
    },
    {
      "cell_type": "markdown",
      "metadata": {
        "id": "QCIVzKxBlgtl"
      },
      "source": [
        "### Fisher LSD"
      ]
    },
    {
      "cell_type": "code",
      "metadata": {
        "id": "NgVbOABblkjb"
      },
      "source": [
        "#install.packages(\"agricolae\")\n",
        "library(agricolae)\n",
        "#LSD_out <- LSD.test(aov_m1,\"group\", p.adj=\"bonferroni\")\n",
        "#LSD_out\n",
        "LSD_out <- LSD.test(aov_m1,\"group\",18,1.5)\n",
        "LSD_out"
      ],
      "execution_count": null,
      "outputs": []
    },
    {
      "cell_type": "markdown",
      "metadata": {
        "lines_to_next_cell": 0,
        "id": "uzS3oathUHUK"
      },
      "source": [
        "\n",
        "\n",
        "## ANCOVA - pomocí funkcí `R` \n"
      ]
    },
    {
      "cell_type": "code",
      "metadata": {
        "lines_to_next_cell": 0,
        "id": "fxq-G0z-UHUK"
      },
      "source": [
        "modAOC <- lm(y~x+group-1)\n",
        "summary(modAOC)\n",
        "anova(modAOC)"
      ],
      "execution_count": null,
      "outputs": []
    },
    {
      "cell_type": "markdown",
      "metadata": {
        "lines_to_next_cell": 0,
        "id": "BNXWyLulUHUK"
      },
      "source": [
        "Závěr: obě proměnné jsou významné.\n",
        "\n",
        "Odhadnuté koeficienty"
      ]
    },
    {
      "cell_type": "code",
      "metadata": {
        "lines_to_next_cell": 0,
        "id": "yNChl_xrUHUK"
      },
      "source": [
        "coef<-summary(modAOC)$coefficients\n",
        " coef"
      ],
      "execution_count": null,
      "outputs": []
    },
    {
      "cell_type": "markdown",
      "metadata": {
        "lines_to_next_cell": 0,
        "id": "VuCNNu-SUHUL"
      },
      "source": [
        "Model za platnosti $H_0$"
      ]
    },
    {
      "cell_type": "code",
      "metadata": {
        "id": "EIsdanjeUHUL"
      },
      "source": [
        "modAOC.0 <- lm(y~x)\n",
        "summary(modAOC.0)\n",
        "anova(modAOC.0)"
      ],
      "execution_count": null,
      "outputs": []
    },
    {
      "cell_type": "markdown",
      "metadata": {
        "lines_to_next_cell": 0,
        "id": "EfEOtPixUHUL"
      },
      "source": [
        "Porovnání modelů:"
      ]
    },
    {
      "cell_type": "code",
      "metadata": {
        "lines_to_next_cell": 0,
        "id": "YHG-C7_WUHUL"
      },
      "source": [
        "anova(modAOC.0, modAOC, test = \"F\")"
      ],
      "execution_count": null,
      "outputs": []
    },
    {
      "cell_type": "markdown",
      "metadata": {
        "lines_to_next_cell": 0,
        "id": "XjwAU38ZUHUM"
      },
      "source": [
        "Porovnání lze provést i přímo"
      ]
    },
    {
      "cell_type": "code",
      "metadata": {
        "lines_to_next_cell": 2,
        "id": "5vy5GfHdUHUM"
      },
      "source": [
        "modAOC1 <- lm(y~x+group)\n",
        "#summary(modAOC1)\n",
        "anova(modAOC1)"
      ],
      "execution_count": null,
      "outputs": []
    },
    {
      "cell_type": "markdown",
      "metadata": {
        "lines_to_next_cell": 0,
        "id": "xEgDrV6nUHUM"
      },
      "source": [
        "Vícenásobné porovnávání (Tukey HSD)"
      ]
    },
    {
      "cell_type": "code",
      "metadata": {
        "lines_to_next_cell": 0,
        "id": "_hPqaqtwUHUM"
      },
      "source": [
        "amod<-aov(y~x+group)\n",
        "posthoc <- glht(amod, linfct = mcp(group = \"Tukey\"))\n",
        "summary(posthoc)\n",
        "confint(posthoc)"
      ],
      "execution_count": null,
      "outputs": []
    },
    {
      "cell_type": "code",
      "metadata": {
        "fig.align": "center",
        "fig.height": 3.5,
        "fig.width": 4,
        "lines_to_next_cell": 2,
        "results": "asis",
        "id": "h_a6dsDgUHUM"
      },
      "source": [
        "plot(posthoc)"
      ],
      "execution_count": null,
      "outputs": []
    },
    {
      "cell_type": "markdown",
      "metadata": {
        "lines_to_next_cell": 0,
        "id": "g_hHMxs2UHUM"
      },
      "source": [
        "Pozor, následující funkce funguje pouze pro model ANOVA!"
      ]
    },
    {
      "cell_type": "code",
      "metadata": {
        "id": "tdgOZaM5UHUM"
      },
      "source": [
        "CI<-TukeyHSD(aov(y~x+group), which=\"group\")\n",
        "CI"
      ],
      "execution_count": null,
      "outputs": []
    },
    {
      "cell_type": "markdown",
      "metadata": {
        "id": "dIjYpml5UHUM"
      },
      "source": [
        "Je třeba také provést analýzu reziduí a influenčních pozorování. Model ANCOVA předpokládá normalitu reziduí a také společnou hodnotu parameru $\\sigma^2$."
      ]
    },
    {
      "cell_type": "code",
      "metadata": {
        "id": "CKMAitt-UHUM"
      },
      "source": [
        "X<-model.matrix(modAOC)\n",
        "n<-nrow(X); p<-ncol(X)\n",
        "fit <- predict(modAOC, type = \"response\")"
      ],
      "execution_count": null,
      "outputs": []
    },
    {
      "cell_type": "code",
      "metadata": {
        "lines_to_next_cell": 0,
        "id": "FjkwThuLUHUM"
      },
      "source": [
        "# pákové body\n",
        "hii <- hatvalues(modAOC)\n",
        "# Kritérium pro páková pozorování\n",
        "Infl<-hii>2*p/n; Infl\n",
        "# Cookova vzdalenost\n",
        "c.d <- cooks.distance(modAOC)\n"
      ],
      "execution_count": null,
      "outputs": []
    },
    {
      "cell_type": "markdown",
      "metadata": {
        "lines_to_next_cell": 0,
        "id": "phUkxNZ3UHUM"
      },
      "source": [
        "Grafické zobrazení"
      ]
    },
    {
      "cell_type": "code",
      "metadata": {
        "fig.align": "center",
        "fig.height": 3.5,
        "fig.width": 7,
        "lines_to_next_cell": 0,
        "results": "asis",
        "id": "F1HUoYRmUHUN"
      },
      "source": [
        "par(mfrow=c(1,2))\n",
        "\n",
        "plot(hii,col=\"red\", cex=1.5, lwd=2, ylim = c(0,0.4)) \n",
        "abline(2*p/(n),0)\n",
        "\n",
        "plot(c.d,col=\"red\", cex=1.5, lwd=2, ylim = c(0,0.7))\n",
        "abline(8/(n-2*p),0)"
      ],
      "execution_count": null,
      "outputs": []
    },
    {
      "cell_type": "markdown",
      "metadata": {
        "lines_to_next_cell": 0,
        "id": "lODHFfJRUHUN"
      },
      "source": [
        "neukazuje žádné podezřelé body.\n",
        "\n",
        "Ještě spočteme studentizovaná rezidua "
      ]
    },
    {
      "cell_type": "code",
      "metadata": {
        "lines_to_next_cell": 0,
        "id": "qYJfbTWXUHUN"
      },
      "source": [
        "res <- rstudent(modAOC)"
      ],
      "execution_count": null,
      "outputs": []
    },
    {
      "cell_type": "markdown",
      "metadata": {
        "lines_to_next_cell": 0,
        "id": "OA0kT8ILUHUN"
      },
      "source": [
        "a otestujeme jejich normalitu pomocí Shapirova testu"
      ]
    },
    {
      "cell_type": "code",
      "metadata": {
        "lines_to_next_cell": 0,
        "id": "x1jz4zuFUHUN"
      },
      "source": [
        "shapiro.test(res)"
      ],
      "execution_count": null,
      "outputs": []
    },
    {
      "cell_type": "markdown",
      "metadata": {
        "id": "vuse1wQnUHUN"
      },
      "source": [
        "Hypotéza normality reziduí nebyla zamítnuta. Provedeme ještě grafickou analýzu reziduí."
      ]
    },
    {
      "cell_type": "code",
      "metadata": {
        "fig.align": "center",
        "fig.height": 7,
        "fig.width": 7,
        "lines_to_next_cell": 0,
        "results": "asis",
        "id": "CSxVlaS7UHUO"
      },
      "source": [
        "par(mfrow=c(2,2))\n",
        "# QQplot\n",
        "qqnorm(res)\n",
        "qqline(res)\n",
        "# rezidua vs. fitted values\n",
        "plot(fitted(modAOC),res, col=\"red\", xlab=\"Predikované hodnoty\", ylab=\"Rezidua\", cex=1.5, lwd=2)\n",
        "abline(0,0)\n",
        "# rezisua vs. x\n",
        "plot(x,res,col=\"red\", xlab=\"Proměnná x\", ylab=\"Rezidua\", cex=1.5, lwd=2)\n",
        "abline(0,0)\n",
        "# rezisua vs. group\n",
        "plot(group,res,col=\"red\", xlab=\"Metoda tréninku\", ylab=\"Residuals\", cex=1.5, lwd=2)\n",
        "abline(0,0)"
      ],
      "execution_count": null,
      "outputs": []
    },
    {
      "cell_type": "markdown",
      "metadata": {
        "lines_to_next_cell": 0,
        "id": "gsQE8CXxUHUO"
      },
      "source": [
        "Ani zde není žádný očividný probklém. Předpoklady modelu tedy můžeme považovat za splněné.\n",
        "\n",
        "Další možnost, jka zobrazit rezidua je např."
      ]
    },
    {
      "cell_type": "code",
      "metadata": {
        "eval": false,
        "lines_to_next_cell": 0,
        "id": "AFMzrqQRUHUO"
      },
      "source": [
        "plot(modAOC, which = 1)"
      ],
      "execution_count": null,
      "outputs": []
    },
    {
      "cell_type": "code",
      "metadata": {
        "id": "xCn9FM42tc2P"
      },
      "source": [
        ""
      ],
      "execution_count": null,
      "outputs": []
    }
  ]
}