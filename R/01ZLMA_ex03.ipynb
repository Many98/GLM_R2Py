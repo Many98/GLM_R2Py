{
  "nbformat": 4,
  "nbformat_minor": 0,
  "metadata": {
    "colab": {
      "name": "01ZLMA_ex03.ipynb",
      "private_outputs": true,
      "provenance": [],
      "collapsed_sections": [],
      "authorship_tag": "ABX9TyNUHhS4RiO9eidvStgHvWIe",
      "include_colab_link": true
    },
    "kernelspec": {
      "name": "ir",
      "display_name": "R"
    }
  },
  "cells": [
    {
      "cell_type": "markdown",
      "metadata": {
        "id": "view-in-github",
        "colab_type": "text"
      },
      "source": [
        "<a href=\"https://colab.research.google.com/github/francji1/01ZLMA/blob/main/R/01ZLMA_ex03.ipynb\" target=\"_parent\"><img src=\"https://colab.research.google.com/assets/colab-badge.svg\" alt=\"Open In Colab\"/></a>"
      ]
    },
    {
      "cell_type": "markdown",
      "metadata": {
        "id": "x-i6MbNFm4Zt"
      },
      "source": [
        "# 01ZLMA - Exercise 03\r\n",
        "Exercise 03 of the course 01ZLMA. \r\n",
        "\r\n",
        "## Contents\r\n",
        "\r\n",
        "* Statistical Inference\r\n",
        " ---\r\n",
        "* Testing\r\n",
        " ---\r\n",
        "* ..\r\n",
        "\r\n"
      ]
    },
    {
      "cell_type": "markdown",
      "metadata": {
        "id": "593Mg4ZbbeEE"
      },
      "source": [
        "#  Necessary theory recap from Lecture 04\r\n",
        "\r\n",
        "Under the conditions of regularity holds\r\n",
        "\r\n",
        "1.  $ \\ U(\\beta) \\sim N_{p}(0,I(\\beta)) \\Rightarrow  I^{-\\frac{1}{2}}(\\beta)\\, U(\\beta) {\\stackrel{D}{\\longrightarrow}} N_{p}(0, 1)$\r\n",
        "2. $ U(\\beta)I^{-1}(\\beta)U(\\beta)\\sim \\chi^{2}(p) \\Rightarrow U(\\beta)^T I^{-1}(\\beta)U(\\beta)  {\\stackrel{D}{\\longrightarrow}} \\chi^{2}(p)$\r\n",
        "3. Consistency of $\\hat{\\beta}$ and Wald statistics: \\\\\r\n",
        " $\\hat{\\beta}\\sim N_{p}(\\beta,I^{-1}(\\beta)) \\Rightarrow\r\n",
        "(\\hat{\\beta}-\\beta)^T I(\\beta)(\\hat{\\beta}-\\beta) {\\stackrel{D}{\\longrightarrow}} \\chi^{2}(p)$\r\n",
        "\r\n"
      ]
    },
    {
      "cell_type": "markdown",
      "metadata": {
        "id": "w2c7jDIXSGGL"
      },
      "source": [
        "Saturated and null model\r\n",
        "\r\n",
        "* Null model: $\\mu_i = \\mu, \\forall i$ \\\\\r\n",
        "The Null Model assumes one parameter for all of the data points, which means you only estimate 1 parameter. \r\n",
        "* Saturated model: $Y_i = \\hat{\\mu_i}, \\forall i$ \\\\\r\n",
        "The Saturated Model is a model that assumes each data point has its own parameters, which means you have n parameters to estimate.\r\n",
        "\r\n",
        "Questions:\r\n",
        "* What is the difference between null and saturated model?\r\n",
        "* Which model has greater log-likelihoood value?\r\n",
        "* Which model has the highest log-likelihood value?\r\n",
        "* What can you say about asymptotic distributions of $\\hat{\\beta}$ and $U(\\hat{\\beta})$ for saturated model?"
      ]
    },
    {
      "cell_type": "markdown",
      "metadata": {
        "id": "um9ho8cQHobx"
      },
      "source": [
        "## Let's code "
      ]
    },
    {
      "cell_type": "code",
      "metadata": {
        "id": "wV3e4NaLbVZg"
      },
      "source": [
        "library(tidyverse)\r\n",
        "library(lubridate)\r\n",
        "library(MASS)\r\n",
        "\r\n",
        "#For sure: set dplyr functions\r\n",
        "select    <- dplyr::select;\r\n",
        "rename    <- dplyr::rename;\r\n",
        "mutate    <- dplyr::mutate; \r\n",
        "summarize <- dplyr::summarize;\r\n",
        "arrange   <- dplyr::arrange;\r\n",
        "slice     <- dplyr::slice;\r\n",
        "filter    <- dplyr::filter;\r\n",
        "recode    <- dplyr::recode"
      ],
      "execution_count": null,
      "outputs": []
    },
    {
      "cell_type": "markdown",
      "metadata": {
        "id": "L-kZTsg7FZoM"
      },
      "source": [
        "Use Example 2 from Exercise 02"
      ]
    },
    {
      "cell_type": "code",
      "metadata": {
        "id": "mZlx_DRmNlls"
      },
      "source": [
        "n  = 20\r\n",
        "m  = 2\r\n",
        "X1 = rep(rep(1,n),m)\r\n",
        "X2 = rep(seq(1,n,1),m)\r\n",
        "X  = cbind(X1,log(X2))\r\n",
        "beta = c(0.9, 1.3)\r\n",
        "lamdas = exp(X%*%beta) # Means\r\n",
        "Y  = rpois(n*m,lamdas)\r\n"
      ],
      "execution_count": null,
      "outputs": []
    },
    {
      "cell_type": "code",
      "metadata": {
        "id": "dDEl06ReNltJ"
      },
      "source": [
        "model <- glm(formula=Y~log(X2),family=poisson(link = \"log\"))\r\n",
        "summary(model) # souhrn modelu\r\n",
        "beta.e <- coefficients(model); beta.e  # estimated parameters\r\n",
        "y.hat  <- model$fitted.values\r\n",
        "\r\n",
        "#############################################\r\n",
        "## Plot data and estimation\r\n",
        "plot(X2,Y, col=\"red\", cex=1.5, lwd=2, \r\n",
        "      main=\"Poisson model\",\r\n",
        "      xlab=\"Year Quoter\",\r\n",
        "      ylab=\"Number of cases\",\r\n",
        "      cex.lab=1.2)\r\n",
        "lines(unique(y.hat), col=\"blue\", type = \"l\", lwd=3)\r\n",
        "text <- c(\"model\", \"data\")\r\n",
        "legend(x=1, y=160, text, col = c(4,2), bty=\"n\", lwd = 2,  cex=1.3, lty=c(1,0))\r\n",
        "dev.off()"
      ],
      "execution_count": null,
      "outputs": []
    },
    {
      "cell_type": "code",
      "metadata": {
        "id": "jU_eFKcbWMUy"
      },
      "source": [
        ""
      ],
      "execution_count": null,
      "outputs": []
    },
    {
      "cell_type": "code",
      "metadata": {
        "id": "T477n--PWMXz"
      },
      "source": [
        "# function to calcualate weights\r\n",
        "calc_W_inv <- function(X,beta){\r\n",
        "  n = length(X[,1])\r\n",
        "  W = diag(c(exp(X%*%beta)),n,n)\r\n",
        "  return(W)\r\n",
        "}"
      ],
      "execution_count": null,
      "outputs": []
    },
    {
      "cell_type": "code",
      "metadata": {
        "id": "xcA9wuh1WMtL"
      },
      "source": [
        "# function to calcualate weights\r\n",
        "calc_Z <- function(X,Y,beta){\r\n",
        "  Z = X%*%(beta) + (Y-exp(X%*%beta))/exp(X%*%beta)\r\n",
        "  return(Z)\r\n",
        " }"
      ],
      "execution_count": null,
      "outputs": []
    },
    {
      "cell_type": "code",
      "metadata": {
        "id": "igkUvl36XAGV"
      },
      "source": [
        "# IWLS for example 2\r\n",
        "IWLS <- function(X,Y,beta_init,maxiter,epsilon){\r\n",
        "  result <- list(FM=NA, SV=NA, betas=NA)\r\n",
        "  # Fisher-scoring algorithm\r\n",
        "  i <- 1     # first iteration\r\n",
        "  convergence <- F\r\n",
        "  beta_i <- beta_init\r\n",
        "\r\n",
        "\r\n",
        "  while (convergence == F & i <= maxiter){\r\n",
        "    W = calc_W_inv(X,beta_i)\r\n",
        "    Z = calc_Z(X,Y,beta_i)\r\n",
        "    beta_pred = beta_i\r\n",
        "    beta_i = solve(t(X)%*%W%*%X, t(X)%*%W%*%Z)\r\n",
        "    diff   = max(abs(beta_i - beta_pred))\r\n",
        "    if (diff>=epsilon){\r\n",
        "      i <- i+1\r\n",
        "    }\r\n",
        "    else\r\n",
        "      convergence <- T\r\n",
        "    }\r\n",
        "    W    <- calc_W_inv(X,beta_i)\r\n",
        "    Z = calc_Z(X,Y,beta_i)\r\n",
        "    result$SV <- t(X)%*%W%*%Z\r\n",
        "    result$FM <- t(X)%*%W%*%X\r\n",
        "    result$betas <- solve(t(X)%*%W%*%X, t(X)%*%W%*%Z)\r\n",
        "\r\n",
        "  return(result)\r\n",
        "}"
      ],
      "execution_count": null,
      "outputs": []
    },
    {
      "cell_type": "code",
      "metadata": {
        "id": "1VDw0-mqZF7x"
      },
      "source": [
        ""
      ],
      "execution_count": null,
      "outputs": []
    },
    {
      "cell_type": "code",
      "metadata": {
        "id": "tS1s7akiXAJJ"
      },
      "source": [
        "# Estimation of betas\r\n",
        "result1 <- IWLS(X,Y,c(1,1),100,10^(-6))\r\n",
        "result1$betas      # Estimation of parameters\r\n",
        "result1$FM\r\n",
        "solve(result1$FM)  # Estimated covariance matrix  = Inverse of estimated Fisher information matrix\r\n",
        "result1$SV         # Score Vector"
      ],
      "execution_count": null,
      "outputs": []
    },
    {
      "cell_type": "code",
      "metadata": {
        "id": "6E-UbtQQXALw"
      },
      "source": [
        "model <- glm(formula=Y~log(X2),family=poisson(link = \"log\"))\r\n",
        "#s_mod <- summary(model) \r\n",
        "s_mod <- summary.glm(model)  \r\n",
        "# the unscaled (dispersion = 1) estimated covariance matrix of the estimated coefficients.\r\n",
        "FIM1 <- s_mod$cov.unscaled \r\n",
        "FIM1"
      ],
      "execution_count": null,
      "outputs": []
    },
    {
      "cell_type": "code",
      "metadata": {
        "id": "ZmOywvjFXAOK"
      },
      "source": [
        ""
      ],
      "execution_count": null,
      "outputs": []
    },
    {
      "cell_type": "markdown",
      "metadata": {
        "id": "q7vo_sJaOFiL"
      },
      "source": [
        "Asymptotics:\r\n",
        "\r\n",
        "* $ (\\hat{\\beta} - \\beta) \\sim N_{p}(0, I^{-1}(\\beta))$ \r\n",
        "* $\\hat{I}(\\hat{\\beta}) = (X^T \\hat{W} X)$\r\n",
        "* $\\hat{V} (\\hat{\\beta}) = (X^T \\hat{W} X)^{-1}$"
      ]
    },
    {
      "cell_type": "code",
      "metadata": {
        "id": "kB52Ef03Z7uO"
      },
      "source": [
        "n = 10\r\n",
        "repet = 50\r\n",
        "n_observ = c(1,2,5,10,100)\r\n",
        "betas_hat = list(matrix(NA,repet,2),matrix(NA,repet,2),matrix(NA,repet,2),matrix(NA,repet,2),matrix(NA,repet,2))\r\n",
        "\r\n",
        "\r\n",
        "for (i in 1:length(n_observ)){\r\n",
        "  for (j in c(1:repet)){\r\n",
        "  X1 = rep(rep(1,n),1)\r\n",
        "  X2 = rep(seq(1,n,1),n_observ[i])\r\n",
        "  X  = cbind(X1,log(X2))\r\n",
        "  beta = c(0.9, 1.3)\r\n",
        "  lamdas = exp(X%*%beta) # Means\r\n",
        "  Y  = rpois(n*n_observ[i],lamdas)\r\n",
        " # betas_hat[[i]][j,] <- IWLS(X,Y,c(1,1),1000,10^(-8))$betas\r\n",
        "  betas_hat[[i]][j,] <- glm(formula=Y~log(X2),family=poisson(link = \"log\"))$coeff\r\n",
        "  }\r\n",
        "}\r\n",
        "\r\n"
      ],
      "execution_count": null,
      "outputs": []
    },
    {
      "cell_type": "code",
      "metadata": {
        "id": "nkafuLnXZ7xG"
      },
      "source": [
        "for (i in 1:length(n_observ)){\r\n",
        "print(paste(\"Number of observations:\",n_observ[i]*n))\r\n",
        "print(cov(betas_hat[[i]] - beta))\r\n",
        "print(mean(betas_hat[[i]] - beta))\r\n",
        "}"
      ],
      "execution_count": null,
      "outputs": []
    },
    {
      "cell_type": "code",
      "metadata": {
        "id": "Uq1y3I7GUK6r"
      },
      "source": [
        ""
      ],
      "execution_count": null,
      "outputs": []
    },
    {
      "cell_type": "markdown",
      "metadata": {
        "id": "2TjcOg79UPRM"
      },
      "source": [
        "## Hypothesis testing\r\n",
        "\r\n",
        "Use the model from the beginning again."
      ]
    },
    {
      "cell_type": "code",
      "metadata": {
        "id": "8rwWB0Grrmnt"
      },
      "source": [
        "n  = 20\r\n",
        "m  = 2\r\n",
        "X1 = rep(rep(1,n),m)\r\n",
        "X2 = rep(seq(1,n,1),m)\r\n",
        "X  = cbind(X1,log(X2))\r\n",
        "beta = c(0.9, 1.3)\r\n",
        "lamdas = exp(X%*%beta) # Means\r\n",
        "Y  = rpois(n*m,lamdas)\r\n"
      ],
      "execution_count": null,
      "outputs": []
    },
    {
      "cell_type": "code",
      "metadata": {
        "id": "2opFFdr0UfhS"
      },
      "source": [
        "model <- glm(formula=Y~log(X2),family=poisson(link = \"log\"))\r\n",
        "#s_mod <- summary(model) \r\n",
        "s_mod <- summary.glm(model)  \r\n",
        "summary.glm(model)\r\n",
        "# the unscaled (dispersion = 1) estimated covariance matrix of the estimated coefficients.\r\n",
        "FIM1 <- s_mod$cov.unscaled \r\n",
        "FIM1"
      ],
      "execution_count": null,
      "outputs": []
    },
    {
      "cell_type": "markdown",
      "metadata": {
        "id": "aR3DTTTWV94T"
      },
      "source": [
        "Calculation of z value\r\n",
        " $$Z_i = \\frac{\\hat{\\beta_i}}{(I^{-1}(\\hat{\\beta_i}))_{ii}}$$"
      ]
    },
    {
      "cell_type": "code",
      "metadata": {
        "id": "lv8guvybUK-E"
      },
      "source": [
        "# Testing statistics from summary table\r\n",
        "beta_hat <- s_mod$coefficients;\r\n",
        "beta_hat  \r\n",
        "\r\n",
        "# By definition\r\n",
        "z_stat = model$coeff/sqrt(diag(s_mod$cov.unscaled))\r\n",
        "z_stat\r\n",
        "z_stat = beta_hat[,1]/beta_hat[,2];\r\n",
        "z_stat"
      ],
      "execution_count": null,
      "outputs": []
    },
    {
      "cell_type": "code",
      "metadata": {
        "id": "9mHfejdWULDh"
      },
      "source": [
        "# p-values of the test\r\n",
        "p.val <- 2*pnorm(z_stat, mean = 0, sd = 1, lower.tail = FALSE, log.p = FALSE);\r\n",
        "p.val"
      ],
      "execution_count": null,
      "outputs": []
    },
    {
      "cell_type": "code",
      "metadata": {
        "id": "7GdfbeqdYOIv"
      },
      "source": [
        "### 100(1-alpha) confidence interval\r\n",
        "alpha <- 0.05\r\n",
        "u <- qnorm(1-alpha/2,0,1)\r\n",
        "CI_LB <- beta_hat[,1] - u * beta_hat[,2]\r\n",
        "CI_UB <- beta_hat[,1] + u * beta_hat[,2]\r\n",
        "\r\n",
        "cbind(\"2.5% CI\" = CI_LB,ESTIM = beta_hat[,1], \"97.5% CI\" = CI_UB)\r\n",
        "\r\n",
        "\r\n",
        "# bulit in function\r\n",
        "confint(model, level = 0.95)"
      ],
      "execution_count": null,
      "outputs": []
    },
    {
      "cell_type": "markdown",
      "metadata": {
        "id": "UkhFJFXceHjn"
      },
      "source": [
        "Question:\r\n",
        "\r\n",
        "* Compare hypothesis testing in LM vs. GLM"
      ]
    },
    {
      "cell_type": "markdown",
      "metadata": {
        "id": "wwXaIg0peQee"
      },
      "source": [
        "# Deviance\r\n"
      ]
    },
    {
      "cell_type": "markdown",
      "metadata": {
        "id": "SjNUyZoZeStY"
      },
      "source": [
        "Log-likelihood of the saturated model is the highest possible one with given data, $\\tilde{\\mu}_i = y_i$ and $\\tilde{\\theta_i} = \\theta(y) = (b')^{-1}(y_i)$.\r\n",
        "$$l(\\tilde{\\mu},\\phi;y)=\\sum_{i=1}^{n}\\frac{y_{i}\\tilde{\\theta}_{i}-b(\\tilde{\\theta}_{i})}{a_{i}(\\phi)}+\\sum_{i=1}^{n}c(y_i,\\phi)$$\r\n",
        "\r\n",
        "Scale deviance statistics:\r\n",
        "$${S(y,\\hat{\\mu},\\phi)}=2\\left[l(\\tilde{\\mu},\\phi;y)-l(\\hat{\\mu},\\phi;y)\\right]\r\n",
        "=2\\sum_{i=1}^{n}\\frac{y_{i}(\\tilde{\\theta}_{i}-\\hat{\\theta}_{i})\r\n",
        "-\\left(b(\\tilde{\\theta}_{i})-b(\\hat{\\theta}_{i})\\right)}{a_{i}(\\phi)}.\r\n",
        "$$\r\n",
        "\r\n",
        "Deviance:\r\n",
        "Let $a_{i}(\\phi)=a_{i}\\phi$, then\r\n",
        "$$S(y,\\hat{\\mu},\\phi)=\\frac{D(y,\\hat{\\mu})}{\\phi},\r\n",
        "$$\r\n",
        "and\r\n",
        "$$\r\n",
        "D(y,\\hat{\\mu})=2\\sum_{i=1}^{n}\\frac{y_{i}(\\tilde{\\theta}_{i}-\\hat{\\theta}_{i})\r\n",
        "-\\left(b(\\tilde{\\theta}_{i})-b(\\hat{\\theta}_{i})\\right)}{a_{i}}\r\n",
        "$$\r\n",
        "\r\n",
        "### Comparison of two models\r\n",
        "\r\n",
        "Assume model $D_0$ with $p_0$ paramters and its sub-model $D_1$ with $p_1$ parameters, then\r\n",
        "$$ \\frac{1}{\\phi} (D_0 - D_1) \\sim \\chi(p_0 - p_1) $$"
      ]
    },
    {
      "cell_type": "markdown",
      "metadata": {
        "id": "qLxMlbIKeTe5"
      },
      "source": [
        "Question:\r\n",
        "* Can we take deviance as a measure of model quality?\r\n",
        "* Complete the sentence: Compare GLMs with deviance is like compare LMs with ..."
      ]
    },
    {
      "cell_type": "code",
      "metadata": {
        "id": "5PVvXp_SpDUx"
      },
      "source": [
        "# Add random variable to the previous model\r\n",
        "###  vlozeni nezavisle promenne \r\n",
        "Z  <- runif(n*m,0,1)\r\n",
        "model_0 <- glm(formula=Y~log(X2)+Z,family=poisson(link = \"log\"))\r\n",
        "model_1 <- glm(formula=Y~log(X2),family=poisson(link = \"log\"))\r\n",
        "# null model\r\n",
        "model_n <- glm(formula=Y~1,family=poisson(link = \"log\"))\r\n",
        "# saturated model\r\n",
        "I <- diag(1,n*m,n*m)\r\n",
        "model_s <- glm(formula=Y~I,family=poisson(link = \"log\"))\r\n",
        "\r\n",
        "\r\n",
        "summary(model_0)\r\n",
        "summary(model_1)\r\n",
        "summary(model_n)\r\n",
        "summary(model_s)\r\n"
      ],
      "execution_count": null,
      "outputs": []
    },
    {
      "cell_type": "markdown",
      "metadata": {
        "id": "GWfxVEHguydO"
      },
      "source": [
        "For Poisson model:\r\n",
        "$$D = 2 \\sum_{i=1}^n y_i log( \\frac{y_i}{\\hat{\\mu_i}})$$"
      ]
    },
    {
      "cell_type": "code",
      "metadata": {
        "id": "2Dm5NQ5Jr509"
      },
      "source": [
        "mu_est_0 <- model_0$fitted.values\r\n",
        "mu_est_1 <- model_1$fitted.values\r\n",
        "\r\n",
        "\r\n",
        "Dev_0 <- 2*sum(Y*log(Y/mu_est_0))\r\n",
        "Dev_0\r\n",
        "Dev_1 <- 2*sum(Y*log(Y/mu_est_1))\r\n",
        "Dev_1\r\n"
      ],
      "execution_count": null,
      "outputs": []
    },
    {
      "cell_type": "markdown",
      "metadata": {
        "id": "s9SuGMWFwhDM"
      },
      "source": [
        "## Anova testing \r\n",
        "from anova.glm?\r\n",
        "\r\n",
        "The table will optionally contain test statistics (and P values) comparing the reduction in deviance for the row to the residuals. For models with known dispersion (e.g., binomial and Poisson fits) the chi-squared test is most appropriate, and for those with dispersion estimated by moments (e.g., gaussian, quasibinomial and quasipoisson fits) the F test is most appropriate. \r\n",
        "\r\n",
        "Mallows' Cp statistic is the residual deviance plus twice the estimate of $sigma^2$ times the residual degrees of freedom, which is closely related to AIC (and a multiple of it if the dispersion is known). You can also choose \"LRT\" and \"Rao\" for likelihood ratio tests and Rao's efficient score test. The former is synonymous with \"Chisq\" (although both have an asymptotic chi-square distribution). "
      ]
    },
    {
      "cell_type": "code",
      "metadata": {
        "id": "u8MegJJTsqvK"
      },
      "source": [
        "anova(model_1)\r\n",
        "anova(model_1, test = \"Cp\")\r\n",
        "anova(model_1, test = \"Chisq\")\r\n",
        "\r\n",
        "\r\n",
        "anova(model_1, model_0, test = \"Rao\")\r\n",
        "anova(model_1,model_0, test = \"LRT\")   \r\n",
        "  "
      ],
      "execution_count": null,
      "outputs": []
    },
    {
      "cell_type": "code",
      "metadata": {
        "id": "UchWeYjOxI7X"
      },
      "source": [
        "# p-value of deviance tst\r\n",
        "# H0: model fit data\r\n",
        "p_dev <- pchisq(model_1$deviance, model_1$df.residual, ncp=0, lower.tail = FALSE)\r\n",
        "p_dev\r\n",
        "\r\n",
        "# critical value\r\n",
        "C_val <- qchisq(0.05, model_1$df.residual, ncp=0, lower.tail = FALSE)\r\n",
        "C_val\r\n",
        "\r\n",
        "#summary(model_1)\r\n",
        "#pchisq(1168 - 44, df=(39-38))\r\n",
        "\r\n",
        "anova(model_1,model_s, test = \"LRT\")   # saturated vs. final model\r\n",
        "\r\n"
      ],
      "execution_count": null,
      "outputs": []
    },
    {
      "cell_type": "code",
      "metadata": {
        "id": "g7uXyJRAUKAd"
      },
      "source": [
        ""
      ],
      "execution_count": null,
      "outputs": []
    },
    {
      "cell_type": "markdown",
      "metadata": {
        "id": "dz4Ek6Y464bE"
      },
      "source": [
        "## Rao statistics"
      ]
    },
    {
      "cell_type": "code",
      "metadata": {
        "id": "GrTIUoUKUKDg"
      },
      "source": [
        "##############################################################\r\n",
        "######## Rao score statistics\r\n",
        "\r\n",
        "Rao <- sum((Y-mu_est_1)^2/mu_est_1)\r\n",
        "Rao\r\n",
        "# p-hodnota testu adekvatnosti modelu (pomoci Raovy statistiky)\r\n",
        "# H0: model dobre popisuje data\r\n",
        "prao <- pchisq(Rao, model$df.residual, ncp=0, lower.tail = FALSE); \r\n",
        "prao\r\n",
        "\r\n",
        "######  pomoci saturovaneho modelu\r\n",
        "anova(model_1,model_s, test = \"Rao\")"
      ],
      "execution_count": null,
      "outputs": []
    },
    {
      "cell_type": "code",
      "metadata": {
        "id": "H73SzqdlUKIT"
      },
      "source": [
        ""
      ],
      "execution_count": null,
      "outputs": []
    },
    {
      "cell_type": "markdown",
      "metadata": {
        "id": "dWG-nmIPsDSU"
      },
      "source": [
        "Question: \r\n",
        "\r\n",
        "How to compare non-nested models?\r\n",
        "\r\n"
      ]
    },
    {
      "cell_type": "code",
      "metadata": {
        "id": "InfrRvCKHzuF"
      },
      "source": [
        ""
      ],
      "execution_count": null,
      "outputs": []
    },
    {
      "cell_type": "markdown",
      "metadata": {
        "id": "PaLByr6pHz7x"
      },
      "source": [
        "...\r\n"
      ]
    },
    {
      "cell_type": "markdown",
      "metadata": {
        "id": "cAmB4PDZJKEl"
      },
      "source": [
        "# Your turn:\r\n",
        "1. Generate data with followings parameters\r\n",
        " * $Y \\sim Poi(\\mu_i)$, where $E[Y_i] = \\mu_i = \\beta_0 + \\beta_1 x_{i1} + \\beta_2 x_{i2} = x_i^T \\beta \\  \\Rightarrow \\ q(\\mu_i) = \\mu_i =  x_i^T \\beta  = \\eta_i$\r\n",
        "* $X_{i1} \\sim N(50,10)$\r\n",
        "* $X_{i2} \\sim U(10,60)$\r\n",
        "* $X_{i3} \\sim Ber(0.45)$\r\n",
        "* $n = 40$\r\n",
        "2. Compute $\\hat{\\mu_i}$  for saturated, null,\"full\",\"best\" models.\r\n",
        "3. Compute Deviance, Rao, Wald statistics for your model and compare final model with the saturated and \"full\" ones.\r\n",
        "4. Generate 100x data for  $n \\in \\{20,40,60,80,100 \\}$ and plot $(\\hat{\\beta_i} -\\beta_i)$ vs. $(n)$\r\n"
      ]
    },
    {
      "cell_type": "code",
      "metadata": {
        "id": "3O60Qhn1rV7Z"
      },
      "source": [
        ""
      ],
      "execution_count": null,
      "outputs": []
    }
  ]
}