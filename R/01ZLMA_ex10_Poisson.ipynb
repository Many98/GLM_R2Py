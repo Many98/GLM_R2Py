{
  "nbformat": 4,
  "nbformat_minor": 0,
  "metadata": {
    "colab": {
      "name": "01ZLMA_ex10_Poisson.ipynb",
      "private_outputs": true,
      "provenance": [],
      "collapsed_sections": [],
      "authorship_tag": "ABX9TyMLhKSYaMtfUWe1afHEpy7l",
      "include_colab_link": true
    },
    "kernelspec": {
      "name": "ir",
      "display_name": "R"
    }
  },
  "cells": [
    {
      "cell_type": "markdown",
      "metadata": {
        "id": "view-in-github",
        "colab_type": "text"
      },
      "source": [
        "<a href=\"https://colab.research.google.com/github/francji1/01ZLMA/blob/main/R/01ZLMA_ex10_Poisson.ipynb\" target=\"_parent\"><img src=\"https://colab.research.google.com/assets/colab-badge.svg\" alt=\"Open In Colab\"/></a>"
      ]
    },
    {
      "cell_type": "markdown",
      "metadata": {
        "id": "x-i6MbNFm4Zt"
      },
      "source": [
        "# 01ZLMA - Exercise 10\n",
        "Exercise 10 of the course 01ZLMA. \n",
        "\n",
        "## Contents\n",
        "\n",
        "* Log-linear models with Poisson distributed data\n",
        " ---\n",
        "* Example from the Lecture 10\n",
        " ---\n",
        "* ..\n",
        "\n"
      ]
    },
    {
      "cell_type": "markdown",
      "metadata": {
        "lines_to_next_cell": 0,
        "id": "12CqLkzKFWmY"
      },
      "source": [
        "Budeme uvažovat data z příkladu v Sekci 7.7 obsahující údaje o počtech úmrtí na cévně-srdeční onemocnění v závislosti na věku a kouření."
      ]
    },
    {
      "cell_type": "code",
      "metadata": {
        "id": "77dd7PFpFWmZ"
      },
      "source": [
        "data_poiss <- \"https://raw.githubusercontent.com/francji1/01ZLMA/main/data/smoke.csv\"\n",
        "data_poiss  <- read.table(data_poiss, header = T, sep = \";\")\n",
        "data_poiss"
      ],
      "execution_count": null,
      "outputs": []
    },
    {
      "cell_type": "code",
      "metadata": {
        "id": "Mw0CCzYjIrGO"
      },
      "source": [
        "library(tidyverse)"
      ],
      "execution_count": null,
      "outputs": []
    },
    {
      "cell_type": "code",
      "metadata": {
        "tags": [
          "remove_input"
        ],
        "id": "V66n_cKpFWmZ"
      },
      "source": [
        "\n",
        "data_poiss <- data_poiss %>%\n",
        " add_column(age_avg = c(40,50,60,70,80,40,50,60,70,80),\n",
        "            age_min = c(35,45,55,65,75,35,45,55,65,75)) %>%\n",
        " mutate(n_min = ceiling(Person.years/(age_min-10)),\n",
        "        n_avg = ceiling(Person.years/(age_avg-10)),\n",
        "        Living = n_min - Deaths)\n",
        " str(data_poiss)\n",
        " data_poiss"
      ],
      "execution_count": null,
      "outputs": []
    },
    {
      "cell_type": "code",
      "metadata": {
        "id": "OdBKTW_vO59G"
      },
      "source": [
        "assign(data_poiss)"
      ],
      "execution_count": null,
      "outputs": []
    },
    {
      "cell_type": "markdown",
      "metadata": {
        "lines_to_next_cell": 0,
        "id": "J3S-mMM7FWmZ"
      },
      "source": [
        "Ověříme, zda je proměnná Smoke faktor a vytvoříme proměnnou agecat"
      ]
    },
    {
      "cell_type": "code",
      "metadata": {
        "id": "1kIInRIJFWma"
      },
      "source": [
        "is.factor(Smoke)\n",
        "Smoke <- as.factor(Smoke)\n",
        "\n",
        "is.factor(Age.group)\n",
        "agecat <- as.numeric(Age.group)\n",
        " agecat"
      ],
      "execution_count": null,
      "outputs": []
    },
    {
      "cell_type": "markdown",
      "metadata": {
        "lines_to_next_cell": 0,
        "id": "bdRKoj31FWma"
      },
      "source": [
        "## Nejjednodušší aditivní model \n",
        "Začneme nejjednodušším modelem s proměnnými `Smoke` a `agecat`"
      ]
    },
    {
      "cell_type": "code",
      "metadata": {
        "lines_to_next_cell": 0,
        "id": "lSFqOAEsFWma"
      },
      "source": [
        "mdl <- glm( Deaths ~ offset(log(Person.years)) + Smoke + agecat, family=poisson(link=\"log\"))\n",
        "summary(mdl)"
      ],
      "execution_count": null,
      "outputs": []
    },
    {
      "cell_type": "markdown",
      "metadata": {
        "lines_to_next_cell": 0,
        "id": "FjOKcZPLFWmc"
      },
      "source": [
        "Deviační statistika má obrovskou hodnotu a model tak moc neodpovídá datům.\n",
        "Zobrazíme závislost logaritmu škálovaných hodnot Y na proměnné agecat"
      ]
    },
    {
      "cell_type": "code",
      "metadata": {
        "fig.align": "center",
        "fig.height": 3.5,
        "fig.width": 4,
        "lines_to_next_cell": 0,
        "results": "asis",
        "id": "PlMOSAD4FWmd"
      },
      "source": [
        "y.scaled <- Deaths/Person.years*100000\n",
        "plot(agecat, log(y.scaled), pch = c(15:16)[Smoke], col = c(\"red\",\"blue\")[Smoke], \n",
        "     cex=1.2, xlab = \"agecat\", ylab = \"počty úmrtí\")"
      ],
      "execution_count": null,
      "outputs": []
    },
    {
      "cell_type": "markdown",
      "metadata": {
        "id": "S9k9Z3xrFWmd"
      },
      "source": [
        "Je jasně vidět, že vztah není lineární, přidáme do modelu proměnnou `agecat^2`\n",
        "\n",
        "## Model s kvadratickou závislostí na věku - Model 0  "
      ]
    },
    {
      "cell_type": "code",
      "metadata": {
        "lines_to_next_cell": 0,
        "id": "HcSbcg7-FWmd"
      },
      "source": [
        "mdl.0 <- glm( Deaths ~ offset(log(Person.years)) + Smoke + agecat + I(agecat^2), \n",
        "              family=poisson(link=\"log\"))\n",
        "summary(mdl.0)"
      ],
      "execution_count": null,
      "outputs": []
    },
    {
      "cell_type": "markdown",
      "metadata": {
        "lines_to_next_cell": 0,
        "id": "RyouT3OkFWmd"
      },
      "source": [
        "Všechny regresory jsou v modelu významné a hodnota deviační statistiky klesla na 12.176, porovnejme ji s kritickou hodnotou LRT testu"
      ]
    },
    {
      "cell_type": "code",
      "metadata": {
        "lines_to_next_cell": 0,
        "id": "DylN8vYhFWme"
      },
      "source": [
        "Xm <- model.matrix(mdl.0)\n",
        "n<-nrow(Xm); p<-ncol(Xm); n; p\n",
        "# kritická hodnota\n",
        "c.val <- qchisq(0.05, n-p, ncp=0, lower.tail = FALSE); c.val\n",
        "# p-hodnota testu\n",
        "p.val<-pchisq(deviance(mdl.0), n-p, ncp=0, lower.tail = FALSE); p.val"
      ],
      "execution_count": null,
      "outputs": []
    },
    {
      "cell_type": "markdown",
      "metadata": {
        "lines_to_next_cell": 0,
        "id": "o6OtS0EpFWme"
      },
      "source": [
        "Hypotézu, že model dobře popisuje data jsme na hladině významnosti 5% těsně nezamítli. Zkusíme ještě přidat do modelu interakci (na obrázku z přednášky byla vidět možná změna závislosti na kouření s rostoucím věkem)\n",
        "\n",
        "## Model s kvadratickou závislostí na věku a interakcí - Model 1 "
      ]
    },
    {
      "cell_type": "code",
      "metadata": {
        "lines_to_next_cell": 0,
        "id": "uETtfbJpFWme"
      },
      "source": [
        "mdl.1 <- glm( Deaths ~ offset(log(Person.years)) + Smoke + agecat + I(agecat^2) + Smoke:agecat, \n",
        "              family=poisson(link=\"log\"))\n",
        "summary(mdl.1)"
      ],
      "execution_count": null,
      "outputs": []
    },
    {
      "cell_type": "markdown",
      "metadata": {
        "lines_to_next_cell": 0,
        "id": "9iAuydtWFWmf"
      },
      "source": [
        "Všechny proměnné jsou v modelu významné a hodnota deviační statsitiky klesla na hodnotu 1.6354. \n",
        "Pro kritickou hodnotu LRT testu dostaneme"
      ]
    },
    {
      "cell_type": "code",
      "metadata": {
        "lines_to_next_cell": 0,
        "id": "tno0O6LVFWmf"
      },
      "source": [
        "Xm <- model.matrix(mdl.1)\n",
        "n<-nrow(Xm); p<-ncol(Xm); n; p\n",
        "# kritická hodnota\n",
        "c.val <- qchisq(0.05, n-p, ncp=0, lower.tail = FALSE); c.val\n",
        "# p-hodnota testu\n",
        "p.val<-pchisq(deviance(mdl.1), n-p, ncp=0, lower.tail = FALSE); p.val"
      ],
      "execution_count": null,
      "outputs": []
    },
    {
      "cell_type": "markdown",
      "metadata": {
        "id": "_sQT7iswFWmf"
      },
      "source": [
        "a hypotézu vhodnosti modelu tedy nezamítáme s p-hodnotou 0.897. To indikuje, že model dobře popisuje data."
      ]
    },
    {
      "cell_type": "markdown",
      "metadata": {
        "id": "5RCy7GquFWmf"
      },
      "source": [
        "Pro ilustraci ještě spočtěme hodnotu deviační statistiky pomocí vzorce z přednášky"
      ]
    },
    {
      "cell_type": "code",
      "metadata": {
        "lines_to_next_cell": 0,
        "id": "zGFPUzZwFWmg"
      },
      "source": [
        "y <- Deaths\n",
        "mu.hat <- fitted(mdl.1)               # predikované hodnoty modelem 1\n",
        "dev <- y*log(y/mu.hat) - (y - mu.hat)\n",
        "dev.stat <- 2*sum(dev); dev.stat"
      ],
      "execution_count": null,
      "outputs": []
    },
    {
      "cell_type": "markdown",
      "metadata": {
        "lines_to_next_cell": 0,
        "id": "HXmL-BePFWmg"
      },
      "source": [
        "Dostáváme stejnou hodnotu jako pomocí funkce `glm()`.\n",
        "\n",
        "Ještě otestujeme významnost interakce pomocí vzorce odvozeného na přednášce"
      ]
    },
    {
      "cell_type": "code",
      "metadata": {
        "lines_to_next_cell": 0,
        "id": "mDte433GFWmg"
      },
      "source": [
        "mu.tilde <- fitted(mdl.0)            # predikované hodnoty modelem 0\n",
        "dev <- y * log(mu.hat/mu.tilde) - mu.hat + mu.tilde\n",
        "dev.stat <- 2*sum(dev); dev.stat     # deviační statistika\n",
        "deviance(mdl.0) - deviance(mdl.1)    # pro kontrolu pomocí naladěných modelů"
      ],
      "execution_count": null,
      "outputs": []
    },
    {
      "cell_type": "markdown",
      "metadata": {
        "lines_to_next_cell": 0,
        "id": "7xDSYHJ8FWmg"
      },
      "source": [
        "pro kritickou hodnotu testu platí "
      ]
    },
    {
      "cell_type": "code",
      "metadata": {
        "lines_to_next_cell": 0,
        "id": "Up3dS3TwFWmh"
      },
      "source": [
        "# kritická hodnota\n",
        "c.val <- qchisq(0.05, 1, ncp=0, lower.tail = FALSE); c.val\n",
        "# p-hodnota testu\n",
        "p.val<-pchisq(dev.stat, 1, ncp=0, lower.tail = FALSE); p.val"
      ],
      "execution_count": null,
      "outputs": []
    },
    {
      "cell_type": "markdown",
      "metadata": {
        "lines_to_next_cell": 0,
        "id": "zaLDxEtdFWmh"
      },
      "source": [
        "interakce je tedy v modelu významná. Případně můžeme použít přímo funkci `anova()`"
      ]
    },
    {
      "cell_type": "code",
      "metadata": {
        "lines_to_next_cell": 0,
        "id": "xYwrxNPHFWmi"
      },
      "source": [
        "anova(mdl.0,mdl.1, test=\"Chisq\")"
      ],
      "execution_count": null,
      "outputs": []
    },
    {
      "cell_type": "markdown",
      "metadata": {
        "id": "x7W3n6OJFWmi"
      },
      "source": [
        "která vrací stejný výsledek.\n"
      ]
    },
    {
      "cell_type": "markdown",
      "metadata": {
        "lines_to_next_cell": 0,
        "id": "GV3LayURFWmi"
      },
      "source": [
        "## Analýza Modelu 1 {#anl}\n",
        "\n",
        "Scatterplot pro pozorované a predikované hodnoty vysvětlované proměnné"
      ]
    },
    {
      "cell_type": "code",
      "metadata": {
        "fig.align": "center",
        "fig.height": 3.5,
        "fig.width": 4,
        "results": "asis",
        "id": "52xTrPFzFWmi"
      },
      "source": [
        "plot(y,mu.hat,col=2, cex=1.0, lwd=2)\n",
        "abline(1,1,col=4,lwd=2)"
      ],
      "execution_count": null,
      "outputs": []
    },
    {
      "cell_type": "markdown",
      "metadata": {
        "lines_to_next_cell": 0,
        "id": "xCO2un9cFWmi"
      },
      "source": [
        "Pozorované a predikované hodnoty velmi dobře odpovídají.\n",
        "\n",
        "**Obrázky reziduí**"
      ]
    },
    {
      "cell_type": "code",
      "metadata": {
        "fig.align": "center",
        "fig.height": 7,
        "fig.width": 7,
        "lines_to_next_cell": 0,
        "results": "asis",
        "id": "7aTV02XcFWmi"
      },
      "source": [
        "par(mfrow=c(2,2))\n",
        "\n",
        "r.ps <- rstandard(mdl.1, type=\"pearson\") # standardizovaná Pearsonova rezidua\n",
        "\n",
        "# rezidua vs. fitted values\n",
        "plot(mu.hat,r.ps,col=\"red\", cex=1.3, lwd=2)\n",
        "abline(0,0)\n",
        "# rezizua vs. agecat\n",
        "plot(agecat,r.ps,col=\"red\", cex=1.3, lwd=2)\n",
        "abline(0,0)\n",
        "# rezizua vs. smoke\n",
        "plot(Smoke,r.ps,col=\"red\", cex=1.3, xlab=\"Smoke\", lwd=2)\n",
        "abline(0,0)\n",
        "\n",
        "qqnorm(r.ps)   # QQ - plot reziduí\n",
        "qqline(r.ps)"
      ],
      "execution_count": null,
      "outputs": []
    },
    {
      "cell_type": "markdown",
      "metadata": {
        "lines_to_next_cell": 0,
        "id": "xvi33uPBFWmj"
      },
      "source": [
        "vzhledem k mlému počtu pozorování zde není vidět žádný zásadní problé. Otestujme ještě formálně normalitu rezidí"
      ]
    },
    {
      "cell_type": "code",
      "metadata": {
        "lines_to_next_cell": 0,
        "id": "ANyeD2uVFWmj"
      },
      "source": [
        "shapiro.test(r.ps)  # Test normality"
      ],
      "execution_count": null,
      "outputs": []
    },
    {
      "cell_type": "markdown",
      "metadata": {
        "lines_to_next_cell": 0,
        "id": "uGlzAQs3FWmj"
      },
      "source": [
        "Hypotéza normality není zamítnuta.\n",
        "\n",
        "**Influenční pozorování a pákové body**"
      ]
    },
    {
      "cell_type": "code",
      "metadata": {
        "fig.align": "center",
        "fig.height": 3.5,
        "fig.width": 7,
        "lines_to_next_cell": 0,
        "results": "asis",
        "id": "_43FtejGFWmj"
      },
      "source": [
        "par(mfrow=c(1,2))\n",
        "c.d <- cooks.distance(mdl.1)  # Cookova vzdálenost\n",
        "lev <- hatvalues(mdl.1)       # diag. prvky projekční matice\n",
        "\n",
        "plot(c.d,col=\"red\", cex=1.3, lwd=2, ylim = c(0,2.1))\n",
        "# abline(8/(n-2*p),0)         # v našem případě máme malý počet pozorování a n-2p = 0\n",
        "                              # kritická hodnota by tedy byla velká\n",
        "\n",
        "plot(lev,col=\"red\", cex=1.3, lwd=2, ylim = c(0,1.2))\n",
        "abline(2*p/n,0)"
      ],
      "execution_count": null,
      "outputs": []
    },
    {
      "cell_type": "markdown",
      "metadata": {
        "lines_to_next_cell": 0,
        "id": "Nnum6w3gFWmk"
      },
      "source": [
        "Ani v jednom případě nevidíme podezřele velké hodnoty\n",
        "\n",
        "## Interpretace parametrů {#RR}\n",
        "\n",
        "Spočteme relativní rizika v Modelu 1"
      ]
    },
    {
      "cell_type": "code",
      "metadata": {
        "lines_to_next_cell": 0,
        "id": "woiv5o3wFWmk"
      },
      "source": [
        "par.est.1 <- coef(mdl.1); par.est.1\n",
        "RR.1 <- exp(par.est.1); RR.1"
      ],
      "execution_count": null,
      "outputs": []
    },
    {
      "cell_type": "markdown",
      "metadata": {
        "lines_to_next_cell": 0,
        "id": "EOHiE05dFWmk"
      },
      "source": [
        "Diskuze obdržených hodnot a výpočet relativních rizik pro jednotlivé kategorie věku jsou v Sekci 7.7 materiálů k přednášce.\n",
        "\n",
        "Pro Model 0 bez interakcí je situace jednodušší a lze snado získat odhady RR a příslušné intervaly spolehlivosti"
      ]
    },
    {
      "cell_type": "code",
      "metadata": {
        "lines_to_next_cell": 0,
        "id": "qoWRVSQUFWmk"
      },
      "source": [
        "exp(cbind(coef(mdl.0), confint(mdl.0)))"
      ],
      "execution_count": null,
      "outputs": []
    },
    {
      "cell_type": "markdown",
      "metadata": {
        "id": "JK-miqw-FWmk"
      },
      "source": [
        "**Na závěr ještě vykresleme obrázky Modelů 0 a 1**"
      ]
    },
    {
      "cell_type": "code",
      "metadata": {
        "fig.align": "center",
        "fig.height": 7.5,
        "fig.width": 4.5,
        "results": "asis",
        "tags": [
          "remove_input"
        ],
        "id": "0KaVtJr0FWml"
      },
      "source": [
        "par(mfrow=c(2,1))\n",
        "\n",
        "x.pop<-Age.group[1:5]\n",
        "s <- Person.years\n",
        "y.scaled <- y/s*100000\n",
        "Smoke <- ordered(Smoke, levels = c(\"1\",\"0\"))   # udáme pořadí úrovní faktoru Smoke, `R` je jinak prohodí, což může způsobit špatnou legendu v grafech\n",
        "\n",
        "### Obrázek model 0\n",
        "mu.tilde.scaled <- mu.tilde/s*100000\n",
        "\n",
        "plot(agecat, y.scaled, pch = c(15:16)[Smoke],  xaxt = \"n\", main = \"Model 0 bez interakce\", col = c(\"red\",\"blue\")[Smoke], cex=1.0, xlab = \"Age group\", ylab = \"Počty úmrtí\")\n",
        "axis(1, at=agecat[1:5], labels=x.pop)\n",
        "legend(\"topleft\", inset = .05, bty=\"n\", legend = c(\"Smokers\", \"Non-smokers\"), pch = c(15:16), cex=1.0, pt.cex = 1.0, col = c(\"red\",\"blue\"))\n",
        "lines(agecat[1:5], mu.tilde.scaled[1:5], col=\"red\", lwd=2 )\n",
        "lines(agecat[6:10], mu.tilde.scaled[6:10], col = \"blue\", lwd=2 )\n",
        "\n",
        "\n",
        "### Obrázek model 1\n",
        "mu.hat.scaled <- mu.hat/s*100000\n",
        "\n",
        "plot(agecat, y.scaled, pch = c(15:16)[Smoke],  xaxt = \"n\", main = \"Model 1 s interakcí\", col = c(\"red\",\"blue\")[Smoke], cex=1.0, xlab = \"Age group\", ylab = \"Počty úmrtí\")\n",
        "axis(1, at=agecat[1:5], labels=x.pop)\n",
        "legend(\"topleft\", inset = .05, bty=\"n\", legend = c(\"Smokers\", \"Non-smokers\"), pch = c(15:16), cex=1.0, pt.cex = 1.0, col = c(\"red\",\"blue\"))\n",
        "lines(agecat[1:5], mu.hat.scaled[1:5], col=\"red\", lwd=2 )\n",
        "lines(agecat[6:10], mu.hat.scaled[6:10], col = \"blue\", lwd=2 )\n"
      ],
      "execution_count": null,
      "outputs": []
    }
  ]
}